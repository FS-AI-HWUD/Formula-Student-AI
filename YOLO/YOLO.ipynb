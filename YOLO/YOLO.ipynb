{
 "cells": [
  {
   "cell_type": "code",
   "execution_count": 1,
   "id": "254b389d-5477-4a3e-994f-78421fb00ac2",
   "metadata": {
    "scrolled": true
   },
   "outputs": [
    {
     "name": "stdout",
     "output_type": "stream",
     "text": [
      "Collecting ultralytics\n",
      "  Downloading ultralytics-8.3.131-py3-none-any.whl.metadata (37 kB)\n",
      "Requirement already satisfied: numpy>=1.23.0 in /home/aditya/.pyenv/versions/3.12.10/lib/python3.12/site-packages (from ultralytics) (2.2.5)\n",
      "Collecting matplotlib>=3.3.0 (from ultralytics)\n",
      "  Downloading matplotlib-3.10.3-cp312-cp312-manylinux_2_17_x86_64.manylinux2014_x86_64.whl.metadata (11 kB)\n",
      "Collecting opencv-python>=4.6.0 (from ultralytics)\n",
      "  Using cached opencv_python-4.11.0.86-cp37-abi3-manylinux_2_17_x86_64.manylinux2014_x86_64.whl.metadata (20 kB)\n",
      "Collecting pillow>=7.1.2 (from ultralytics)\n",
      "  Downloading pillow-11.2.1-cp312-cp312-manylinux_2_28_x86_64.whl.metadata (8.9 kB)\n",
      "Requirement already satisfied: pyyaml>=5.3.1 in /home/aditya/.pyenv/versions/3.12.10/lib/python3.12/site-packages (from ultralytics) (6.0.2)\n",
      "Requirement already satisfied: requests>=2.23.0 in /home/aditya/.pyenv/versions/3.12.10/lib/python3.12/site-packages (from ultralytics) (2.32.3)\n",
      "Requirement already satisfied: scipy>=1.4.1 in /home/aditya/.pyenv/versions/3.12.10/lib/python3.12/site-packages (from ultralytics) (1.15.3)\n",
      "Collecting torch>=1.8.0 (from ultralytics)\n",
      "  Downloading torch-2.7.0-cp312-cp312-manylinux_2_28_x86_64.whl.metadata (29 kB)\n",
      "Collecting torchvision>=0.9.0 (from ultralytics)\n",
      "  Downloading torchvision-0.22.0-cp312-cp312-manylinux_2_28_x86_64.whl.metadata (6.1 kB)\n",
      "Requirement already satisfied: tqdm>=4.64.0 in /home/aditya/.pyenv/versions/3.12.10/lib/python3.12/site-packages (from ultralytics) (4.67.1)\n",
      "Requirement already satisfied: psutil in /home/aditya/.pyenv/versions/3.12.10/lib/python3.12/site-packages (from ultralytics) (7.0.0)\n",
      "Collecting py-cpuinfo (from ultralytics)\n",
      "  Using cached py_cpuinfo-9.0.0-py3-none-any.whl.metadata (794 bytes)\n",
      "Requirement already satisfied: pandas>=1.1.4 in /home/aditya/.pyenv/versions/3.12.10/lib/python3.12/site-packages (from ultralytics) (2.2.3)\n",
      "Collecting seaborn>=0.11.0 (from ultralytics)\n",
      "  Using cached seaborn-0.13.2-py3-none-any.whl.metadata (5.4 kB)\n",
      "Collecting ultralytics-thop>=2.0.0 (from ultralytics)\n",
      "  Using cached ultralytics_thop-2.0.14-py3-none-any.whl.metadata (9.4 kB)\n",
      "Collecting contourpy>=1.0.1 (from matplotlib>=3.3.0->ultralytics)\n",
      "  Downloading contourpy-1.3.2-cp312-cp312-manylinux_2_17_x86_64.manylinux2014_x86_64.whl.metadata (5.5 kB)\n",
      "Collecting cycler>=0.10 (from matplotlib>=3.3.0->ultralytics)\n",
      "  Using cached cycler-0.12.1-py3-none-any.whl.metadata (3.8 kB)\n",
      "Collecting fonttools>=4.22.0 (from matplotlib>=3.3.0->ultralytics)\n",
      "  Downloading fonttools-4.58.0-cp312-cp312-manylinux_2_5_x86_64.manylinux1_x86_64.manylinux_2_17_x86_64.manylinux2014_x86_64.whl.metadata (104 kB)\n",
      "Collecting kiwisolver>=1.3.1 (from matplotlib>=3.3.0->ultralytics)\n",
      "  Downloading kiwisolver-1.4.8-cp312-cp312-manylinux_2_17_x86_64.manylinux2014_x86_64.whl.metadata (6.2 kB)\n",
      "Requirement already satisfied: packaging>=20.0 in /home/aditya/.pyenv/versions/3.12.10/lib/python3.12/site-packages (from matplotlib>=3.3.0->ultralytics) (25.0)\n",
      "Collecting pyparsing>=2.3.1 (from matplotlib>=3.3.0->ultralytics)\n",
      "  Using cached pyparsing-3.2.3-py3-none-any.whl.metadata (5.0 kB)\n",
      "Requirement already satisfied: python-dateutil>=2.7 in /home/aditya/.pyenv/versions/3.12.10/lib/python3.12/site-packages (from matplotlib>=3.3.0->ultralytics) (2.9.0.post0)\n",
      "Requirement already satisfied: pytz>=2020.1 in /home/aditya/.pyenv/versions/3.12.10/lib/python3.12/site-packages (from pandas>=1.1.4->ultralytics) (2025.2)\n",
      "Requirement already satisfied: tzdata>=2022.7 in /home/aditya/.pyenv/versions/3.12.10/lib/python3.12/site-packages (from pandas>=1.1.4->ultralytics) (2025.2)\n",
      "Requirement already satisfied: charset-normalizer<4,>=2 in /home/aditya/.pyenv/versions/3.12.10/lib/python3.12/site-packages (from requests>=2.23.0->ultralytics) (3.4.2)\n",
      "Requirement already satisfied: idna<4,>=2.5 in /home/aditya/.pyenv/versions/3.12.10/lib/python3.12/site-packages (from requests>=2.23.0->ultralytics) (3.10)\n",
      "Requirement already satisfied: urllib3<3,>=1.21.1 in /home/aditya/.pyenv/versions/3.12.10/lib/python3.12/site-packages (from requests>=2.23.0->ultralytics) (2.4.0)\n",
      "Requirement already satisfied: certifi>=2017.4.17 in /home/aditya/.pyenv/versions/3.12.10/lib/python3.12/site-packages (from requests>=2.23.0->ultralytics) (2025.4.26)\n",
      "Collecting filelock (from torch>=1.8.0->ultralytics)\n",
      "  Using cached filelock-3.18.0-py3-none-any.whl.metadata (2.9 kB)\n",
      "Requirement already satisfied: typing-extensions>=4.10.0 in /home/aditya/.pyenv/versions/3.12.10/lib/python3.12/site-packages (from torch>=1.8.0->ultralytics) (4.13.2)\n",
      "Requirement already satisfied: setuptools in /home/aditya/.pyenv/versions/3.12.10/lib/python3.12/site-packages (from torch>=1.8.0->ultralytics) (80.4.0)\n",
      "Collecting sympy>=1.13.3 (from torch>=1.8.0->ultralytics)\n",
      "  Using cached sympy-1.14.0-py3-none-any.whl.metadata (12 kB)\n",
      "Collecting networkx (from torch>=1.8.0->ultralytics)\n",
      "  Using cached networkx-3.4.2-py3-none-any.whl.metadata (6.3 kB)\n",
      "Requirement already satisfied: jinja2 in /home/aditya/.pyenv/versions/3.12.10/lib/python3.12/site-packages (from torch>=1.8.0->ultralytics) (3.1.6)\n",
      "Collecting fsspec (from torch>=1.8.0->ultralytics)\n",
      "  Using cached fsspec-2025.3.2-py3-none-any.whl.metadata (11 kB)\n",
      "Collecting nvidia-cuda-nvrtc-cu12==12.6.77 (from torch>=1.8.0->ultralytics)\n",
      "  Using cached nvidia_cuda_nvrtc_cu12-12.6.77-py3-none-manylinux2014_x86_64.whl.metadata (1.5 kB)\n",
      "Collecting nvidia-cuda-runtime-cu12==12.6.77 (from torch>=1.8.0->ultralytics)\n",
      "  Using cached nvidia_cuda_runtime_cu12-12.6.77-py3-none-manylinux2014_x86_64.manylinux_2_17_x86_64.whl.metadata (1.5 kB)\n",
      "Collecting nvidia-cuda-cupti-cu12==12.6.80 (from torch>=1.8.0->ultralytics)\n",
      "  Using cached nvidia_cuda_cupti_cu12-12.6.80-py3-none-manylinux2014_x86_64.manylinux_2_17_x86_64.whl.metadata (1.6 kB)\n",
      "Collecting nvidia-cudnn-cu12==9.5.1.17 (from torch>=1.8.0->ultralytics)\n",
      "  Using cached nvidia_cudnn_cu12-9.5.1.17-py3-none-manylinux_2_28_x86_64.whl.metadata (1.6 kB)\n",
      "Collecting nvidia-cublas-cu12==12.6.4.1 (from torch>=1.8.0->ultralytics)\n",
      "  Using cached nvidia_cublas_cu12-12.6.4.1-py3-none-manylinux2014_x86_64.manylinux_2_17_x86_64.whl.metadata (1.5 kB)\n",
      "Collecting nvidia-cufft-cu12==11.3.0.4 (from torch>=1.8.0->ultralytics)\n",
      "  Using cached nvidia_cufft_cu12-11.3.0.4-py3-none-manylinux2014_x86_64.manylinux_2_17_x86_64.whl.metadata (1.5 kB)\n",
      "Collecting nvidia-curand-cu12==10.3.7.77 (from torch>=1.8.0->ultralytics)\n",
      "  Using cached nvidia_curand_cu12-10.3.7.77-py3-none-manylinux2014_x86_64.manylinux_2_17_x86_64.whl.metadata (1.5 kB)\n",
      "Collecting nvidia-cusolver-cu12==11.7.1.2 (from torch>=1.8.0->ultralytics)\n",
      "  Using cached nvidia_cusolver_cu12-11.7.1.2-py3-none-manylinux2014_x86_64.manylinux_2_17_x86_64.whl.metadata (1.6 kB)\n",
      "Collecting nvidia-cusparse-cu12==12.5.4.2 (from torch>=1.8.0->ultralytics)\n",
      "  Using cached nvidia_cusparse_cu12-12.5.4.2-py3-none-manylinux2014_x86_64.manylinux_2_17_x86_64.whl.metadata (1.6 kB)\n",
      "Collecting nvidia-cusparselt-cu12==0.6.3 (from torch>=1.8.0->ultralytics)\n",
      "  Using cached nvidia_cusparselt_cu12-0.6.3-py3-none-manylinux2014_x86_64.whl.metadata (6.8 kB)\n",
      "Collecting nvidia-nccl-cu12==2.26.2 (from torch>=1.8.0->ultralytics)\n",
      "  Using cached nvidia_nccl_cu12-2.26.2-py3-none-manylinux2014_x86_64.manylinux_2_17_x86_64.whl.metadata (2.0 kB)\n",
      "Collecting nvidia-nvtx-cu12==12.6.77 (from torch>=1.8.0->ultralytics)\n",
      "  Using cached nvidia_nvtx_cu12-12.6.77-py3-none-manylinux2014_x86_64.manylinux_2_17_x86_64.whl.metadata (1.6 kB)\n",
      "Collecting nvidia-nvjitlink-cu12==12.6.85 (from torch>=1.8.0->ultralytics)\n",
      "  Using cached nvidia_nvjitlink_cu12-12.6.85-py3-none-manylinux2010_x86_64.manylinux_2_12_x86_64.whl.metadata (1.5 kB)\n",
      "Collecting nvidia-cufile-cu12==1.11.1.6 (from torch>=1.8.0->ultralytics)\n",
      "  Using cached nvidia_cufile_cu12-1.11.1.6-py3-none-manylinux2014_x86_64.manylinux_2_17_x86_64.whl.metadata (1.5 kB)\n",
      "Collecting triton==3.3.0 (from torch>=1.8.0->ultralytics)\n",
      "  Downloading triton-3.3.0-cp312-cp312-manylinux_2_27_x86_64.manylinux_2_28_x86_64.whl.metadata (1.5 kB)\n",
      "Requirement already satisfied: six>=1.5 in /home/aditya/.pyenv/versions/3.12.10/lib/python3.12/site-packages (from python-dateutil>=2.7->matplotlib>=3.3.0->ultralytics) (1.17.0)\n",
      "Collecting mpmath<1.4,>=1.1.0 (from sympy>=1.13.3->torch>=1.8.0->ultralytics)\n",
      "  Using cached mpmath-1.3.0-py3-none-any.whl.metadata (8.6 kB)\n",
      "Requirement already satisfied: MarkupSafe>=2.0 in /home/aditya/.pyenv/versions/3.12.10/lib/python3.12/site-packages (from jinja2->torch>=1.8.0->ultralytics) (3.0.2)\n",
      "Downloading ultralytics-8.3.131-py3-none-any.whl (1.0 MB)\n",
      "\u001b[2K   \u001b[38;2;114;156;31m━━━━━━━━━━━━━━━━━━━━━━━━━━━━━━━━━━━━━━━━\u001b[0m \u001b[32m1.0/1.0 MB\u001b[0m \u001b[31m5.6 MB/s\u001b[0m eta \u001b[36m0:00:00\u001b[0m\n",
      "\u001b[?25hDownloading matplotlib-3.10.3-cp312-cp312-manylinux_2_17_x86_64.manylinux2014_x86_64.whl (8.6 MB)\n",
      "\u001b[2K   \u001b[38;2;114;156;31m━━━━━━━━━━━━━━━━━━━━━━━━━━━━━━━━━━━━━━━━\u001b[0m \u001b[32m8.6/8.6 MB\u001b[0m \u001b[31m9.0 MB/s\u001b[0m eta \u001b[36m0:00:00\u001b[0m[31m8.6 MB/s\u001b[0m eta \u001b[36m0:00:01\u001b[0m\n",
      "\u001b[?25hUsing cached opencv_python-4.11.0.86-cp37-abi3-manylinux_2_17_x86_64.manylinux2014_x86_64.whl (63.0 MB)\n",
      "Downloading pillow-11.2.1-cp312-cp312-manylinux_2_28_x86_64.whl (4.6 MB)\n",
      "\u001b[2K   \u001b[38;2;114;156;31m━━━━━━━━━━━━━━━━━━━━━━━━━━━━━━━━━━━━━━━━\u001b[0m \u001b[32m4.6/4.6 MB\u001b[0m \u001b[31m12.8 MB/s\u001b[0m eta \u001b[36m0:00:00\u001b[0m MB/s\u001b[0m eta \u001b[36m0:00:01\u001b[0m\n",
      "\u001b[?25hUsing cached seaborn-0.13.2-py3-none-any.whl (294 kB)\n",
      "Downloading torch-2.7.0-cp312-cp312-manylinux_2_28_x86_64.whl (865.0 MB)\n",
      "\u001b[2K   \u001b[38;2;114;156;31m━━━━━━━━━━━━━━━━━━━━━━━━━━━━━━━━━━━━━━━━\u001b[0m \u001b[32m865.0/865.0 MB\u001b[0m \u001b[31m22.0 MB/s\u001b[0m eta \u001b[36m0:00:00\u001b[0mm eta \u001b[36m0:00:01\u001b[0m[36m0:00:01\u001b[0m\n",
      "\u001b[?25hUsing cached nvidia_cublas_cu12-12.6.4.1-py3-none-manylinux2014_x86_64.manylinux_2_17_x86_64.whl (393.1 MB)\n",
      "Using cached nvidia_cuda_cupti_cu12-12.6.80-py3-none-manylinux2014_x86_64.manylinux_2_17_x86_64.whl (8.9 MB)\n",
      "Using cached nvidia_cuda_nvrtc_cu12-12.6.77-py3-none-manylinux2014_x86_64.whl (23.7 MB)\n",
      "Using cached nvidia_cuda_runtime_cu12-12.6.77-py3-none-manylinux2014_x86_64.manylinux_2_17_x86_64.whl (897 kB)\n",
      "Using cached nvidia_cudnn_cu12-9.5.1.17-py3-none-manylinux_2_28_x86_64.whl (571.0 MB)\n",
      "Using cached nvidia_cufft_cu12-11.3.0.4-py3-none-manylinux2014_x86_64.manylinux_2_17_x86_64.whl (200.2 MB)\n",
      "Using cached nvidia_cufile_cu12-1.11.1.6-py3-none-manylinux2014_x86_64.manylinux_2_17_x86_64.whl (1.1 MB)\n",
      "Using cached nvidia_curand_cu12-10.3.7.77-py3-none-manylinux2014_x86_64.manylinux_2_17_x86_64.whl (56.3 MB)\n",
      "Using cached nvidia_cusolver_cu12-11.7.1.2-py3-none-manylinux2014_x86_64.manylinux_2_17_x86_64.whl (158.2 MB)\n",
      "Using cached nvidia_cusparse_cu12-12.5.4.2-py3-none-manylinux2014_x86_64.manylinux_2_17_x86_64.whl (216.6 MB)\n",
      "Using cached nvidia_cusparselt_cu12-0.6.3-py3-none-manylinux2014_x86_64.whl (156.8 MB)\n",
      "Using cached nvidia_nccl_cu12-2.26.2-py3-none-manylinux2014_x86_64.manylinux_2_17_x86_64.whl (201.3 MB)\n",
      "Using cached nvidia_nvjitlink_cu12-12.6.85-py3-none-manylinux2010_x86_64.manylinux_2_12_x86_64.whl (19.7 MB)\n",
      "Using cached nvidia_nvtx_cu12-12.6.77-py3-none-manylinux2014_x86_64.manylinux_2_17_x86_64.whl (89 kB)\n",
      "Downloading triton-3.3.0-cp312-cp312-manylinux_2_27_x86_64.manylinux_2_28_x86_64.whl (156.5 MB)\n",
      "\u001b[2K   \u001b[38;2;114;156;31m━━━━━━━━━━━━━━━━━━━━━━━━━━━━━━━━━━━━━━━━\u001b[0m \u001b[32m156.5/156.5 MB\u001b[0m \u001b[31m23.4 MB/s\u001b[0m eta \u001b[36m0:00:00\u001b[0mm eta \u001b[36m0:00:01\u001b[0m[36m0:00:01\u001b[0m\n",
      "\u001b[?25hDownloading torchvision-0.22.0-cp312-cp312-manylinux_2_28_x86_64.whl (7.4 MB)\n",
      "\u001b[2K   \u001b[38;2;114;156;31m━━━━━━━━━━━━━━━━━━━━━━━━━━━━━━━━━━━━━━━━\u001b[0m \u001b[32m7.4/7.4 MB\u001b[0m \u001b[31m24.2 MB/s\u001b[0m eta \u001b[36m0:00:00\u001b[0m MB/s\u001b[0m eta \u001b[36m0:00:01\u001b[0m\n",
      "\u001b[?25hUsing cached ultralytics_thop-2.0.14-py3-none-any.whl (26 kB)\n",
      "Using cached py_cpuinfo-9.0.0-py3-none-any.whl (22 kB)\n",
      "Downloading contourpy-1.3.2-cp312-cp312-manylinux_2_17_x86_64.manylinux2014_x86_64.whl (323 kB)\n",
      "Using cached cycler-0.12.1-py3-none-any.whl (8.3 kB)\n",
      "Downloading fonttools-4.58.0-cp312-cp312-manylinux_2_5_x86_64.manylinux1_x86_64.manylinux_2_17_x86_64.manylinux2014_x86_64.whl (4.9 MB)\n",
      "\u001b[2K   \u001b[38;2;114;156;31m━━━━━━━━━━━━━━━━━━━━━━━━━━━━━━━━━━━━━━━━\u001b[0m \u001b[32m4.9/4.9 MB\u001b[0m \u001b[31m25.6 MB/s\u001b[0m eta \u001b[36m0:00:00\u001b[0m\n",
      "\u001b[?25hDownloading kiwisolver-1.4.8-cp312-cp312-manylinux_2_17_x86_64.manylinux2014_x86_64.whl (1.5 MB)\n",
      "\u001b[2K   \u001b[38;2;114;156;31m━━━━━━━━━━━━━━━━━━━━━━━━━━━━━━━━━━━━━━━━\u001b[0m \u001b[32m1.5/1.5 MB\u001b[0m \u001b[31m23.7 MB/s\u001b[0m eta \u001b[36m0:00:00\u001b[0m\n",
      "\u001b[?25hUsing cached pyparsing-3.2.3-py3-none-any.whl (111 kB)\n",
      "Using cached sympy-1.14.0-py3-none-any.whl (6.3 MB)\n",
      "Using cached filelock-3.18.0-py3-none-any.whl (16 kB)\n",
      "Using cached fsspec-2025.3.2-py3-none-any.whl (194 kB)\n",
      "Using cached networkx-3.4.2-py3-none-any.whl (1.7 MB)\n",
      "Using cached mpmath-1.3.0-py3-none-any.whl (536 kB)\n",
      "Installing collected packages: py-cpuinfo, nvidia-cusparselt-cu12, mpmath, triton, sympy, pyparsing, pillow, opencv-python, nvidia-nvtx-cu12, nvidia-nvjitlink-cu12, nvidia-nccl-cu12, nvidia-curand-cu12, nvidia-cufile-cu12, nvidia-cuda-runtime-cu12, nvidia-cuda-nvrtc-cu12, nvidia-cuda-cupti-cu12, nvidia-cublas-cu12, networkx, kiwisolver, fsspec, fonttools, filelock, cycler, contourpy, nvidia-cusparse-cu12, nvidia-cufft-cu12, nvidia-cudnn-cu12, matplotlib, seaborn, nvidia-cusolver-cu12, torch, ultralytics-thop, torchvision, ultralytics\n",
      "  Attempting uninstall: nvidia-nccl-cu12\n",
      "    Found existing installation: nvidia-nccl-cu12 2.26.5\n",
      "    Uninstalling nvidia-nccl-cu12-2.26.5:\n",
      "      Successfully uninstalled nvidia-nccl-cu12-2.26.5\n",
      "Successfully installed contourpy-1.3.2 cycler-0.12.1 filelock-3.18.0 fonttools-4.58.0 fsspec-2025.3.2 kiwisolver-1.4.8 matplotlib-3.10.3 mpmath-1.3.0 networkx-3.4.2 nvidia-cublas-cu12-12.6.4.1 nvidia-cuda-cupti-cu12-12.6.80 nvidia-cuda-nvrtc-cu12-12.6.77 nvidia-cuda-runtime-cu12-12.6.77 nvidia-cudnn-cu12-9.5.1.17 nvidia-cufft-cu12-11.3.0.4 nvidia-cufile-cu12-1.11.1.6 nvidia-curand-cu12-10.3.7.77 nvidia-cusolver-cu12-11.7.1.2 nvidia-cusparse-cu12-12.5.4.2 nvidia-cusparselt-cu12-0.6.3 nvidia-nccl-cu12-2.26.2 nvidia-nvjitlink-cu12-12.6.85 nvidia-nvtx-cu12-12.6.77 opencv-python-4.11.0.86 pillow-11.2.1 py-cpuinfo-9.0.0 pyparsing-3.2.3 seaborn-0.13.2 sympy-1.14.0 torch-2.7.0 torchvision-0.22.0 triton-3.3.0 ultralytics-8.3.131 ultralytics-thop-2.0.14\n",
      "\n",
      "\u001b[1m[\u001b[0m\u001b[34;49mnotice\u001b[0m\u001b[1;39;49m]\u001b[0m\u001b[39;49m A new release of pip is available: \u001b[0m\u001b[31;49m25.0.1\u001b[0m\u001b[39;49m -> \u001b[0m\u001b[32;49m25.1.1\u001b[0m\n",
      "\u001b[1m[\u001b[0m\u001b[34;49mnotice\u001b[0m\u001b[1;39;49m]\u001b[0m\u001b[39;49m To update, run: \u001b[0m\u001b[32;49mpip install --upgrade pip\u001b[0m\n"
     ]
    }
   ],
   "source": [
    "!pip install ultralytics"
   ]
  },
  {
   "cell_type": "code",
   "execution_count": 1,
   "id": "2c557033-58f8-45f0-b2a0-fcd7e76f6781",
   "metadata": {},
   "outputs": [
    {
     "name": "stdout",
     "output_type": "stream",
     "text": [
      "True\n",
      "NVIDIA GeForce RTX 3070 Laptop GPU\n",
      "Ultralytics 8.3.131 🚀 Python-3.12.10 torch-2.7.0+cu126 CUDA:0 (NVIDIA GeForce RTX 3070 Laptop GPU, 7851MiB)\n",
      "\u001b[34m\u001b[1mengine/trainer: \u001b[0magnostic_nms=False, amp=True, augment=False, auto_augment=randaugment, batch=4, bgr=0.0, box=7.5, cache=False, cfg=None, classes=None, close_mosaic=10, cls=0.5, conf=None, copy_paste=0.0, copy_paste_mode=flip, cos_lr=False, cutmix=0.0, data=/home/aditya/Formula-Student-AI/YOLO/data.yaml, degrees=0.0, deterministic=True, device=0, dfl=1.5, dnn=False, dropout=0.0, dynamic=False, embed=None, epochs=50, erasing=0.4, exist_ok=False, fliplr=0.5, flipud=0.0, format=torchscript, fraction=1.0, freeze=None, half=True, hsv_h=0.015, hsv_s=0.7, hsv_v=0.4, imgsz=512, int8=False, iou=0.7, keras=False, kobj=1.0, line_width=None, lr0=0.01, lrf=0.01, mask_ratio=4, max_det=300, mixup=0.0, mode=train, model=yolov8n.pt, momentum=0.937, mosaic=1.0, multi_scale=False, name=train2, nbs=64, nms=False, opset=None, optimize=False, optimizer=auto, overlap_mask=True, patience=100, perspective=0.0, plots=True, pose=12.0, pretrained=True, profile=False, project=None, rect=False, resume=False, retina_masks=False, save=True, save_conf=False, save_crop=False, save_dir=/home/aditya/Formula-Student-AI/runs/detect/train2, save_frames=False, save_json=False, save_period=-1, save_txt=False, scale=0.5, seed=0, shear=0.0, show=False, show_boxes=True, show_conf=True, show_labels=True, simplify=True, single_cls=False, source=None, split=val, stream_buffer=False, task=detect, time=None, tracker=botsort.yaml, translate=0.1, val=True, verbose=True, vid_stride=1, visualize=False, warmup_bias_lr=0.1, warmup_epochs=3.0, warmup_momentum=0.8, weight_decay=0.0005, workers=2, workspace=None\n",
      "Overriding model.yaml nc=80 with nc=4\n",
      "\n",
      "                   from  n    params  module                                       arguments                     \n",
      "  0                  -1  1       464  ultralytics.nn.modules.conv.Conv             [3, 16, 3, 2]                 \n",
      "  1                  -1  1      4672  ultralytics.nn.modules.conv.Conv             [16, 32, 3, 2]                \n",
      "  2                  -1  1      7360  ultralytics.nn.modules.block.C2f             [32, 32, 1, True]             \n",
      "  3                  -1  1     18560  ultralytics.nn.modules.conv.Conv             [32, 64, 3, 2]                \n",
      "  4                  -1  2     49664  ultralytics.nn.modules.block.C2f             [64, 64, 2, True]             \n",
      "  5                  -1  1     73984  ultralytics.nn.modules.conv.Conv             [64, 128, 3, 2]               \n",
      "  6                  -1  2    197632  ultralytics.nn.modules.block.C2f             [128, 128, 2, True]           \n",
      "  7                  -1  1    295424  ultralytics.nn.modules.conv.Conv             [128, 256, 3, 2]              \n",
      "  8                  -1  1    460288  ultralytics.nn.modules.block.C2f             [256, 256, 1, True]           \n",
      "  9                  -1  1    164608  ultralytics.nn.modules.block.SPPF            [256, 256, 5]                 \n",
      " 10                  -1  1         0  torch.nn.modules.upsampling.Upsample         [None, 2, 'nearest']          \n",
      " 11             [-1, 6]  1         0  ultralytics.nn.modules.conv.Concat           [1]                           \n",
      " 12                  -1  1    148224  ultralytics.nn.modules.block.C2f             [384, 128, 1]                 \n",
      " 13                  -1  1         0  torch.nn.modules.upsampling.Upsample         [None, 2, 'nearest']          \n",
      " 14             [-1, 4]  1         0  ultralytics.nn.modules.conv.Concat           [1]                           \n",
      " 15                  -1  1     37248  ultralytics.nn.modules.block.C2f             [192, 64, 1]                  \n",
      " 16                  -1  1     36992  ultralytics.nn.modules.conv.Conv             [64, 64, 3, 2]                \n",
      " 17            [-1, 12]  1         0  ultralytics.nn.modules.conv.Concat           [1]                           \n",
      " 18                  -1  1    123648  ultralytics.nn.modules.block.C2f             [192, 128, 1]                 \n",
      " 19                  -1  1    147712  ultralytics.nn.modules.conv.Conv             [128, 128, 3, 2]              \n",
      " 20             [-1, 9]  1         0  ultralytics.nn.modules.conv.Concat           [1]                           \n",
      " 21                  -1  1    493056  ultralytics.nn.modules.block.C2f             [384, 256, 1]                 \n",
      " 22        [15, 18, 21]  1    752092  ultralytics.nn.modules.head.Detect           [4, [64, 128, 256]]           \n",
      "Model summary: 129 layers, 3,011,628 parameters, 3,011,612 gradients, 8.2 GFLOPs\n",
      "\n",
      "Transferred 319/355 items from pretrained weights\n",
      "Freezing layer 'model.22.dfl.conv.weight'\n",
      "\u001b[34m\u001b[1mAMP: \u001b[0mrunning Automatic Mixed Precision (AMP) checks...\n",
      "\u001b[34m\u001b[1mAMP: \u001b[0mchecks passed ✅\n",
      "\u001b[34m\u001b[1mtrain: \u001b[0mFast image access ✅ (ping: 0.0±0.0 ms, read: 283.2±64.5 MB/s, size: 88.5 KB)\n"
     ]
    },
    {
     "name": "stderr",
     "output_type": "stream",
     "text": [
      "\u001b[34m\u001b[1mtrain: \u001b[0mScanning /home/aditya/Formula-Student-AI/YOLO/Dataset/train/labels.cache.\u001b[0m\n"
     ]
    },
    {
     "name": "stdout",
     "output_type": "stream",
     "text": [
      "\u001b[34m\u001b[1mval: \u001b[0mFast image access ✅ (ping: 0.0±0.0 ms, read: 209.6±28.0 MB/s, size: 40.8 KB)\n"
     ]
    },
    {
     "name": "stderr",
     "output_type": "stream",
     "text": [
      "\u001b[34m\u001b[1mval: \u001b[0mScanning /home/aditya/Formula-Student-AI/YOLO/Dataset/valid/labels.cache...\u001b[0m\n"
     ]
    },
    {
     "name": "stdout",
     "output_type": "stream",
     "text": [
      "Plotting labels to /home/aditya/Formula-Student-AI/runs/detect/train2/labels.jpg... \n",
      "\u001b[34m\u001b[1moptimizer:\u001b[0m 'optimizer=auto' found, ignoring 'lr0=0.01' and 'momentum=0.937' and determining best 'optimizer', 'lr0' and 'momentum' automatically... \n",
      "\u001b[34m\u001b[1moptimizer:\u001b[0m AdamW(lr=0.00125, momentum=0.9) with parameter groups 57 weight(decay=0.0), 64 weight(decay=0.0005), 63 bias(decay=0.0)\n",
      "Image sizes 512 train, 512 val\n",
      "Using 2 dataloader workers\n",
      "Logging results to \u001b[1m/home/aditya/Formula-Student-AI/runs/detect/train2\u001b[0m\n",
      "Starting training for 50 epochs...\n",
      "\n",
      "      Epoch    GPU_mem   box_loss   cls_loss   dfl_loss  Instances       Size\n"
     ]
    },
    {
     "name": "stderr",
     "output_type": "stream",
     "text": [
      "       1/50     0.436G      1.879      1.713      1.062         16        512: 1\n",
      "                 Class     Images  Instances      Box(P          R      mAP50  m"
     ]
    },
    {
     "name": "stdout",
     "output_type": "stream",
     "text": [
      "                   all        515       4829      0.647       0.54      0.561      0.221\n"
     ]
    },
    {
     "name": "stderr",
     "output_type": "stream",
     "text": [
      "\n"
     ]
    },
    {
     "name": "stdout",
     "output_type": "stream",
     "text": [
      "\n",
      "      Epoch    GPU_mem   box_loss   cls_loss   dfl_loss  Instances       Size\n"
     ]
    },
    {
     "name": "stderr",
     "output_type": "stream",
     "text": [
      "       2/50     0.533G      1.734      1.115      1.037         12        512: 1\n",
      "                 Class     Images  Instances      Box(P          R      mAP50  m"
     ]
    },
    {
     "name": "stdout",
     "output_type": "stream",
     "text": [
      "                   all        515       4829      0.758       0.57      0.639      0.257\n"
     ]
    },
    {
     "name": "stderr",
     "output_type": "stream",
     "text": [
      "\n"
     ]
    },
    {
     "name": "stdout",
     "output_type": "stream",
     "text": [
      "\n",
      "      Epoch    GPU_mem   box_loss   cls_loss   dfl_loss  Instances       Size\n"
     ]
    },
    {
     "name": "stderr",
     "output_type": "stream",
     "text": [
      "       3/50     0.543G      1.707      1.028      1.025          2        512: 1\n",
      "                 Class     Images  Instances      Box(P          R      mAP50  m"
     ]
    },
    {
     "name": "stdout",
     "output_type": "stream",
     "text": [
      "                   all        515       4829      0.772      0.581      0.632      0.229\n"
     ]
    },
    {
     "name": "stderr",
     "output_type": "stream",
     "text": [
      "\n"
     ]
    },
    {
     "name": "stdout",
     "output_type": "stream",
     "text": [
      "\n",
      "      Epoch    GPU_mem   box_loss   cls_loss   dfl_loss  Instances       Size\n"
     ]
    },
    {
     "name": "stderr",
     "output_type": "stream",
     "text": [
      "       4/50     0.543G      1.686     0.9834      1.019         14        512: 1\n",
      "                 Class     Images  Instances      Box(P          R      mAP50  m"
     ]
    },
    {
     "name": "stdout",
     "output_type": "stream",
     "text": [
      "                   all        515       4829      0.716      0.609      0.644      0.276\n"
     ]
    },
    {
     "name": "stderr",
     "output_type": "stream",
     "text": [
      "\n"
     ]
    },
    {
     "name": "stdout",
     "output_type": "stream",
     "text": [
      "\n",
      "      Epoch    GPU_mem   box_loss   cls_loss   dfl_loss  Instances       Size\n"
     ]
    },
    {
     "name": "stderr",
     "output_type": "stream",
     "text": [
      "       5/50     0.547G      1.647     0.9329      1.006         13        512: 1\n",
      "                 Class     Images  Instances      Box(P          R      mAP50  m"
     ]
    },
    {
     "name": "stdout",
     "output_type": "stream",
     "text": [
      "                   all        515       4829      0.738      0.622      0.673      0.301\n"
     ]
    },
    {
     "name": "stderr",
     "output_type": "stream",
     "text": [
      "\n"
     ]
    },
    {
     "name": "stdout",
     "output_type": "stream",
     "text": [
      "\n",
      "      Epoch    GPU_mem   box_loss   cls_loss   dfl_loss  Instances       Size\n"
     ]
    },
    {
     "name": "stderr",
     "output_type": "stream",
     "text": [
      "       6/50     0.564G      1.634     0.9152      1.008         26        512: 1\n",
      "                 Class     Images  Instances      Box(P          R      mAP50  m"
     ]
    },
    {
     "name": "stdout",
     "output_type": "stream",
     "text": [
      "                   all        515       4829      0.797      0.621      0.696      0.296\n"
     ]
    },
    {
     "name": "stderr",
     "output_type": "stream",
     "text": [
      "\n"
     ]
    },
    {
     "name": "stdout",
     "output_type": "stream",
     "text": [
      "\n",
      "      Epoch    GPU_mem   box_loss   cls_loss   dfl_loss  Instances       Size\n"
     ]
    },
    {
     "name": "stderr",
     "output_type": "stream",
     "text": [
      "       7/50     0.564G      1.615     0.9001      1.006         22        512: 1\n",
      "                 Class     Images  Instances      Box(P          R      mAP50  m"
     ]
    },
    {
     "name": "stdout",
     "output_type": "stream",
     "text": [
      "                   all        515       4829       0.67      0.645      0.669      0.308\n"
     ]
    },
    {
     "name": "stderr",
     "output_type": "stream",
     "text": [
      "\n"
     ]
    },
    {
     "name": "stdout",
     "output_type": "stream",
     "text": [
      "\n",
      "      Epoch    GPU_mem   box_loss   cls_loss   dfl_loss  Instances       Size\n"
     ]
    },
    {
     "name": "stderr",
     "output_type": "stream",
     "text": [
      "       8/50     0.564G      1.607     0.8744      1.001          1        512: 1\n",
      "                 Class     Images  Instances      Box(P          R      mAP50  m\n"
     ]
    },
    {
     "name": "stdout",
     "output_type": "stream",
     "text": [
      "                   all        515       4829      0.747      0.606      0.662      0.314\n",
      "\n",
      "      Epoch    GPU_mem   box_loss   cls_loss   dfl_loss  Instances       Size\n"
     ]
    },
    {
     "name": "stderr",
     "output_type": "stream",
     "text": [
      "       9/50     0.564G      1.609     0.8803     0.9981         25        512: 1\n",
      "                 Class     Images  Instances      Box(P          R      mAP50  m"
     ]
    },
    {
     "name": "stdout",
     "output_type": "stream",
     "text": [
      "                   all        515       4829      0.787      0.638        0.7      0.308\n"
     ]
    },
    {
     "name": "stderr",
     "output_type": "stream",
     "text": [
      "\n"
     ]
    },
    {
     "name": "stdout",
     "output_type": "stream",
     "text": [
      "\n",
      "      Epoch    GPU_mem   box_loss   cls_loss   dfl_loss  Instances       Size\n"
     ]
    },
    {
     "name": "stderr",
     "output_type": "stream",
     "text": [
      "      10/50      0.58G      1.583     0.8624     0.9979         19        512: 1\n",
      "                 Class     Images  Instances      Box(P          R      mAP50  m"
     ]
    },
    {
     "name": "stdout",
     "output_type": "stream",
     "text": [
      "                   all        515       4829      0.743      0.666      0.702      0.307\n"
     ]
    },
    {
     "name": "stderr",
     "output_type": "stream",
     "text": [
      "\n"
     ]
    },
    {
     "name": "stdout",
     "output_type": "stream",
     "text": [
      "\n",
      "      Epoch    GPU_mem   box_loss   cls_loss   dfl_loss  Instances       Size\n"
     ]
    },
    {
     "name": "stderr",
     "output_type": "stream",
     "text": [
      "      11/50     0.594G      1.581     0.8565     0.9934         26        512: 1\n",
      "                 Class     Images  Instances      Box(P          R      mAP50  m"
     ]
    },
    {
     "name": "stdout",
     "output_type": "stream",
     "text": [
      "                   all        515       4829      0.679      0.604      0.671      0.321\n"
     ]
    },
    {
     "name": "stderr",
     "output_type": "stream",
     "text": [
      "\n"
     ]
    },
    {
     "name": "stdout",
     "output_type": "stream",
     "text": [
      "\n",
      "      Epoch    GPU_mem   box_loss   cls_loss   dfl_loss  Instances       Size\n"
     ]
    },
    {
     "name": "stderr",
     "output_type": "stream",
     "text": [
      "      12/50     0.594G      1.571     0.8446     0.9919         10        512: 1\n",
      "                 Class     Images  Instances      Box(P          R      mAP50  m"
     ]
    },
    {
     "name": "stdout",
     "output_type": "stream",
     "text": [
      "                   all        515       4829       0.76       0.63      0.694      0.349\n"
     ]
    },
    {
     "name": "stderr",
     "output_type": "stream",
     "text": [
      "\n"
     ]
    },
    {
     "name": "stdout",
     "output_type": "stream",
     "text": [
      "\n",
      "      Epoch    GPU_mem   box_loss   cls_loss   dfl_loss  Instances       Size\n"
     ]
    },
    {
     "name": "stderr",
     "output_type": "stream",
     "text": [
      "      13/50     0.594G      1.571      0.846      0.996         27        512: 1\n",
      "                 Class     Images  Instances      Box(P          R      mAP50  m"
     ]
    },
    {
     "name": "stdout",
     "output_type": "stream",
     "text": [
      "                   all        515       4829      0.804      0.634      0.709      0.312\n"
     ]
    },
    {
     "name": "stderr",
     "output_type": "stream",
     "text": [
      "\n"
     ]
    },
    {
     "name": "stdout",
     "output_type": "stream",
     "text": [
      "\n",
      "      Epoch    GPU_mem   box_loss   cls_loss   dfl_loss  Instances       Size\n"
     ]
    },
    {
     "name": "stderr",
     "output_type": "stream",
     "text": [
      "      14/50     0.594G      1.548     0.8219     0.9907          3        512: 1\n",
      "                 Class     Images  Instances      Box(P          R      mAP50  m\n"
     ]
    },
    {
     "name": "stdout",
     "output_type": "stream",
     "text": [
      "                   all        515       4829      0.762      0.642      0.703      0.335\n",
      "\n",
      "      Epoch    GPU_mem   box_loss   cls_loss   dfl_loss  Instances       Size\n"
     ]
    },
    {
     "name": "stderr",
     "output_type": "stream",
     "text": [
      "      15/50     0.594G      1.538       0.82     0.9873         24        512: 1\n",
      "                 Class     Images  Instances      Box(P          R      mAP50  m"
     ]
    },
    {
     "name": "stdout",
     "output_type": "stream",
     "text": [
      "                   all        515       4829      0.796       0.63      0.707       0.33\n"
     ]
    },
    {
     "name": "stderr",
     "output_type": "stream",
     "text": [
      "\n"
     ]
    },
    {
     "name": "stdout",
     "output_type": "stream",
     "text": [
      "\n",
      "      Epoch    GPU_mem   box_loss   cls_loss   dfl_loss  Instances       Size\n"
     ]
    },
    {
     "name": "stderr",
     "output_type": "stream",
     "text": [
      "      16/50     0.594G      1.542     0.8148     0.9866         19        512: 1\n",
      "                 Class     Images  Instances      Box(P          R      mAP50  m"
     ]
    },
    {
     "name": "stdout",
     "output_type": "stream",
     "text": [
      "                   all        515       4829       0.76      0.647      0.694      0.323\n"
     ]
    },
    {
     "name": "stderr",
     "output_type": "stream",
     "text": [
      "\n"
     ]
    },
    {
     "name": "stdout",
     "output_type": "stream",
     "text": [
      "\n",
      "      Epoch    GPU_mem   box_loss   cls_loss   dfl_loss  Instances       Size\n"
     ]
    },
    {
     "name": "stderr",
     "output_type": "stream",
     "text": [
      "      17/50     0.594G      1.534     0.8103     0.9851         21        512: 1\n",
      "                 Class     Images  Instances      Box(P          R      mAP50  m"
     ]
    },
    {
     "name": "stdout",
     "output_type": "stream",
     "text": [
      "                   all        515       4829      0.755      0.675      0.726      0.331\n"
     ]
    },
    {
     "name": "stderr",
     "output_type": "stream",
     "text": [
      "\n"
     ]
    },
    {
     "name": "stdout",
     "output_type": "stream",
     "text": [
      "\n",
      "      Epoch    GPU_mem   box_loss   cls_loss   dfl_loss  Instances       Size\n"
     ]
    },
    {
     "name": "stderr",
     "output_type": "stream",
     "text": [
      "      18/50     0.594G       1.54     0.8054     0.9808         21        512: 1\n",
      "                 Class     Images  Instances      Box(P          R      mAP50  m"
     ]
    },
    {
     "name": "stdout",
     "output_type": "stream",
     "text": [
      "                   all        515       4829      0.776      0.663      0.722      0.328\n"
     ]
    },
    {
     "name": "stderr",
     "output_type": "stream",
     "text": [
      "\n"
     ]
    },
    {
     "name": "stdout",
     "output_type": "stream",
     "text": [
      "\n",
      "      Epoch    GPU_mem   box_loss   cls_loss   dfl_loss  Instances       Size\n"
     ]
    },
    {
     "name": "stderr",
     "output_type": "stream",
     "text": [
      "      19/50     0.594G      1.511     0.7884     0.9792         30        512: 1\n",
      "                 Class     Images  Instances      Box(P          R      mAP50  m"
     ]
    },
    {
     "name": "stdout",
     "output_type": "stream",
     "text": [
      "                   all        515       4829       0.75       0.67       0.71      0.345\n"
     ]
    },
    {
     "name": "stderr",
     "output_type": "stream",
     "text": [
      "\n"
     ]
    },
    {
     "name": "stdout",
     "output_type": "stream",
     "text": [
      "\n",
      "      Epoch    GPU_mem   box_loss   cls_loss   dfl_loss  Instances       Size\n"
     ]
    },
    {
     "name": "stderr",
     "output_type": "stream",
     "text": [
      "      20/50     0.594G      1.506     0.7825     0.9781         26        512: 1\n",
      "                 Class     Images  Instances      Box(P          R      mAP50  m"
     ]
    },
    {
     "name": "stdout",
     "output_type": "stream",
     "text": [
      "                   all        515       4829      0.791      0.633      0.725      0.354\n"
     ]
    },
    {
     "name": "stderr",
     "output_type": "stream",
     "text": [
      "\n"
     ]
    },
    {
     "name": "stdout",
     "output_type": "stream",
     "text": [
      "\n",
      "      Epoch    GPU_mem   box_loss   cls_loss   dfl_loss  Instances       Size\n"
     ]
    },
    {
     "name": "stderr",
     "output_type": "stream",
     "text": [
      "      21/50     0.594G      1.496     0.7797     0.9769          3        512: 1\n",
      "                 Class     Images  Instances      Box(P          R      mAP50  m"
     ]
    },
    {
     "name": "stdout",
     "output_type": "stream",
     "text": [
      "                   all        515       4829      0.773      0.669      0.724       0.36\n"
     ]
    },
    {
     "name": "stderr",
     "output_type": "stream",
     "text": [
      "\n"
     ]
    },
    {
     "name": "stdout",
     "output_type": "stream",
     "text": [
      "\n",
      "      Epoch    GPU_mem   box_loss   cls_loss   dfl_loss  Instances       Size\n"
     ]
    },
    {
     "name": "stderr",
     "output_type": "stream",
     "text": [
      "      22/50     0.594G      1.504     0.7824     0.9764          6        512: 1\n",
      "                 Class     Images  Instances      Box(P          R      mAP50  m"
     ]
    },
    {
     "name": "stdout",
     "output_type": "stream",
     "text": [
      "                   all        515       4829      0.762      0.683      0.726      0.365\n"
     ]
    },
    {
     "name": "stderr",
     "output_type": "stream",
     "text": [
      "\n"
     ]
    },
    {
     "name": "stdout",
     "output_type": "stream",
     "text": [
      "\n",
      "      Epoch    GPU_mem   box_loss   cls_loss   dfl_loss  Instances       Size\n"
     ]
    },
    {
     "name": "stderr",
     "output_type": "stream",
     "text": [
      "      23/50     0.594G      1.498     0.7727     0.9764         17        512: 1\n",
      "                 Class     Images  Instances      Box(P          R      mAP50  m"
     ]
    },
    {
     "name": "stdout",
     "output_type": "stream",
     "text": [
      "                   all        515       4829      0.725      0.703      0.725      0.348\n"
     ]
    },
    {
     "name": "stderr",
     "output_type": "stream",
     "text": [
      "\n"
     ]
    },
    {
     "name": "stdout",
     "output_type": "stream",
     "text": [
      "\n",
      "      Epoch    GPU_mem   box_loss   cls_loss   dfl_loss  Instances       Size\n"
     ]
    },
    {
     "name": "stderr",
     "output_type": "stream",
     "text": [
      "      24/50     0.594G      1.491      0.776     0.9774          7        512: 1\n",
      "                 Class     Images  Instances      Box(P          R      mAP50  m"
     ]
    },
    {
     "name": "stdout",
     "output_type": "stream",
     "text": [
      "                   all        515       4829      0.753      0.686      0.725      0.354\n"
     ]
    },
    {
     "name": "stderr",
     "output_type": "stream",
     "text": [
      "\n"
     ]
    },
    {
     "name": "stdout",
     "output_type": "stream",
     "text": [
      "\n",
      "      Epoch    GPU_mem   box_loss   cls_loss   dfl_loss  Instances       Size\n"
     ]
    },
    {
     "name": "stderr",
     "output_type": "stream",
     "text": [
      "      25/50     0.594G      1.481     0.7651     0.9759         20        512: 1\n",
      "                 Class     Images  Instances      Box(P          R      mAP50  m"
     ]
    },
    {
     "name": "stdout",
     "output_type": "stream",
     "text": [
      "                   all        515       4829      0.807      0.666      0.739      0.345\n"
     ]
    },
    {
     "name": "stderr",
     "output_type": "stream",
     "text": [
      "\n"
     ]
    },
    {
     "name": "stdout",
     "output_type": "stream",
     "text": [
      "\n",
      "      Epoch    GPU_mem   box_loss   cls_loss   dfl_loss  Instances       Size\n"
     ]
    },
    {
     "name": "stderr",
     "output_type": "stream",
     "text": [
      "      26/50     0.594G      1.481     0.7631     0.9747         11        512: 1\n",
      "                 Class     Images  Instances      Box(P          R      mAP50  m"
     ]
    },
    {
     "name": "stdout",
     "output_type": "stream",
     "text": [
      "                   all        515       4829      0.798      0.683      0.742      0.354\n"
     ]
    },
    {
     "name": "stderr",
     "output_type": "stream",
     "text": [
      "\n"
     ]
    },
    {
     "name": "stdout",
     "output_type": "stream",
     "text": [
      "\n",
      "      Epoch    GPU_mem   box_loss   cls_loss   dfl_loss  Instances       Size\n"
     ]
    },
    {
     "name": "stderr",
     "output_type": "stream",
     "text": [
      "      27/50     0.594G      1.463     0.7523     0.9716         36        512: 1\n",
      "                 Class     Images  Instances      Box(P          R      mAP50  m"
     ]
    },
    {
     "name": "stdout",
     "output_type": "stream",
     "text": [
      "                   all        515       4829       0.75       0.68      0.729      0.368\n"
     ]
    },
    {
     "name": "stderr",
     "output_type": "stream",
     "text": [
      "\n"
     ]
    },
    {
     "name": "stdout",
     "output_type": "stream",
     "text": [
      "\n",
      "      Epoch    GPU_mem   box_loss   cls_loss   dfl_loss  Instances       Size\n"
     ]
    },
    {
     "name": "stderr",
     "output_type": "stream",
     "text": [
      "      28/50     0.594G      1.474     0.7498     0.9698         14        512: 1\n",
      "                 Class     Images  Instances      Box(P          R      mAP50  m"
     ]
    },
    {
     "name": "stdout",
     "output_type": "stream",
     "text": [
      "                   all        515       4829      0.775      0.665      0.739      0.366\n"
     ]
    },
    {
     "name": "stderr",
     "output_type": "stream",
     "text": [
      "\n"
     ]
    },
    {
     "name": "stdout",
     "output_type": "stream",
     "text": [
      "\n",
      "      Epoch    GPU_mem   box_loss   cls_loss   dfl_loss  Instances       Size\n"
     ]
    },
    {
     "name": "stderr",
     "output_type": "stream",
     "text": [
      "      29/50     0.594G      1.465      0.749     0.9683          4        512: 1\n",
      "                 Class     Images  Instances      Box(P          R      mAP50  m"
     ]
    },
    {
     "name": "stdout",
     "output_type": "stream",
     "text": [
      "                   all        515       4829      0.813      0.662      0.738      0.347\n"
     ]
    },
    {
     "name": "stderr",
     "output_type": "stream",
     "text": [
      "\n"
     ]
    },
    {
     "name": "stdout",
     "output_type": "stream",
     "text": [
      "\n",
      "      Epoch    GPU_mem   box_loss   cls_loss   dfl_loss  Instances       Size\n"
     ]
    },
    {
     "name": "stderr",
     "output_type": "stream",
     "text": [
      "      30/50     0.594G      1.449     0.7399      0.968          5        512: 1\n",
      "                 Class     Images  Instances      Box(P          R      mAP50  m"
     ]
    },
    {
     "name": "stdout",
     "output_type": "stream",
     "text": [
      "                   all        515       4829      0.786      0.679      0.739      0.357\n"
     ]
    },
    {
     "name": "stderr",
     "output_type": "stream",
     "text": [
      "\n"
     ]
    },
    {
     "name": "stdout",
     "output_type": "stream",
     "text": [
      "\n",
      "      Epoch    GPU_mem   box_loss   cls_loss   dfl_loss  Instances       Size\n"
     ]
    },
    {
     "name": "stderr",
     "output_type": "stream",
     "text": [
      "      31/50     0.594G      1.465     0.7486     0.9726         24        512: 1\n",
      "                 Class     Images  Instances      Box(P          R      mAP50  m"
     ]
    },
    {
     "name": "stdout",
     "output_type": "stream",
     "text": [
      "                   all        515       4829      0.767      0.681      0.738      0.354\n"
     ]
    },
    {
     "name": "stderr",
     "output_type": "stream",
     "text": [
      "\n"
     ]
    },
    {
     "name": "stdout",
     "output_type": "stream",
     "text": [
      "\n",
      "      Epoch    GPU_mem   box_loss   cls_loss   dfl_loss  Instances       Size\n"
     ]
    },
    {
     "name": "stderr",
     "output_type": "stream",
     "text": [
      "      32/50     0.594G      1.441     0.7318     0.9656         33        512: 1\n",
      "                 Class     Images  Instances      Box(P          R      mAP50  m"
     ]
    },
    {
     "name": "stdout",
     "output_type": "stream",
     "text": [
      "                   all        515       4829      0.802      0.666      0.742      0.362\n"
     ]
    },
    {
     "name": "stderr",
     "output_type": "stream",
     "text": [
      "\n"
     ]
    },
    {
     "name": "stdout",
     "output_type": "stream",
     "text": [
      "\n",
      "      Epoch    GPU_mem   box_loss   cls_loss   dfl_loss  Instances       Size\n"
     ]
    },
    {
     "name": "stderr",
     "output_type": "stream",
     "text": [
      "      33/50     0.594G      1.456     0.7418     0.9711         17        512: 1\n",
      "                 Class     Images  Instances      Box(P          R      mAP50  m"
     ]
    },
    {
     "name": "stdout",
     "output_type": "stream",
     "text": [
      "                   all        515       4829      0.795       0.65      0.737      0.363\n"
     ]
    },
    {
     "name": "stderr",
     "output_type": "stream",
     "text": [
      "\n"
     ]
    },
    {
     "name": "stdout",
     "output_type": "stream",
     "text": [
      "\n",
      "      Epoch    GPU_mem   box_loss   cls_loss   dfl_loss  Instances       Size\n"
     ]
    },
    {
     "name": "stderr",
     "output_type": "stream",
     "text": [
      "      34/50     0.594G      1.445     0.7318     0.9645          9        512: 1\n",
      "                 Class     Images  Instances      Box(P          R      mAP50  m"
     ]
    },
    {
     "name": "stdout",
     "output_type": "stream",
     "text": [
      "                   all        515       4829      0.805      0.666      0.743      0.373\n"
     ]
    },
    {
     "name": "stderr",
     "output_type": "stream",
     "text": [
      "\n"
     ]
    },
    {
     "name": "stdout",
     "output_type": "stream",
     "text": [
      "\n",
      "      Epoch    GPU_mem   box_loss   cls_loss   dfl_loss  Instances       Size\n"
     ]
    },
    {
     "name": "stderr",
     "output_type": "stream",
     "text": [
      "      35/50     0.594G      1.427     0.7142     0.9591         16        512: 1\n",
      "                 Class     Images  Instances      Box(P          R      mAP50  m"
     ]
    },
    {
     "name": "stdout",
     "output_type": "stream",
     "text": [
      "                   all        515       4829      0.812      0.684      0.746      0.364\n"
     ]
    },
    {
     "name": "stderr",
     "output_type": "stream",
     "text": [
      "\n"
     ]
    },
    {
     "name": "stdout",
     "output_type": "stream",
     "text": [
      "\n",
      "      Epoch    GPU_mem   box_loss   cls_loss   dfl_loss  Instances       Size\n"
     ]
    },
    {
     "name": "stderr",
     "output_type": "stream",
     "text": [
      "      36/50     0.594G      1.425     0.7146     0.9624         15        512: 1\n",
      "                 Class     Images  Instances      Box(P          R      mAP50  m"
     ]
    },
    {
     "name": "stdout",
     "output_type": "stream",
     "text": [
      "                   all        515       4829      0.771      0.701      0.749       0.37\n"
     ]
    },
    {
     "name": "stderr",
     "output_type": "stream",
     "text": [
      "\n"
     ]
    },
    {
     "name": "stdout",
     "output_type": "stream",
     "text": [
      "\n",
      "      Epoch    GPU_mem   box_loss   cls_loss   dfl_loss  Instances       Size\n"
     ]
    },
    {
     "name": "stderr",
     "output_type": "stream",
     "text": [
      "      37/50     0.594G      1.416     0.7064     0.9589          9        512: 1\n",
      "                 Class     Images  Instances      Box(P          R      mAP50  m"
     ]
    },
    {
     "name": "stdout",
     "output_type": "stream",
     "text": [
      "                   all        515       4829      0.794      0.686      0.753      0.363\n"
     ]
    },
    {
     "name": "stderr",
     "output_type": "stream",
     "text": [
      "\n"
     ]
    },
    {
     "name": "stdout",
     "output_type": "stream",
     "text": [
      "\n",
      "      Epoch    GPU_mem   box_loss   cls_loss   dfl_loss  Instances       Size\n"
     ]
    },
    {
     "name": "stderr",
     "output_type": "stream",
     "text": [
      "      38/50     0.594G       1.44     0.7204     0.9637         11        512: 1\n",
      "                 Class     Images  Instances      Box(P          R      mAP50  m"
     ]
    },
    {
     "name": "stdout",
     "output_type": "stream",
     "text": [
      "                   all        515       4829      0.793      0.663      0.736      0.373\n"
     ]
    },
    {
     "name": "stderr",
     "output_type": "stream",
     "text": [
      "\n"
     ]
    },
    {
     "name": "stdout",
     "output_type": "stream",
     "text": [
      "\n",
      "      Epoch    GPU_mem   box_loss   cls_loss   dfl_loss  Instances       Size\n"
     ]
    },
    {
     "name": "stderr",
     "output_type": "stream",
     "text": [
      "      39/50     0.594G      1.415     0.7097      0.958         17        512: 1\n",
      "                 Class     Images  Instances      Box(P          R      mAP50  mAP50-95): 100%|██████████| 65/65 [00:02<00:00, 27.03it/s]"
     ]
    },
    {
     "name": "stdout",
     "output_type": "stream",
     "text": [
      "                   all        515       4829      0.771      0.689      0.745      0.374\n"
     ]
    },
    {
     "name": "stderr",
     "output_type": "stream",
     "text": [
      "\n"
     ]
    },
    {
     "name": "stdout",
     "output_type": "stream",
     "text": [
      "\n",
      "      Epoch    GPU_mem   box_loss   cls_loss   dfl_loss  Instances       Size\n"
     ]
    },
    {
     "name": "stderr",
     "output_type": "stream",
     "text": [
      "      40/50     0.594G      1.415     0.7129     0.9632          1        512: 100%|██████████| 907/907 [00:38<00:00, 23.32it/s]\n",
      "                 Class     Images  Instances      Box(P          R      mAP50  mAP50-95): 100%|██████████| 65/65 [00:02<00:00, 25.92it/s]"
     ]
    },
    {
     "name": "stdout",
     "output_type": "stream",
     "text": [
      "                   all        515       4829      0.779      0.675      0.742       0.37\n"
     ]
    },
    {
     "name": "stderr",
     "output_type": "stream",
     "text": [
      "\n"
     ]
    },
    {
     "name": "stdout",
     "output_type": "stream",
     "text": [
      "Closing dataloader mosaic\n",
      "\n",
      "      Epoch    GPU_mem   box_loss   cls_loss   dfl_loss  Instances       Size\n"
     ]
    },
    {
     "name": "stderr",
     "output_type": "stream",
     "text": [
      "      41/50     0.594G      1.392     0.6898      0.973          5        512: 100%|██████████| 907/907 [00:40<00:00, 22.13it/s]\n",
      "                 Class     Images  Instances      Box(P          R      mAP50  mAP50-95): 100%|██████████| 65/65 [00:02<00:00, 26.12it/s]"
     ]
    },
    {
     "name": "stdout",
     "output_type": "stream",
     "text": [
      "                   all        515       4829      0.828      0.669      0.748      0.375\n"
     ]
    },
    {
     "name": "stderr",
     "output_type": "stream",
     "text": [
      "\n"
     ]
    },
    {
     "name": "stdout",
     "output_type": "stream",
     "text": [
      "\n",
      "      Epoch    GPU_mem   box_loss   cls_loss   dfl_loss  Instances       Size\n"
     ]
    },
    {
     "name": "stderr",
     "output_type": "stream",
     "text": [
      "      42/50     0.594G      1.381     0.6832     0.9646          4        512: 100%|██████████| 907/907 [00:41<00:00, 22.04it/s]\n",
      "                 Class     Images  Instances      Box(P          R      mAP50  mAP50-95): 100%|██████████| 65/65 [00:02<00:00, 28.84it/s]"
     ]
    },
    {
     "name": "stdout",
     "output_type": "stream",
     "text": [
      "                   all        515       4829       0.76      0.692      0.739      0.381\n"
     ]
    },
    {
     "name": "stderr",
     "output_type": "stream",
     "text": [
      "\n"
     ]
    },
    {
     "name": "stdout",
     "output_type": "stream",
     "text": [
      "\n",
      "      Epoch    GPU_mem   box_loss   cls_loss   dfl_loss  Instances       Size\n"
     ]
    },
    {
     "name": "stderr",
     "output_type": "stream",
     "text": [
      "      43/50     0.594G      1.371     0.6733     0.9655          2        512: 100%|██████████| 907/907 [00:38<00:00, 23.33it/s]\n",
      "                 Class     Images  Instances      Box(P          R      mAP50  mAP50-95): 100%|██████████| 65/65 [00:02<00:00, 28.38it/s]"
     ]
    },
    {
     "name": "stdout",
     "output_type": "stream",
     "text": [
      "                   all        515       4829      0.813      0.675      0.754      0.378\n"
     ]
    },
    {
     "name": "stderr",
     "output_type": "stream",
     "text": [
      "\n"
     ]
    },
    {
     "name": "stdout",
     "output_type": "stream",
     "text": [
      "\n",
      "      Epoch    GPU_mem   box_loss   cls_loss   dfl_loss  Instances       Size\n"
     ]
    },
    {
     "name": "stderr",
     "output_type": "stream",
     "text": [
      "      44/50     0.594G      1.364     0.6698     0.9656          6        512: 100%|██████████| 907/907 [00:40<00:00, 22.64it/s]\n",
      "                 Class     Images  Instances      Box(P          R      mAP50  mAP50-95): 100%|██████████| 65/65 [00:02<00:00, 26.71it/s]"
     ]
    },
    {
     "name": "stdout",
     "output_type": "stream",
     "text": [
      "                   all        515       4829      0.811      0.675       0.75      0.373\n"
     ]
    },
    {
     "name": "stderr",
     "output_type": "stream",
     "text": [
      "\n"
     ]
    },
    {
     "name": "stdout",
     "output_type": "stream",
     "text": [
      "\n",
      "      Epoch    GPU_mem   box_loss   cls_loss   dfl_loss  Instances       Size\n"
     ]
    },
    {
     "name": "stderr",
     "output_type": "stream",
     "text": [
      "      45/50     0.594G       1.36     0.6656     0.9645         19        512: 100%|██████████| 907/907 [00:39<00:00, 22.87it/s]\n",
      "                 Class     Images  Instances      Box(P          R      mAP50  mAP50-95): 100%|██████████| 65/65 [00:02<00:00, 26.80it/s]\n"
     ]
    },
    {
     "name": "stdout",
     "output_type": "stream",
     "text": [
      "                   all        515       4829      0.793      0.684      0.753      0.377\n",
      "\n",
      "      Epoch    GPU_mem   box_loss   cls_loss   dfl_loss  Instances       Size\n"
     ]
    },
    {
     "name": "stderr",
     "output_type": "stream",
     "text": [
      "      46/50     0.594G      1.351     0.6606     0.9633          6        512: 100%|██████████| 907/907 [00:39<00:00, 22.68it/s]\n",
      "                 Class     Images  Instances      Box(P          R      mAP50  mAP50-95): 100%|██████████| 65/65 [00:02<00:00, 27.72it/s]"
     ]
    },
    {
     "name": "stdout",
     "output_type": "stream",
     "text": [
      "                   all        515       4829        0.8      0.678      0.744      0.378\n"
     ]
    },
    {
     "name": "stderr",
     "output_type": "stream",
     "text": [
      "\n"
     ]
    },
    {
     "name": "stdout",
     "output_type": "stream",
     "text": [
      "\n",
      "      Epoch    GPU_mem   box_loss   cls_loss   dfl_loss  Instances       Size\n"
     ]
    },
    {
     "name": "stderr",
     "output_type": "stream",
     "text": [
      "      47/50     0.594G      1.347      0.657     0.9595          7        512: 100%|██████████| 907/907 [00:39<00:00, 23.02it/s]\n",
      "                 Class     Images  Instances      Box(P          R      mAP50  mAP50-95): 100%|██████████| 65/65 [00:02<00:00, 27.72it/s]"
     ]
    },
    {
     "name": "stdout",
     "output_type": "stream",
     "text": [
      "                   all        515       4829      0.807      0.682      0.752      0.371\n"
     ]
    },
    {
     "name": "stderr",
     "output_type": "stream",
     "text": [
      "\n"
     ]
    },
    {
     "name": "stdout",
     "output_type": "stream",
     "text": [
      "\n",
      "      Epoch    GPU_mem   box_loss   cls_loss   dfl_loss  Instances       Size\n"
     ]
    },
    {
     "name": "stderr",
     "output_type": "stream",
     "text": [
      "      48/50     0.594G      1.338     0.6549     0.9585          6        512: 100%|██████████| 907/907 [00:38<00:00, 23.52it/s]\n",
      "                 Class     Images  Instances      Box(P          R      mAP50  mAP50-95): 100%|██████████| 65/65 [00:02<00:00, 27.11it/s]"
     ]
    },
    {
     "name": "stdout",
     "output_type": "stream",
     "text": [
      "                   all        515       4829      0.782      0.683      0.745      0.378\n"
     ]
    },
    {
     "name": "stderr",
     "output_type": "stream",
     "text": [
      "\n"
     ]
    },
    {
     "name": "stdout",
     "output_type": "stream",
     "text": [
      "\n",
      "      Epoch    GPU_mem   box_loss   cls_loss   dfl_loss  Instances       Size\n"
     ]
    },
    {
     "name": "stderr",
     "output_type": "stream",
     "text": [
      "      49/50     0.594G      1.333     0.6488     0.9584         33        512: 100%|██████████| 907/907 [00:38<00:00, 23.45it/s]\n",
      "                 Class     Images  Instances      Box(P          R      mAP50  mAP50-95): 100%|██████████| 65/65 [00:02<00:00, 27.95it/s]"
     ]
    },
    {
     "name": "stdout",
     "output_type": "stream",
     "text": [
      "                   all        515       4829      0.799      0.686      0.749       0.37\n"
     ]
    },
    {
     "name": "stderr",
     "output_type": "stream",
     "text": [
      "\n"
     ]
    },
    {
     "name": "stdout",
     "output_type": "stream",
     "text": [
      "\n",
      "      Epoch    GPU_mem   box_loss   cls_loss   dfl_loss  Instances       Size\n"
     ]
    },
    {
     "name": "stderr",
     "output_type": "stream",
     "text": [
      "      50/50     0.594G      1.322     0.6427     0.9558          6        512: 100%|██████████| 907/907 [00:38<00:00, 23.37it/s]\n",
      "                 Class     Images  Instances      Box(P          R      mAP50  mAP50-95): 100%|██████████| 65/65 [00:02<00:00, 26.75it/s]"
     ]
    },
    {
     "name": "stdout",
     "output_type": "stream",
     "text": [
      "                   all        515       4829      0.797      0.679      0.754      0.374\n"
     ]
    },
    {
     "name": "stderr",
     "output_type": "stream",
     "text": [
      "\n"
     ]
    },
    {
     "name": "stdout",
     "output_type": "stream",
     "text": [
      "\n",
      "50 epochs completed in 0.569 hours.\n",
      "Optimizer stripped from /home/aditya/Formula-Student-AI/runs/detect/train2/weights/last.pt, 6.2MB\n",
      "Optimizer stripped from /home/aditya/Formula-Student-AI/runs/detect/train2/weights/best.pt, 6.2MB\n",
      "\n",
      "Validating /home/aditya/Formula-Student-AI/runs/detect/train2/weights/best.pt...\n",
      "Ultralytics 8.3.131 🚀 Python-3.12.10 torch-2.7.0+cu126 CUDA:0 (NVIDIA GeForce RTX 3070 Laptop GPU, 7851MiB)\n",
      "Model summary (fused): 72 layers, 3,006,428 parameters, 0 gradients, 8.1 GFLOPs\n"
     ]
    },
    {
     "name": "stderr",
     "output_type": "stream",
     "text": [
      "                 Class     Images  Instances      Box(P          R      mAP50  mAP50-95): 100%|██████████| 65/65 [00:02<00:00, 23.71it/s]\n"
     ]
    },
    {
     "name": "stdout",
     "output_type": "stream",
     "text": [
      "                   all        515       4829       0.76      0.693      0.739      0.381\n",
      "             blue_cone        388       2023      0.778      0.678      0.763      0.389\n",
      "     large_orange_cone         43        138      0.704      0.746      0.731      0.389\n",
      "           orange_cone         18         96      0.749      0.656      0.685      0.344\n",
      "           yellow_cone        505       2572      0.811       0.69      0.778      0.402\n",
      "Speed: 0.2ms preprocess, 0.9ms inference, 0.0ms loss, 0.7ms postprocess per image\n",
      "Results saved to \u001b[1m/home/aditya/Formula-Student-AI/runs/detect/train2\u001b[0m\n"
     ]
    },
    {
     "data": {
      "text/plain": [
       "ultralytics.utils.metrics.DetMetrics object with attributes:\n",
       "\n",
       "ap_class_index: array([0, 1, 2, 3])\n",
       "box: ultralytics.utils.metrics.Metric object\n",
       "confusion_matrix: <ultralytics.utils.metrics.ConfusionMatrix object at 0x77e1f9405df0>\n",
       "curves: ['Precision-Recall(B)', 'F1-Confidence(B)', 'Precision-Confidence(B)', 'Recall-Confidence(B)']\n",
       "curves_results: [[array([          0,    0.001001,    0.002002,    0.003003,    0.004004,    0.005005,    0.006006,    0.007007,    0.008008,    0.009009,     0.01001,    0.011011,    0.012012,    0.013013,    0.014014,    0.015015,    0.016016,    0.017017,    0.018018,    0.019019,     0.02002,    0.021021,    0.022022,    0.023023,\n",
       "          0.024024,    0.025025,    0.026026,    0.027027,    0.028028,    0.029029,     0.03003,    0.031031,    0.032032,    0.033033,    0.034034,    0.035035,    0.036036,    0.037037,    0.038038,    0.039039,     0.04004,    0.041041,    0.042042,    0.043043,    0.044044,    0.045045,    0.046046,    0.047047,\n",
       "          0.048048,    0.049049,     0.05005,    0.051051,    0.052052,    0.053053,    0.054054,    0.055055,    0.056056,    0.057057,    0.058058,    0.059059,     0.06006,    0.061061,    0.062062,    0.063063,    0.064064,    0.065065,    0.066066,    0.067067,    0.068068,    0.069069,     0.07007,    0.071071,\n",
       "          0.072072,    0.073073,    0.074074,    0.075075,    0.076076,    0.077077,    0.078078,    0.079079,     0.08008,    0.081081,    0.082082,    0.083083,    0.084084,    0.085085,    0.086086,    0.087087,    0.088088,    0.089089,     0.09009,    0.091091,    0.092092,    0.093093,    0.094094,    0.095095,\n",
       "          0.096096,    0.097097,    0.098098,    0.099099,      0.1001,      0.1011,      0.1021,      0.1031,      0.1041,     0.10511,     0.10611,     0.10711,     0.10811,     0.10911,     0.11011,     0.11111,     0.11211,     0.11311,     0.11411,     0.11512,     0.11612,     0.11712,     0.11812,     0.11912,\n",
       "           0.12012,     0.12112,     0.12212,     0.12312,     0.12412,     0.12513,     0.12613,     0.12713,     0.12813,     0.12913,     0.13013,     0.13113,     0.13213,     0.13313,     0.13413,     0.13514,     0.13614,     0.13714,     0.13814,     0.13914,     0.14014,     0.14114,     0.14214,     0.14314,\n",
       "           0.14414,     0.14515,     0.14615,     0.14715,     0.14815,     0.14915,     0.15015,     0.15115,     0.15215,     0.15315,     0.15415,     0.15516,     0.15616,     0.15716,     0.15816,     0.15916,     0.16016,     0.16116,     0.16216,     0.16316,     0.16416,     0.16517,     0.16617,     0.16717,\n",
       "           0.16817,     0.16917,     0.17017,     0.17117,     0.17217,     0.17317,     0.17417,     0.17518,     0.17618,     0.17718,     0.17818,     0.17918,     0.18018,     0.18118,     0.18218,     0.18318,     0.18418,     0.18519,     0.18619,     0.18719,     0.18819,     0.18919,     0.19019,     0.19119,\n",
       "           0.19219,     0.19319,     0.19419,      0.1952,      0.1962,      0.1972,      0.1982,      0.1992,      0.2002,      0.2012,      0.2022,      0.2032,      0.2042,     0.20521,     0.20621,     0.20721,     0.20821,     0.20921,     0.21021,     0.21121,     0.21221,     0.21321,     0.21421,     0.21522,\n",
       "           0.21622,     0.21722,     0.21822,     0.21922,     0.22022,     0.22122,     0.22222,     0.22322,     0.22422,     0.22523,     0.22623,     0.22723,     0.22823,     0.22923,     0.23023,     0.23123,     0.23223,     0.23323,     0.23423,     0.23524,     0.23624,     0.23724,     0.23824,     0.23924,\n",
       "           0.24024,     0.24124,     0.24224,     0.24324,     0.24424,     0.24525,     0.24625,     0.24725,     0.24825,     0.24925,     0.25025,     0.25125,     0.25225,     0.25325,     0.25425,     0.25526,     0.25626,     0.25726,     0.25826,     0.25926,     0.26026,     0.26126,     0.26226,     0.26326,\n",
       "           0.26426,     0.26527,     0.26627,     0.26727,     0.26827,     0.26927,     0.27027,     0.27127,     0.27227,     0.27327,     0.27427,     0.27528,     0.27628,     0.27728,     0.27828,     0.27928,     0.28028,     0.28128,     0.28228,     0.28328,     0.28428,     0.28529,     0.28629,     0.28729,\n",
       "           0.28829,     0.28929,     0.29029,     0.29129,     0.29229,     0.29329,     0.29429,      0.2953,      0.2963,      0.2973,      0.2983,      0.2993,      0.3003,      0.3013,      0.3023,      0.3033,      0.3043,     0.30531,     0.30631,     0.30731,     0.30831,     0.30931,     0.31031,     0.31131,\n",
       "           0.31231,     0.31331,     0.31431,     0.31532,     0.31632,     0.31732,     0.31832,     0.31932,     0.32032,     0.32132,     0.32232,     0.32332,     0.32432,     0.32533,     0.32633,     0.32733,     0.32833,     0.32933,     0.33033,     0.33133,     0.33233,     0.33333,     0.33433,     0.33534,\n",
       "           0.33634,     0.33734,     0.33834,     0.33934,     0.34034,     0.34134,     0.34234,     0.34334,     0.34434,     0.34535,     0.34635,     0.34735,     0.34835,     0.34935,     0.35035,     0.35135,     0.35235,     0.35335,     0.35435,     0.35536,     0.35636,     0.35736,     0.35836,     0.35936,\n",
       "           0.36036,     0.36136,     0.36236,     0.36336,     0.36436,     0.36537,     0.36637,     0.36737,     0.36837,     0.36937,     0.37037,     0.37137,     0.37237,     0.37337,     0.37437,     0.37538,     0.37638,     0.37738,     0.37838,     0.37938,     0.38038,     0.38138,     0.38238,     0.38338,\n",
       "           0.38438,     0.38539,     0.38639,     0.38739,     0.38839,     0.38939,     0.39039,     0.39139,     0.39239,     0.39339,     0.39439,      0.3954,      0.3964,      0.3974,      0.3984,      0.3994,      0.4004,      0.4014,      0.4024,      0.4034,      0.4044,     0.40541,     0.40641,     0.40741,\n",
       "           0.40841,     0.40941,     0.41041,     0.41141,     0.41241,     0.41341,     0.41441,     0.41542,     0.41642,     0.41742,     0.41842,     0.41942,     0.42042,     0.42142,     0.42242,     0.42342,     0.42442,     0.42543,     0.42643,     0.42743,     0.42843,     0.42943,     0.43043,     0.43143,\n",
       "           0.43243,     0.43343,     0.43443,     0.43544,     0.43644,     0.43744,     0.43844,     0.43944,     0.44044,     0.44144,     0.44244,     0.44344,     0.44444,     0.44545,     0.44645,     0.44745,     0.44845,     0.44945,     0.45045,     0.45145,     0.45245,     0.45345,     0.45445,     0.45546,\n",
       "           0.45646,     0.45746,     0.45846,     0.45946,     0.46046,     0.46146,     0.46246,     0.46346,     0.46446,     0.46547,     0.46647,     0.46747,     0.46847,     0.46947,     0.47047,     0.47147,     0.47247,     0.47347,     0.47447,     0.47548,     0.47648,     0.47748,     0.47848,     0.47948,\n",
       "           0.48048,     0.48148,     0.48248,     0.48348,     0.48448,     0.48549,     0.48649,     0.48749,     0.48849,     0.48949,     0.49049,     0.49149,     0.49249,     0.49349,     0.49449,      0.4955,      0.4965,      0.4975,      0.4985,      0.4995,      0.5005,      0.5015,      0.5025,      0.5035,\n",
       "            0.5045,     0.50551,     0.50651,     0.50751,     0.50851,     0.50951,     0.51051,     0.51151,     0.51251,     0.51351,     0.51451,     0.51552,     0.51652,     0.51752,     0.51852,     0.51952,     0.52052,     0.52152,     0.52252,     0.52352,     0.52452,     0.52553,     0.52653,     0.52753,\n",
       "           0.52853,     0.52953,     0.53053,     0.53153,     0.53253,     0.53353,     0.53453,     0.53554,     0.53654,     0.53754,     0.53854,     0.53954,     0.54054,     0.54154,     0.54254,     0.54354,     0.54454,     0.54555,     0.54655,     0.54755,     0.54855,     0.54955,     0.55055,     0.55155,\n",
       "           0.55255,     0.55355,     0.55455,     0.55556,     0.55656,     0.55756,     0.55856,     0.55956,     0.56056,     0.56156,     0.56256,     0.56356,     0.56456,     0.56557,     0.56657,     0.56757,     0.56857,     0.56957,     0.57057,     0.57157,     0.57257,     0.57357,     0.57457,     0.57558,\n",
       "           0.57658,     0.57758,     0.57858,     0.57958,     0.58058,     0.58158,     0.58258,     0.58358,     0.58458,     0.58559,     0.58659,     0.58759,     0.58859,     0.58959,     0.59059,     0.59159,     0.59259,     0.59359,     0.59459,      0.5956,      0.5966,      0.5976,      0.5986,      0.5996,\n",
       "            0.6006,      0.6016,      0.6026,      0.6036,      0.6046,     0.60561,     0.60661,     0.60761,     0.60861,     0.60961,     0.61061,     0.61161,     0.61261,     0.61361,     0.61461,     0.61562,     0.61662,     0.61762,     0.61862,     0.61962,     0.62062,     0.62162,     0.62262,     0.62362,\n",
       "           0.62462,     0.62563,     0.62663,     0.62763,     0.62863,     0.62963,     0.63063,     0.63163,     0.63263,     0.63363,     0.63463,     0.63564,     0.63664,     0.63764,     0.63864,     0.63964,     0.64064,     0.64164,     0.64264,     0.64364,     0.64464,     0.64565,     0.64665,     0.64765,\n",
       "           0.64865,     0.64965,     0.65065,     0.65165,     0.65265,     0.65365,     0.65465,     0.65566,     0.65666,     0.65766,     0.65866,     0.65966,     0.66066,     0.66166,     0.66266,     0.66366,     0.66466,     0.66567,     0.66667,     0.66767,     0.66867,     0.66967,     0.67067,     0.67167,\n",
       "           0.67267,     0.67367,     0.67467,     0.67568,     0.67668,     0.67768,     0.67868,     0.67968,     0.68068,     0.68168,     0.68268,     0.68368,     0.68468,     0.68569,     0.68669,     0.68769,     0.68869,     0.68969,     0.69069,     0.69169,     0.69269,     0.69369,     0.69469,      0.6957,\n",
       "            0.6967,      0.6977,      0.6987,      0.6997,      0.7007,      0.7017,      0.7027,      0.7037,      0.7047,     0.70571,     0.70671,     0.70771,     0.70871,     0.70971,     0.71071,     0.71171,     0.71271,     0.71371,     0.71471,     0.71572,     0.71672,     0.71772,     0.71872,     0.71972,\n",
       "           0.72072,     0.72172,     0.72272,     0.72372,     0.72472,     0.72573,     0.72673,     0.72773,     0.72873,     0.72973,     0.73073,     0.73173,     0.73273,     0.73373,     0.73473,     0.73574,     0.73674,     0.73774,     0.73874,     0.73974,     0.74074,     0.74174,     0.74274,     0.74374,\n",
       "           0.74474,     0.74575,     0.74675,     0.74775,     0.74875,     0.74975,     0.75075,     0.75175,     0.75275,     0.75375,     0.75475,     0.75576,     0.75676,     0.75776,     0.75876,     0.75976,     0.76076,     0.76176,     0.76276,     0.76376,     0.76476,     0.76577,     0.76677,     0.76777,\n",
       "           0.76877,     0.76977,     0.77077,     0.77177,     0.77277,     0.77377,     0.77477,     0.77578,     0.77678,     0.77778,     0.77878,     0.77978,     0.78078,     0.78178,     0.78278,     0.78378,     0.78478,     0.78579,     0.78679,     0.78779,     0.78879,     0.78979,     0.79079,     0.79179,\n",
       "           0.79279,     0.79379,     0.79479,      0.7958,      0.7968,      0.7978,      0.7988,      0.7998,      0.8008,      0.8018,      0.8028,      0.8038,      0.8048,     0.80581,     0.80681,     0.80781,     0.80881,     0.80981,     0.81081,     0.81181,     0.81281,     0.81381,     0.81481,     0.81582,\n",
       "           0.81682,     0.81782,     0.81882,     0.81982,     0.82082,     0.82182,     0.82282,     0.82382,     0.82482,     0.82583,     0.82683,     0.82783,     0.82883,     0.82983,     0.83083,     0.83183,     0.83283,     0.83383,     0.83483,     0.83584,     0.83684,     0.83784,     0.83884,     0.83984,\n",
       "           0.84084,     0.84184,     0.84284,     0.84384,     0.84484,     0.84585,     0.84685,     0.84785,     0.84885,     0.84985,     0.85085,     0.85185,     0.85285,     0.85385,     0.85485,     0.85586,     0.85686,     0.85786,     0.85886,     0.85986,     0.86086,     0.86186,     0.86286,     0.86386,\n",
       "           0.86486,     0.86587,     0.86687,     0.86787,     0.86887,     0.86987,     0.87087,     0.87187,     0.87287,     0.87387,     0.87487,     0.87588,     0.87688,     0.87788,     0.87888,     0.87988,     0.88088,     0.88188,     0.88288,     0.88388,     0.88488,     0.88589,     0.88689,     0.88789,\n",
       "           0.88889,     0.88989,     0.89089,     0.89189,     0.89289,     0.89389,     0.89489,      0.8959,      0.8969,      0.8979,      0.8989,      0.8999,      0.9009,      0.9019,      0.9029,      0.9039,      0.9049,     0.90591,     0.90691,     0.90791,     0.90891,     0.90991,     0.91091,     0.91191,\n",
       "           0.91291,     0.91391,     0.91491,     0.91592,     0.91692,     0.91792,     0.91892,     0.91992,     0.92092,     0.92192,     0.92292,     0.92392,     0.92492,     0.92593,     0.92693,     0.92793,     0.92893,     0.92993,     0.93093,     0.93193,     0.93293,     0.93393,     0.93493,     0.93594,\n",
       "           0.93694,     0.93794,     0.93894,     0.93994,     0.94094,     0.94194,     0.94294,     0.94394,     0.94494,     0.94595,     0.94695,     0.94795,     0.94895,     0.94995,     0.95095,     0.95195,     0.95295,     0.95395,     0.95495,     0.95596,     0.95696,     0.95796,     0.95896,     0.95996,\n",
       "           0.96096,     0.96196,     0.96296,     0.96396,     0.96496,     0.96597,     0.96697,     0.96797,     0.96897,     0.96997,     0.97097,     0.97197,     0.97297,     0.97397,     0.97497,     0.97598,     0.97698,     0.97798,     0.97898,     0.97998,     0.98098,     0.98198,     0.98298,     0.98398,\n",
       "           0.98498,     0.98599,     0.98699,     0.98799,     0.98899,     0.98999,     0.99099,     0.99199,     0.99299,     0.99399,     0.99499,       0.996,       0.997,       0.998,       0.999,           1]), array([[          1,           1,           1, ...,   0.0030716,   0.0015358,           0],\n",
       "       [          1,           1,           1, ...,   0.0015115,  0.00075574,           0],\n",
       "       [          1,           1,           1, ...,   0.0012226,   0.0006113,           0],\n",
       "       [          1,     0.98446,     0.98446, ...,   0.0024204,   0.0012102,           0]], shape=(4, 1000)), 'Recall', 'Precision'], [array([          0,    0.001001,    0.002002,    0.003003,    0.004004,    0.005005,    0.006006,    0.007007,    0.008008,    0.009009,     0.01001,    0.011011,    0.012012,    0.013013,    0.014014,    0.015015,    0.016016,    0.017017,    0.018018,    0.019019,     0.02002,    0.021021,    0.022022,    0.023023,\n",
       "          0.024024,    0.025025,    0.026026,    0.027027,    0.028028,    0.029029,     0.03003,    0.031031,    0.032032,    0.033033,    0.034034,    0.035035,    0.036036,    0.037037,    0.038038,    0.039039,     0.04004,    0.041041,    0.042042,    0.043043,    0.044044,    0.045045,    0.046046,    0.047047,\n",
       "          0.048048,    0.049049,     0.05005,    0.051051,    0.052052,    0.053053,    0.054054,    0.055055,    0.056056,    0.057057,    0.058058,    0.059059,     0.06006,    0.061061,    0.062062,    0.063063,    0.064064,    0.065065,    0.066066,    0.067067,    0.068068,    0.069069,     0.07007,    0.071071,\n",
       "          0.072072,    0.073073,    0.074074,    0.075075,    0.076076,    0.077077,    0.078078,    0.079079,     0.08008,    0.081081,    0.082082,    0.083083,    0.084084,    0.085085,    0.086086,    0.087087,    0.088088,    0.089089,     0.09009,    0.091091,    0.092092,    0.093093,    0.094094,    0.095095,\n",
       "          0.096096,    0.097097,    0.098098,    0.099099,      0.1001,      0.1011,      0.1021,      0.1031,      0.1041,     0.10511,     0.10611,     0.10711,     0.10811,     0.10911,     0.11011,     0.11111,     0.11211,     0.11311,     0.11411,     0.11512,     0.11612,     0.11712,     0.11812,     0.11912,\n",
       "           0.12012,     0.12112,     0.12212,     0.12312,     0.12412,     0.12513,     0.12613,     0.12713,     0.12813,     0.12913,     0.13013,     0.13113,     0.13213,     0.13313,     0.13413,     0.13514,     0.13614,     0.13714,     0.13814,     0.13914,     0.14014,     0.14114,     0.14214,     0.14314,\n",
       "           0.14414,     0.14515,     0.14615,     0.14715,     0.14815,     0.14915,     0.15015,     0.15115,     0.15215,     0.15315,     0.15415,     0.15516,     0.15616,     0.15716,     0.15816,     0.15916,     0.16016,     0.16116,     0.16216,     0.16316,     0.16416,     0.16517,     0.16617,     0.16717,\n",
       "           0.16817,     0.16917,     0.17017,     0.17117,     0.17217,     0.17317,     0.17417,     0.17518,     0.17618,     0.17718,     0.17818,     0.17918,     0.18018,     0.18118,     0.18218,     0.18318,     0.18418,     0.18519,     0.18619,     0.18719,     0.18819,     0.18919,     0.19019,     0.19119,\n",
       "           0.19219,     0.19319,     0.19419,      0.1952,      0.1962,      0.1972,      0.1982,      0.1992,      0.2002,      0.2012,      0.2022,      0.2032,      0.2042,     0.20521,     0.20621,     0.20721,     0.20821,     0.20921,     0.21021,     0.21121,     0.21221,     0.21321,     0.21421,     0.21522,\n",
       "           0.21622,     0.21722,     0.21822,     0.21922,     0.22022,     0.22122,     0.22222,     0.22322,     0.22422,     0.22523,     0.22623,     0.22723,     0.22823,     0.22923,     0.23023,     0.23123,     0.23223,     0.23323,     0.23423,     0.23524,     0.23624,     0.23724,     0.23824,     0.23924,\n",
       "           0.24024,     0.24124,     0.24224,     0.24324,     0.24424,     0.24525,     0.24625,     0.24725,     0.24825,     0.24925,     0.25025,     0.25125,     0.25225,     0.25325,     0.25425,     0.25526,     0.25626,     0.25726,     0.25826,     0.25926,     0.26026,     0.26126,     0.26226,     0.26326,\n",
       "           0.26426,     0.26527,     0.26627,     0.26727,     0.26827,     0.26927,     0.27027,     0.27127,     0.27227,     0.27327,     0.27427,     0.27528,     0.27628,     0.27728,     0.27828,     0.27928,     0.28028,     0.28128,     0.28228,     0.28328,     0.28428,     0.28529,     0.28629,     0.28729,\n",
       "           0.28829,     0.28929,     0.29029,     0.29129,     0.29229,     0.29329,     0.29429,      0.2953,      0.2963,      0.2973,      0.2983,      0.2993,      0.3003,      0.3013,      0.3023,      0.3033,      0.3043,     0.30531,     0.30631,     0.30731,     0.30831,     0.30931,     0.31031,     0.31131,\n",
       "           0.31231,     0.31331,     0.31431,     0.31532,     0.31632,     0.31732,     0.31832,     0.31932,     0.32032,     0.32132,     0.32232,     0.32332,     0.32432,     0.32533,     0.32633,     0.32733,     0.32833,     0.32933,     0.33033,     0.33133,     0.33233,     0.33333,     0.33433,     0.33534,\n",
       "           0.33634,     0.33734,     0.33834,     0.33934,     0.34034,     0.34134,     0.34234,     0.34334,     0.34434,     0.34535,     0.34635,     0.34735,     0.34835,     0.34935,     0.35035,     0.35135,     0.35235,     0.35335,     0.35435,     0.35536,     0.35636,     0.35736,     0.35836,     0.35936,\n",
       "           0.36036,     0.36136,     0.36236,     0.36336,     0.36436,     0.36537,     0.36637,     0.36737,     0.36837,     0.36937,     0.37037,     0.37137,     0.37237,     0.37337,     0.37437,     0.37538,     0.37638,     0.37738,     0.37838,     0.37938,     0.38038,     0.38138,     0.38238,     0.38338,\n",
       "           0.38438,     0.38539,     0.38639,     0.38739,     0.38839,     0.38939,     0.39039,     0.39139,     0.39239,     0.39339,     0.39439,      0.3954,      0.3964,      0.3974,      0.3984,      0.3994,      0.4004,      0.4014,      0.4024,      0.4034,      0.4044,     0.40541,     0.40641,     0.40741,\n",
       "           0.40841,     0.40941,     0.41041,     0.41141,     0.41241,     0.41341,     0.41441,     0.41542,     0.41642,     0.41742,     0.41842,     0.41942,     0.42042,     0.42142,     0.42242,     0.42342,     0.42442,     0.42543,     0.42643,     0.42743,     0.42843,     0.42943,     0.43043,     0.43143,\n",
       "           0.43243,     0.43343,     0.43443,     0.43544,     0.43644,     0.43744,     0.43844,     0.43944,     0.44044,     0.44144,     0.44244,     0.44344,     0.44444,     0.44545,     0.44645,     0.44745,     0.44845,     0.44945,     0.45045,     0.45145,     0.45245,     0.45345,     0.45445,     0.45546,\n",
       "           0.45646,     0.45746,     0.45846,     0.45946,     0.46046,     0.46146,     0.46246,     0.46346,     0.46446,     0.46547,     0.46647,     0.46747,     0.46847,     0.46947,     0.47047,     0.47147,     0.47247,     0.47347,     0.47447,     0.47548,     0.47648,     0.47748,     0.47848,     0.47948,\n",
       "           0.48048,     0.48148,     0.48248,     0.48348,     0.48448,     0.48549,     0.48649,     0.48749,     0.48849,     0.48949,     0.49049,     0.49149,     0.49249,     0.49349,     0.49449,      0.4955,      0.4965,      0.4975,      0.4985,      0.4995,      0.5005,      0.5015,      0.5025,      0.5035,\n",
       "            0.5045,     0.50551,     0.50651,     0.50751,     0.50851,     0.50951,     0.51051,     0.51151,     0.51251,     0.51351,     0.51451,     0.51552,     0.51652,     0.51752,     0.51852,     0.51952,     0.52052,     0.52152,     0.52252,     0.52352,     0.52452,     0.52553,     0.52653,     0.52753,\n",
       "           0.52853,     0.52953,     0.53053,     0.53153,     0.53253,     0.53353,     0.53453,     0.53554,     0.53654,     0.53754,     0.53854,     0.53954,     0.54054,     0.54154,     0.54254,     0.54354,     0.54454,     0.54555,     0.54655,     0.54755,     0.54855,     0.54955,     0.55055,     0.55155,\n",
       "           0.55255,     0.55355,     0.55455,     0.55556,     0.55656,     0.55756,     0.55856,     0.55956,     0.56056,     0.56156,     0.56256,     0.56356,     0.56456,     0.56557,     0.56657,     0.56757,     0.56857,     0.56957,     0.57057,     0.57157,     0.57257,     0.57357,     0.57457,     0.57558,\n",
       "           0.57658,     0.57758,     0.57858,     0.57958,     0.58058,     0.58158,     0.58258,     0.58358,     0.58458,     0.58559,     0.58659,     0.58759,     0.58859,     0.58959,     0.59059,     0.59159,     0.59259,     0.59359,     0.59459,      0.5956,      0.5966,      0.5976,      0.5986,      0.5996,\n",
       "            0.6006,      0.6016,      0.6026,      0.6036,      0.6046,     0.60561,     0.60661,     0.60761,     0.60861,     0.60961,     0.61061,     0.61161,     0.61261,     0.61361,     0.61461,     0.61562,     0.61662,     0.61762,     0.61862,     0.61962,     0.62062,     0.62162,     0.62262,     0.62362,\n",
       "           0.62462,     0.62563,     0.62663,     0.62763,     0.62863,     0.62963,     0.63063,     0.63163,     0.63263,     0.63363,     0.63463,     0.63564,     0.63664,     0.63764,     0.63864,     0.63964,     0.64064,     0.64164,     0.64264,     0.64364,     0.64464,     0.64565,     0.64665,     0.64765,\n",
       "           0.64865,     0.64965,     0.65065,     0.65165,     0.65265,     0.65365,     0.65465,     0.65566,     0.65666,     0.65766,     0.65866,     0.65966,     0.66066,     0.66166,     0.66266,     0.66366,     0.66466,     0.66567,     0.66667,     0.66767,     0.66867,     0.66967,     0.67067,     0.67167,\n",
       "           0.67267,     0.67367,     0.67467,     0.67568,     0.67668,     0.67768,     0.67868,     0.67968,     0.68068,     0.68168,     0.68268,     0.68368,     0.68468,     0.68569,     0.68669,     0.68769,     0.68869,     0.68969,     0.69069,     0.69169,     0.69269,     0.69369,     0.69469,      0.6957,\n",
       "            0.6967,      0.6977,      0.6987,      0.6997,      0.7007,      0.7017,      0.7027,      0.7037,      0.7047,     0.70571,     0.70671,     0.70771,     0.70871,     0.70971,     0.71071,     0.71171,     0.71271,     0.71371,     0.71471,     0.71572,     0.71672,     0.71772,     0.71872,     0.71972,\n",
       "           0.72072,     0.72172,     0.72272,     0.72372,     0.72472,     0.72573,     0.72673,     0.72773,     0.72873,     0.72973,     0.73073,     0.73173,     0.73273,     0.73373,     0.73473,     0.73574,     0.73674,     0.73774,     0.73874,     0.73974,     0.74074,     0.74174,     0.74274,     0.74374,\n",
       "           0.74474,     0.74575,     0.74675,     0.74775,     0.74875,     0.74975,     0.75075,     0.75175,     0.75275,     0.75375,     0.75475,     0.75576,     0.75676,     0.75776,     0.75876,     0.75976,     0.76076,     0.76176,     0.76276,     0.76376,     0.76476,     0.76577,     0.76677,     0.76777,\n",
       "           0.76877,     0.76977,     0.77077,     0.77177,     0.77277,     0.77377,     0.77477,     0.77578,     0.77678,     0.77778,     0.77878,     0.77978,     0.78078,     0.78178,     0.78278,     0.78378,     0.78478,     0.78579,     0.78679,     0.78779,     0.78879,     0.78979,     0.79079,     0.79179,\n",
       "           0.79279,     0.79379,     0.79479,      0.7958,      0.7968,      0.7978,      0.7988,      0.7998,      0.8008,      0.8018,      0.8028,      0.8038,      0.8048,     0.80581,     0.80681,     0.80781,     0.80881,     0.80981,     0.81081,     0.81181,     0.81281,     0.81381,     0.81481,     0.81582,\n",
       "           0.81682,     0.81782,     0.81882,     0.81982,     0.82082,     0.82182,     0.82282,     0.82382,     0.82482,     0.82583,     0.82683,     0.82783,     0.82883,     0.82983,     0.83083,     0.83183,     0.83283,     0.83383,     0.83483,     0.83584,     0.83684,     0.83784,     0.83884,     0.83984,\n",
       "           0.84084,     0.84184,     0.84284,     0.84384,     0.84484,     0.84585,     0.84685,     0.84785,     0.84885,     0.84985,     0.85085,     0.85185,     0.85285,     0.85385,     0.85485,     0.85586,     0.85686,     0.85786,     0.85886,     0.85986,     0.86086,     0.86186,     0.86286,     0.86386,\n",
       "           0.86486,     0.86587,     0.86687,     0.86787,     0.86887,     0.86987,     0.87087,     0.87187,     0.87287,     0.87387,     0.87487,     0.87588,     0.87688,     0.87788,     0.87888,     0.87988,     0.88088,     0.88188,     0.88288,     0.88388,     0.88488,     0.88589,     0.88689,     0.88789,\n",
       "           0.88889,     0.88989,     0.89089,     0.89189,     0.89289,     0.89389,     0.89489,      0.8959,      0.8969,      0.8979,      0.8989,      0.8999,      0.9009,      0.9019,      0.9029,      0.9039,      0.9049,     0.90591,     0.90691,     0.90791,     0.90891,     0.90991,     0.91091,     0.91191,\n",
       "           0.91291,     0.91391,     0.91491,     0.91592,     0.91692,     0.91792,     0.91892,     0.91992,     0.92092,     0.92192,     0.92292,     0.92392,     0.92492,     0.92593,     0.92693,     0.92793,     0.92893,     0.92993,     0.93093,     0.93193,     0.93293,     0.93393,     0.93493,     0.93594,\n",
       "           0.93694,     0.93794,     0.93894,     0.93994,     0.94094,     0.94194,     0.94294,     0.94394,     0.94494,     0.94595,     0.94695,     0.94795,     0.94895,     0.94995,     0.95095,     0.95195,     0.95295,     0.95395,     0.95495,     0.95596,     0.95696,     0.95796,     0.95896,     0.95996,\n",
       "           0.96096,     0.96196,     0.96296,     0.96396,     0.96496,     0.96597,     0.96697,     0.96797,     0.96897,     0.96997,     0.97097,     0.97197,     0.97297,     0.97397,     0.97497,     0.97598,     0.97698,     0.97798,     0.97898,     0.97998,     0.98098,     0.98198,     0.98298,     0.98398,\n",
       "           0.98498,     0.98599,     0.98699,     0.98799,     0.98899,     0.98999,     0.99099,     0.99199,     0.99299,     0.99399,     0.99499,       0.996,       0.997,       0.998,       0.999,           1]), array([[    0.23518,     0.23518,      0.2889, ...,           0,           0,           0],\n",
       "       [    0.16817,     0.16817,     0.23911, ...,           0,           0,           0],\n",
       "       [    0.18141,     0.18141,     0.23806, ...,           0,           0,           0],\n",
       "       [    0.21661,     0.21661,     0.27124, ...,           0,           0,           0]], shape=(4, 1000)), 'Confidence', 'F1'], [array([          0,    0.001001,    0.002002,    0.003003,    0.004004,    0.005005,    0.006006,    0.007007,    0.008008,    0.009009,     0.01001,    0.011011,    0.012012,    0.013013,    0.014014,    0.015015,    0.016016,    0.017017,    0.018018,    0.019019,     0.02002,    0.021021,    0.022022,    0.023023,\n",
       "          0.024024,    0.025025,    0.026026,    0.027027,    0.028028,    0.029029,     0.03003,    0.031031,    0.032032,    0.033033,    0.034034,    0.035035,    0.036036,    0.037037,    0.038038,    0.039039,     0.04004,    0.041041,    0.042042,    0.043043,    0.044044,    0.045045,    0.046046,    0.047047,\n",
       "          0.048048,    0.049049,     0.05005,    0.051051,    0.052052,    0.053053,    0.054054,    0.055055,    0.056056,    0.057057,    0.058058,    0.059059,     0.06006,    0.061061,    0.062062,    0.063063,    0.064064,    0.065065,    0.066066,    0.067067,    0.068068,    0.069069,     0.07007,    0.071071,\n",
       "          0.072072,    0.073073,    0.074074,    0.075075,    0.076076,    0.077077,    0.078078,    0.079079,     0.08008,    0.081081,    0.082082,    0.083083,    0.084084,    0.085085,    0.086086,    0.087087,    0.088088,    0.089089,     0.09009,    0.091091,    0.092092,    0.093093,    0.094094,    0.095095,\n",
       "          0.096096,    0.097097,    0.098098,    0.099099,      0.1001,      0.1011,      0.1021,      0.1031,      0.1041,     0.10511,     0.10611,     0.10711,     0.10811,     0.10911,     0.11011,     0.11111,     0.11211,     0.11311,     0.11411,     0.11512,     0.11612,     0.11712,     0.11812,     0.11912,\n",
       "           0.12012,     0.12112,     0.12212,     0.12312,     0.12412,     0.12513,     0.12613,     0.12713,     0.12813,     0.12913,     0.13013,     0.13113,     0.13213,     0.13313,     0.13413,     0.13514,     0.13614,     0.13714,     0.13814,     0.13914,     0.14014,     0.14114,     0.14214,     0.14314,\n",
       "           0.14414,     0.14515,     0.14615,     0.14715,     0.14815,     0.14915,     0.15015,     0.15115,     0.15215,     0.15315,     0.15415,     0.15516,     0.15616,     0.15716,     0.15816,     0.15916,     0.16016,     0.16116,     0.16216,     0.16316,     0.16416,     0.16517,     0.16617,     0.16717,\n",
       "           0.16817,     0.16917,     0.17017,     0.17117,     0.17217,     0.17317,     0.17417,     0.17518,     0.17618,     0.17718,     0.17818,     0.17918,     0.18018,     0.18118,     0.18218,     0.18318,     0.18418,     0.18519,     0.18619,     0.18719,     0.18819,     0.18919,     0.19019,     0.19119,\n",
       "           0.19219,     0.19319,     0.19419,      0.1952,      0.1962,      0.1972,      0.1982,      0.1992,      0.2002,      0.2012,      0.2022,      0.2032,      0.2042,     0.20521,     0.20621,     0.20721,     0.20821,     0.20921,     0.21021,     0.21121,     0.21221,     0.21321,     0.21421,     0.21522,\n",
       "           0.21622,     0.21722,     0.21822,     0.21922,     0.22022,     0.22122,     0.22222,     0.22322,     0.22422,     0.22523,     0.22623,     0.22723,     0.22823,     0.22923,     0.23023,     0.23123,     0.23223,     0.23323,     0.23423,     0.23524,     0.23624,     0.23724,     0.23824,     0.23924,\n",
       "           0.24024,     0.24124,     0.24224,     0.24324,     0.24424,     0.24525,     0.24625,     0.24725,     0.24825,     0.24925,     0.25025,     0.25125,     0.25225,     0.25325,     0.25425,     0.25526,     0.25626,     0.25726,     0.25826,     0.25926,     0.26026,     0.26126,     0.26226,     0.26326,\n",
       "           0.26426,     0.26527,     0.26627,     0.26727,     0.26827,     0.26927,     0.27027,     0.27127,     0.27227,     0.27327,     0.27427,     0.27528,     0.27628,     0.27728,     0.27828,     0.27928,     0.28028,     0.28128,     0.28228,     0.28328,     0.28428,     0.28529,     0.28629,     0.28729,\n",
       "           0.28829,     0.28929,     0.29029,     0.29129,     0.29229,     0.29329,     0.29429,      0.2953,      0.2963,      0.2973,      0.2983,      0.2993,      0.3003,      0.3013,      0.3023,      0.3033,      0.3043,     0.30531,     0.30631,     0.30731,     0.30831,     0.30931,     0.31031,     0.31131,\n",
       "           0.31231,     0.31331,     0.31431,     0.31532,     0.31632,     0.31732,     0.31832,     0.31932,     0.32032,     0.32132,     0.32232,     0.32332,     0.32432,     0.32533,     0.32633,     0.32733,     0.32833,     0.32933,     0.33033,     0.33133,     0.33233,     0.33333,     0.33433,     0.33534,\n",
       "           0.33634,     0.33734,     0.33834,     0.33934,     0.34034,     0.34134,     0.34234,     0.34334,     0.34434,     0.34535,     0.34635,     0.34735,     0.34835,     0.34935,     0.35035,     0.35135,     0.35235,     0.35335,     0.35435,     0.35536,     0.35636,     0.35736,     0.35836,     0.35936,\n",
       "           0.36036,     0.36136,     0.36236,     0.36336,     0.36436,     0.36537,     0.36637,     0.36737,     0.36837,     0.36937,     0.37037,     0.37137,     0.37237,     0.37337,     0.37437,     0.37538,     0.37638,     0.37738,     0.37838,     0.37938,     0.38038,     0.38138,     0.38238,     0.38338,\n",
       "           0.38438,     0.38539,     0.38639,     0.38739,     0.38839,     0.38939,     0.39039,     0.39139,     0.39239,     0.39339,     0.39439,      0.3954,      0.3964,      0.3974,      0.3984,      0.3994,      0.4004,      0.4014,      0.4024,      0.4034,      0.4044,     0.40541,     0.40641,     0.40741,\n",
       "           0.40841,     0.40941,     0.41041,     0.41141,     0.41241,     0.41341,     0.41441,     0.41542,     0.41642,     0.41742,     0.41842,     0.41942,     0.42042,     0.42142,     0.42242,     0.42342,     0.42442,     0.42543,     0.42643,     0.42743,     0.42843,     0.42943,     0.43043,     0.43143,\n",
       "           0.43243,     0.43343,     0.43443,     0.43544,     0.43644,     0.43744,     0.43844,     0.43944,     0.44044,     0.44144,     0.44244,     0.44344,     0.44444,     0.44545,     0.44645,     0.44745,     0.44845,     0.44945,     0.45045,     0.45145,     0.45245,     0.45345,     0.45445,     0.45546,\n",
       "           0.45646,     0.45746,     0.45846,     0.45946,     0.46046,     0.46146,     0.46246,     0.46346,     0.46446,     0.46547,     0.46647,     0.46747,     0.46847,     0.46947,     0.47047,     0.47147,     0.47247,     0.47347,     0.47447,     0.47548,     0.47648,     0.47748,     0.47848,     0.47948,\n",
       "           0.48048,     0.48148,     0.48248,     0.48348,     0.48448,     0.48549,     0.48649,     0.48749,     0.48849,     0.48949,     0.49049,     0.49149,     0.49249,     0.49349,     0.49449,      0.4955,      0.4965,      0.4975,      0.4985,      0.4995,      0.5005,      0.5015,      0.5025,      0.5035,\n",
       "            0.5045,     0.50551,     0.50651,     0.50751,     0.50851,     0.50951,     0.51051,     0.51151,     0.51251,     0.51351,     0.51451,     0.51552,     0.51652,     0.51752,     0.51852,     0.51952,     0.52052,     0.52152,     0.52252,     0.52352,     0.52452,     0.52553,     0.52653,     0.52753,\n",
       "           0.52853,     0.52953,     0.53053,     0.53153,     0.53253,     0.53353,     0.53453,     0.53554,     0.53654,     0.53754,     0.53854,     0.53954,     0.54054,     0.54154,     0.54254,     0.54354,     0.54454,     0.54555,     0.54655,     0.54755,     0.54855,     0.54955,     0.55055,     0.55155,\n",
       "           0.55255,     0.55355,     0.55455,     0.55556,     0.55656,     0.55756,     0.55856,     0.55956,     0.56056,     0.56156,     0.56256,     0.56356,     0.56456,     0.56557,     0.56657,     0.56757,     0.56857,     0.56957,     0.57057,     0.57157,     0.57257,     0.57357,     0.57457,     0.57558,\n",
       "           0.57658,     0.57758,     0.57858,     0.57958,     0.58058,     0.58158,     0.58258,     0.58358,     0.58458,     0.58559,     0.58659,     0.58759,     0.58859,     0.58959,     0.59059,     0.59159,     0.59259,     0.59359,     0.59459,      0.5956,      0.5966,      0.5976,      0.5986,      0.5996,\n",
       "            0.6006,      0.6016,      0.6026,      0.6036,      0.6046,     0.60561,     0.60661,     0.60761,     0.60861,     0.60961,     0.61061,     0.61161,     0.61261,     0.61361,     0.61461,     0.61562,     0.61662,     0.61762,     0.61862,     0.61962,     0.62062,     0.62162,     0.62262,     0.62362,\n",
       "           0.62462,     0.62563,     0.62663,     0.62763,     0.62863,     0.62963,     0.63063,     0.63163,     0.63263,     0.63363,     0.63463,     0.63564,     0.63664,     0.63764,     0.63864,     0.63964,     0.64064,     0.64164,     0.64264,     0.64364,     0.64464,     0.64565,     0.64665,     0.64765,\n",
       "           0.64865,     0.64965,     0.65065,     0.65165,     0.65265,     0.65365,     0.65465,     0.65566,     0.65666,     0.65766,     0.65866,     0.65966,     0.66066,     0.66166,     0.66266,     0.66366,     0.66466,     0.66567,     0.66667,     0.66767,     0.66867,     0.66967,     0.67067,     0.67167,\n",
       "           0.67267,     0.67367,     0.67467,     0.67568,     0.67668,     0.67768,     0.67868,     0.67968,     0.68068,     0.68168,     0.68268,     0.68368,     0.68468,     0.68569,     0.68669,     0.68769,     0.68869,     0.68969,     0.69069,     0.69169,     0.69269,     0.69369,     0.69469,      0.6957,\n",
       "            0.6967,      0.6977,      0.6987,      0.6997,      0.7007,      0.7017,      0.7027,      0.7037,      0.7047,     0.70571,     0.70671,     0.70771,     0.70871,     0.70971,     0.71071,     0.71171,     0.71271,     0.71371,     0.71471,     0.71572,     0.71672,     0.71772,     0.71872,     0.71972,\n",
       "           0.72072,     0.72172,     0.72272,     0.72372,     0.72472,     0.72573,     0.72673,     0.72773,     0.72873,     0.72973,     0.73073,     0.73173,     0.73273,     0.73373,     0.73473,     0.73574,     0.73674,     0.73774,     0.73874,     0.73974,     0.74074,     0.74174,     0.74274,     0.74374,\n",
       "           0.74474,     0.74575,     0.74675,     0.74775,     0.74875,     0.74975,     0.75075,     0.75175,     0.75275,     0.75375,     0.75475,     0.75576,     0.75676,     0.75776,     0.75876,     0.75976,     0.76076,     0.76176,     0.76276,     0.76376,     0.76476,     0.76577,     0.76677,     0.76777,\n",
       "           0.76877,     0.76977,     0.77077,     0.77177,     0.77277,     0.77377,     0.77477,     0.77578,     0.77678,     0.77778,     0.77878,     0.77978,     0.78078,     0.78178,     0.78278,     0.78378,     0.78478,     0.78579,     0.78679,     0.78779,     0.78879,     0.78979,     0.79079,     0.79179,\n",
       "           0.79279,     0.79379,     0.79479,      0.7958,      0.7968,      0.7978,      0.7988,      0.7998,      0.8008,      0.8018,      0.8028,      0.8038,      0.8048,     0.80581,     0.80681,     0.80781,     0.80881,     0.80981,     0.81081,     0.81181,     0.81281,     0.81381,     0.81481,     0.81582,\n",
       "           0.81682,     0.81782,     0.81882,     0.81982,     0.82082,     0.82182,     0.82282,     0.82382,     0.82482,     0.82583,     0.82683,     0.82783,     0.82883,     0.82983,     0.83083,     0.83183,     0.83283,     0.83383,     0.83483,     0.83584,     0.83684,     0.83784,     0.83884,     0.83984,\n",
       "           0.84084,     0.84184,     0.84284,     0.84384,     0.84484,     0.84585,     0.84685,     0.84785,     0.84885,     0.84985,     0.85085,     0.85185,     0.85285,     0.85385,     0.85485,     0.85586,     0.85686,     0.85786,     0.85886,     0.85986,     0.86086,     0.86186,     0.86286,     0.86386,\n",
       "           0.86486,     0.86587,     0.86687,     0.86787,     0.86887,     0.86987,     0.87087,     0.87187,     0.87287,     0.87387,     0.87487,     0.87588,     0.87688,     0.87788,     0.87888,     0.87988,     0.88088,     0.88188,     0.88288,     0.88388,     0.88488,     0.88589,     0.88689,     0.88789,\n",
       "           0.88889,     0.88989,     0.89089,     0.89189,     0.89289,     0.89389,     0.89489,      0.8959,      0.8969,      0.8979,      0.8989,      0.8999,      0.9009,      0.9019,      0.9029,      0.9039,      0.9049,     0.90591,     0.90691,     0.90791,     0.90891,     0.90991,     0.91091,     0.91191,\n",
       "           0.91291,     0.91391,     0.91491,     0.91592,     0.91692,     0.91792,     0.91892,     0.91992,     0.92092,     0.92192,     0.92292,     0.92392,     0.92492,     0.92593,     0.92693,     0.92793,     0.92893,     0.92993,     0.93093,     0.93193,     0.93293,     0.93393,     0.93493,     0.93594,\n",
       "           0.93694,     0.93794,     0.93894,     0.93994,     0.94094,     0.94194,     0.94294,     0.94394,     0.94494,     0.94595,     0.94695,     0.94795,     0.94895,     0.94995,     0.95095,     0.95195,     0.95295,     0.95395,     0.95495,     0.95596,     0.95696,     0.95796,     0.95896,     0.95996,\n",
       "           0.96096,     0.96196,     0.96296,     0.96396,     0.96496,     0.96597,     0.96697,     0.96797,     0.96897,     0.96997,     0.97097,     0.97197,     0.97297,     0.97397,     0.97497,     0.97598,     0.97698,     0.97798,     0.97898,     0.97998,     0.98098,     0.98198,     0.98298,     0.98398,\n",
       "           0.98498,     0.98599,     0.98699,     0.98799,     0.98899,     0.98999,     0.99099,     0.99199,     0.99299,     0.99399,     0.99499,       0.996,       0.997,       0.998,       0.999,           1]), array([[      0.135,       0.135,      0.1718, ...,           1,           1,           1],\n",
       "       [   0.093005,    0.093005,     0.13843, ...,           1,           1,           1],\n",
       "       [    0.10178,     0.10178,     0.13887, ...,           1,           1,           1],\n",
       "       [    0.12315,     0.12315,      0.1598, ...,           1,           1,           1]], shape=(4, 1000)), 'Confidence', 'Precision'], [array([          0,    0.001001,    0.002002,    0.003003,    0.004004,    0.005005,    0.006006,    0.007007,    0.008008,    0.009009,     0.01001,    0.011011,    0.012012,    0.013013,    0.014014,    0.015015,    0.016016,    0.017017,    0.018018,    0.019019,     0.02002,    0.021021,    0.022022,    0.023023,\n",
       "          0.024024,    0.025025,    0.026026,    0.027027,    0.028028,    0.029029,     0.03003,    0.031031,    0.032032,    0.033033,    0.034034,    0.035035,    0.036036,    0.037037,    0.038038,    0.039039,     0.04004,    0.041041,    0.042042,    0.043043,    0.044044,    0.045045,    0.046046,    0.047047,\n",
       "          0.048048,    0.049049,     0.05005,    0.051051,    0.052052,    0.053053,    0.054054,    0.055055,    0.056056,    0.057057,    0.058058,    0.059059,     0.06006,    0.061061,    0.062062,    0.063063,    0.064064,    0.065065,    0.066066,    0.067067,    0.068068,    0.069069,     0.07007,    0.071071,\n",
       "          0.072072,    0.073073,    0.074074,    0.075075,    0.076076,    0.077077,    0.078078,    0.079079,     0.08008,    0.081081,    0.082082,    0.083083,    0.084084,    0.085085,    0.086086,    0.087087,    0.088088,    0.089089,     0.09009,    0.091091,    0.092092,    0.093093,    0.094094,    0.095095,\n",
       "          0.096096,    0.097097,    0.098098,    0.099099,      0.1001,      0.1011,      0.1021,      0.1031,      0.1041,     0.10511,     0.10611,     0.10711,     0.10811,     0.10911,     0.11011,     0.11111,     0.11211,     0.11311,     0.11411,     0.11512,     0.11612,     0.11712,     0.11812,     0.11912,\n",
       "           0.12012,     0.12112,     0.12212,     0.12312,     0.12412,     0.12513,     0.12613,     0.12713,     0.12813,     0.12913,     0.13013,     0.13113,     0.13213,     0.13313,     0.13413,     0.13514,     0.13614,     0.13714,     0.13814,     0.13914,     0.14014,     0.14114,     0.14214,     0.14314,\n",
       "           0.14414,     0.14515,     0.14615,     0.14715,     0.14815,     0.14915,     0.15015,     0.15115,     0.15215,     0.15315,     0.15415,     0.15516,     0.15616,     0.15716,     0.15816,     0.15916,     0.16016,     0.16116,     0.16216,     0.16316,     0.16416,     0.16517,     0.16617,     0.16717,\n",
       "           0.16817,     0.16917,     0.17017,     0.17117,     0.17217,     0.17317,     0.17417,     0.17518,     0.17618,     0.17718,     0.17818,     0.17918,     0.18018,     0.18118,     0.18218,     0.18318,     0.18418,     0.18519,     0.18619,     0.18719,     0.18819,     0.18919,     0.19019,     0.19119,\n",
       "           0.19219,     0.19319,     0.19419,      0.1952,      0.1962,      0.1972,      0.1982,      0.1992,      0.2002,      0.2012,      0.2022,      0.2032,      0.2042,     0.20521,     0.20621,     0.20721,     0.20821,     0.20921,     0.21021,     0.21121,     0.21221,     0.21321,     0.21421,     0.21522,\n",
       "           0.21622,     0.21722,     0.21822,     0.21922,     0.22022,     0.22122,     0.22222,     0.22322,     0.22422,     0.22523,     0.22623,     0.22723,     0.22823,     0.22923,     0.23023,     0.23123,     0.23223,     0.23323,     0.23423,     0.23524,     0.23624,     0.23724,     0.23824,     0.23924,\n",
       "           0.24024,     0.24124,     0.24224,     0.24324,     0.24424,     0.24525,     0.24625,     0.24725,     0.24825,     0.24925,     0.25025,     0.25125,     0.25225,     0.25325,     0.25425,     0.25526,     0.25626,     0.25726,     0.25826,     0.25926,     0.26026,     0.26126,     0.26226,     0.26326,\n",
       "           0.26426,     0.26527,     0.26627,     0.26727,     0.26827,     0.26927,     0.27027,     0.27127,     0.27227,     0.27327,     0.27427,     0.27528,     0.27628,     0.27728,     0.27828,     0.27928,     0.28028,     0.28128,     0.28228,     0.28328,     0.28428,     0.28529,     0.28629,     0.28729,\n",
       "           0.28829,     0.28929,     0.29029,     0.29129,     0.29229,     0.29329,     0.29429,      0.2953,      0.2963,      0.2973,      0.2983,      0.2993,      0.3003,      0.3013,      0.3023,      0.3033,      0.3043,     0.30531,     0.30631,     0.30731,     0.30831,     0.30931,     0.31031,     0.31131,\n",
       "           0.31231,     0.31331,     0.31431,     0.31532,     0.31632,     0.31732,     0.31832,     0.31932,     0.32032,     0.32132,     0.32232,     0.32332,     0.32432,     0.32533,     0.32633,     0.32733,     0.32833,     0.32933,     0.33033,     0.33133,     0.33233,     0.33333,     0.33433,     0.33534,\n",
       "           0.33634,     0.33734,     0.33834,     0.33934,     0.34034,     0.34134,     0.34234,     0.34334,     0.34434,     0.34535,     0.34635,     0.34735,     0.34835,     0.34935,     0.35035,     0.35135,     0.35235,     0.35335,     0.35435,     0.35536,     0.35636,     0.35736,     0.35836,     0.35936,\n",
       "           0.36036,     0.36136,     0.36236,     0.36336,     0.36436,     0.36537,     0.36637,     0.36737,     0.36837,     0.36937,     0.37037,     0.37137,     0.37237,     0.37337,     0.37437,     0.37538,     0.37638,     0.37738,     0.37838,     0.37938,     0.38038,     0.38138,     0.38238,     0.38338,\n",
       "           0.38438,     0.38539,     0.38639,     0.38739,     0.38839,     0.38939,     0.39039,     0.39139,     0.39239,     0.39339,     0.39439,      0.3954,      0.3964,      0.3974,      0.3984,      0.3994,      0.4004,      0.4014,      0.4024,      0.4034,      0.4044,     0.40541,     0.40641,     0.40741,\n",
       "           0.40841,     0.40941,     0.41041,     0.41141,     0.41241,     0.41341,     0.41441,     0.41542,     0.41642,     0.41742,     0.41842,     0.41942,     0.42042,     0.42142,     0.42242,     0.42342,     0.42442,     0.42543,     0.42643,     0.42743,     0.42843,     0.42943,     0.43043,     0.43143,\n",
       "           0.43243,     0.43343,     0.43443,     0.43544,     0.43644,     0.43744,     0.43844,     0.43944,     0.44044,     0.44144,     0.44244,     0.44344,     0.44444,     0.44545,     0.44645,     0.44745,     0.44845,     0.44945,     0.45045,     0.45145,     0.45245,     0.45345,     0.45445,     0.45546,\n",
       "           0.45646,     0.45746,     0.45846,     0.45946,     0.46046,     0.46146,     0.46246,     0.46346,     0.46446,     0.46547,     0.46647,     0.46747,     0.46847,     0.46947,     0.47047,     0.47147,     0.47247,     0.47347,     0.47447,     0.47548,     0.47648,     0.47748,     0.47848,     0.47948,\n",
       "           0.48048,     0.48148,     0.48248,     0.48348,     0.48448,     0.48549,     0.48649,     0.48749,     0.48849,     0.48949,     0.49049,     0.49149,     0.49249,     0.49349,     0.49449,      0.4955,      0.4965,      0.4975,      0.4985,      0.4995,      0.5005,      0.5015,      0.5025,      0.5035,\n",
       "            0.5045,     0.50551,     0.50651,     0.50751,     0.50851,     0.50951,     0.51051,     0.51151,     0.51251,     0.51351,     0.51451,     0.51552,     0.51652,     0.51752,     0.51852,     0.51952,     0.52052,     0.52152,     0.52252,     0.52352,     0.52452,     0.52553,     0.52653,     0.52753,\n",
       "           0.52853,     0.52953,     0.53053,     0.53153,     0.53253,     0.53353,     0.53453,     0.53554,     0.53654,     0.53754,     0.53854,     0.53954,     0.54054,     0.54154,     0.54254,     0.54354,     0.54454,     0.54555,     0.54655,     0.54755,     0.54855,     0.54955,     0.55055,     0.55155,\n",
       "           0.55255,     0.55355,     0.55455,     0.55556,     0.55656,     0.55756,     0.55856,     0.55956,     0.56056,     0.56156,     0.56256,     0.56356,     0.56456,     0.56557,     0.56657,     0.56757,     0.56857,     0.56957,     0.57057,     0.57157,     0.57257,     0.57357,     0.57457,     0.57558,\n",
       "           0.57658,     0.57758,     0.57858,     0.57958,     0.58058,     0.58158,     0.58258,     0.58358,     0.58458,     0.58559,     0.58659,     0.58759,     0.58859,     0.58959,     0.59059,     0.59159,     0.59259,     0.59359,     0.59459,      0.5956,      0.5966,      0.5976,      0.5986,      0.5996,\n",
       "            0.6006,      0.6016,      0.6026,      0.6036,      0.6046,     0.60561,     0.60661,     0.60761,     0.60861,     0.60961,     0.61061,     0.61161,     0.61261,     0.61361,     0.61461,     0.61562,     0.61662,     0.61762,     0.61862,     0.61962,     0.62062,     0.62162,     0.62262,     0.62362,\n",
       "           0.62462,     0.62563,     0.62663,     0.62763,     0.62863,     0.62963,     0.63063,     0.63163,     0.63263,     0.63363,     0.63463,     0.63564,     0.63664,     0.63764,     0.63864,     0.63964,     0.64064,     0.64164,     0.64264,     0.64364,     0.64464,     0.64565,     0.64665,     0.64765,\n",
       "           0.64865,     0.64965,     0.65065,     0.65165,     0.65265,     0.65365,     0.65465,     0.65566,     0.65666,     0.65766,     0.65866,     0.65966,     0.66066,     0.66166,     0.66266,     0.66366,     0.66466,     0.66567,     0.66667,     0.66767,     0.66867,     0.66967,     0.67067,     0.67167,\n",
       "           0.67267,     0.67367,     0.67467,     0.67568,     0.67668,     0.67768,     0.67868,     0.67968,     0.68068,     0.68168,     0.68268,     0.68368,     0.68468,     0.68569,     0.68669,     0.68769,     0.68869,     0.68969,     0.69069,     0.69169,     0.69269,     0.69369,     0.69469,      0.6957,\n",
       "            0.6967,      0.6977,      0.6987,      0.6997,      0.7007,      0.7017,      0.7027,      0.7037,      0.7047,     0.70571,     0.70671,     0.70771,     0.70871,     0.70971,     0.71071,     0.71171,     0.71271,     0.71371,     0.71471,     0.71572,     0.71672,     0.71772,     0.71872,     0.71972,\n",
       "           0.72072,     0.72172,     0.72272,     0.72372,     0.72472,     0.72573,     0.72673,     0.72773,     0.72873,     0.72973,     0.73073,     0.73173,     0.73273,     0.73373,     0.73473,     0.73574,     0.73674,     0.73774,     0.73874,     0.73974,     0.74074,     0.74174,     0.74274,     0.74374,\n",
       "           0.74474,     0.74575,     0.74675,     0.74775,     0.74875,     0.74975,     0.75075,     0.75175,     0.75275,     0.75375,     0.75475,     0.75576,     0.75676,     0.75776,     0.75876,     0.75976,     0.76076,     0.76176,     0.76276,     0.76376,     0.76476,     0.76577,     0.76677,     0.76777,\n",
       "           0.76877,     0.76977,     0.77077,     0.77177,     0.77277,     0.77377,     0.77477,     0.77578,     0.77678,     0.77778,     0.77878,     0.77978,     0.78078,     0.78178,     0.78278,     0.78378,     0.78478,     0.78579,     0.78679,     0.78779,     0.78879,     0.78979,     0.79079,     0.79179,\n",
       "           0.79279,     0.79379,     0.79479,      0.7958,      0.7968,      0.7978,      0.7988,      0.7998,      0.8008,      0.8018,      0.8028,      0.8038,      0.8048,     0.80581,     0.80681,     0.80781,     0.80881,     0.80981,     0.81081,     0.81181,     0.81281,     0.81381,     0.81481,     0.81582,\n",
       "           0.81682,     0.81782,     0.81882,     0.81982,     0.82082,     0.82182,     0.82282,     0.82382,     0.82482,     0.82583,     0.82683,     0.82783,     0.82883,     0.82983,     0.83083,     0.83183,     0.83283,     0.83383,     0.83483,     0.83584,     0.83684,     0.83784,     0.83884,     0.83984,\n",
       "           0.84084,     0.84184,     0.84284,     0.84384,     0.84484,     0.84585,     0.84685,     0.84785,     0.84885,     0.84985,     0.85085,     0.85185,     0.85285,     0.85385,     0.85485,     0.85586,     0.85686,     0.85786,     0.85886,     0.85986,     0.86086,     0.86186,     0.86286,     0.86386,\n",
       "           0.86486,     0.86587,     0.86687,     0.86787,     0.86887,     0.86987,     0.87087,     0.87187,     0.87287,     0.87387,     0.87487,     0.87588,     0.87688,     0.87788,     0.87888,     0.87988,     0.88088,     0.88188,     0.88288,     0.88388,     0.88488,     0.88589,     0.88689,     0.88789,\n",
       "           0.88889,     0.88989,     0.89089,     0.89189,     0.89289,     0.89389,     0.89489,      0.8959,      0.8969,      0.8979,      0.8989,      0.8999,      0.9009,      0.9019,      0.9029,      0.9039,      0.9049,     0.90591,     0.90691,     0.90791,     0.90891,     0.90991,     0.91091,     0.91191,\n",
       "           0.91291,     0.91391,     0.91491,     0.91592,     0.91692,     0.91792,     0.91892,     0.91992,     0.92092,     0.92192,     0.92292,     0.92392,     0.92492,     0.92593,     0.92693,     0.92793,     0.92893,     0.92993,     0.93093,     0.93193,     0.93293,     0.93393,     0.93493,     0.93594,\n",
       "           0.93694,     0.93794,     0.93894,     0.93994,     0.94094,     0.94194,     0.94294,     0.94394,     0.94494,     0.94595,     0.94695,     0.94795,     0.94895,     0.94995,     0.95095,     0.95195,     0.95295,     0.95395,     0.95495,     0.95596,     0.95696,     0.95796,     0.95896,     0.95996,\n",
       "           0.96096,     0.96196,     0.96296,     0.96396,     0.96496,     0.96597,     0.96697,     0.96797,     0.96897,     0.96997,     0.97097,     0.97197,     0.97297,     0.97397,     0.97497,     0.97598,     0.97698,     0.97798,     0.97898,     0.97998,     0.98098,     0.98198,     0.98298,     0.98398,\n",
       "           0.98498,     0.98599,     0.98699,     0.98799,     0.98899,     0.98999,     0.99099,     0.99199,     0.99299,     0.99399,     0.99499,       0.996,       0.997,       0.998,       0.999,           1]), array([[    0.91201,     0.91201,     0.90756, ...,           0,           0,           0],\n",
       "       [    0.87681,     0.87681,     0.87681, ...,           0,           0,           0],\n",
       "       [    0.83333,     0.83333,     0.83333, ...,           0,           0,           0],\n",
       "       [    0.89813,     0.89813,     0.89619, ...,           0,           0,           0]], shape=(4, 1000)), 'Confidence', 'Recall']]\n",
       "fitness: np.float64(0.41685236200921694)\n",
       "keys: ['metrics/precision(B)', 'metrics/recall(B)', 'metrics/mAP50(B)', 'metrics/mAP50-95(B)']\n",
       "maps: array([    0.38917,     0.38877,     0.34388,     0.40225])\n",
       "names: {0: 'blue_cone', 1: 'large_orange_cone', 2: 'orange_cone', 3: 'yellow_cone'}\n",
       "plot: True\n",
       "results_dict: {'metrics/precision(B)': np.float64(0.7603269859694726), 'metrics/recall(B)': np.float64(0.6925316119892035), 'metrics/mAP50(B)': np.float64(0.7393665544344683), 'metrics/mAP50-95(B)': np.float64(0.38101745173974455), 'fitness': np.float64(0.41685236200921694)}\n",
       "save_dir: PosixPath('/home/aditya/Formula-Student-AI/runs/detect/train2')\n",
       "speed: {'preprocess': 0.1503710990186184, 'inference': 0.8503460426598978, 'loss': 0.0011926038655253508, 'postprocess': 0.6933974989806302}\n",
       "task: 'detect'"
      ]
     },
     "execution_count": 1,
     "metadata": {},
     "output_type": "execute_result"
    }
   ],
   "source": [
    "import torch\n",
    "print(torch.cuda.is_available())\n",
    "print(torch.cuda.get_device_name(0))\n",
    "\n",
    "from ultralytics import YOLO\n",
    "model = YOLO('yolov8n.pt')\n",
    "model.train(\n",
    "    data='/home/aditya/Formula-Student-AI/YOLO/data.yaml',\n",
    "    epochs=50,\n",
    "    imgsz=512,\n",
    "    batch=4,\n",
    "    workers=2,\n",
    "    device=0,\n",
    "    half=True\n",
    ")"
   ]
  },
  {
   "cell_type": "code",
   "execution_count": 9,
   "id": "4c40e3e5-eb32-4e9c-b160-3f3396468c64",
   "metadata": {},
   "outputs": [
    {
     "name": "stdout",
     "output_type": "stream",
     "text": [
      "\n",
      "image 1/1 /home/aditya/Formula-Student-AI/YOLO/Dataset/test/images/accel2_mp4-0_jpg.rf.3b27749b10cefa1619fadce676e2a3ce.jpg: 288x512 1 blue_cone, 3 large_orange_cones, 1 yellow_cone, 6.4ms\n",
      "Speed: 2.2ms preprocess, 6.4ms inference, 0.9ms postprocess per image at shape (1, 3, 288, 512)\n"
     ]
    },
    {
     "data": {
      "text/plain": [
       "'results_accel2_mp4-0_jpg.rf.3b27749b10cefa1619fadce676e2a3ce.jpg'"
      ]
     },
     "execution_count": 9,
     "metadata": {},
     "output_type": "execute_result"
    }
   ],
   "source": [
    "from ultralytics import YOLO\n",
    "\n",
    "# Load your trained model\n",
    "model = YOLO('/home/aditya/Formula-Student-AI/runs/detect/train2/weights/best.pt')\n",
    "\n",
    "# Path to the image you want to test\n",
    "image_path = '/home/aditya/Formula-Student-AI/YOLO/Dataset/test/images/accel2_mp4-0_jpg.rf.3b27749b10cefa1619fadce676e2a3ce.jpg'\n",
    "\n",
    "# Perform inference (returns a list of Results objects)\n",
    "results = model.predict(image_path)\n",
    "\n",
    "# Access the first result and display\n",
    "results[0].show()  # Show prediction\n",
    "results[0].save()  # Save prediction image to disk"
   ]
  },
  {
   "cell_type": "code",
   "execution_count": null,
   "id": "712e1f30-854e-464c-a398-a7fe9f0f9927",
   "metadata": {},
   "outputs": [
    {
     "name": "stderr",
     "output_type": "stream",
     "text": [
      "Warning: Ignoring XDG_SESSION_TYPE=wayland on Gnome. Use QT_QPA_PLATFORM=wayland to run on Wayland anyway.\n"
     ]
    },
    {
     "name": "stdout",
     "output_type": "stream",
     "text": [
      "\n",
      "WARNING ⚠️ \n",
      "inference results will accumulate in RAM unless `stream=True` is passed, causing potential out-of-memory\n",
      "errors for large sources or long-running streams and videos. See https://docs.ultralytics.com/modes/predict/ for help.\n",
      "\n",
      "Example:\n",
      "    results = model(source=..., stream=True)  # generator of Results objects\n",
      "    for r in results:\n",
      "        boxes = r.boxes  # Boxes object for bbox outputs\n",
      "        masks = r.masks  # Masks object for segment masks outputs\n",
      "        probs = r.probs  # Class probabilities for classification outputs\n",
      "\n",
      "video 1/1 (frame 1/10797) /home/aditya/Downloads/Track.mp4: 288x512 4 blue_cones, 1 large_orange_cone, 6 yellow_cones, 37.6ms\n",
      "video 1/1 (frame 2/10797) /home/aditya/Downloads/Track.mp4: 288x512 4 blue_cones, 1 large_orange_cone, 6 yellow_cones, 6.1ms\n",
      "video 1/1 (frame 3/10797) /home/aditya/Downloads/Track.mp4: 288x512 4 blue_cones, 1 large_orange_cone, 6 yellow_cones, 5.9ms\n",
      "video 1/1 (frame 4/10797) /home/aditya/Downloads/Track.mp4: 288x512 4 blue_cones, 1 large_orange_cone, 6 yellow_cones, 5.9ms\n",
      "video 1/1 (frame 5/10797) /home/aditya/Downloads/Track.mp4: 288x512 4 blue_cones, 1 large_orange_cone, 6 yellow_cones, 6.6ms\n",
      "video 1/1 (frame 6/10797) /home/aditya/Downloads/Track.mp4: 288x512 4 blue_cones, 1 large_orange_cone, 6 yellow_cones, 7.5ms\n",
      "video 1/1 (frame 7/10797) /home/aditya/Downloads/Track.mp4: 288x512 4 blue_cones, 1 large_orange_cone, 6 yellow_cones, 6.9ms\n",
      "video 1/1 (frame 8/10797) /home/aditya/Downloads/Track.mp4: 288x512 4 blue_cones, 1 large_orange_cone, 6 yellow_cones, 7.0ms\n",
      "video 1/1 (frame 9/10797) /home/aditya/Downloads/Track.mp4: 288x512 4 blue_cones, 1 large_orange_cone, 6 yellow_cones, 5.3ms\n",
      "video 1/1 (frame 10/10797) /home/aditya/Downloads/Track.mp4: 288x512 4 blue_cones, 1 large_orange_cone, 6 yellow_cones, 5.3ms\n",
      "video 1/1 (frame 11/10797) /home/aditya/Downloads/Track.mp4: 288x512 4 blue_cones, 1 large_orange_cone, 6 yellow_cones, 5.2ms\n",
      "video 1/1 (frame 12/10797) /home/aditya/Downloads/Track.mp4: 288x512 4 blue_cones, 1 large_orange_cone, 6 yellow_cones, 5.3ms\n",
      "video 1/1 (frame 13/10797) /home/aditya/Downloads/Track.mp4: 288x512 4 blue_cones, 1 large_orange_cone, 6 yellow_cones, 5.3ms\n",
      "video 1/1 (frame 14/10797) /home/aditya/Downloads/Track.mp4: 288x512 4 blue_cones, 1 large_orange_cone, 6 yellow_cones, 5.1ms\n",
      "video 1/1 (frame 15/10797) /home/aditya/Downloads/Track.mp4: 288x512 4 blue_cones, 1 large_orange_cone, 6 yellow_cones, 5.1ms\n",
      "video 1/1 (frame 16/10797) /home/aditya/Downloads/Track.mp4: 288x512 4 blue_cones, 1 large_orange_cone, 6 yellow_cones, 8.1ms\n",
      "video 1/1 (frame 17/10797) /home/aditya/Downloads/Track.mp4: 288x512 4 blue_cones, 1 large_orange_cone, 6 yellow_cones, 5.3ms\n",
      "video 1/1 (frame 18/10797) /home/aditya/Downloads/Track.mp4: 288x512 4 blue_cones, 1 large_orange_cone, 6 yellow_cones, 5.1ms\n",
      "video 1/1 (frame 19/10797) /home/aditya/Downloads/Track.mp4: 288x512 4 blue_cones, 1 large_orange_cone, 6 yellow_cones, 5.1ms\n",
      "video 1/1 (frame 20/10797) /home/aditya/Downloads/Track.mp4: 288x512 4 blue_cones, 1 large_orange_cone, 6 yellow_cones, 5.2ms\n",
      "video 1/1 (frame 21/10797) /home/aditya/Downloads/Track.mp4: 288x512 4 blue_cones, 1 large_orange_cone, 6 yellow_cones, 5.1ms\n",
      "video 1/1 (frame 22/10797) /home/aditya/Downloads/Track.mp4: 288x512 4 blue_cones, 1 large_orange_cone, 6 yellow_cones, 5.1ms\n",
      "video 1/1 (frame 23/10797) /home/aditya/Downloads/Track.mp4: 288x512 4 blue_cones, 1 large_orange_cone, 6 yellow_cones, 5.7ms\n",
      "video 1/1 (frame 24/10797) /home/aditya/Downloads/Track.mp4: 288x512 4 blue_cones, 1 large_orange_cone, 6 yellow_cones, 5.3ms\n",
      "video 1/1 (frame 25/10797) /home/aditya/Downloads/Track.mp4: 288x512 4 blue_cones, 1 large_orange_cone, 6 yellow_cones, 5.6ms\n",
      "video 1/1 (frame 26/10797) /home/aditya/Downloads/Track.mp4: 288x512 4 blue_cones, 1 large_orange_cone, 6 yellow_cones, 5.2ms\n",
      "video 1/1 (frame 27/10797) /home/aditya/Downloads/Track.mp4: 288x512 4 blue_cones, 1 large_orange_cone, 6 yellow_cones, 5.2ms\n",
      "video 1/1 (frame 28/10797) /home/aditya/Downloads/Track.mp4: 288x512 4 blue_cones, 1 large_orange_cone, 6 yellow_cones, 5.1ms\n",
      "video 1/1 (frame 29/10797) /home/aditya/Downloads/Track.mp4: 288x512 4 blue_cones, 1 large_orange_cone, 6 yellow_cones, 5.9ms\n",
      "video 1/1 (frame 30/10797) /home/aditya/Downloads/Track.mp4: 288x512 4 blue_cones, 1 large_orange_cone, 6 yellow_cones, 5.7ms\n",
      "video 1/1 (frame 31/10797) /home/aditya/Downloads/Track.mp4: 288x512 4 blue_cones, 1 large_orange_cone, 6 yellow_cones, 5.3ms\n",
      "video 1/1 (frame 32/10797) /home/aditya/Downloads/Track.mp4: 288x512 4 blue_cones, 1 large_orange_cone, 6 yellow_cones, 5.2ms\n",
      "video 1/1 (frame 33/10797) /home/aditya/Downloads/Track.mp4: 288x512 4 blue_cones, 1 large_orange_cone, 6 yellow_cones, 5.1ms\n",
      "video 1/1 (frame 34/10797) /home/aditya/Downloads/Track.mp4: 288x512 4 blue_cones, 1 large_orange_cone, 6 yellow_cones, 5.1ms\n",
      "video 1/1 (frame 35/10797) /home/aditya/Downloads/Track.mp4: 288x512 4 blue_cones, 1 large_orange_cone, 6 yellow_cones, 5.2ms\n",
      "video 1/1 (frame 36/10797) /home/aditya/Downloads/Track.mp4: 288x512 4 blue_cones, 1 large_orange_cone, 6 yellow_cones, 5.1ms\n",
      "video 1/1 (frame 37/10797) /home/aditya/Downloads/Track.mp4: 288x512 4 blue_cones, 1 large_orange_cone, 6 yellow_cones, 5.2ms\n",
      "video 1/1 (frame 38/10797) /home/aditya/Downloads/Track.mp4: 288x512 4 blue_cones, 1 large_orange_cone, 6 yellow_cones, 5.2ms\n",
      "video 1/1 (frame 39/10797) /home/aditya/Downloads/Track.mp4: 288x512 4 blue_cones, 1 large_orange_cone, 6 yellow_cones, 5.1ms\n",
      "video 1/1 (frame 40/10797) /home/aditya/Downloads/Track.mp4: 288x512 4 blue_cones, 1 large_orange_cone, 6 yellow_cones, 5.2ms\n",
      "video 1/1 (frame 41/10797) /home/aditya/Downloads/Track.mp4: 288x512 4 blue_cones, 1 large_orange_cone, 6 yellow_cones, 5.2ms\n",
      "video 1/1 (frame 42/10797) /home/aditya/Downloads/Track.mp4: 288x512 4 blue_cones, 1 large_orange_cone, 6 yellow_cones, 5.1ms\n",
      "video 1/1 (frame 43/10797) /home/aditya/Downloads/Track.mp4: 288x512 4 blue_cones, 1 large_orange_cone, 6 yellow_cones, 5.1ms\n",
      "video 1/1 (frame 44/10797) /home/aditya/Downloads/Track.mp4: 288x512 4 blue_cones, 1 large_orange_cone, 6 yellow_cones, 5.2ms\n",
      "video 1/1 (frame 45/10797) /home/aditya/Downloads/Track.mp4: 288x512 4 blue_cones, 1 large_orange_cone, 6 yellow_cones, 5.1ms\n",
      "video 1/1 (frame 46/10797) /home/aditya/Downloads/Track.mp4: 288x512 4 blue_cones, 1 large_orange_cone, 6 yellow_cones, 5.3ms\n",
      "video 1/1 (frame 47/10797) /home/aditya/Downloads/Track.mp4: 288x512 4 blue_cones, 1 large_orange_cone, 6 yellow_cones, 5.2ms\n",
      "video 1/1 (frame 48/10797) /home/aditya/Downloads/Track.mp4: 288x512 4 blue_cones, 1 large_orange_cone, 6 yellow_cones, 5.2ms\n",
      "video 1/1 (frame 49/10797) /home/aditya/Downloads/Track.mp4: 288x512 4 blue_cones, 1 large_orange_cone, 6 yellow_cones, 5.3ms\n",
      "video 1/1 (frame 50/10797) /home/aditya/Downloads/Track.mp4: 288x512 4 blue_cones, 1 large_orange_cone, 6 yellow_cones, 5.2ms\n",
      "video 1/1 (frame 51/10797) /home/aditya/Downloads/Track.mp4: 288x512 4 blue_cones, 1 large_orange_cone, 6 yellow_cones, 5.2ms\n",
      "video 1/1 (frame 52/10797) /home/aditya/Downloads/Track.mp4: 288x512 4 blue_cones, 1 large_orange_cone, 6 yellow_cones, 5.2ms\n",
      "video 1/1 (frame 53/10797) /home/aditya/Downloads/Track.mp4: 288x512 4 blue_cones, 1 large_orange_cone, 6 yellow_cones, 5.1ms\n",
      "video 1/1 (frame 54/10797) /home/aditya/Downloads/Track.mp4: 288x512 4 blue_cones, 1 large_orange_cone, 6 yellow_cones, 5.1ms\n",
      "video 1/1 (frame 55/10797) /home/aditya/Downloads/Track.mp4: 288x512 4 blue_cones, 1 large_orange_cone, 6 yellow_cones, 5.3ms\n",
      "video 1/1 (frame 56/10797) /home/aditya/Downloads/Track.mp4: 288x512 4 blue_cones, 1 large_orange_cone, 6 yellow_cones, 5.3ms\n",
      "video 1/1 (frame 57/10797) /home/aditya/Downloads/Track.mp4: 288x512 4 blue_cones, 1 large_orange_cone, 6 yellow_cones, 5.6ms\n",
      "video 1/1 (frame 58/10797) /home/aditya/Downloads/Track.mp4: 288x512 4 blue_cones, 1 large_orange_cone, 6 yellow_cones, 5.3ms\n",
      "video 1/1 (frame 59/10797) /home/aditya/Downloads/Track.mp4: 288x512 4 blue_cones, 1 large_orange_cone, 6 yellow_cones, 5.2ms\n",
      "video 1/1 (frame 60/10797) /home/aditya/Downloads/Track.mp4: 288x512 4 blue_cones, 1 large_orange_cone, 6 yellow_cones, 5.3ms\n",
      "video 1/1 (frame 61/10797) /home/aditya/Downloads/Track.mp4: 288x512 4 blue_cones, 1 large_orange_cone, 6 yellow_cones, 5.3ms\n",
      "video 1/1 (frame 62/10797) /home/aditya/Downloads/Track.mp4: 288x512 4 blue_cones, 1 large_orange_cone, 6 yellow_cones, 5.1ms\n",
      "video 1/1 (frame 63/10797) /home/aditya/Downloads/Track.mp4: 288x512 4 blue_cones, 1 large_orange_cone, 6 yellow_cones, 5.2ms\n",
      "video 1/1 (frame 64/10797) /home/aditya/Downloads/Track.mp4: 288x512 4 blue_cones, 1 large_orange_cone, 6 yellow_cones, 5.2ms\n",
      "video 1/1 (frame 65/10797) /home/aditya/Downloads/Track.mp4: 288x512 4 blue_cones, 1 large_orange_cone, 6 yellow_cones, 5.2ms\n",
      "video 1/1 (frame 66/10797) /home/aditya/Downloads/Track.mp4: 288x512 4 blue_cones, 1 large_orange_cone, 6 yellow_cones, 5.3ms\n",
      "video 1/1 (frame 67/10797) /home/aditya/Downloads/Track.mp4: 288x512 4 blue_cones, 1 large_orange_cone, 6 yellow_cones, 5.3ms\n",
      "video 1/1 (frame 68/10797) /home/aditya/Downloads/Track.mp4: 288x512 4 blue_cones, 1 large_orange_cone, 6 yellow_cones, 5.2ms\n",
      "video 1/1 (frame 69/10797) /home/aditya/Downloads/Track.mp4: 288x512 4 blue_cones, 1 large_orange_cone, 6 yellow_cones, 5.1ms\n",
      "video 1/1 (frame 70/10797) /home/aditya/Downloads/Track.mp4: 288x512 4 blue_cones, 1 large_orange_cone, 6 yellow_cones, 5.3ms\n",
      "video 1/1 (frame 71/10797) /home/aditya/Downloads/Track.mp4: 288x512 4 blue_cones, 1 large_orange_cone, 6 yellow_cones, 5.3ms\n",
      "video 1/1 (frame 72/10797) /home/aditya/Downloads/Track.mp4: 288x512 4 blue_cones, 1 large_orange_cone, 6 yellow_cones, 5.2ms\n",
      "video 1/1 (frame 73/10797) /home/aditya/Downloads/Track.mp4: 288x512 4 blue_cones, 1 large_orange_cone, 6 yellow_cones, 5.2ms\n",
      "video 1/1 (frame 74/10797) /home/aditya/Downloads/Track.mp4: 288x512 4 blue_cones, 1 large_orange_cone, 6 yellow_cones, 5.2ms\n",
      "video 1/1 (frame 75/10797) /home/aditya/Downloads/Track.mp4: 288x512 4 blue_cones, 1 large_orange_cone, 6 yellow_cones, 5.2ms\n",
      "video 1/1 (frame 76/10797) /home/aditya/Downloads/Track.mp4: 288x512 4 blue_cones, 1 large_orange_cone, 6 yellow_cones, 5.4ms\n",
      "video 1/1 (frame 77/10797) /home/aditya/Downloads/Track.mp4: 288x512 4 blue_cones, 1 large_orange_cone, 6 yellow_cones, 5.2ms\n",
      "video 1/1 (frame 78/10797) /home/aditya/Downloads/Track.mp4: 288x512 4 blue_cones, 1 large_orange_cone, 6 yellow_cones, 5.3ms\n",
      "video 1/1 (frame 79/10797) /home/aditya/Downloads/Track.mp4: 288x512 4 blue_cones, 1 large_orange_cone, 6 yellow_cones, 5.3ms\n",
      "video 1/1 (frame 80/10797) /home/aditya/Downloads/Track.mp4: 288x512 4 blue_cones, 1 large_orange_cone, 6 yellow_cones, 5.3ms\n",
      "video 1/1 (frame 81/10797) /home/aditya/Downloads/Track.mp4: 288x512 4 blue_cones, 1 large_orange_cone, 6 yellow_cones, 5.2ms\n",
      "video 1/1 (frame 82/10797) /home/aditya/Downloads/Track.mp4: 288x512 4 blue_cones, 1 large_orange_cone, 6 yellow_cones, 5.2ms\n",
      "video 1/1 (frame 83/10797) /home/aditya/Downloads/Track.mp4: 288x512 4 blue_cones, 1 large_orange_cone, 6 yellow_cones, 5.3ms\n",
      "video 1/1 (frame 84/10797) /home/aditya/Downloads/Track.mp4: 288x512 4 blue_cones, 1 large_orange_cone, 6 yellow_cones, 5.2ms\n",
      "video 1/1 (frame 85/10797) /home/aditya/Downloads/Track.mp4: 288x512 4 blue_cones, 1 large_orange_cone, 6 yellow_cones, 5.3ms\n",
      "video 1/1 (frame 86/10797) /home/aditya/Downloads/Track.mp4: 288x512 4 blue_cones, 1 large_orange_cone, 6 yellow_cones, 5.1ms\n",
      "video 1/1 (frame 87/10797) /home/aditya/Downloads/Track.mp4: 288x512 4 blue_cones, 1 large_orange_cone, 6 yellow_cones, 5.3ms\n",
      "video 1/1 (frame 88/10797) /home/aditya/Downloads/Track.mp4: 288x512 4 blue_cones, 1 large_orange_cone, 6 yellow_cones, 5.0ms\n",
      "video 1/1 (frame 89/10797) /home/aditya/Downloads/Track.mp4: 288x512 4 blue_cones, 1 large_orange_cone, 6 yellow_cones, 5.1ms\n",
      "video 1/1 (frame 90/10797) /home/aditya/Downloads/Track.mp4: 288x512 4 blue_cones, 1 large_orange_cone, 6 yellow_cones, 5.2ms\n",
      "video 1/1 (frame 91/10797) /home/aditya/Downloads/Track.mp4: 288x512 4 blue_cones, 1 large_orange_cone, 6 yellow_cones, 5.3ms\n",
      "video 1/1 (frame 92/10797) /home/aditya/Downloads/Track.mp4: 288x512 4 blue_cones, 1 large_orange_cone, 6 yellow_cones, 5.1ms\n",
      "video 1/1 (frame 93/10797) /home/aditya/Downloads/Track.mp4: 288x512 4 blue_cones, 1 large_orange_cone, 6 yellow_cones, 5.2ms\n",
      "video 1/1 (frame 94/10797) /home/aditya/Downloads/Track.mp4: 288x512 4 blue_cones, 1 large_orange_cone, 6 yellow_cones, 6.8ms\n",
      "video 1/1 (frame 95/10797) /home/aditya/Downloads/Track.mp4: 288x512 4 blue_cones, 1 large_orange_cone, 6 yellow_cones, 5.2ms\n",
      "video 1/1 (frame 96/10797) /home/aditya/Downloads/Track.mp4: 288x512 4 blue_cones, 1 large_orange_cone, 6 yellow_cones, 5.2ms\n",
      "video 1/1 (frame 97/10797) /home/aditya/Downloads/Track.mp4: 288x512 4 blue_cones, 1 large_orange_cone, 6 yellow_cones, 5.3ms\n",
      "video 1/1 (frame 98/10797) /home/aditya/Downloads/Track.mp4: 288x512 4 blue_cones, 1 large_orange_cone, 6 yellow_cones, 5.1ms\n",
      "video 1/1 (frame 99/10797) /home/aditya/Downloads/Track.mp4: 288x512 4 blue_cones, 1 large_orange_cone, 6 yellow_cones, 5.3ms\n",
      "video 1/1 (frame 100/10797) /home/aditya/Downloads/Track.mp4: 288x512 4 blue_cones, 1 large_orange_cone, 6 yellow_cones, 5.3ms\n",
      "video 1/1 (frame 101/10797) /home/aditya/Downloads/Track.mp4: 288x512 4 blue_cones, 1 large_orange_cone, 6 yellow_cones, 5.2ms\n",
      "video 1/1 (frame 102/10797) /home/aditya/Downloads/Track.mp4: 288x512 4 blue_cones, 1 large_orange_cone, 6 yellow_cones, 5.4ms\n",
      "video 1/1 (frame 103/10797) /home/aditya/Downloads/Track.mp4: 288x512 4 blue_cones, 1 large_orange_cone, 6 yellow_cones, 5.3ms\n",
      "video 1/1 (frame 104/10797) /home/aditya/Downloads/Track.mp4: 288x512 4 blue_cones, 1 large_orange_cone, 6 yellow_cones, 5.4ms\n",
      "video 1/1 (frame 105/10797) /home/aditya/Downloads/Track.mp4: 288x512 4 blue_cones, 1 large_orange_cone, 6 yellow_cones, 5.3ms\n",
      "video 1/1 (frame 106/10797) /home/aditya/Downloads/Track.mp4: 288x512 4 blue_cones, 1 large_orange_cone, 6 yellow_cones, 5.3ms\n",
      "video 1/1 (frame 107/10797) /home/aditya/Downloads/Track.mp4: 288x512 4 blue_cones, 1 large_orange_cone, 6 yellow_cones, 5.5ms\n",
      "video 1/1 (frame 108/10797) /home/aditya/Downloads/Track.mp4: 288x512 4 blue_cones, 1 large_orange_cone, 6 yellow_cones, 5.2ms\n",
      "video 1/1 (frame 109/10797) /home/aditya/Downloads/Track.mp4: 288x512 4 blue_cones, 1 large_orange_cone, 6 yellow_cones, 5.3ms\n",
      "video 1/1 (frame 110/10797) /home/aditya/Downloads/Track.mp4: 288x512 4 blue_cones, 1 large_orange_cone, 6 yellow_cones, 5.5ms\n",
      "video 1/1 (frame 111/10797) /home/aditya/Downloads/Track.mp4: 288x512 4 blue_cones, 1 large_orange_cone, 6 yellow_cones, 5.3ms\n",
      "video 1/1 (frame 112/10797) /home/aditya/Downloads/Track.mp4: 288x512 4 blue_cones, 1 large_orange_cone, 7 yellow_cones, 5.2ms\n",
      "video 1/1 (frame 113/10797) /home/aditya/Downloads/Track.mp4: 288x512 4 blue_cones, 1 large_orange_cone, 7 yellow_cones, 5.2ms\n",
      "video 1/1 (frame 114/10797) /home/aditya/Downloads/Track.mp4: 288x512 4 blue_cones, 1 large_orange_cone, 7 yellow_cones, 5.2ms\n",
      "video 1/1 (frame 115/10797) /home/aditya/Downloads/Track.mp4: 288x512 4 blue_cones, 1 large_orange_cone, 6 yellow_cones, 5.1ms\n",
      "video 1/1 (frame 116/10797) /home/aditya/Downloads/Track.mp4: 288x512 4 blue_cones, 1 large_orange_cone, 6 yellow_cones, 5.0ms\n",
      "video 1/1 (frame 117/10797) /home/aditya/Downloads/Track.mp4: 288x512 4 blue_cones, 1 large_orange_cone, 6 yellow_cones, 5.2ms\n",
      "video 1/1 (frame 118/10797) /home/aditya/Downloads/Track.mp4: 288x512 4 blue_cones, 1 large_orange_cone, 6 yellow_cones, 6.8ms\n",
      "video 1/1 (frame 119/10797) /home/aditya/Downloads/Track.mp4: 288x512 4 blue_cones, 1 large_orange_cone, 5 yellow_cones, 5.2ms\n",
      "video 1/1 (frame 120/10797) /home/aditya/Downloads/Track.mp4: 288x512 4 blue_cones, 1 large_orange_cone, 5 yellow_cones, 5.2ms\n",
      "video 1/1 (frame 121/10797) /home/aditya/Downloads/Track.mp4: 288x512 4 blue_cones, 1 large_orange_cone, 5 yellow_cones, 6.9ms\n",
      "video 1/1 (frame 122/10797) /home/aditya/Downloads/Track.mp4: 288x512 4 blue_cones, 1 large_orange_cone, 6 yellow_cones, 5.3ms\n",
      "video 1/1 (frame 123/10797) /home/aditya/Downloads/Track.mp4: 288x512 4 blue_cones, 1 large_orange_cone, 6 yellow_cones, 5.3ms\n",
      "video 1/1 (frame 124/10797) /home/aditya/Downloads/Track.mp4: 288x512 4 blue_cones, 1 large_orange_cone, 6 yellow_cones, 5.4ms\n",
      "video 1/1 (frame 125/10797) /home/aditya/Downloads/Track.mp4: 288x512 5 blue_cones, 1 large_orange_cone, 5 yellow_cones, 5.1ms\n",
      "video 1/1 (frame 126/10797) /home/aditya/Downloads/Track.mp4: 288x512 5 blue_cones, 1 large_orange_cone, 5 yellow_cones, 5.2ms\n",
      "video 1/1 (frame 127/10797) /home/aditya/Downloads/Track.mp4: 288x512 5 blue_cones, 1 large_orange_cone, 5 yellow_cones, 5.2ms\n",
      "video 1/1 (frame 128/10797) /home/aditya/Downloads/Track.mp4: 288x512 5 blue_cones, 1 large_orange_cone, 5 yellow_cones, 5.3ms\n",
      "video 1/1 (frame 129/10797) /home/aditya/Downloads/Track.mp4: 288x512 5 blue_cones, 1 large_orange_cone, 5 yellow_cones, 5.2ms\n",
      "video 1/1 (frame 130/10797) /home/aditya/Downloads/Track.mp4: 288x512 5 blue_cones, 1 large_orange_cone, 5 yellow_cones, 5.6ms\n",
      "video 1/1 (frame 131/10797) /home/aditya/Downloads/Track.mp4: 288x512 5 blue_cones, 1 large_orange_cone, 5 yellow_cones, 5.2ms\n",
      "video 1/1 (frame 132/10797) /home/aditya/Downloads/Track.mp4: 288x512 6 blue_cones, 1 large_orange_cone, 5 yellow_cones, 5.1ms\n",
      "video 1/1 (frame 133/10797) /home/aditya/Downloads/Track.mp4: 288x512 5 blue_cones, 1 large_orange_cone, 5 yellow_cones, 5.2ms\n",
      "video 1/1 (frame 134/10797) /home/aditya/Downloads/Track.mp4: 288x512 5 blue_cones, 1 large_orange_cone, 5 yellow_cones, 5.0ms\n",
      "video 1/1 (frame 135/10797) /home/aditya/Downloads/Track.mp4: 288x512 5 blue_cones, 1 large_orange_cone, 5 yellow_cones, 5.2ms\n",
      "video 1/1 (frame 136/10797) /home/aditya/Downloads/Track.mp4: 288x512 5 blue_cones, 1 large_orange_cone, 5 yellow_cones, 6.6ms\n",
      "video 1/1 (frame 137/10797) /home/aditya/Downloads/Track.mp4: 288x512 5 blue_cones, 1 large_orange_cone, 5 yellow_cones, 5.0ms\n",
      "video 1/1 (frame 138/10797) /home/aditya/Downloads/Track.mp4: 288x512 5 blue_cones, 1 large_orange_cone, 6 yellow_cones, 6.5ms\n",
      "video 1/1 (frame 139/10797) /home/aditya/Downloads/Track.mp4: 288x512 5 blue_cones, 1 large_orange_cone, 6 yellow_cones, 5.1ms\n",
      "video 1/1 (frame 140/10797) /home/aditya/Downloads/Track.mp4: 288x512 5 blue_cones, 1 large_orange_cone, 6 yellow_cones, 5.0ms\n",
      "video 1/1 (frame 141/10797) /home/aditya/Downloads/Track.mp4: 288x512 5 blue_cones, 1 large_orange_cone, 6 yellow_cones, 5.3ms\n",
      "video 1/1 (frame 142/10797) /home/aditya/Downloads/Track.mp4: 288x512 5 blue_cones, 1 large_orange_cone, 6 yellow_cones, 5.3ms\n",
      "video 1/1 (frame 143/10797) /home/aditya/Downloads/Track.mp4: 288x512 5 blue_cones, 1 large_orange_cone, 7 yellow_cones, 5.1ms\n",
      "video 1/1 (frame 144/10797) /home/aditya/Downloads/Track.mp4: 288x512 6 blue_cones, 1 large_orange_cone, 7 yellow_cones, 5.1ms\n",
      "video 1/1 (frame 145/10797) /home/aditya/Downloads/Track.mp4: 288x512 5 blue_cones, 1 large_orange_cone, 7 yellow_cones, 5.2ms\n",
      "video 1/1 (frame 146/10797) /home/aditya/Downloads/Track.mp4: 288x512 5 blue_cones, 1 large_orange_cone, 6 yellow_cones, 5.2ms\n",
      "video 1/1 (frame 147/10797) /home/aditya/Downloads/Track.mp4: 288x512 5 blue_cones, 1 large_orange_cone, 6 yellow_cones, 5.2ms\n",
      "video 1/1 (frame 148/10797) /home/aditya/Downloads/Track.mp4: 288x512 5 blue_cones, 1 large_orange_cone, 6 yellow_cones, 5.3ms\n",
      "video 1/1 (frame 149/10797) /home/aditya/Downloads/Track.mp4: 288x512 5 blue_cones, 1 large_orange_cone, 6 yellow_cones, 5.2ms\n",
      "video 1/1 (frame 150/10797) /home/aditya/Downloads/Track.mp4: 288x512 5 blue_cones, 1 large_orange_cone, 6 yellow_cones, 5.2ms\n",
      "video 1/1 (frame 151/10797) /home/aditya/Downloads/Track.mp4: 288x512 5 blue_cones, 1 large_orange_cone, 6 yellow_cones, 5.3ms\n",
      "video 1/1 (frame 152/10797) /home/aditya/Downloads/Track.mp4: 288x512 6 blue_cones, 1 large_orange_cone, 6 yellow_cones, 5.3ms\n",
      "video 1/1 (frame 153/10797) /home/aditya/Downloads/Track.mp4: 288x512 5 blue_cones, 1 large_orange_cone, 6 yellow_cones, 5.1ms\n",
      "video 1/1 (frame 154/10797) /home/aditya/Downloads/Track.mp4: 288x512 5 blue_cones, 1 large_orange_cone, 7 yellow_cones, 5.2ms\n",
      "video 1/1 (frame 155/10797) /home/aditya/Downloads/Track.mp4: 288x512 5 blue_cones, 1 large_orange_cone, 7 yellow_cones, 6.8ms\n",
      "video 1/1 (frame 156/10797) /home/aditya/Downloads/Track.mp4: 288x512 5 blue_cones, 1 large_orange_cone, 7 yellow_cones, 5.1ms\n",
      "video 1/1 (frame 157/10797) /home/aditya/Downloads/Track.mp4: 288x512 5 blue_cones, 1 large_orange_cone, 7 yellow_cones, 5.1ms\n",
      "video 1/1 (frame 158/10797) /home/aditya/Downloads/Track.mp4: 288x512 5 blue_cones, 1 large_orange_cone, 6 yellow_cones, 5.2ms\n",
      "video 1/1 (frame 159/10797) /home/aditya/Downloads/Track.mp4: 288x512 5 blue_cones, 1 large_orange_cone, 7 yellow_cones, 5.2ms\n",
      "video 1/1 (frame 160/10797) /home/aditya/Downloads/Track.mp4: 288x512 5 blue_cones, 1 large_orange_cone, 7 yellow_cones, 5.4ms\n",
      "video 1/1 (frame 161/10797) /home/aditya/Downloads/Track.mp4: 288x512 5 blue_cones, 1 large_orange_cone, 7 yellow_cones, 5.2ms\n",
      "video 1/1 (frame 162/10797) /home/aditya/Downloads/Track.mp4: 288x512 5 blue_cones, 1 large_orange_cone, 7 yellow_cones, 5.2ms\n",
      "video 1/1 (frame 163/10797) /home/aditya/Downloads/Track.mp4: 288x512 5 blue_cones, 1 large_orange_cone, 5 yellow_cones, 5.2ms\n",
      "video 1/1 (frame 164/10797) /home/aditya/Downloads/Track.mp4: 288x512 5 blue_cones, 1 large_orange_cone, 5 yellow_cones, 5.2ms\n",
      "video 1/1 (frame 165/10797) /home/aditya/Downloads/Track.mp4: 288x512 5 blue_cones, 1 large_orange_cone, 5 yellow_cones, 5.2ms\n",
      "video 1/1 (frame 166/10797) /home/aditya/Downloads/Track.mp4: 288x512 5 blue_cones, 1 large_orange_cone, 6 yellow_cones, 5.1ms\n",
      "video 1/1 (frame 167/10797) /home/aditya/Downloads/Track.mp4: 288x512 5 blue_cones, 1 large_orange_cone, 6 yellow_cones, 5.4ms\n",
      "video 1/1 (frame 168/10797) /home/aditya/Downloads/Track.mp4: 288x512 5 blue_cones, 1 large_orange_cone, 6 yellow_cones, 5.5ms\n",
      "video 1/1 (frame 169/10797) /home/aditya/Downloads/Track.mp4: 288x512 5 blue_cones, 1 large_orange_cone, 6 yellow_cones, 5.2ms\n",
      "video 1/1 (frame 170/10797) /home/aditya/Downloads/Track.mp4: 288x512 5 blue_cones, 1 large_orange_cone, 6 yellow_cones, 6.3ms\n",
      "video 1/1 (frame 171/10797) /home/aditya/Downloads/Track.mp4: 288x512 5 blue_cones, 1 large_orange_cone, 6 yellow_cones, 5.0ms\n",
      "video 1/1 (frame 172/10797) /home/aditya/Downloads/Track.mp4: 288x512 5 blue_cones, 1 large_orange_cone, 6 yellow_cones, 5.5ms\n",
      "video 1/1 (frame 173/10797) /home/aditya/Downloads/Track.mp4: 288x512 5 blue_cones, 1 large_orange_cone, 6 yellow_cones, 5.5ms\n",
      "video 1/1 (frame 174/10797) /home/aditya/Downloads/Track.mp4: 288x512 5 blue_cones, 1 large_orange_cone, 7 yellow_cones, 5.5ms\n",
      "video 1/1 (frame 175/10797) /home/aditya/Downloads/Track.mp4: 288x512 5 blue_cones, 1 large_orange_cone, 7 yellow_cones, 5.3ms\n",
      "video 1/1 (frame 176/10797) /home/aditya/Downloads/Track.mp4: 288x512 5 blue_cones, 1 large_orange_cone, 5 yellow_cones, 6.7ms\n",
      "video 1/1 (frame 177/10797) /home/aditya/Downloads/Track.mp4: 288x512 5 blue_cones, 1 large_orange_cone, 5 yellow_cones, 5.4ms\n",
      "video 1/1 (frame 178/10797) /home/aditya/Downloads/Track.mp4: 288x512 5 blue_cones, 1 large_orange_cone, 5 yellow_cones, 5.4ms\n",
      "video 1/1 (frame 179/10797) /home/aditya/Downloads/Track.mp4: 288x512 5 blue_cones, 1 large_orange_cone, 5 yellow_cones, 5.3ms\n",
      "video 1/1 (frame 180/10797) /home/aditya/Downloads/Track.mp4: 288x512 2 blue_cones, 6 yellow_cones, 5.4ms\n",
      "video 1/1 (frame 181/10797) /home/aditya/Downloads/Track.mp4: 288x512 2 blue_cones, 6 yellow_cones, 5.3ms\n",
      "video 1/1 (frame 182/10797) /home/aditya/Downloads/Track.mp4: 288x512 2 blue_cones, 6 yellow_cones, 5.1ms\n",
      "video 1/1 (frame 183/10797) /home/aditya/Downloads/Track.mp4: 288x512 2 blue_cones, 6 yellow_cones, 5.2ms\n",
      "video 1/1 (frame 184/10797) /home/aditya/Downloads/Track.mp4: 288x512 2 blue_cones, 5 yellow_cones, 6.8ms\n",
      "video 1/1 (frame 185/10797) /home/aditya/Downloads/Track.mp4: 288x512 2 blue_cones, 5 yellow_cones, 5.1ms\n",
      "video 1/1 (frame 186/10797) /home/aditya/Downloads/Track.mp4: 288x512 2 blue_cones, 6 yellow_cones, 5.2ms\n",
      "video 1/1 (frame 187/10797) /home/aditya/Downloads/Track.mp4: 288x512 2 blue_cones, 6 yellow_cones, 5.3ms\n",
      "video 1/1 (frame 188/10797) /home/aditya/Downloads/Track.mp4: 288x512 2 blue_cones, 6 yellow_cones, 5.3ms\n",
      "video 1/1 (frame 189/10797) /home/aditya/Downloads/Track.mp4: 288x512 2 blue_cones, 6 yellow_cones, 6.7ms\n",
      "video 1/1 (frame 190/10797) /home/aditya/Downloads/Track.mp4: 288x512 2 blue_cones, 5 yellow_cones, 5.2ms\n",
      "video 1/1 (frame 191/10797) /home/aditya/Downloads/Track.mp4: 288x512 2 blue_cones, 5 yellow_cones, 5.2ms\n",
      "video 1/1 (frame 192/10797) /home/aditya/Downloads/Track.mp4: 288x512 2 blue_cones, 5 yellow_cones, 5.2ms\n",
      "video 1/1 (frame 193/10797) /home/aditya/Downloads/Track.mp4: 288x512 2 blue_cones, 5 yellow_cones, 5.1ms\n",
      "video 1/1 (frame 194/10797) /home/aditya/Downloads/Track.mp4: 288x512 2 blue_cones, 5 yellow_cones, 5.1ms\n",
      "video 1/1 (frame 195/10797) /home/aditya/Downloads/Track.mp4: 288x512 2 blue_cones, 5 yellow_cones, 5.2ms\n",
      "video 1/1 (frame 196/10797) /home/aditya/Downloads/Track.mp4: 288x512 2 blue_cones, 5 yellow_cones, 5.2ms\n",
      "video 1/1 (frame 197/10797) /home/aditya/Downloads/Track.mp4: 288x512 2 blue_cones, 5 yellow_cones, 5.2ms\n",
      "video 1/1 (frame 198/10797) /home/aditya/Downloads/Track.mp4: 288x512 2 blue_cones, 5 yellow_cones, 5.1ms\n",
      "video 1/1 (frame 199/10797) /home/aditya/Downloads/Track.mp4: 288x512 2 blue_cones, 5 yellow_cones, 5.2ms\n",
      "video 1/1 (frame 200/10797) /home/aditya/Downloads/Track.mp4: 288x512 2 blue_cones, 5 yellow_cones, 5.2ms\n",
      "video 1/1 (frame 201/10797) /home/aditya/Downloads/Track.mp4: 288x512 2 blue_cones, 5 yellow_cones, 5.0ms\n",
      "video 1/1 (frame 202/10797) /home/aditya/Downloads/Track.mp4: 288x512 2 blue_cones, 5 yellow_cones, 5.4ms\n",
      "video 1/1 (frame 203/10797) /home/aditya/Downloads/Track.mp4: 288x512 2 blue_cones, 5 yellow_cones, 5.0ms\n",
      "video 1/1 (frame 204/10797) /home/aditya/Downloads/Track.mp4: 288x512 2 blue_cones, 5 yellow_cones, 5.0ms\n",
      "video 1/1 (frame 205/10797) /home/aditya/Downloads/Track.mp4: 288x512 2 blue_cones, 5 yellow_cones, 7.0ms\n",
      "video 1/1 (frame 206/10797) /home/aditya/Downloads/Track.mp4: 288x512 2 blue_cones, 5 yellow_cones, 5.3ms\n",
      "video 1/1 (frame 207/10797) /home/aditya/Downloads/Track.mp4: 288x512 2 blue_cones, 5 yellow_cones, 5.4ms\n",
      "video 1/1 (frame 208/10797) /home/aditya/Downloads/Track.mp4: 288x512 2 blue_cones, 5 yellow_cones, 5.8ms\n",
      "video 1/1 (frame 209/10797) /home/aditya/Downloads/Track.mp4: 288x512 2 blue_cones, 5 yellow_cones, 5.2ms\n",
      "video 1/1 (frame 210/10797) /home/aditya/Downloads/Track.mp4: 288x512 2 blue_cones, 5 yellow_cones, 5.1ms\n",
      "video 1/1 (frame 211/10797) /home/aditya/Downloads/Track.mp4: 288x512 2 blue_cones, 5 yellow_cones, 5.1ms\n",
      "video 1/1 (frame 212/10797) /home/aditya/Downloads/Track.mp4: 288x512 2 blue_cones, 5 yellow_cones, 5.2ms\n",
      "video 1/1 (frame 213/10797) /home/aditya/Downloads/Track.mp4: 288x512 2 blue_cones, 5 yellow_cones, 6.8ms\n",
      "video 1/1 (frame 214/10797) /home/aditya/Downloads/Track.mp4: 288x512 2 blue_cones, 5 yellow_cones, 6.7ms\n",
      "video 1/1 (frame 215/10797) /home/aditya/Downloads/Track.mp4: 288x512 2 blue_cones, 5 yellow_cones, 6.8ms\n",
      "video 1/1 (frame 216/10797) /home/aditya/Downloads/Track.mp4: 288x512 2 blue_cones, 5 yellow_cones, 5.1ms\n",
      "video 1/1 (frame 217/10797) /home/aditya/Downloads/Track.mp4: 288x512 2 blue_cones, 5 yellow_cones, 6.6ms\n",
      "video 1/1 (frame 218/10797) /home/aditya/Downloads/Track.mp4: 288x512 2 blue_cones, 5 yellow_cones, 5.1ms\n",
      "video 1/1 (frame 219/10797) /home/aditya/Downloads/Track.mp4: 288x512 2 blue_cones, 5 yellow_cones, 6.4ms\n",
      "video 1/1 (frame 220/10797) /home/aditya/Downloads/Track.mp4: 288x512 2 blue_cones, 5 yellow_cones, 6.8ms\n",
      "video 1/1 (frame 221/10797) /home/aditya/Downloads/Track.mp4: 288x512 2 blue_cones, 5 yellow_cones, 5.5ms\n",
      "video 1/1 (frame 222/10797) /home/aditya/Downloads/Track.mp4: 288x512 2 blue_cones, 5 yellow_cones, 5.0ms\n",
      "video 1/1 (frame 223/10797) /home/aditya/Downloads/Track.mp4: 288x512 2 blue_cones, 5 yellow_cones, 7.0ms\n",
      "video 1/1 (frame 224/10797) /home/aditya/Downloads/Track.mp4: 288x512 2 blue_cones, 5 yellow_cones, 5.6ms\n",
      "video 1/1 (frame 225/10797) /home/aditya/Downloads/Track.mp4: 288x512 2 blue_cones, 5 yellow_cones, 6.5ms\n",
      "video 1/1 (frame 226/10797) /home/aditya/Downloads/Track.mp4: 288x512 2 blue_cones, 5 yellow_cones, 6.8ms\n",
      "video 1/1 (frame 227/10797) /home/aditya/Downloads/Track.mp4: 288x512 2 blue_cones, 5 yellow_cones, 6.6ms\n",
      "video 1/1 (frame 228/10797) /home/aditya/Downloads/Track.mp4: 288x512 2 blue_cones, 5 yellow_cones, 5.5ms\n",
      "video 1/1 (frame 229/10797) /home/aditya/Downloads/Track.mp4: 288x512 2 blue_cones, 5 yellow_cones, 5.2ms\n",
      "video 1/1 (frame 230/10797) /home/aditya/Downloads/Track.mp4: 288x512 2 blue_cones, 5 yellow_cones, 5.0ms\n",
      "video 1/1 (frame 231/10797) /home/aditya/Downloads/Track.mp4: 288x512 2 blue_cones, 5 yellow_cones, 5.2ms\n",
      "video 1/1 (frame 232/10797) /home/aditya/Downloads/Track.mp4: 288x512 2 blue_cones, 5 yellow_cones, 6.6ms\n",
      "video 1/1 (frame 233/10797) /home/aditya/Downloads/Track.mp4: 288x512 2 blue_cones, 5 yellow_cones, 5.3ms\n",
      "video 1/1 (frame 234/10797) /home/aditya/Downloads/Track.mp4: 288x512 2 blue_cones, 5 yellow_cones, 6.6ms\n",
      "video 1/1 (frame 235/10797) /home/aditya/Downloads/Track.mp4: 288x512 2 blue_cones, 5 yellow_cones, 6.6ms\n",
      "video 1/1 (frame 236/10797) /home/aditya/Downloads/Track.mp4: 288x512 2 blue_cones, 5 yellow_cones, 6.6ms\n",
      "video 1/1 (frame 237/10797) /home/aditya/Downloads/Track.mp4: 288x512 2 blue_cones, 5 yellow_cones, 6.6ms\n",
      "video 1/1 (frame 238/10797) /home/aditya/Downloads/Track.mp4: 288x512 2 blue_cones, 5 yellow_cones, 6.5ms\n",
      "video 1/1 (frame 239/10797) /home/aditya/Downloads/Track.mp4: 288x512 2 blue_cones, 5 yellow_cones, 5.4ms\n",
      "video 1/1 (frame 240/10797) /home/aditya/Downloads/Track.mp4: 288x512 2 blue_cones, 5 yellow_cones, 6.6ms\n",
      "video 1/1 (frame 241/10797) /home/aditya/Downloads/Track.mp4: 288x512 2 blue_cones, 5 yellow_cones, 6.7ms\n",
      "video 1/1 (frame 242/10797) /home/aditya/Downloads/Track.mp4: 288x512 2 blue_cones, 5 yellow_cones, 5.2ms\n",
      "video 1/1 (frame 243/10797) /home/aditya/Downloads/Track.mp4: 288x512 2 blue_cones, 5 yellow_cones, 6.7ms\n",
      "video 1/1 (frame 244/10797) /home/aditya/Downloads/Track.mp4: 288x512 2 blue_cones, 5 yellow_cones, 6.7ms\n",
      "video 1/1 (frame 245/10797) /home/aditya/Downloads/Track.mp4: 288x512 2 blue_cones, 5 yellow_cones, 6.7ms\n",
      "video 1/1 (frame 246/10797) /home/aditya/Downloads/Track.mp4: 288x512 2 blue_cones, 5 yellow_cones, 7.3ms\n",
      "video 1/1 (frame 247/10797) /home/aditya/Downloads/Track.mp4: 288x512 2 blue_cones, 5 yellow_cones, 6.7ms\n",
      "video 1/1 (frame 248/10797) /home/aditya/Downloads/Track.mp4: 288x512 2 blue_cones, 5 yellow_cones, 6.8ms\n",
      "video 1/1 (frame 249/10797) /home/aditya/Downloads/Track.mp4: 288x512 2 blue_cones, 5 yellow_cones, 5.3ms\n",
      "video 1/1 (frame 250/10797) /home/aditya/Downloads/Track.mp4: 288x512 2 blue_cones, 5 yellow_cones, 6.8ms\n",
      "video 1/1 (frame 251/10797) /home/aditya/Downloads/Track.mp4: 288x512 2 blue_cones, 5 yellow_cones, 5.2ms\n",
      "video 1/1 (frame 252/10797) /home/aditya/Downloads/Track.mp4: 288x512 2 blue_cones, 5 yellow_cones, 5.3ms\n",
      "video 1/1 (frame 253/10797) /home/aditya/Downloads/Track.mp4: 288x512 2 blue_cones, 5 yellow_cones, 5.2ms\n",
      "video 1/1 (frame 254/10797) /home/aditya/Downloads/Track.mp4: 288x512 2 blue_cones, 5 yellow_cones, 5.3ms\n",
      "video 1/1 (frame 255/10797) /home/aditya/Downloads/Track.mp4: 288x512 2 blue_cones, 5 yellow_cones, 6.5ms\n",
      "video 1/1 (frame 256/10797) /home/aditya/Downloads/Track.mp4: 288x512 2 blue_cones, 5 yellow_cones, 5.1ms\n",
      "video 1/1 (frame 257/10797) /home/aditya/Downloads/Track.mp4: 288x512 2 blue_cones, 5 yellow_cones, 6.6ms\n",
      "video 1/1 (frame 258/10797) /home/aditya/Downloads/Track.mp4: 288x512 2 blue_cones, 5 yellow_cones, 6.8ms\n",
      "video 1/1 (frame 259/10797) /home/aditya/Downloads/Track.mp4: 288x512 2 blue_cones, 5 yellow_cones, 5.0ms\n",
      "video 1/1 (frame 260/10797) /home/aditya/Downloads/Track.mp4: 288x512 2 blue_cones, 5 yellow_cones, 5.1ms\n",
      "video 1/1 (frame 261/10797) /home/aditya/Downloads/Track.mp4: 288x512 2 blue_cones, 5 yellow_cones, 5.4ms\n",
      "video 1/1 (frame 262/10797) /home/aditya/Downloads/Track.mp4: 288x512 2 blue_cones, 5 yellow_cones, 6.7ms\n",
      "video 1/1 (frame 263/10797) /home/aditya/Downloads/Track.mp4: 288x512 2 blue_cones, 5 yellow_cones, 5.4ms\n",
      "video 1/1 (frame 264/10797) /home/aditya/Downloads/Track.mp4: 288x512 2 blue_cones, 5 yellow_cones, 5.7ms\n",
      "video 1/1 (frame 265/10797) /home/aditya/Downloads/Track.mp4: 288x512 2 blue_cones, 5 yellow_cones, 5.2ms\n",
      "video 1/1 (frame 266/10797) /home/aditya/Downloads/Track.mp4: 288x512 2 blue_cones, 5 yellow_cones, 6.7ms\n",
      "video 1/1 (frame 267/10797) /home/aditya/Downloads/Track.mp4: 288x512 2 blue_cones, 5 yellow_cones, 7.0ms\n",
      "video 1/1 (frame 268/10797) /home/aditya/Downloads/Track.mp4: 288x512 2 blue_cones, 5 yellow_cones, 6.7ms\n",
      "video 1/1 (frame 269/10797) /home/aditya/Downloads/Track.mp4: 288x512 2 blue_cones, 5 yellow_cones, 5.3ms\n",
      "video 1/1 (frame 270/10797) /home/aditya/Downloads/Track.mp4: 288x512 2 blue_cones, 5 yellow_cones, 5.2ms\n",
      "video 1/1 (frame 271/10797) /home/aditya/Downloads/Track.mp4: 288x512 2 blue_cones, 5 yellow_cones, 6.8ms\n",
      "video 1/1 (frame 272/10797) /home/aditya/Downloads/Track.mp4: 288x512 2 blue_cones, 5 yellow_cones, 6.6ms\n",
      "video 1/1 (frame 273/10797) /home/aditya/Downloads/Track.mp4: 288x512 2 blue_cones, 5 yellow_cones, 6.7ms\n",
      "video 1/1 (frame 274/10797) /home/aditya/Downloads/Track.mp4: 288x512 2 blue_cones, 5 yellow_cones, 5.4ms\n",
      "video 1/1 (frame 275/10797) /home/aditya/Downloads/Track.mp4: 288x512 2 blue_cones, 5 yellow_cones, 6.7ms\n",
      "video 1/1 (frame 276/10797) /home/aditya/Downloads/Track.mp4: 288x512 2 blue_cones, 5 yellow_cones, 6.8ms\n",
      "video 1/1 (frame 277/10797) /home/aditya/Downloads/Track.mp4: 288x512 2 blue_cones, 5 yellow_cones, 6.1ms\n",
      "video 1/1 (frame 278/10797) /home/aditya/Downloads/Track.mp4: 288x512 2 blue_cones, 5 yellow_cones, 6.7ms\n",
      "video 1/1 (frame 279/10797) /home/aditya/Downloads/Track.mp4: 288x512 2 blue_cones, 5 yellow_cones, 5.9ms\n",
      "video 1/1 (frame 280/10797) /home/aditya/Downloads/Track.mp4: 288x512 2 blue_cones, 5 yellow_cones, 5.2ms\n",
      "video 1/1 (frame 281/10797) /home/aditya/Downloads/Track.mp4: 288x512 2 blue_cones, 5 yellow_cones, 5.3ms\n",
      "video 1/1 (frame 282/10797) /home/aditya/Downloads/Track.mp4: 288x512 2 blue_cones, 5 yellow_cones, 5.4ms\n",
      "video 1/1 (frame 283/10797) /home/aditya/Downloads/Track.mp4: 288x512 2 blue_cones, 5 yellow_cones, 7.2ms\n",
      "video 1/1 (frame 284/10797) /home/aditya/Downloads/Track.mp4: 288x512 2 blue_cones, 5 yellow_cones, 8.1ms\n",
      "video 1/1 (frame 285/10797) /home/aditya/Downloads/Track.mp4: 288x512 2 blue_cones, 5 yellow_cones, 6.6ms\n",
      "video 1/1 (frame 286/10797) /home/aditya/Downloads/Track.mp4: 288x512 2 blue_cones, 5 yellow_cones, 6.8ms\n",
      "video 1/1 (frame 287/10797) /home/aditya/Downloads/Track.mp4: 288x512 2 blue_cones, 5 yellow_cones, 6.4ms\n",
      "video 1/1 (frame 288/10797) /home/aditya/Downloads/Track.mp4: 288x512 2 blue_cones, 5 yellow_cones, 5.2ms\n",
      "video 1/1 (frame 289/10797) /home/aditya/Downloads/Track.mp4: 288x512 2 blue_cones, 5 yellow_cones, 6.7ms\n",
      "video 1/1 (frame 290/10797) /home/aditya/Downloads/Track.mp4: 288x512 2 blue_cones, 5 yellow_cones, 6.5ms\n",
      "video 1/1 (frame 291/10797) /home/aditya/Downloads/Track.mp4: 288x512 2 blue_cones, 7 yellow_cones, 6.6ms\n",
      "video 1/1 (frame 292/10797) /home/aditya/Downloads/Track.mp4: 288x512 2 blue_cones, 7 yellow_cones, 5.0ms\n",
      "video 1/1 (frame 293/10797) /home/aditya/Downloads/Track.mp4: 288x512 2 blue_cones, 7 yellow_cones, 6.9ms\n",
      "video 1/1 (frame 294/10797) /home/aditya/Downloads/Track.mp4: 288x512 2 blue_cones, 7 yellow_cones, 5.3ms\n",
      "video 1/1 (frame 295/10797) /home/aditya/Downloads/Track.mp4: 288x512 2 blue_cones, 7 yellow_cones, 5.3ms\n",
      "video 1/1 (frame 296/10797) /home/aditya/Downloads/Track.mp4: 288x512 2 blue_cones, 7 yellow_cones, 5.6ms\n",
      "video 1/1 (frame 297/10797) /home/aditya/Downloads/Track.mp4: 288x512 2 blue_cones, 7 yellow_cones, 6.7ms\n",
      "video 1/1 (frame 298/10797) /home/aditya/Downloads/Track.mp4: 288x512 2 blue_cones, 7 yellow_cones, 6.8ms\n",
      "video 1/1 (frame 299/10797) /home/aditya/Downloads/Track.mp4: 288x512 2 blue_cones, 7 yellow_cones, 6.8ms\n",
      "video 1/1 (frame 300/10797) /home/aditya/Downloads/Track.mp4: 288x512 2 blue_cones, 7 yellow_cones, 5.2ms\n",
      "video 1/1 (frame 301/10797) /home/aditya/Downloads/Track.mp4: 288x512 2 blue_cones, 5 yellow_cones, 5.0ms\n",
      "video 1/1 (frame 302/10797) /home/aditya/Downloads/Track.mp4: 288x512 2 blue_cones, 5 yellow_cones, 6.7ms\n",
      "video 1/1 (frame 303/10797) /home/aditya/Downloads/Track.mp4: 288x512 2 blue_cones, 5 yellow_cones, 6.6ms\n",
      "video 1/1 (frame 304/10797) /home/aditya/Downloads/Track.mp4: 288x512 2 blue_cones, 5 yellow_cones, 5.1ms\n",
      "video 1/1 (frame 305/10797) /home/aditya/Downloads/Track.mp4: 288x512 2 blue_cones, 5 yellow_cones, 6.5ms\n",
      "video 1/1 (frame 306/10797) /home/aditya/Downloads/Track.mp4: 288x512 2 blue_cones, 5 yellow_cones, 6.8ms\n",
      "video 1/1 (frame 307/10797) /home/aditya/Downloads/Track.mp4: 288x512 2 blue_cones, 5 yellow_cones, 5.2ms\n",
      "video 1/1 (frame 308/10797) /home/aditya/Downloads/Track.mp4: 288x512 2 blue_cones, 5 yellow_cones, 5.2ms\n",
      "video 1/1 (frame 309/10797) /home/aditya/Downloads/Track.mp4: 288x512 2 blue_cones, 5 yellow_cones, 6.7ms\n",
      "video 1/1 (frame 310/10797) /home/aditya/Downloads/Track.mp4: 288x512 2 blue_cones, 5 yellow_cones, 6.8ms\n",
      "video 1/1 (frame 311/10797) /home/aditya/Downloads/Track.mp4: 288x512 2 blue_cones, 5 yellow_cones, 5.2ms\n",
      "video 1/1 (frame 312/10797) /home/aditya/Downloads/Track.mp4: 288x512 2 blue_cones, 5 yellow_cones, 6.6ms\n",
      "video 1/1 (frame 313/10797) /home/aditya/Downloads/Track.mp4: 288x512 2 blue_cones, 5 yellow_cones, 5.4ms\n",
      "video 1/1 (frame 314/10797) /home/aditya/Downloads/Track.mp4: 288x512 2 blue_cones, 5 yellow_cones, 7.0ms\n",
      "video 1/1 (frame 315/10797) /home/aditya/Downloads/Track.mp4: 288x512 2 blue_cones, 5 yellow_cones, 6.7ms\n",
      "video 1/1 (frame 316/10797) /home/aditya/Downloads/Track.mp4: 288x512 2 blue_cones, 5 yellow_cones, 5.7ms\n",
      "video 1/1 (frame 317/10797) /home/aditya/Downloads/Track.mp4: 288x512 2 blue_cones, 5 yellow_cones, 5.3ms\n",
      "video 1/1 (frame 318/10797) /home/aditya/Downloads/Track.mp4: 288x512 2 blue_cones, 5 yellow_cones, 6.6ms\n",
      "video 1/1 (frame 319/10797) /home/aditya/Downloads/Track.mp4: 288x512 2 blue_cones, 5 yellow_cones, 5.4ms\n",
      "video 1/1 (frame 320/10797) /home/aditya/Downloads/Track.mp4: 288x512 2 blue_cones, 5 yellow_cones, 5.6ms\n",
      "video 1/1 (frame 321/10797) /home/aditya/Downloads/Track.mp4: 288x512 2 blue_cones, 5 yellow_cones, 7.8ms\n",
      "video 1/1 (frame 322/10797) /home/aditya/Downloads/Track.mp4: 288x512 2 blue_cones, 5 yellow_cones, 5.3ms\n",
      "video 1/1 (frame 323/10797) /home/aditya/Downloads/Track.mp4: 288x512 2 blue_cones, 5 yellow_cones, 5.1ms\n",
      "video 1/1 (frame 324/10797) /home/aditya/Downloads/Track.mp4: 288x512 2 blue_cones, 5 yellow_cones, 6.7ms\n",
      "video 1/1 (frame 325/10797) /home/aditya/Downloads/Track.mp4: 288x512 2 blue_cones, 5 yellow_cones, 5.2ms\n",
      "video 1/1 (frame 326/10797) /home/aditya/Downloads/Track.mp4: 288x512 2 blue_cones, 5 yellow_cones, 5.2ms\n",
      "video 1/1 (frame 327/10797) /home/aditya/Downloads/Track.mp4: 288x512 2 blue_cones, 5 yellow_cones, 6.7ms\n",
      "video 1/1 (frame 328/10797) /home/aditya/Downloads/Track.mp4: 288x512 2 blue_cones, 5 yellow_cones, 5.2ms\n",
      "video 1/1 (frame 329/10797) /home/aditya/Downloads/Track.mp4: 288x512 2 blue_cones, 5 yellow_cones, 6.8ms\n",
      "video 1/1 (frame 330/10797) /home/aditya/Downloads/Track.mp4: 288x512 2 blue_cones, 5 yellow_cones, 5.2ms\n",
      "video 1/1 (frame 331/10797) /home/aditya/Downloads/Track.mp4: 288x512 2 blue_cones, 5 yellow_cones, 6.6ms\n",
      "video 1/1 (frame 332/10797) /home/aditya/Downloads/Track.mp4: 288x512 2 blue_cones, 5 yellow_cones, 5.2ms\n",
      "video 1/1 (frame 333/10797) /home/aditya/Downloads/Track.mp4: 288x512 2 blue_cones, 5 yellow_cones, 5.1ms\n",
      "video 1/1 (frame 334/10797) /home/aditya/Downloads/Track.mp4: 288x512 2 blue_cones, 5 yellow_cones, 5.2ms\n",
      "video 1/1 (frame 335/10797) /home/aditya/Downloads/Track.mp4: 288x512 2 blue_cones, 5 yellow_cones, 5.1ms\n",
      "video 1/1 (frame 336/10797) /home/aditya/Downloads/Track.mp4: 288x512 2 blue_cones, 5 yellow_cones, 5.0ms\n",
      "video 1/1 (frame 337/10797) /home/aditya/Downloads/Track.mp4: 288x512 2 blue_cones, 5 yellow_cones, 7.1ms\n",
      "video 1/1 (frame 338/10797) /home/aditya/Downloads/Track.mp4: 288x512 2 blue_cones, 5 yellow_cones, 5.2ms\n",
      "video 1/1 (frame 339/10797) /home/aditya/Downloads/Track.mp4: 288x512 2 blue_cones, 5 yellow_cones, 5.2ms\n",
      "video 1/1 (frame 340/10797) /home/aditya/Downloads/Track.mp4: 288x512 2 blue_cones, 5 yellow_cones, 7.0ms\n",
      "video 1/1 (frame 341/10797) /home/aditya/Downloads/Track.mp4: 288x512 2 blue_cones, 5 yellow_cones, 5.2ms\n",
      "video 1/1 (frame 342/10797) /home/aditya/Downloads/Track.mp4: 288x512 2 blue_cones, 5 yellow_cones, 5.1ms\n",
      "video 1/1 (frame 343/10797) /home/aditya/Downloads/Track.mp4: 288x512 2 blue_cones, 5 yellow_cones, 5.1ms\n",
      "video 1/1 (frame 344/10797) /home/aditya/Downloads/Track.mp4: 288x512 2 blue_cones, 5 yellow_cones, 5.2ms\n",
      "video 1/1 (frame 345/10797) /home/aditya/Downloads/Track.mp4: 288x512 2 blue_cones, 5 yellow_cones, 7.1ms\n",
      "video 1/1 (frame 346/10797) /home/aditya/Downloads/Track.mp4: 288x512 2 blue_cones, 5 yellow_cones, 5.2ms\n",
      "video 1/1 (frame 347/10797) /home/aditya/Downloads/Track.mp4: 288x512 2 blue_cones, 5 yellow_cones, 6.6ms\n",
      "video 1/1 (frame 348/10797) /home/aditya/Downloads/Track.mp4: 288x512 2 blue_cones, 5 yellow_cones, 5.2ms\n",
      "video 1/1 (frame 349/10797) /home/aditya/Downloads/Track.mp4: 288x512 2 blue_cones, 5 yellow_cones, 5.2ms\n",
      "video 1/1 (frame 350/10797) /home/aditya/Downloads/Track.mp4: 288x512 2 blue_cones, 5 yellow_cones, 5.5ms\n",
      "video 1/1 (frame 351/10797) /home/aditya/Downloads/Track.mp4: 288x512 2 blue_cones, 5 yellow_cones, 5.1ms\n",
      "video 1/1 (frame 352/10797) /home/aditya/Downloads/Track.mp4: 288x512 2 blue_cones, 5 yellow_cones, 5.2ms\n",
      "video 1/1 (frame 353/10797) /home/aditya/Downloads/Track.mp4: 288x512 2 blue_cones, 5 yellow_cones, 5.2ms\n",
      "video 1/1 (frame 354/10797) /home/aditya/Downloads/Track.mp4: 288x512 2 blue_cones, 5 yellow_cones, 5.1ms\n",
      "video 1/1 (frame 355/10797) /home/aditya/Downloads/Track.mp4: 288x512 2 blue_cones, 5 yellow_cones, 5.2ms\n",
      "video 1/1 (frame 356/10797) /home/aditya/Downloads/Track.mp4: 288x512 2 blue_cones, 5 yellow_cones, 5.1ms\n",
      "video 1/1 (frame 357/10797) /home/aditya/Downloads/Track.mp4: 288x512 2 blue_cones, 5 yellow_cones, 5.2ms\n",
      "video 1/1 (frame 358/10797) /home/aditya/Downloads/Track.mp4: 288x512 2 blue_cones, 5 yellow_cones, 5.1ms\n",
      "video 1/1 (frame 359/10797) /home/aditya/Downloads/Track.mp4: 288x512 2 blue_cones, 5 yellow_cones, 5.0ms\n",
      "video 1/1 (frame 360/10797) /home/aditya/Downloads/Track.mp4: 288x512 2 blue_cones, 5 yellow_cones, 5.1ms\n",
      "video 1/1 (frame 361/10797) /home/aditya/Downloads/Track.mp4: 288x512 2 blue_cones, 5 yellow_cones, 6.5ms\n",
      "video 1/1 (frame 362/10797) /home/aditya/Downloads/Track.mp4: 288x512 2 blue_cones, 5 yellow_cones, 6.4ms\n",
      "video 1/1 (frame 363/10797) /home/aditya/Downloads/Track.mp4: 288x512 2 blue_cones, 5 yellow_cones, 5.0ms\n",
      "video 1/1 (frame 364/10797) /home/aditya/Downloads/Track.mp4: 288x512 2 blue_cones, 5 yellow_cones, 6.5ms\n",
      "video 1/1 (frame 365/10797) /home/aditya/Downloads/Track.mp4: 288x512 2 blue_cones, 5 yellow_cones, 5.3ms\n",
      "video 1/1 (frame 366/10797) /home/aditya/Downloads/Track.mp4: 288x512 2 blue_cones, 5 yellow_cones, 5.0ms\n",
      "video 1/1 (frame 367/10797) /home/aditya/Downloads/Track.mp4: 288x512 2 blue_cones, 5 yellow_cones, 5.1ms\n",
      "video 1/1 (frame 368/10797) /home/aditya/Downloads/Track.mp4: 288x512 2 blue_cones, 5 yellow_cones, 6.4ms\n",
      "video 1/1 (frame 369/10797) /home/aditya/Downloads/Track.mp4: 288x512 2 blue_cones, 5 yellow_cones, 6.5ms\n",
      "video 1/1 (frame 370/10797) /home/aditya/Downloads/Track.mp4: 288x512 2 blue_cones, 5 yellow_cones, 5.2ms\n",
      "video 1/1 (frame 371/10797) /home/aditya/Downloads/Track.mp4: 288x512 2 blue_cones, 5 yellow_cones, 5.5ms\n",
      "video 1/1 (frame 372/10797) /home/aditya/Downloads/Track.mp4: 288x512 2 blue_cones, 5 yellow_cones, 5.4ms\n",
      "video 1/1 (frame 373/10797) /home/aditya/Downloads/Track.mp4: 288x512 2 blue_cones, 5 yellow_cones, 6.6ms\n",
      "video 1/1 (frame 374/10797) /home/aditya/Downloads/Track.mp4: 288x512 2 blue_cones, 5 yellow_cones, 5.6ms\n",
      "video 1/1 (frame 375/10797) /home/aditya/Downloads/Track.mp4: 288x512 2 blue_cones, 5 yellow_cones, 5.9ms\n",
      "video 1/1 (frame 376/10797) /home/aditya/Downloads/Track.mp4: 288x512 2 blue_cones, 5 yellow_cones, 6.8ms\n",
      "video 1/1 (frame 377/10797) /home/aditya/Downloads/Track.mp4: 288x512 2 blue_cones, 5 yellow_cones, 6.7ms\n",
      "video 1/1 (frame 378/10797) /home/aditya/Downloads/Track.mp4: 288x512 2 blue_cones, 5 yellow_cones, 6.7ms\n",
      "video 1/1 (frame 379/10797) /home/aditya/Downloads/Track.mp4: 288x512 2 blue_cones, 5 yellow_cones, 6.7ms\n",
      "video 1/1 (frame 380/10797) /home/aditya/Downloads/Track.mp4: 288x512 2 blue_cones, 5 yellow_cones, 5.0ms\n",
      "video 1/1 (frame 381/10797) /home/aditya/Downloads/Track.mp4: 288x512 2 blue_cones, 5 yellow_cones, 6.7ms\n",
      "video 1/1 (frame 382/10797) /home/aditya/Downloads/Track.mp4: 288x512 2 blue_cones, 5 yellow_cones, 6.0ms\n",
      "video 1/1 (frame 383/10797) /home/aditya/Downloads/Track.mp4: 288x512 2 blue_cones, 5 yellow_cones, 5.2ms\n",
      "video 1/1 (frame 384/10797) /home/aditya/Downloads/Track.mp4: 288x512 2 blue_cones, 5 yellow_cones, 5.2ms\n",
      "video 1/1 (frame 385/10797) /home/aditya/Downloads/Track.mp4: 288x512 2 blue_cones, 5 yellow_cones, 6.7ms\n",
      "video 1/1 (frame 386/10797) /home/aditya/Downloads/Track.mp4: 288x512 2 blue_cones, 5 yellow_cones, 5.4ms\n",
      "video 1/1 (frame 387/10797) /home/aditya/Downloads/Track.mp4: 288x512 2 blue_cones, 5 yellow_cones, 6.5ms\n",
      "video 1/1 (frame 388/10797) /home/aditya/Downloads/Track.mp4: 288x512 2 blue_cones, 5 yellow_cones, 7.2ms\n",
      "video 1/1 (frame 389/10797) /home/aditya/Downloads/Track.mp4: 288x512 2 blue_cones, 5 yellow_cones, 6.4ms\n",
      "video 1/1 (frame 390/10797) /home/aditya/Downloads/Track.mp4: 288x512 2 blue_cones, 5 yellow_cones, 6.6ms\n",
      "video 1/1 (frame 391/10797) /home/aditya/Downloads/Track.mp4: 288x512 2 blue_cones, 5 yellow_cones, 6.6ms\n",
      "video 1/1 (frame 392/10797) /home/aditya/Downloads/Track.mp4: 288x512 2 blue_cones, 5 yellow_cones, 6.8ms\n",
      "video 1/1 (frame 393/10797) /home/aditya/Downloads/Track.mp4: 288x512 2 blue_cones, 5 yellow_cones, 6.8ms\n",
      "video 1/1 (frame 394/10797) /home/aditya/Downloads/Track.mp4: 288x512 2 blue_cones, 5 yellow_cones, 5.9ms\n",
      "video 1/1 (frame 395/10797) /home/aditya/Downloads/Track.mp4: 288x512 2 blue_cones, 5 yellow_cones, 6.9ms\n",
      "video 1/1 (frame 396/10797) /home/aditya/Downloads/Track.mp4: 288x512 2 blue_cones, 5 yellow_cones, 5.4ms\n",
      "video 1/1 (frame 397/10797) /home/aditya/Downloads/Track.mp4: 288x512 2 blue_cones, 5 yellow_cones, 6.7ms\n",
      "video 1/1 (frame 398/10797) /home/aditya/Downloads/Track.mp4: 288x512 2 blue_cones, 5 yellow_cones, 7.0ms\n",
      "video 1/1 (frame 399/10797) /home/aditya/Downloads/Track.mp4: 288x512 2 blue_cones, 5 yellow_cones, 6.9ms\n",
      "video 1/1 (frame 400/10797) /home/aditya/Downloads/Track.mp4: 288x512 2 blue_cones, 5 yellow_cones, 7.2ms\n",
      "video 1/1 (frame 401/10797) /home/aditya/Downloads/Track.mp4: 288x512 2 blue_cones, 5 yellow_cones, 6.6ms\n",
      "video 1/1 (frame 402/10797) /home/aditya/Downloads/Track.mp4: 288x512 2 blue_cones, 5 yellow_cones, 5.4ms\n",
      "video 1/1 (frame 403/10797) /home/aditya/Downloads/Track.mp4: 288x512 2 blue_cones, 5 yellow_cones, 6.8ms\n",
      "video 1/1 (frame 404/10797) /home/aditya/Downloads/Track.mp4: 288x512 2 blue_cones, 7 yellow_cones, 6.7ms\n",
      "video 1/1 (frame 405/10797) /home/aditya/Downloads/Track.mp4: 288x512 2 blue_cones, 7 yellow_cones, 5.1ms\n",
      "video 1/1 (frame 406/10797) /home/aditya/Downloads/Track.mp4: 288x512 2 blue_cones, 7 yellow_cones, 5.0ms\n",
      "video 1/1 (frame 407/10797) /home/aditya/Downloads/Track.mp4: 288x512 2 blue_cones, 8 yellow_cones, 5.2ms\n",
      "video 1/1 (frame 408/10797) /home/aditya/Downloads/Track.mp4: 288x512 2 blue_cones, 8 yellow_cones, 5.5ms\n",
      "video 1/1 (frame 409/10797) /home/aditya/Downloads/Track.mp4: 288x512 2 blue_cones, 8 yellow_cones, 5.5ms\n",
      "video 1/1 (frame 410/10797) /home/aditya/Downloads/Track.mp4: 288x512 2 blue_cones, 8 yellow_cones, 5.2ms\n",
      "video 1/1 (frame 411/10797) /home/aditya/Downloads/Track.mp4: 288x512 2 blue_cones, 8 yellow_cones, 5.1ms\n",
      "video 1/1 (frame 412/10797) /home/aditya/Downloads/Track.mp4: 288x512 2 blue_cones, 8 yellow_cones, 5.3ms\n",
      "video 1/1 (frame 413/10797) /home/aditya/Downloads/Track.mp4: 288x512 2 blue_cones, 7 yellow_cones, 5.0ms\n",
      "video 1/1 (frame 414/10797) /home/aditya/Downloads/Track.mp4: 288x512 2 blue_cones, 7 yellow_cones, 5.2ms\n",
      "video 1/1 (frame 415/10797) /home/aditya/Downloads/Track.mp4: 288x512 2 blue_cones, 8 yellow_cones, 5.2ms\n",
      "video 1/1 (frame 416/10797) /home/aditya/Downloads/Track.mp4: 288x512 2 blue_cones, 8 yellow_cones, 5.4ms\n",
      "video 1/1 (frame 417/10797) /home/aditya/Downloads/Track.mp4: 288x512 2 blue_cones, 8 yellow_cones, 7.0ms\n",
      "video 1/1 (frame 418/10797) /home/aditya/Downloads/Track.mp4: 288x512 2 blue_cones, 7 yellow_cones, 5.1ms\n",
      "video 1/1 (frame 419/10797) /home/aditya/Downloads/Track.mp4: 288x512 2 blue_cones, 7 yellow_cones, 7.2ms\n",
      "video 1/1 (frame 420/10797) /home/aditya/Downloads/Track.mp4: 288x512 2 blue_cones, 7 yellow_cones, 5.3ms\n",
      "video 1/1 (frame 421/10797) /home/aditya/Downloads/Track.mp4: 288x512 2 blue_cones, 7 yellow_cones, 5.2ms\n",
      "video 1/1 (frame 422/10797) /home/aditya/Downloads/Track.mp4: 288x512 2 blue_cones, 7 yellow_cones, 5.2ms\n",
      "video 1/1 (frame 423/10797) /home/aditya/Downloads/Track.mp4: 288x512 2 blue_cones, 7 yellow_cones, 6.8ms\n",
      "video 1/1 (frame 424/10797) /home/aditya/Downloads/Track.mp4: 288x512 2 blue_cones, 7 yellow_cones, 7.1ms\n",
      "video 1/1 (frame 425/10797) /home/aditya/Downloads/Track.mp4: 288x512 2 blue_cones, 7 yellow_cones, 6.7ms\n",
      "video 1/1 (frame 426/10797) /home/aditya/Downloads/Track.mp4: 288x512 2 blue_cones, 7 yellow_cones, 6.7ms\n",
      "video 1/1 (frame 427/10797) /home/aditya/Downloads/Track.mp4: 288x512 2 blue_cones, 7 yellow_cones, 5.2ms\n",
      "video 1/1 (frame 428/10797) /home/aditya/Downloads/Track.mp4: 288x512 2 blue_cones, 7 yellow_cones, 5.3ms\n",
      "video 1/1 (frame 429/10797) /home/aditya/Downloads/Track.mp4: 288x512 2 blue_cones, 7 yellow_cones, 6.7ms\n",
      "video 1/1 (frame 430/10797) /home/aditya/Downloads/Track.mp4: 288x512 2 blue_cones, 7 yellow_cones, 6.8ms\n",
      "video 1/1 (frame 431/10797) /home/aditya/Downloads/Track.mp4: 288x512 2 blue_cones, 7 yellow_cones, 5.1ms\n",
      "video 1/1 (frame 432/10797) /home/aditya/Downloads/Track.mp4: 288x512 2 blue_cones, 6 yellow_cones, 5.1ms\n",
      "video 1/1 (frame 433/10797) /home/aditya/Downloads/Track.mp4: 288x512 2 blue_cones, 7 yellow_cones, 7.5ms\n",
      "video 1/1 (frame 434/10797) /home/aditya/Downloads/Track.mp4: 288x512 2 blue_cones, 7 yellow_cones, 7.1ms\n",
      "video 1/1 (frame 435/10797) /home/aditya/Downloads/Track.mp4: 288x512 2 blue_cones, 7 yellow_cones, 6.9ms\n",
      "video 1/1 (frame 436/10797) /home/aditya/Downloads/Track.mp4: 288x512 2 blue_cones, 7 yellow_cones, 6.5ms\n",
      "video 1/1 (frame 437/10797) /home/aditya/Downloads/Track.mp4: 288x512 2 blue_cones, 7 yellow_cones, 6.6ms\n",
      "video 1/1 (frame 438/10797) /home/aditya/Downloads/Track.mp4: 288x512 2 blue_cones, 7 yellow_cones, 6.6ms\n",
      "video 1/1 (frame 439/10797) /home/aditya/Downloads/Track.mp4: 288x512 2 blue_cones, 7 yellow_cones, 5.2ms\n",
      "video 1/1 (frame 440/10797) /home/aditya/Downloads/Track.mp4: 288x512 2 blue_cones, 7 yellow_cones, 5.1ms\n",
      "video 1/1 (frame 441/10797) /home/aditya/Downloads/Track.mp4: 288x512 2 blue_cones, 7 yellow_cones, 5.5ms\n",
      "video 1/1 (frame 442/10797) /home/aditya/Downloads/Track.mp4: 288x512 2 blue_cones, 7 yellow_cones, 6.7ms\n",
      "video 1/1 (frame 443/10797) /home/aditya/Downloads/Track.mp4: 288x512 2 blue_cones, 7 yellow_cones, 5.0ms\n",
      "video 1/1 (frame 444/10797) /home/aditya/Downloads/Track.mp4: 288x512 2 blue_cones, 7 yellow_cones, 5.0ms\n",
      "video 1/1 (frame 445/10797) /home/aditya/Downloads/Track.mp4: 288x512 2 blue_cones, 7 yellow_cones, 5.1ms\n",
      "video 1/1 (frame 446/10797) /home/aditya/Downloads/Track.mp4: 288x512 2 blue_cones, 7 yellow_cones, 6.6ms\n",
      "video 1/1 (frame 447/10797) /home/aditya/Downloads/Track.mp4: 288x512 2 blue_cones, 7 yellow_cones, 5.1ms\n",
      "video 1/1 (frame 448/10797) /home/aditya/Downloads/Track.mp4: 288x512 2 blue_cones, 7 yellow_cones, 5.0ms\n",
      "video 1/1 (frame 449/10797) /home/aditya/Downloads/Track.mp4: 288x512 2 blue_cones, 7 yellow_cones, 6.5ms\n",
      "video 1/1 (frame 450/10797) /home/aditya/Downloads/Track.mp4: 288x512 2 blue_cones, 7 yellow_cones, 5.7ms\n",
      "video 1/1 (frame 451/10797) /home/aditya/Downloads/Track.mp4: 288x512 2 blue_cones, 7 yellow_cones, 5.3ms\n",
      "video 1/1 (frame 452/10797) /home/aditya/Downloads/Track.mp4: 288x512 2 blue_cones, 7 yellow_cones, 5.2ms\n",
      "video 1/1 (frame 453/10797) /home/aditya/Downloads/Track.mp4: 288x512 2 blue_cones, 7 yellow_cones, 5.5ms\n",
      "video 1/1 (frame 454/10797) /home/aditya/Downloads/Track.mp4: 288x512 2 blue_cones, 7 yellow_cones, 5.0ms\n",
      "video 1/1 (frame 455/10797) /home/aditya/Downloads/Track.mp4: 288x512 2 blue_cones, 7 yellow_cones, 5.0ms\n",
      "video 1/1 (frame 456/10797) /home/aditya/Downloads/Track.mp4: 288x512 2 blue_cones, 7 yellow_cones, 5.0ms\n",
      "video 1/1 (frame 457/10797) /home/aditya/Downloads/Track.mp4: 288x512 2 blue_cones, 7 yellow_cones, 6.4ms\n",
      "video 1/1 (frame 458/10797) /home/aditya/Downloads/Track.mp4: 288x512 2 blue_cones, 7 yellow_cones, 5.1ms\n",
      "video 1/1 (frame 459/10797) /home/aditya/Downloads/Track.mp4: 288x512 2 blue_cones, 7 yellow_cones, 5.2ms\n",
      "video 1/1 (frame 460/10797) /home/aditya/Downloads/Track.mp4: 288x512 2 blue_cones, 7 yellow_cones, 7.0ms\n",
      "video 1/1 (frame 461/10797) /home/aditya/Downloads/Track.mp4: 288x512 2 blue_cones, 7 yellow_cones, 5.1ms\n",
      "video 1/1 (frame 462/10797) /home/aditya/Downloads/Track.mp4: 288x512 2 blue_cones, 7 yellow_cones, 6.6ms\n",
      "video 1/1 (frame 463/10797) /home/aditya/Downloads/Track.mp4: 288x512 2 blue_cones, 7 yellow_cones, 5.1ms\n",
      "video 1/1 (frame 464/10797) /home/aditya/Downloads/Track.mp4: 288x512 2 blue_cones, 7 yellow_cones, 5.2ms\n",
      "video 1/1 (frame 465/10797) /home/aditya/Downloads/Track.mp4: 288x512 2 blue_cones, 7 yellow_cones, 5.1ms\n",
      "video 1/1 (frame 466/10797) /home/aditya/Downloads/Track.mp4: 288x512 2 blue_cones, 7 yellow_cones, 5.2ms\n",
      "video 1/1 (frame 467/10797) /home/aditya/Downloads/Track.mp4: 288x512 2 blue_cones, 7 yellow_cones, 6.6ms\n",
      "video 1/1 (frame 468/10797) /home/aditya/Downloads/Track.mp4: 288x512 2 blue_cones, 7 yellow_cones, 5.1ms\n",
      "video 1/1 (frame 469/10797) /home/aditya/Downloads/Track.mp4: 288x512 2 blue_cones, 7 yellow_cones, 5.1ms\n",
      "video 1/1 (frame 470/10797) /home/aditya/Downloads/Track.mp4: 288x512 2 blue_cones, 7 yellow_cones, 6.5ms\n",
      "video 1/1 (frame 471/10797) /home/aditya/Downloads/Track.mp4: 288x512 2 blue_cones, 7 yellow_cones, 5.4ms\n",
      "video 1/1 (frame 472/10797) /home/aditya/Downloads/Track.mp4: 288x512 2 blue_cones, 7 yellow_cones, 5.3ms\n",
      "video 1/1 (frame 473/10797) /home/aditya/Downloads/Track.mp4: 288x512 2 blue_cones, 7 yellow_cones, 5.1ms\n",
      "video 1/1 (frame 474/10797) /home/aditya/Downloads/Track.mp4: 288x512 2 blue_cones, 7 yellow_cones, 5.1ms\n",
      "video 1/1 (frame 475/10797) /home/aditya/Downloads/Track.mp4: 288x512 2 blue_cones, 7 yellow_cones, 5.2ms\n",
      "video 1/1 (frame 476/10797) /home/aditya/Downloads/Track.mp4: 288x512 2 blue_cones, 7 yellow_cones, 6.6ms\n",
      "video 1/1 (frame 477/10797) /home/aditya/Downloads/Track.mp4: 288x512 2 blue_cones, 7 yellow_cones, 6.5ms\n",
      "video 1/1 (frame 478/10797) /home/aditya/Downloads/Track.mp4: 288x512 2 blue_cones, 7 yellow_cones, 6.5ms\n",
      "video 1/1 (frame 479/10797) /home/aditya/Downloads/Track.mp4: 288x512 2 blue_cones, 7 yellow_cones, 6.7ms\n",
      "video 1/1 (frame 480/10797) /home/aditya/Downloads/Track.mp4: 288x512 2 blue_cones, 7 yellow_cones, 6.7ms\n",
      "video 1/1 (frame 481/10797) /home/aditya/Downloads/Track.mp4: 288x512 2 blue_cones, 7 yellow_cones, 6.8ms\n",
      "video 1/1 (frame 482/10797) /home/aditya/Downloads/Track.mp4: 288x512 2 blue_cones, 7 yellow_cones, 5.4ms\n",
      "video 1/1 (frame 483/10797) /home/aditya/Downloads/Track.mp4: 288x512 2 blue_cones, 7 yellow_cones, 5.1ms\n",
      "video 1/1 (frame 484/10797) /home/aditya/Downloads/Track.mp4: 288x512 2 blue_cones, 8 yellow_cones, 6.6ms\n",
      "video 1/1 (frame 485/10797) /home/aditya/Downloads/Track.mp4: 288x512 2 blue_cones, 8 yellow_cones, 6.6ms\n",
      "video 1/1 (frame 486/10797) /home/aditya/Downloads/Track.mp4: 288x512 2 blue_cones, 8 yellow_cones, 5.1ms\n",
      "video 1/1 (frame 487/10797) /home/aditya/Downloads/Track.mp4: 288x512 2 blue_cones, 8 yellow_cones, 6.6ms\n",
      "video 1/1 (frame 488/10797) /home/aditya/Downloads/Track.mp4: 288x512 2 blue_cones, 8 yellow_cones, 5.2ms\n",
      "video 1/1 (frame 489/10797) /home/aditya/Downloads/Track.mp4: 288x512 2 blue_cones, 8 yellow_cones, 6.7ms\n",
      "video 1/1 (frame 490/10797) /home/aditya/Downloads/Track.mp4: 288x512 2 blue_cones, 9 yellow_cones, 6.7ms\n",
      "video 1/1 (frame 491/10797) /home/aditya/Downloads/Track.mp4: 288x512 2 blue_cones, 8 yellow_cones, 6.7ms\n",
      "video 1/1 (frame 492/10797) /home/aditya/Downloads/Track.mp4: 288x512 2 blue_cones, 8 yellow_cones, 6.5ms\n",
      "video 1/1 (frame 493/10797) /home/aditya/Downloads/Track.mp4: 288x512 2 blue_cones, 8 yellow_cones, 6.4ms\n",
      "video 1/1 (frame 494/10797) /home/aditya/Downloads/Track.mp4: 288x512 2 blue_cones, 7 yellow_cones, 5.3ms\n",
      "video 1/1 (frame 495/10797) /home/aditya/Downloads/Track.mp4: 288x512 2 blue_cones, 7 yellow_cones, 6.7ms\n",
      "video 1/1 (frame 496/10797) /home/aditya/Downloads/Track.mp4: 288x512 2 blue_cones, 8 yellow_cones, 6.5ms\n",
      "video 1/1 (frame 497/10797) /home/aditya/Downloads/Track.mp4: 288x512 2 blue_cones, 8 yellow_cones, 5.4ms\n",
      "video 1/1 (frame 498/10797) /home/aditya/Downloads/Track.mp4: 288x512 2 blue_cones, 8 yellow_cones, 6.5ms\n",
      "video 1/1 (frame 499/10797) /home/aditya/Downloads/Track.mp4: 288x512 1 blue_cone, 8 yellow_cones, 6.3ms\n",
      "video 1/1 (frame 500/10797) /home/aditya/Downloads/Track.mp4: 288x512 1 blue_cone, 8 yellow_cones, 6.6ms\n",
      "video 1/1 (frame 501/10797) /home/aditya/Downloads/Track.mp4: 288x512 1 blue_cone, 7 yellow_cones, 6.6ms\n",
      "video 1/1 (frame 502/10797) /home/aditya/Downloads/Track.mp4: 288x512 2 blue_cones, 7 yellow_cones, 6.3ms\n",
      "video 1/1 (frame 503/10797) /home/aditya/Downloads/Track.mp4: 288x512 2 blue_cones, 7 yellow_cones, 7.3ms\n",
      "video 1/1 (frame 504/10797) /home/aditya/Downloads/Track.mp4: 288x512 1 blue_cone, 1 large_orange_cone, 7 yellow_cones, 6.9ms\n",
      "video 1/1 (frame 505/10797) /home/aditya/Downloads/Track.mp4: 288x512 1 blue_cone, 7 yellow_cones, 5.1ms\n",
      "video 1/1 (frame 506/10797) /home/aditya/Downloads/Track.mp4: 288x512 1 blue_cone, 1 large_orange_cone, 8 yellow_cones, 6.8ms\n",
      "video 1/1 (frame 507/10797) /home/aditya/Downloads/Track.mp4: 288x512 2 blue_cones, 1 large_orange_cone, 8 yellow_cones, 6.6ms\n",
      "video 1/1 (frame 508/10797) /home/aditya/Downloads/Track.mp4: 288x512 2 blue_cones, 1 large_orange_cone, 8 yellow_cones, 6.9ms\n",
      "video 1/1 (frame 509/10797) /home/aditya/Downloads/Track.mp4: 288x512 3 blue_cones, 1 large_orange_cone, 8 yellow_cones, 7.0ms\n",
      "video 1/1 (frame 510/10797) /home/aditya/Downloads/Track.mp4: 288x512 2 blue_cones, 1 large_orange_cone, 8 yellow_cones, 5.0ms\n",
      "video 1/1 (frame 511/10797) /home/aditya/Downloads/Track.mp4: 288x512 2 blue_cones, 1 large_orange_cone, 6 yellow_cones, 6.6ms\n",
      "video 1/1 (frame 512/10797) /home/aditya/Downloads/Track.mp4: 288x512 2 blue_cones, 1 large_orange_cone, 5 yellow_cones, 6.5ms\n",
      "video 1/1 (frame 513/10797) /home/aditya/Downloads/Track.mp4: 288x512 1 blue_cone, 1 large_orange_cone, 6 yellow_cones, 5.0ms\n",
      "video 1/1 (frame 514/10797) /home/aditya/Downloads/Track.mp4: 288x512 2 blue_cones, 1 large_orange_cone, 6 yellow_cones, 5.1ms\n",
      "video 1/1 (frame 515/10797) /home/aditya/Downloads/Track.mp4: 288x512 2 blue_cones, 1 large_orange_cone, 6 yellow_cones, 6.6ms\n",
      "video 1/1 (frame 516/10797) /home/aditya/Downloads/Track.mp4: 288x512 3 blue_cones, 1 large_orange_cone, 6 yellow_cones, 6.5ms\n",
      "video 1/1 (frame 517/10797) /home/aditya/Downloads/Track.mp4: 288x512 1 blue_cone, 5 yellow_cones, 6.5ms\n",
      "video 1/1 (frame 518/10797) /home/aditya/Downloads/Track.mp4: 288x512 2 blue_cones, 4 yellow_cones, 6.9ms\n",
      "video 1/1 (frame 519/10797) /home/aditya/Downloads/Track.mp4: 288x512 3 blue_cones, 1 large_orange_cone, 4 yellow_cones, 5.1ms\n",
      "video 1/1 (frame 520/10797) /home/aditya/Downloads/Track.mp4: 288x512 3 blue_cones, 1 large_orange_cone, 4 yellow_cones, 6.6ms\n",
      "video 1/1 (frame 521/10797) /home/aditya/Downloads/Track.mp4: 288x512 3 blue_cones, 5 yellow_cones, 6.6ms\n",
      "video 1/1 (frame 522/10797) /home/aditya/Downloads/Track.mp4: 288x512 3 blue_cones, 4 yellow_cones, 6.6ms\n",
      "video 1/1 (frame 523/10797) /home/aditya/Downloads/Track.mp4: 288x512 3 blue_cones, 1 large_orange_cone, 6 yellow_cones, 6.7ms\n",
      "video 1/1 (frame 524/10797) /home/aditya/Downloads/Track.mp4: 288x512 1 blue_cone, 1 large_orange_cone, 4 yellow_cones, 6.5ms\n",
      "video 1/1 (frame 525/10797) /home/aditya/Downloads/Track.mp4: 288x512 2 blue_cones, 1 large_orange_cone, 8 yellow_cones, 6.5ms\n",
      "video 1/1 (frame 526/10797) /home/aditya/Downloads/Track.mp4: 288x512 2 blue_cones, 2 large_orange_cones, 7 yellow_cones, 6.3ms\n",
      "video 1/1 (frame 527/10797) /home/aditya/Downloads/Track.mp4: 288x512 3 blue_cones, 1 large_orange_cone, 5 yellow_cones, 5.3ms\n",
      "video 1/1 (frame 528/10797) /home/aditya/Downloads/Track.mp4: 288x512 3 blue_cones, 1 large_orange_cone, 8 yellow_cones, 5.1ms\n",
      "video 1/1 (frame 529/10797) /home/aditya/Downloads/Track.mp4: 288x512 2 blue_cones, 3 large_orange_cones, 8 yellow_cones, 5.1ms\n",
      "video 1/1 (frame 530/10797) /home/aditya/Downloads/Track.mp4: 288x512 3 blue_cones, 7 yellow_cones, 5.1ms\n",
      "video 1/1 (frame 531/10797) /home/aditya/Downloads/Track.mp4: 288x512 3 blue_cones, 1 large_orange_cone, 9 yellow_cones, 6.6ms\n",
      "video 1/1 (frame 532/10797) /home/aditya/Downloads/Track.mp4: 288x512 2 blue_cones, 1 large_orange_cone, 6 yellow_cones, 5.3ms\n",
      "video 1/1 (frame 533/10797) /home/aditya/Downloads/Track.mp4: 288x512 4 blue_cones, 4 yellow_cones, 5.1ms\n",
      "video 1/1 (frame 534/10797) /home/aditya/Downloads/Track.mp4: 288x512 4 blue_cones, 4 large_orange_cones, 6 yellow_cones, 5.1ms\n",
      "video 1/1 (frame 535/10797) /home/aditya/Downloads/Track.mp4: 288x512 2 blue_cones, 5 yellow_cones, 6.6ms\n",
      "video 1/1 (frame 536/10797) /home/aditya/Downloads/Track.mp4: 288x512 4 blue_cones, 1 large_orange_cone, 5 yellow_cones, 5.2ms\n",
      "video 1/1 (frame 537/10797) /home/aditya/Downloads/Track.mp4: 288x512 3 blue_cones, 1 large_orange_cone, 9 yellow_cones, 5.2ms\n",
      "video 1/1 (frame 538/10797) /home/aditya/Downloads/Track.mp4: 288x512 2 blue_cones, 3 yellow_cones, 5.1ms\n",
      "video 1/1 (frame 539/10797) /home/aditya/Downloads/Track.mp4: 288x512 2 blue_cones, 2 large_orange_cones, 4 yellow_cones, 5.2ms\n",
      "video 1/1 (frame 540/10797) /home/aditya/Downloads/Track.mp4: 288x512 3 blue_cones, 2 yellow_cones, 6.7ms\n",
      "video 1/1 (frame 541/10797) /home/aditya/Downloads/Track.mp4: 288x512 3 blue_cones, 3 yellow_cones, 5.2ms\n",
      "video 1/1 (frame 542/10797) /home/aditya/Downloads/Track.mp4: 288x512 3 blue_cones, 5 yellow_cones, 5.2ms\n",
      "video 1/1 (frame 543/10797) /home/aditya/Downloads/Track.mp4: 288x512 2 blue_cones, 6 yellow_cones, 5.2ms\n",
      "video 1/1 (frame 544/10797) /home/aditya/Downloads/Track.mp4: 288x512 3 blue_cones, 1 large_orange_cone, 6 yellow_cones, 7.3ms\n",
      "video 1/1 (frame 545/10797) /home/aditya/Downloads/Track.mp4: 288x512 3 blue_cones, 1 large_orange_cone, 7 yellow_cones, 5.1ms\n",
      "video 1/1 (frame 546/10797) /home/aditya/Downloads/Track.mp4: 288x512 4 blue_cones, 2 large_orange_cones, 7 yellow_cones, 5.2ms\n",
      "video 1/1 (frame 547/10797) /home/aditya/Downloads/Track.mp4: 288x512 3 blue_cones, 4 yellow_cones, 5.2ms\n",
      "video 1/1 (frame 548/10797) /home/aditya/Downloads/Track.mp4: 288x512 4 blue_cones, 1 large_orange_cone, 5 yellow_cones, 6.4ms\n",
      "video 1/1 (frame 549/10797) /home/aditya/Downloads/Track.mp4: 288x512 2 blue_cones, 6 yellow_cones, 5.2ms\n",
      "video 1/1 (frame 550/10797) /home/aditya/Downloads/Track.mp4: 288x512 2 blue_cones, 7 yellow_cones, 5.1ms\n",
      "video 1/1 (frame 551/10797) /home/aditya/Downloads/Track.mp4: 288x512 4 blue_cones, 7 yellow_cones, 5.2ms\n",
      "video 1/1 (frame 552/10797) /home/aditya/Downloads/Track.mp4: 288x512 3 blue_cones, 2 large_orange_cones, 6 yellow_cones, 5.2ms\n",
      "video 1/1 (frame 553/10797) /home/aditya/Downloads/Track.mp4: 288x512 4 blue_cones, 6 yellow_cones, 6.6ms\n",
      "video 1/1 (frame 554/10797) /home/aditya/Downloads/Track.mp4: 288x512 3 blue_cones, 1 large_orange_cone, 4 yellow_cones, 5.1ms\n",
      "video 1/1 (frame 555/10797) /home/aditya/Downloads/Track.mp4: 288x512 3 blue_cones, 1 large_orange_cone, 5 yellow_cones, 6.5ms\n",
      "video 1/1 (frame 556/10797) /home/aditya/Downloads/Track.mp4: 288x512 4 blue_cones, 2 large_orange_cones, 4 yellow_cones, 6.7ms\n",
      "video 1/1 (frame 557/10797) /home/aditya/Downloads/Track.mp4: 288x512 2 blue_cones, 1 large_orange_cone, 4 yellow_cones, 5.3ms\n",
      "video 1/1 (frame 558/10797) /home/aditya/Downloads/Track.mp4: 288x512 1 blue_cone, 2 large_orange_cones, 4 yellow_cones, 6.5ms\n",
      "video 1/1 (frame 559/10797) /home/aditya/Downloads/Track.mp4: 288x512 1 blue_cone, 1 large_orange_cone, 5 yellow_cones, 6.8ms\n",
      "video 1/1 (frame 560/10797) /home/aditya/Downloads/Track.mp4: 288x512 2 blue_cones, 1 large_orange_cone, 5 yellow_cones, 6.3ms\n",
      "video 1/1 (frame 561/10797) /home/aditya/Downloads/Track.mp4: 288x512 1 blue_cone, 5 yellow_cones, 5.4ms\n",
      "video 1/1 (frame 562/10797) /home/aditya/Downloads/Track.mp4: 288x512 1 large_orange_cone, 5 yellow_cones, 5.1ms\n",
      "video 1/1 (frame 563/10797) /home/aditya/Downloads/Track.mp4: 288x512 1 large_orange_cone, 3 yellow_cones, 6.7ms\n",
      "video 1/1 (frame 564/10797) /home/aditya/Downloads/Track.mp4: 288x512 1 blue_cone, 2 large_orange_cones, 3 yellow_cones, 7.1ms\n",
      "video 1/1 (frame 565/10797) /home/aditya/Downloads/Track.mp4: 288x512 1 blue_cone, 2 large_orange_cones, 3 yellow_cones, 6.7ms\n",
      "video 1/1 (frame 566/10797) /home/aditya/Downloads/Track.mp4: 288x512 1 blue_cone, 2 large_orange_cones, 4 yellow_cones, 6.9ms\n",
      "video 1/1 (frame 567/10797) /home/aditya/Downloads/Track.mp4: 288x512 1 blue_cone, 2 large_orange_cones, 3 yellow_cones, 6.8ms\n",
      "video 1/1 (frame 568/10797) /home/aditya/Downloads/Track.mp4: 288x512 2 blue_cones, 1 large_orange_cone, 2 yellow_cones, 5.2ms\n",
      "video 1/1 (frame 569/10797) /home/aditya/Downloads/Track.mp4: 288x512 2 blue_cones, 1 large_orange_cone, 3 yellow_cones, 6.2ms\n",
      "video 1/1 (frame 570/10797) /home/aditya/Downloads/Track.mp4: 288x512 2 blue_cones, 3 yellow_cones, 5.3ms\n",
      "video 1/1 (frame 571/10797) /home/aditya/Downloads/Track.mp4: 288x512 1 blue_cone, 4 yellow_cones, 6.6ms\n",
      "video 1/1 (frame 572/10797) /home/aditya/Downloads/Track.mp4: 288x512 1 blue_cone, 5 yellow_cones, 6.9ms\n",
      "video 1/1 (frame 573/10797) /home/aditya/Downloads/Track.mp4: 288x512 2 blue_cones, 5 yellow_cones, 5.2ms\n",
      "video 1/1 (frame 574/10797) /home/aditya/Downloads/Track.mp4: 288x512 1 blue_cone, 4 yellow_cones, 7.0ms\n",
      "video 1/1 (frame 575/10797) /home/aditya/Downloads/Track.mp4: 288x512 1 blue_cone, 5 yellow_cones, 5.9ms\n",
      "video 1/1 (frame 576/10797) /home/aditya/Downloads/Track.mp4: 288x512 2 blue_cones, 4 yellow_cones, 5.2ms\n",
      "video 1/1 (frame 577/10797) /home/aditya/Downloads/Track.mp4: 288x512 1 blue_cone, 4 yellow_cones, 6.8ms\n",
      "video 1/1 (frame 578/10797) /home/aditya/Downloads/Track.mp4: 288x512 1 blue_cone, 5 yellow_cones, 7.2ms\n",
      "video 1/1 (frame 579/10797) /home/aditya/Downloads/Track.mp4: 288x512 3 blue_cones, 4 yellow_cones, 5.1ms\n",
      "video 1/1 (frame 580/10797) /home/aditya/Downloads/Track.mp4: 288x512 3 blue_cones, 7 yellow_cones, 5.4ms\n",
      "video 1/1 (frame 581/10797) /home/aditya/Downloads/Track.mp4: 288x512 2 blue_cones, 7 yellow_cones, 7.2ms\n",
      "video 1/1 (frame 582/10797) /home/aditya/Downloads/Track.mp4: 288x512 1 blue_cone, 5 yellow_cones, 5.6ms\n",
      "video 1/1 (frame 583/10797) /home/aditya/Downloads/Track.mp4: 288x512 1 blue_cone, 5 yellow_cones, 5.3ms\n",
      "video 1/1 (frame 584/10797) /home/aditya/Downloads/Track.mp4: 288x512 2 blue_cones, 6 yellow_cones, 5.6ms\n",
      "video 1/1 (frame 585/10797) /home/aditya/Downloads/Track.mp4: 288x512 2 blue_cones, 4 yellow_cones, 6.7ms\n",
      "video 1/1 (frame 586/10797) /home/aditya/Downloads/Track.mp4: 288x512 2 blue_cones, 5 yellow_cones, 7.2ms\n",
      "video 1/1 (frame 587/10797) /home/aditya/Downloads/Track.mp4: 288x512 3 blue_cones, 5 yellow_cones, 6.7ms\n",
      "video 1/1 (frame 588/10797) /home/aditya/Downloads/Track.mp4: 288x512 2 blue_cones, 6 yellow_cones, 6.4ms\n",
      "video 1/1 (frame 589/10797) /home/aditya/Downloads/Track.mp4: 288x512 3 blue_cones, 5 yellow_cones, 6.7ms\n",
      "video 1/1 (frame 590/10797) /home/aditya/Downloads/Track.mp4: 288x512 1 blue_cone, 5 yellow_cones, 5.2ms\n",
      "video 1/1 (frame 591/10797) /home/aditya/Downloads/Track.mp4: 288x512 2 blue_cones, 5 yellow_cones, 6.7ms\n",
      "video 1/1 (frame 592/10797) /home/aditya/Downloads/Track.mp4: 288x512 2 blue_cones, 5 yellow_cones, 5.6ms\n",
      "video 1/1 (frame 593/10797) /home/aditya/Downloads/Track.mp4: 288x512 3 blue_cones, 4 yellow_cones, 6.6ms\n",
      "video 1/1 (frame 594/10797) /home/aditya/Downloads/Track.mp4: 288x512 3 blue_cones, 6 yellow_cones, 6.7ms\n",
      "video 1/1 (frame 595/10797) /home/aditya/Downloads/Track.mp4: 288x512 2 blue_cones, 4 yellow_cones, 5.2ms\n",
      "video 1/1 (frame 596/10797) /home/aditya/Downloads/Track.mp4: 288x512 2 blue_cones, 3 yellow_cones, 6.5ms\n",
      "video 1/1 (frame 597/10797) /home/aditya/Downloads/Track.mp4: 288x512 3 blue_cones, 3 yellow_cones, 6.8ms\n",
      "video 1/1 (frame 598/10797) /home/aditya/Downloads/Track.mp4: 288x512 2 blue_cones, 3 yellow_cones, 6.5ms\n",
      "video 1/1 (frame 599/10797) /home/aditya/Downloads/Track.mp4: 288x512 3 blue_cones, 7 yellow_cones, 6.9ms\n",
      "video 1/1 (frame 600/10797) /home/aditya/Downloads/Track.mp4: 288x512 2 blue_cones, 5 yellow_cones, 5.1ms\n",
      "video 1/1 (frame 601/10797) /home/aditya/Downloads/Track.mp4: 288x512 3 blue_cones, 6 yellow_cones, 5.3ms\n",
      "video 1/1 (frame 602/10797) /home/aditya/Downloads/Track.mp4: 288x512 3 blue_cones, 5 yellow_cones, 5.1ms\n",
      "video 1/1 (frame 603/10797) /home/aditya/Downloads/Track.mp4: 288x512 3 blue_cones, 6 yellow_cones, 5.1ms\n",
      "video 1/1 (frame 604/10797) /home/aditya/Downloads/Track.mp4: 288x512 3 blue_cones, 5 yellow_cones, 6.6ms\n",
      "video 1/1 (frame 605/10797) /home/aditya/Downloads/Track.mp4: 288x512 3 blue_cones, 4 yellow_cones, 6.9ms\n",
      "video 1/1 (frame 606/10797) /home/aditya/Downloads/Track.mp4: 288x512 1 blue_cone, 5 yellow_cones, 6.7ms\n",
      "video 1/1 (frame 607/10797) /home/aditya/Downloads/Track.mp4: 288x512 1 blue_cone, 4 yellow_cones, 6.8ms\n",
      "video 1/1 (frame 608/10797) /home/aditya/Downloads/Track.mp4: 288x512 1 blue_cone, 4 yellow_cones, 6.7ms\n",
      "video 1/1 (frame 609/10797) /home/aditya/Downloads/Track.mp4: 288x512 2 blue_cones, 4 yellow_cones, 5.3ms\n",
      "video 1/1 (frame 610/10797) /home/aditya/Downloads/Track.mp4: 288x512 2 blue_cones, 8 yellow_cones, 6.7ms\n",
      "video 1/1 (frame 611/10797) /home/aditya/Downloads/Track.mp4: 288x512 3 blue_cones, 6 yellow_cones, 5.3ms\n",
      "video 1/1 (frame 612/10797) /home/aditya/Downloads/Track.mp4: 288x512 3 blue_cones, 4 yellow_cones, 5.1ms\n",
      "video 1/1 (frame 613/10797) /home/aditya/Downloads/Track.mp4: 288x512 3 blue_cones, 6 yellow_cones, 5.2ms\n",
      "video 1/1 (frame 614/10797) /home/aditya/Downloads/Track.mp4: 288x512 3 blue_cones, 4 yellow_cones, 5.2ms\n",
      "video 1/1 (frame 615/10797) /home/aditya/Downloads/Track.mp4: 288x512 3 blue_cones, 4 yellow_cones, 6.2ms\n",
      "video 1/1 (frame 616/10797) /home/aditya/Downloads/Track.mp4: 288x512 2 blue_cones, 4 yellow_cones, 6.9ms\n",
      "video 1/1 (frame 617/10797) /home/aditya/Downloads/Track.mp4: 288x512 3 blue_cones, 5 yellow_cones, 5.1ms\n",
      "video 1/1 (frame 618/10797) /home/aditya/Downloads/Track.mp4: 288x512 2 blue_cones, 6 yellow_cones, 5.1ms\n",
      "video 1/1 (frame 619/10797) /home/aditya/Downloads/Track.mp4: 288x512 2 blue_cones, 6 yellow_cones, 6.8ms\n",
      "video 1/1 (frame 620/10797) /home/aditya/Downloads/Track.mp4: 288x512 3 blue_cones, 7 yellow_cones, 6.7ms\n",
      "video 1/1 (frame 621/10797) /home/aditya/Downloads/Track.mp4: 288x512 2 blue_cones, 8 yellow_cones, 5.1ms\n",
      "video 1/1 (frame 622/10797) /home/aditya/Downloads/Track.mp4: 288x512 5 blue_cones, 10 yellow_cones, 6.3ms\n",
      "video 1/1 (frame 623/10797) /home/aditya/Downloads/Track.mp4: 288x512 4 blue_cones, 9 yellow_cones, 6.4ms\n",
      "video 1/1 (frame 624/10797) /home/aditya/Downloads/Track.mp4: 288x512 3 blue_cones, 5 yellow_cones, 5.1ms\n",
      "video 1/1 (frame 625/10797) /home/aditya/Downloads/Track.mp4: 288x512 3 blue_cones, 3 yellow_cones, 6.6ms\n",
      "video 1/1 (frame 626/10797) /home/aditya/Downloads/Track.mp4: 288x512 2 blue_cones, 4 yellow_cones, 5.0ms\n",
      "video 1/1 (frame 627/10797) /home/aditya/Downloads/Track.mp4: 288x512 4 blue_cones, 6 yellow_cones, 6.8ms\n",
      "video 1/1 (frame 628/10797) /home/aditya/Downloads/Track.mp4: 288x512 3 blue_cones, 6 yellow_cones, 5.1ms\n",
      "video 1/1 (frame 629/10797) /home/aditya/Downloads/Track.mp4: 288x512 3 blue_cones, 8 yellow_cones, 5.2ms\n",
      "video 1/1 (frame 630/10797) /home/aditya/Downloads/Track.mp4: 288x512 2 blue_cones, 13 yellow_cones, 5.1ms\n",
      "video 1/1 (frame 631/10797) /home/aditya/Downloads/Track.mp4: 288x512 2 blue_cones, 8 yellow_cones, 5.4ms\n",
      "video 1/1 (frame 632/10797) /home/aditya/Downloads/Track.mp4: 288x512 3 blue_cones, 11 yellow_cones, 5.4ms\n",
      "video 1/1 (frame 633/10797) /home/aditya/Downloads/Track.mp4: 288x512 2 blue_cones, 11 yellow_cones, 5.2ms\n",
      "video 1/1 (frame 634/10797) /home/aditya/Downloads/Track.mp4: 288x512 2 blue_cones, 11 yellow_cones, 5.1ms\n",
      "video 1/1 (frame 635/10797) /home/aditya/Downloads/Track.mp4: 288x512 3 blue_cones, 10 yellow_cones, 5.0ms\n",
      "video 1/1 (frame 636/10797) /home/aditya/Downloads/Track.mp4: 288x512 3 blue_cones, 10 yellow_cones, 6.6ms\n",
      "video 1/1 (frame 637/10797) /home/aditya/Downloads/Track.mp4: 288x512 2 blue_cones, 9 yellow_cones, 5.5ms\n",
      "video 1/1 (frame 638/10797) /home/aditya/Downloads/Track.mp4: 288x512 2 blue_cones, 8 yellow_cones, 6.7ms\n",
      "video 1/1 (frame 639/10797) /home/aditya/Downloads/Track.mp4: 288x512 2 blue_cones, 8 yellow_cones, 7.1ms\n",
      "video 1/1 (frame 640/10797) /home/aditya/Downloads/Track.mp4: 288x512 2 blue_cones, 11 yellow_cones, 6.5ms\n",
      "video 1/1 (frame 641/10797) /home/aditya/Downloads/Track.mp4: 288x512 2 blue_cones, 8 yellow_cones, 7.0ms\n",
      "video 1/1 (frame 642/10797) /home/aditya/Downloads/Track.mp4: 288x512 3 blue_cones, 8 yellow_cones, 5.1ms\n",
      "video 1/1 (frame 643/10797) /home/aditya/Downloads/Track.mp4: 288x512 2 blue_cones, 11 yellow_cones, 5.1ms\n",
      "video 1/1 (frame 644/10797) /home/aditya/Downloads/Track.mp4: 288x512 2 blue_cones, 9 yellow_cones, 5.1ms\n",
      "video 1/1 (frame 645/10797) /home/aditya/Downloads/Track.mp4: 288x512 3 blue_cones, 9 yellow_cones, 5.0ms\n",
      "video 1/1 (frame 646/10797) /home/aditya/Downloads/Track.mp4: 288x512 4 blue_cones, 11 yellow_cones, 6.4ms\n",
      "video 1/1 (frame 647/10797) /home/aditya/Downloads/Track.mp4: 288x512 3 blue_cones, 14 yellow_cones, 6.4ms\n",
      "video 1/1 (frame 648/10797) /home/aditya/Downloads/Track.mp4: 288x512 4 blue_cones, 11 yellow_cones, 6.9ms\n",
      "video 1/1 (frame 649/10797) /home/aditya/Downloads/Track.mp4: 288x512 4 blue_cones, 9 yellow_cones, 5.2ms\n",
      "video 1/1 (frame 650/10797) /home/aditya/Downloads/Track.mp4: 288x512 3 blue_cones, 13 yellow_cones, 5.2ms\n",
      "video 1/1 (frame 651/10797) /home/aditya/Downloads/Track.mp4: 288x512 4 blue_cones, 10 yellow_cones, 5.3ms\n",
      "video 1/1 (frame 652/10797) /home/aditya/Downloads/Track.mp4: 288x512 3 blue_cones, 10 yellow_cones, 6.8ms\n",
      "video 1/1 (frame 653/10797) /home/aditya/Downloads/Track.mp4: 288x512 5 blue_cones, 8 yellow_cones, 5.1ms\n",
      "video 1/1 (frame 654/10797) /home/aditya/Downloads/Track.mp4: 288x512 4 blue_cones, 8 yellow_cones, 5.3ms\n",
      "video 1/1 (frame 655/10797) /home/aditya/Downloads/Track.mp4: 288x512 3 blue_cones, 10 yellow_cones, 5.3ms\n",
      "video 1/1 (frame 656/10797) /home/aditya/Downloads/Track.mp4: 288x512 3 blue_cones, 11 yellow_cones, 5.4ms\n",
      "video 1/1 (frame 657/10797) /home/aditya/Downloads/Track.mp4: 288x512 4 blue_cones, 8 yellow_cones, 6.8ms\n",
      "video 1/1 (frame 658/10797) /home/aditya/Downloads/Track.mp4: 288x512 3 blue_cones, 11 yellow_cones, 5.2ms\n",
      "video 1/1 (frame 659/10797) /home/aditya/Downloads/Track.mp4: 288x512 2 blue_cones, 10 yellow_cones, 5.1ms\n",
      "video 1/1 (frame 660/10797) /home/aditya/Downloads/Track.mp4: 288x512 2 blue_cones, 8 yellow_cones, 5.2ms\n",
      "video 1/1 (frame 661/10797) /home/aditya/Downloads/Track.mp4: 288x512 2 blue_cones, 7 yellow_cones, 5.2ms\n",
      "video 1/1 (frame 662/10797) /home/aditya/Downloads/Track.mp4: 288x512 3 blue_cones, 11 yellow_cones, 5.2ms\n",
      "video 1/1 (frame 663/10797) /home/aditya/Downloads/Track.mp4: 288x512 5 blue_cones, 10 yellow_cones, 5.1ms\n",
      "video 1/1 (frame 664/10797) /home/aditya/Downloads/Track.mp4: 288x512 6 blue_cones, 7 yellow_cones, 5.8ms\n",
      "video 1/1 (frame 665/10797) /home/aditya/Downloads/Track.mp4: 288x512 4 blue_cones, 7 yellow_cones, 5.2ms\n",
      "video 1/1 (frame 666/10797) /home/aditya/Downloads/Track.mp4: 288x512 5 blue_cones, 6 yellow_cones, 5.4ms\n",
      "video 1/1 (frame 667/10797) /home/aditya/Downloads/Track.mp4: 288x512 4 blue_cones, 5 yellow_cones, 5.0ms\n",
      "video 1/1 (frame 668/10797) /home/aditya/Downloads/Track.mp4: 288x512 4 blue_cones, 8 yellow_cones, 5.9ms\n",
      "video 1/1 (frame 669/10797) /home/aditya/Downloads/Track.mp4: 288x512 4 blue_cones, 10 yellow_cones, 5.1ms\n",
      "video 1/1 (frame 670/10797) /home/aditya/Downloads/Track.mp4: 288x512 4 blue_cones, 8 yellow_cones, 5.2ms\n",
      "video 1/1 (frame 671/10797) /home/aditya/Downloads/Track.mp4: 288x512 4 blue_cones, 9 yellow_cones, 5.2ms\n",
      "video 1/1 (frame 672/10797) /home/aditya/Downloads/Track.mp4: 288x512 4 blue_cones, 8 yellow_cones, 5.5ms\n",
      "video 1/1 (frame 673/10797) /home/aditya/Downloads/Track.mp4: 288x512 4 blue_cones, 7 yellow_cones, 5.2ms\n",
      "video 1/1 (frame 674/10797) /home/aditya/Downloads/Track.mp4: 288x512 5 blue_cones, 8 yellow_cones, 5.6ms\n",
      "video 1/1 (frame 675/10797) /home/aditya/Downloads/Track.mp4: 288x512 4 blue_cones, 7 yellow_cones, 6.6ms\n",
      "video 1/1 (frame 676/10797) /home/aditya/Downloads/Track.mp4: 288x512 4 blue_cones, 5 yellow_cones, 7.2ms\n",
      "video 1/1 (frame 677/10797) /home/aditya/Downloads/Track.mp4: 288x512 6 blue_cones, 4 yellow_cones, 6.5ms\n",
      "video 1/1 (frame 678/10797) /home/aditya/Downloads/Track.mp4: 288x512 5 blue_cones, 5 yellow_cones, 6.7ms\n",
      "video 1/1 (frame 679/10797) /home/aditya/Downloads/Track.mp4: 288x512 6 blue_cones, 6 yellow_cones, 6.6ms\n",
      "video 1/1 (frame 680/10797) /home/aditya/Downloads/Track.mp4: 288x512 6 blue_cones, 6 yellow_cones, 5.4ms\n",
      "video 1/1 (frame 681/10797) /home/aditya/Downloads/Track.mp4: 288x512 6 blue_cones, 6 yellow_cones, 5.1ms\n",
      "video 1/1 (frame 682/10797) /home/aditya/Downloads/Track.mp4: 288x512 6 blue_cones, 6 yellow_cones, 6.6ms\n",
      "video 1/1 (frame 683/10797) /home/aditya/Downloads/Track.mp4: 288x512 6 blue_cones, 6 yellow_cones, 5.3ms\n",
      "video 1/1 (frame 684/10797) /home/aditya/Downloads/Track.mp4: 288x512 6 blue_cones, 6 yellow_cones, 5.3ms\n",
      "video 1/1 (frame 685/10797) /home/aditya/Downloads/Track.mp4: 288x512 6 blue_cones, 5 yellow_cones, 5.2ms\n",
      "video 1/1 (frame 686/10797) /home/aditya/Downloads/Track.mp4: 288x512 6 blue_cones, 4 yellow_cones, 5.2ms\n",
      "video 1/1 (frame 687/10797) /home/aditya/Downloads/Track.mp4: 288x512 6 blue_cones, 6 yellow_cones, 7.5ms\n",
      "video 1/1 (frame 688/10797) /home/aditya/Downloads/Track.mp4: 288x512 6 blue_cones, 6 yellow_cones, 6.7ms\n",
      "video 1/1 (frame 689/10797) /home/aditya/Downloads/Track.mp4: 288x512 5 blue_cones, 5 yellow_cones, 6.4ms\n",
      "video 1/1 (frame 690/10797) /home/aditya/Downloads/Track.mp4: 288x512 5 blue_cones, 4 yellow_cones, 5.3ms\n",
      "video 1/1 (frame 691/10797) /home/aditya/Downloads/Track.mp4: 288x512 5 blue_cones, 7 yellow_cones, 5.2ms\n",
      "video 1/1 (frame 692/10797) /home/aditya/Downloads/Track.mp4: 288x512 5 blue_cones, 6 yellow_cones, 6.6ms\n",
      "video 1/1 (frame 693/10797) /home/aditya/Downloads/Track.mp4: 288x512 6 blue_cones, 6 yellow_cones, 5.9ms\n",
      "video 1/1 (frame 694/10797) /home/aditya/Downloads/Track.mp4: 288x512 5 blue_cones, 4 yellow_cones, 5.5ms\n",
      "video 1/1 (frame 695/10797) /home/aditya/Downloads/Track.mp4: 288x512 2 blue_cones, 4 yellow_cones, 6.8ms\n",
      "video 1/1 (frame 696/10797) /home/aditya/Downloads/Track.mp4: 288x512 3 blue_cones, 4 yellow_cones, 5.9ms\n",
      "video 1/1 (frame 697/10797) /home/aditya/Downloads/Track.mp4: 288x512 4 blue_cones, 5 yellow_cones, 6.8ms\n",
      "video 1/1 (frame 698/10797) /home/aditya/Downloads/Track.mp4: 288x512 6 blue_cones, 3 yellow_cones, 5.6ms\n",
      "video 1/1 (frame 699/10797) /home/aditya/Downloads/Track.mp4: 288x512 3 blue_cones, 4 yellow_cones, 5.2ms\n",
      "video 1/1 (frame 700/10797) /home/aditya/Downloads/Track.mp4: 288x512 2 blue_cones, 4 yellow_cones, 6.7ms\n",
      "video 1/1 (frame 701/10797) /home/aditya/Downloads/Track.mp4: 288x512 4 blue_cones, 1 yellow_cone, 5.4ms\n",
      "video 1/1 (frame 702/10797) /home/aditya/Downloads/Track.mp4: 288x512 3 blue_cones, 2 yellow_cones, 6.6ms\n",
      "video 1/1 (frame 703/10797) /home/aditya/Downloads/Track.mp4: 288x512 3 blue_cones, 3 yellow_cones, 5.6ms\n",
      "video 1/1 (frame 704/10797) /home/aditya/Downloads/Track.mp4: 288x512 5 blue_cones, 2 yellow_cones, 7.2ms\n",
      "video 1/1 (frame 705/10797) /home/aditya/Downloads/Track.mp4: 288x512 3 blue_cones, 2 yellow_cones, 7.0ms\n",
      "video 1/1 (frame 706/10797) /home/aditya/Downloads/Track.mp4: 288x512 3 blue_cones, 5 yellow_cones, 5.4ms\n",
      "video 1/1 (frame 707/10797) /home/aditya/Downloads/Track.mp4: 288x512 3 blue_cones, 5 yellow_cones, 6.7ms\n",
      "video 1/1 (frame 708/10797) /home/aditya/Downloads/Track.mp4: 288x512 4 blue_cones, 5 yellow_cones, 5.1ms\n",
      "video 1/1 (frame 709/10797) /home/aditya/Downloads/Track.mp4: 288x512 2 blue_cones, 5 yellow_cones, 6.3ms\n",
      "video 1/1 (frame 710/10797) /home/aditya/Downloads/Track.mp4: 288x512 3 blue_cones, 5 yellow_cones, 6.6ms\n",
      "video 1/1 (frame 711/10797) /home/aditya/Downloads/Track.mp4: 288x512 3 blue_cones, 5 yellow_cones, 5.6ms\n",
      "video 1/1 (frame 712/10797) /home/aditya/Downloads/Track.mp4: 288x512 2 blue_cones, 5 yellow_cones, 5.3ms\n",
      "video 1/1 (frame 713/10797) /home/aditya/Downloads/Track.mp4: 288x512 2 blue_cones, 5 yellow_cones, 5.9ms\n",
      "video 1/1 (frame 714/10797) /home/aditya/Downloads/Track.mp4: 288x512 2 blue_cones, 4 yellow_cones, 5.1ms\n",
      "video 1/1 (frame 715/10797) /home/aditya/Downloads/Track.mp4: 288x512 3 blue_cones, 5 yellow_cones, 6.5ms\n",
      "video 1/1 (frame 716/10797) /home/aditya/Downloads/Track.mp4: 288x512 3 blue_cones, 5 yellow_cones, 5.1ms\n",
      "video 1/1 (frame 717/10797) /home/aditya/Downloads/Track.mp4: 288x512 3 blue_cones, 3 yellow_cones, 6.8ms\n",
      "video 1/1 (frame 718/10797) /home/aditya/Downloads/Track.mp4: 288x512 3 blue_cones, 3 yellow_cones, 5.0ms\n",
      "video 1/1 (frame 719/10797) /home/aditya/Downloads/Track.mp4: 288x512 2 blue_cones, 3 yellow_cones, 6.8ms\n",
      "video 1/1 (frame 720/10797) /home/aditya/Downloads/Track.mp4: 288x512 1 blue_cone, 2 yellow_cones, 5.1ms\n",
      "video 1/1 (frame 721/10797) /home/aditya/Downloads/Track.mp4: 288x512 1 blue_cone, 2 yellow_cones, 6.6ms\n",
      "video 1/1 (frame 722/10797) /home/aditya/Downloads/Track.mp4: 288x512 1 blue_cone, 3 yellow_cones, 5.2ms\n",
      "video 1/1 (frame 723/10797) /home/aditya/Downloads/Track.mp4: 288x512 2 blue_cones, 3 yellow_cones, 6.4ms\n",
      "video 1/1 (frame 724/10797) /home/aditya/Downloads/Track.mp4: 288x512 2 blue_cones, 2 yellow_cones, 6.8ms\n",
      "video 1/1 (frame 725/10797) /home/aditya/Downloads/Track.mp4: 288x512 2 blue_cones, 3 yellow_cones, 8.0ms\n",
      "video 1/1 (frame 726/10797) /home/aditya/Downloads/Track.mp4: 288x512 2 blue_cones, 3 yellow_cones, 6.7ms\n",
      "video 1/1 (frame 727/10797) /home/aditya/Downloads/Track.mp4: 288x512 2 blue_cones, 2 yellow_cones, 5.9ms\n",
      "video 1/1 (frame 728/10797) /home/aditya/Downloads/Track.mp4: 288x512 2 blue_cones, 3 yellow_cones, 5.3ms\n",
      "video 1/1 (frame 729/10797) /home/aditya/Downloads/Track.mp4: 288x512 2 blue_cones, 3 yellow_cones, 6.6ms\n",
      "video 1/1 (frame 730/10797) /home/aditya/Downloads/Track.mp4: 288x512 2 blue_cones, 2 yellow_cones, 6.5ms\n",
      "video 1/1 (frame 731/10797) /home/aditya/Downloads/Track.mp4: 288x512 2 blue_cones, 2 yellow_cones, 6.2ms\n",
      "video 1/1 (frame 732/10797) /home/aditya/Downloads/Track.mp4: 288x512 2 blue_cones, 2 yellow_cones, 6.6ms\n",
      "video 1/1 (frame 733/10797) /home/aditya/Downloads/Track.mp4: 288x512 1 blue_cone, 2 yellow_cones, 6.8ms\n",
      "video 1/1 (frame 734/10797) /home/aditya/Downloads/Track.mp4: 288x512 2 blue_cones, 3 yellow_cones, 5.3ms\n",
      "video 1/1 (frame 735/10797) /home/aditya/Downloads/Track.mp4: 288x512 2 blue_cones, 3 yellow_cones, 5.9ms\n",
      "video 1/1 (frame 736/10797) /home/aditya/Downloads/Track.mp4: 288x512 2 blue_cones, 3 yellow_cones, 6.8ms\n",
      "video 1/1 (frame 737/10797) /home/aditya/Downloads/Track.mp4: 288x512 2 blue_cones, 5 yellow_cones, 6.9ms\n",
      "video 1/1 (frame 738/10797) /home/aditya/Downloads/Track.mp4: 288x512 2 blue_cones, 5 yellow_cones, 5.2ms\n",
      "video 1/1 (frame 739/10797) /home/aditya/Downloads/Track.mp4: 288x512 1 blue_cone, 3 yellow_cones, 6.4ms\n",
      "video 1/1 (frame 740/10797) /home/aditya/Downloads/Track.mp4: 288x512 1 blue_cone, 3 yellow_cones, 5.3ms\n",
      "video 1/1 (frame 741/10797) /home/aditya/Downloads/Track.mp4: 288x512 5 blue_cones, 7 yellow_cones, 6.9ms\n",
      "video 1/1 (frame 742/10797) /home/aditya/Downloads/Track.mp4: 288x512 5 blue_cones, 6 yellow_cones, 6.5ms\n",
      "video 1/1 (frame 743/10797) /home/aditya/Downloads/Track.mp4: 288x512 4 blue_cones, 6 yellow_cones, 6.2ms\n",
      "video 1/1 (frame 744/10797) /home/aditya/Downloads/Track.mp4: 288x512 8 blue_cones, 4 yellow_cones, 6.4ms\n",
      "video 1/1 (frame 745/10797) /home/aditya/Downloads/Track.mp4: 288x512 7 blue_cones, 3 yellow_cones, 5.2ms\n",
      "video 1/1 (frame 746/10797) /home/aditya/Downloads/Track.mp4: 288x512 8 blue_cones, 5 yellow_cones, 6.9ms\n",
      "video 1/1 (frame 747/10797) /home/aditya/Downloads/Track.mp4: 288x512 6 blue_cones, 6 yellow_cones, 5.5ms\n",
      "video 1/1 (frame 748/10797) /home/aditya/Downloads/Track.mp4: 288x512 9 blue_cones, 5 yellow_cones, 6.5ms\n",
      "video 1/1 (frame 749/10797) /home/aditya/Downloads/Track.mp4: 288x512 8 blue_cones, 8 yellow_cones, 6.8ms\n",
      "video 1/1 (frame 750/10797) /home/aditya/Downloads/Track.mp4: 288x512 7 blue_cones, 6 yellow_cones, 5.1ms\n",
      "video 1/1 (frame 751/10797) /home/aditya/Downloads/Track.mp4: 288x512 9 blue_cones, 6 yellow_cones, 6.5ms\n",
      "video 1/1 (frame 752/10797) /home/aditya/Downloads/Track.mp4: 288x512 7 blue_cones, 6 yellow_cones, 5.1ms\n",
      "video 1/1 (frame 753/10797) /home/aditya/Downloads/Track.mp4: 288x512 7 blue_cones, 6 yellow_cones, 6.5ms\n",
      "video 1/1 (frame 754/10797) /home/aditya/Downloads/Track.mp4: 288x512 9 blue_cones, 9 yellow_cones, 6.7ms\n",
      "video 1/1 (frame 755/10797) /home/aditya/Downloads/Track.mp4: 288x512 9 blue_cones, 7 yellow_cones, 5.1ms\n",
      "video 1/1 (frame 756/10797) /home/aditya/Downloads/Track.mp4: 288x512 10 blue_cones, 7 yellow_cones, 5.5ms\n",
      "video 1/1 (frame 757/10797) /home/aditya/Downloads/Track.mp4: 288x512 8 blue_cones, 7 yellow_cones, 5.1ms\n",
      "video 1/1 (frame 758/10797) /home/aditya/Downloads/Track.mp4: 288x512 7 blue_cones, 9 yellow_cones, 5.6ms\n",
      "video 1/1 (frame 759/10797) /home/aditya/Downloads/Track.mp4: 288x512 8 blue_cones, 8 yellow_cones, 6.5ms\n",
      "video 1/1 (frame 760/10797) /home/aditya/Downloads/Track.mp4: 288x512 8 blue_cones, 7 yellow_cones, 5.0ms\n",
      "video 1/1 (frame 761/10797) /home/aditya/Downloads/Track.mp4: 288x512 7 blue_cones, 10 yellow_cones, 5.7ms\n",
      "video 1/1 (frame 762/10797) /home/aditya/Downloads/Track.mp4: 288x512 7 blue_cones, 9 yellow_cones, 5.1ms\n",
      "video 1/1 (frame 763/10797) /home/aditya/Downloads/Track.mp4: 288x512 8 blue_cones, 10 yellow_cones, 5.5ms\n",
      "video 1/1 (frame 764/10797) /home/aditya/Downloads/Track.mp4: 288x512 7 blue_cones, 10 yellow_cones, 5.2ms\n",
      "video 1/1 (frame 765/10797) /home/aditya/Downloads/Track.mp4: 288x512 6 blue_cones, 8 yellow_cones, 5.0ms\n",
      "video 1/1 (frame 766/10797) /home/aditya/Downloads/Track.mp4: 288x512 6 blue_cones, 12 yellow_cones, 5.0ms\n",
      "video 1/1 (frame 767/10797) /home/aditya/Downloads/Track.mp4: 288x512 7 blue_cones, 10 yellow_cones, 5.8ms\n",
      "video 1/1 (frame 768/10797) /home/aditya/Downloads/Track.mp4: 288x512 6 blue_cones, 5 yellow_cones, 5.1ms\n",
      "video 1/1 (frame 769/10797) /home/aditya/Downloads/Track.mp4: 288x512 5 blue_cones, 5 yellow_cones, 5.9ms\n",
      "video 1/1 (frame 770/10797) /home/aditya/Downloads/Track.mp4: 288x512 6 blue_cones, 5 yellow_cones, 5.1ms\n",
      "video 1/1 (frame 771/10797) /home/aditya/Downloads/Track.mp4: 288x512 7 blue_cones, 5 yellow_cones, 5.6ms\n",
      "video 1/1 (frame 772/10797) /home/aditya/Downloads/Track.mp4: 288x512 8 blue_cones, 7 yellow_cones, 6.8ms\n",
      "video 1/1 (frame 773/10797) /home/aditya/Downloads/Track.mp4: 288x512 8 blue_cones, 6 yellow_cones, 5.2ms\n",
      "video 1/1 (frame 774/10797) /home/aditya/Downloads/Track.mp4: 288x512 8 blue_cones, 9 yellow_cones, 5.2ms\n",
      "video 1/1 (frame 775/10797) /home/aditya/Downloads/Track.mp4: 288x512 8 blue_cones, 9 yellow_cones, 5.2ms\n",
      "video 1/1 (frame 776/10797) /home/aditya/Downloads/Track.mp4: 288x512 9 blue_cones, 10 yellow_cones, 5.4ms\n",
      "video 1/1 (frame 777/10797) /home/aditya/Downloads/Track.mp4: 288x512 9 blue_cones, 10 yellow_cones, 6.4ms\n",
      "video 1/1 (frame 778/10797) /home/aditya/Downloads/Track.mp4: 288x512 9 blue_cones, 7 yellow_cones, 5.2ms\n",
      "video 1/1 (frame 779/10797) /home/aditya/Downloads/Track.mp4: 288x512 7 blue_cones, 6 yellow_cones, 6.1ms\n",
      "video 1/1 (frame 780/10797) /home/aditya/Downloads/Track.mp4: 288x512 9 blue_cones, 6 yellow_cones, 5.1ms\n",
      "video 1/1 (frame 781/10797) /home/aditya/Downloads/Track.mp4: 288x512 8 blue_cones, 7 yellow_cones, 6.4ms\n",
      "video 1/1 (frame 782/10797) /home/aditya/Downloads/Track.mp4: 288x512 6 blue_cones, 5 yellow_cones, 6.7ms\n",
      "video 1/1 (frame 783/10797) /home/aditya/Downloads/Track.mp4: 288x512 10 blue_cones, 3 yellow_cones, 6.6ms\n",
      "video 1/1 (frame 784/10797) /home/aditya/Downloads/Track.mp4: 288x512 8 blue_cones, 4 yellow_cones, 6.8ms\n",
      "video 1/1 (frame 785/10797) /home/aditya/Downloads/Track.mp4: 288x512 9 blue_cones, 4 yellow_cones, 7.1ms\n",
      "video 1/1 (frame 786/10797) /home/aditya/Downloads/Track.mp4: 288x512 6 blue_cones, 6 yellow_cones, 5.2ms\n",
      "video 1/1 (frame 787/10797) /home/aditya/Downloads/Track.mp4: 288x512 11 blue_cones, 5 yellow_cones, 6.6ms\n",
      "video 1/1 (frame 788/10797) /home/aditya/Downloads/Track.mp4: 288x512 8 blue_cones, 4 yellow_cones, 6.5ms\n",
      "video 1/1 (frame 789/10797) /home/aditya/Downloads/Track.mp4: 288x512 7 blue_cones, 5 yellow_cones, 6.6ms\n",
      "video 1/1 (frame 790/10797) /home/aditya/Downloads/Track.mp4: 288x512 5 blue_cones, 4 yellow_cones, 6.6ms\n",
      "video 1/1 (frame 791/10797) /home/aditya/Downloads/Track.mp4: 288x512 8 blue_cones, 4 yellow_cones, 5.0ms\n",
      "video 1/1 (frame 792/10797) /home/aditya/Downloads/Track.mp4: 288x512 8 blue_cones, 4 yellow_cones, 5.4ms\n",
      "video 1/1 (frame 793/10797) /home/aditya/Downloads/Track.mp4: 288x512 3 blue_cones, 6 yellow_cones, 7.0ms\n",
      "video 1/1 (frame 794/10797) /home/aditya/Downloads/Track.mp4: 288x512 4 blue_cones, 4 yellow_cones, 5.2ms\n",
      "video 1/1 (frame 795/10797) /home/aditya/Downloads/Track.mp4: 288x512 4 blue_cones, 4 yellow_cones, 7.0ms\n",
      "video 1/1 (frame 796/10797) /home/aditya/Downloads/Track.mp4: 288x512 6 blue_cones, 4 yellow_cones, 6.7ms\n",
      "video 1/1 (frame 797/10797) /home/aditya/Downloads/Track.mp4: 288x512 5 blue_cones, 5 yellow_cones, 6.6ms\n",
      "video 1/1 (frame 798/10797) /home/aditya/Downloads/Track.mp4: 288x512 5 blue_cones, 5 yellow_cones, 6.6ms\n",
      "video 1/1 (frame 799/10797) /home/aditya/Downloads/Track.mp4: 288x512 5 blue_cones, 6 yellow_cones, 5.1ms\n",
      "video 1/1 (frame 800/10797) /home/aditya/Downloads/Track.mp4: 288x512 4 blue_cones, 5 yellow_cones, 6.5ms\n",
      "video 1/1 (frame 801/10797) /home/aditya/Downloads/Track.mp4: 288x512 3 blue_cones, 5 yellow_cones, 5.3ms\n",
      "video 1/1 (frame 802/10797) /home/aditya/Downloads/Track.mp4: 288x512 4 blue_cones, 6 yellow_cones, 5.3ms\n",
      "video 1/1 (frame 803/10797) /home/aditya/Downloads/Track.mp4: 288x512 4 blue_cones, 7 yellow_cones, 5.3ms\n",
      "video 1/1 (frame 804/10797) /home/aditya/Downloads/Track.mp4: 288x512 4 blue_cones, 3 yellow_cones, 5.5ms\n",
      "video 1/1 (frame 805/10797) /home/aditya/Downloads/Track.mp4: 288x512 4 blue_cones, 10 yellow_cones, 7.1ms\n",
      "video 1/1 (frame 806/10797) /home/aditya/Downloads/Track.mp4: 288x512 4 blue_cones, 8 yellow_cones, 6.9ms\n",
      "video 1/1 (frame 807/10797) /home/aditya/Downloads/Track.mp4: 288x512 5 blue_cones, 6 yellow_cones, 6.4ms\n",
      "video 1/1 (frame 808/10797) /home/aditya/Downloads/Track.mp4: 288x512 5 blue_cones, 6 yellow_cones, 5.6ms\n",
      "video 1/1 (frame 809/10797) /home/aditya/Downloads/Track.mp4: 288x512 4 blue_cones, 5 yellow_cones, 6.8ms\n",
      "video 1/1 (frame 810/10797) /home/aditya/Downloads/Track.mp4: 288x512 3 blue_cones, 5 yellow_cones, 7.2ms\n",
      "video 1/1 (frame 811/10797) /home/aditya/Downloads/Track.mp4: 288x512 2 blue_cones, 7 yellow_cones, 6.4ms\n",
      "video 1/1 (frame 812/10797) /home/aditya/Downloads/Track.mp4: 288x512 4 blue_cones, 7 yellow_cones, 6.6ms\n",
      "video 1/1 (frame 813/10797) /home/aditya/Downloads/Track.mp4: 288x512 5 blue_cones, 6 yellow_cones, 5.3ms\n",
      "video 1/1 (frame 814/10797) /home/aditya/Downloads/Track.mp4: 288x512 4 blue_cones, 6 yellow_cones, 5.0ms\n",
      "video 1/1 (frame 815/10797) /home/aditya/Downloads/Track.mp4: 288x512 4 blue_cones, 4 yellow_cones, 6.8ms\n",
      "video 1/1 (frame 816/10797) /home/aditya/Downloads/Track.mp4: 288x512 4 blue_cones, 5 yellow_cones, 5.6ms\n",
      "video 1/1 (frame 817/10797) /home/aditya/Downloads/Track.mp4: 288x512 4 blue_cones, 4 yellow_cones, 6.8ms\n",
      "video 1/1 (frame 818/10797) /home/aditya/Downloads/Track.mp4: 288x512 3 blue_cones, 6 yellow_cones, 6.8ms\n",
      "video 1/1 (frame 819/10797) /home/aditya/Downloads/Track.mp4: 288x512 2 blue_cones, 4 yellow_cones, 6.6ms\n",
      "video 1/1 (frame 820/10797) /home/aditya/Downloads/Track.mp4: 288x512 2 blue_cones, 8 yellow_cones, 6.8ms\n",
      "video 1/1 (frame 821/10797) /home/aditya/Downloads/Track.mp4: 288x512 1 blue_cone, 5 yellow_cones, 5.5ms\n",
      "video 1/1 (frame 822/10797) /home/aditya/Downloads/Track.mp4: 288x512 2 blue_cones, 6 yellow_cones, 6.7ms\n",
      "video 1/1 (frame 823/10797) /home/aditya/Downloads/Track.mp4: 288x512 3 blue_cones, 5 yellow_cones, 5.1ms\n",
      "video 1/1 (frame 824/10797) /home/aditya/Downloads/Track.mp4: 288x512 4 blue_cones, 2 yellow_cones, 6.7ms\n",
      "video 1/1 (frame 825/10797) /home/aditya/Downloads/Track.mp4: 288x512 3 blue_cones, 1 yellow_cone, 5.1ms\n",
      "video 1/1 (frame 826/10797) /home/aditya/Downloads/Track.mp4: 288x512 4 blue_cones, 2 yellow_cones, 6.0ms\n",
      "video 1/1 (frame 827/10797) /home/aditya/Downloads/Track.mp4: 288x512 4 blue_cones, 6 yellow_cones, 5.8ms\n",
      "video 1/1 (frame 828/10797) /home/aditya/Downloads/Track.mp4: 288x512 5 blue_cones, 5 yellow_cones, 5.6ms\n",
      "video 1/1 (frame 829/10797) /home/aditya/Downloads/Track.mp4: 288x512 6 blue_cones, 4 yellow_cones, 6.3ms\n",
      "video 1/1 (frame 830/10797) /home/aditya/Downloads/Track.mp4: 288x512 5 blue_cones, 4 yellow_cones, 6.5ms\n",
      "video 1/1 (frame 831/10797) /home/aditya/Downloads/Track.mp4: 288x512 5 blue_cones, 4 yellow_cones, 6.7ms\n",
      "video 1/1 (frame 832/10797) /home/aditya/Downloads/Track.mp4: 288x512 5 blue_cones, 4 yellow_cones, 6.7ms\n",
      "video 1/1 (frame 833/10797) /home/aditya/Downloads/Track.mp4: 288x512 6 blue_cones, 5 yellow_cones, 5.6ms\n",
      "video 1/1 (frame 834/10797) /home/aditya/Downloads/Track.mp4: 288x512 6 blue_cones, 8 yellow_cones, 6.7ms\n",
      "video 1/1 (frame 835/10797) /home/aditya/Downloads/Track.mp4: 288x512 5 blue_cones, 7 yellow_cones, 6.5ms\n",
      "video 1/1 (frame 836/10797) /home/aditya/Downloads/Track.mp4: 288x512 5 blue_cones, 6 yellow_cones, 6.5ms\n",
      "video 1/1 (frame 837/10797) /home/aditya/Downloads/Track.mp4: 288x512 5 blue_cones, 7 yellow_cones, 6.5ms\n",
      "video 1/1 (frame 838/10797) /home/aditya/Downloads/Track.mp4: 288x512 4 blue_cones, 5 yellow_cones, 6.5ms\n",
      "video 1/1 (frame 839/10797) /home/aditya/Downloads/Track.mp4: 288x512 5 blue_cones, 6 yellow_cones, 6.6ms\n",
      "video 1/1 (frame 840/10797) /home/aditya/Downloads/Track.mp4: 288x512 5 blue_cones, 5 yellow_cones, 5.3ms\n",
      "video 1/1 (frame 841/10797) /home/aditya/Downloads/Track.mp4: 288x512 5 blue_cones, 3 yellow_cones, 6.9ms\n",
      "video 1/1 (frame 842/10797) /home/aditya/Downloads/Track.mp4: 288x512 3 blue_cones, 4 yellow_cones, 7.1ms\n",
      "video 1/1 (frame 843/10797) /home/aditya/Downloads/Track.mp4: 288x512 3 blue_cones, 9 yellow_cones, 7.0ms\n",
      "video 1/1 (frame 844/10797) /home/aditya/Downloads/Track.mp4: 288x512 3 blue_cones, 8 yellow_cones, 6.5ms\n",
      "video 1/1 (frame 845/10797) /home/aditya/Downloads/Track.mp4: 288x512 4 blue_cones, 10 yellow_cones, 6.9ms\n",
      "video 1/1 (frame 846/10797) /home/aditya/Downloads/Track.mp4: 288x512 2 blue_cones, 10 yellow_cones, 5.6ms\n",
      "video 1/1 (frame 847/10797) /home/aditya/Downloads/Track.mp4: 288x512 2 blue_cones, 11 yellow_cones, 5.3ms\n",
      "video 1/1 (frame 848/10797) /home/aditya/Downloads/Track.mp4: 288x512 4 blue_cones, 8 yellow_cones, 5.3ms\n",
      "video 1/1 (frame 849/10797) /home/aditya/Downloads/Track.mp4: 288x512 2 blue_cones, 10 yellow_cones, 7.2ms\n",
      "video 1/1 (frame 850/10797) /home/aditya/Downloads/Track.mp4: 288x512 3 blue_cones, 8 yellow_cones, 7.3ms\n",
      "video 1/1 (frame 851/10797) /home/aditya/Downloads/Track.mp4: 288x512 2 blue_cones, 11 yellow_cones, 5.9ms\n",
      "video 1/1 (frame 852/10797) /home/aditya/Downloads/Track.mp4: 288x512 3 blue_cones, 9 yellow_cones, 6.8ms\n",
      "video 1/1 (frame 853/10797) /home/aditya/Downloads/Track.mp4: 288x512 3 blue_cones, 10 yellow_cones, 5.8ms\n",
      "video 1/1 (frame 854/10797) /home/aditya/Downloads/Track.mp4: 288x512 2 blue_cones, 9 yellow_cones, 6.8ms\n",
      "video 1/1 (frame 855/10797) /home/aditya/Downloads/Track.mp4: 288x512 2 blue_cones, 9 yellow_cones, 5.3ms\n",
      "video 1/1 (frame 856/10797) /home/aditya/Downloads/Track.mp4: 288x512 2 blue_cones, 13 yellow_cones, 5.2ms\n",
      "video 1/1 (frame 857/10797) /home/aditya/Downloads/Track.mp4: 288x512 2 blue_cones, 11 yellow_cones, 5.4ms\n",
      "video 1/1 (frame 858/10797) /home/aditya/Downloads/Track.mp4: 288x512 2 blue_cones, 7 yellow_cones, 6.9ms\n",
      "video 1/1 (frame 859/10797) /home/aditya/Downloads/Track.mp4: 288x512 2 blue_cones, 10 yellow_cones, 6.8ms\n",
      "video 1/1 (frame 860/10797) /home/aditya/Downloads/Track.mp4: 288x512 2 blue_cones, 6 yellow_cones, 6.8ms\n",
      "video 1/1 (frame 861/10797) /home/aditya/Downloads/Track.mp4: 288x512 2 blue_cones, 9 yellow_cones, 6.1ms\n",
      "video 1/1 (frame 862/10797) /home/aditya/Downloads/Track.mp4: 288x512 2 blue_cones, 9 yellow_cones, 6.6ms\n",
      "video 1/1 (frame 863/10797) /home/aditya/Downloads/Track.mp4: 288x512 3 blue_cones, 8 yellow_cones, 6.8ms\n",
      "video 1/1 (frame 864/10797) /home/aditya/Downloads/Track.mp4: 288x512 2 blue_cones, 8 yellow_cones, 5.8ms\n",
      "video 1/1 (frame 865/10797) /home/aditya/Downloads/Track.mp4: 288x512 2 blue_cones, 9 yellow_cones, 5.2ms\n",
      "video 1/1 (frame 866/10797) /home/aditya/Downloads/Track.mp4: 288x512 3 blue_cones, 9 yellow_cones, 5.7ms\n",
      "video 1/1 (frame 867/10797) /home/aditya/Downloads/Track.mp4: 288x512 3 blue_cones, 10 yellow_cones, 6.8ms\n",
      "video 1/1 (frame 868/10797) /home/aditya/Downloads/Track.mp4: 288x512 2 blue_cones, 5 yellow_cones, 5.1ms\n",
      "video 1/1 (frame 869/10797) /home/aditya/Downloads/Track.mp4: 288x512 3 blue_cones, 6 yellow_cones, 5.7ms\n",
      "video 1/1 (frame 870/10797) /home/aditya/Downloads/Track.mp4: 288x512 3 blue_cones, 8 yellow_cones, 6.8ms\n",
      "video 1/1 (frame 871/10797) /home/aditya/Downloads/Track.mp4: 288x512 2 blue_cones, 7 yellow_cones, 5.8ms\n",
      "video 1/1 (frame 872/10797) /home/aditya/Downloads/Track.mp4: 288x512 4 blue_cones, 6 yellow_cones, 6.5ms\n",
      "video 1/1 (frame 873/10797) /home/aditya/Downloads/Track.mp4: 288x512 3 blue_cones, 7 yellow_cones, 5.5ms\n",
      "video 1/1 (frame 874/10797) /home/aditya/Downloads/Track.mp4: 288x512 3 blue_cones, 9 yellow_cones, 6.6ms\n",
      "video 1/1 (frame 875/10797) /home/aditya/Downloads/Track.mp4: 288x512 4 blue_cones, 8 yellow_cones, 6.5ms\n",
      "video 1/1 (frame 876/10797) /home/aditya/Downloads/Track.mp4: 288x512 4 blue_cones, 6 yellow_cones, 6.5ms\n",
      "video 1/1 (frame 877/10797) /home/aditya/Downloads/Track.mp4: 288x512 2 blue_cones, 8 yellow_cones, 5.7ms\n",
      "video 1/1 (frame 878/10797) /home/aditya/Downloads/Track.mp4: 288x512 2 blue_cones, 9 yellow_cones, 6.2ms\n",
      "video 1/1 (frame 879/10797) /home/aditya/Downloads/Track.mp4: 288x512 2 blue_cones, 6 yellow_cones, 7.3ms\n",
      "video 1/1 (frame 880/10797) /home/aditya/Downloads/Track.mp4: 288x512 1 blue_cone, 9 yellow_cones, 6.7ms\n",
      "video 1/1 (frame 881/10797) /home/aditya/Downloads/Track.mp4: 288x512 1 blue_cone, 10 yellow_cones, 6.7ms\n",
      "video 1/1 (frame 882/10797) /home/aditya/Downloads/Track.mp4: 288x512 2 blue_cones, 13 yellow_cones, 7.2ms\n",
      "video 1/1 (frame 883/10797) /home/aditya/Downloads/Track.mp4: 288x512 1 blue_cone, 11 yellow_cones, 5.1ms\n",
      "video 1/1 (frame 884/10797) /home/aditya/Downloads/Track.mp4: 288x512 2 blue_cones, 8 yellow_cones, 5.2ms\n",
      "video 1/1 (frame 885/10797) /home/aditya/Downloads/Track.mp4: 288x512 1 blue_cone, 9 yellow_cones, 5.2ms\n",
      "video 1/1 (frame 886/10797) /home/aditya/Downloads/Track.mp4: 288x512 1 blue_cone, 9 yellow_cones, 6.8ms\n",
      "video 1/1 (frame 887/10797) /home/aditya/Downloads/Track.mp4: 288x512 2 blue_cones, 12 yellow_cones, 6.8ms\n",
      "video 1/1 (frame 888/10797) /home/aditya/Downloads/Track.mp4: 288x512 2 blue_cones, 11 yellow_cones, 5.0ms\n",
      "video 1/1 (frame 889/10797) /home/aditya/Downloads/Track.mp4: 288x512 1 blue_cone, 9 yellow_cones, 6.4ms\n",
      "video 1/1 (frame 890/10797) /home/aditya/Downloads/Track.mp4: 288x512 1 blue_cone, 6 yellow_cones, 5.5ms\n",
      "video 1/1 (frame 891/10797) /home/aditya/Downloads/Track.mp4: 288x512 2 blue_cones, 10 yellow_cones, 7.2ms\n",
      "video 1/1 (frame 892/10797) /home/aditya/Downloads/Track.mp4: 288x512 2 blue_cones, 10 yellow_cones, 7.0ms\n",
      "video 1/1 (frame 893/10797) /home/aditya/Downloads/Track.mp4: 288x512 1 blue_cone, 13 yellow_cones, 5.8ms\n",
      "video 1/1 (frame 894/10797) /home/aditya/Downloads/Track.mp4: 288x512 1 blue_cone, 9 yellow_cones, 5.3ms\n",
      "video 1/1 (frame 895/10797) /home/aditya/Downloads/Track.mp4: 288x512 2 blue_cones, 8 yellow_cones, 5.5ms\n",
      "video 1/1 (frame 896/10797) /home/aditya/Downloads/Track.mp4: 288x512 5 yellow_cones, 5.2ms\n",
      "video 1/1 (frame 897/10797) /home/aditya/Downloads/Track.mp4: 288x512 7 yellow_cones, 7.0ms\n",
      "video 1/1 (frame 898/10797) /home/aditya/Downloads/Track.mp4: 288x512 2 blue_cones, 7 yellow_cones, 6.7ms\n",
      "video 1/1 (frame 899/10797) /home/aditya/Downloads/Track.mp4: 288x512 2 blue_cones, 2 yellow_cones, 6.4ms\n",
      "video 1/1 (frame 900/10797) /home/aditya/Downloads/Track.mp4: 288x512 3 blue_cones, 3 yellow_cones, 6.9ms\n",
      "video 1/1 (frame 901/10797) /home/aditya/Downloads/Track.mp4: 288x512 4 blue_cones, 2 yellow_cones, 6.5ms\n",
      "video 1/1 (frame 902/10797) /home/aditya/Downloads/Track.mp4: 288x512 1 blue_cone, 1 yellow_cone, 6.2ms\n",
      "video 1/1 (frame 903/10797) /home/aditya/Downloads/Track.mp4: 288x512 1 yellow_cone, 5.4ms\n",
      "video 1/1 (frame 904/10797) /home/aditya/Downloads/Track.mp4: 288x512 3 blue_cones, 5 yellow_cones, 7.0ms\n",
      "video 1/1 (frame 905/10797) /home/aditya/Downloads/Track.mp4: 288x512 3 blue_cones, 1 yellow_cone, 6.3ms\n",
      "video 1/1 (frame 906/10797) /home/aditya/Downloads/Track.mp4: 288x512 3 blue_cones, 5 yellow_cones, 5.2ms\n",
      "video 1/1 (frame 907/10797) /home/aditya/Downloads/Track.mp4: 288x512 2 blue_cones, 2 yellow_cones, 5.5ms\n",
      "video 1/1 (frame 908/10797) /home/aditya/Downloads/Track.mp4: 288x512 1 blue_cone, 3 yellow_cones, 7.1ms\n",
      "video 1/1 (frame 909/10797) /home/aditya/Downloads/Track.mp4: 288x512 1 blue_cone, 2 yellow_cones, 5.2ms\n",
      "video 1/1 (frame 910/10797) /home/aditya/Downloads/Track.mp4: 288x512 1 blue_cone, 3 yellow_cones, 6.7ms\n",
      "video 1/1 (frame 911/10797) /home/aditya/Downloads/Track.mp4: 288x512 (no detections), 6.9ms\n",
      "video 1/1 (frame 912/10797) /home/aditya/Downloads/Track.mp4: 288x512 1 yellow_cone, 6.4ms\n",
      "video 1/1 (frame 913/10797) /home/aditya/Downloads/Track.mp4: 288x512 4 yellow_cones, 8.9ms\n",
      "video 1/1 (frame 914/10797) /home/aditya/Downloads/Track.mp4: 288x512 4 yellow_cones, 6.8ms\n",
      "video 1/1 (frame 915/10797) /home/aditya/Downloads/Track.mp4: 288x512 4 yellow_cones, 5.4ms\n",
      "video 1/1 (frame 916/10797) /home/aditya/Downloads/Track.mp4: 288x512 3 yellow_cones, 6.7ms\n",
      "video 1/1 (frame 917/10797) /home/aditya/Downloads/Track.mp4: 288x512 4 yellow_cones, 6.3ms\n",
      "video 1/1 (frame 918/10797) /home/aditya/Downloads/Track.mp4: 288x512 1 blue_cone, 3 yellow_cones, 5.1ms\n",
      "video 1/1 (frame 919/10797) /home/aditya/Downloads/Track.mp4: 288x512 3 blue_cones, 5 yellow_cones, 6.7ms\n",
      "video 1/1 (frame 920/10797) /home/aditya/Downloads/Track.mp4: 288x512 2 blue_cones, 7 yellow_cones, 6.2ms\n",
      "video 1/1 (frame 921/10797) /home/aditya/Downloads/Track.mp4: 288x512 3 blue_cones, 5 yellow_cones, 6.9ms\n",
      "video 1/1 (frame 922/10797) /home/aditya/Downloads/Track.mp4: 288x512 3 blue_cones, 5 yellow_cones, 5.2ms\n",
      "video 1/1 (frame 923/10797) /home/aditya/Downloads/Track.mp4: 288x512 1 blue_cone, 3 yellow_cones, 6.8ms\n",
      "video 1/1 (frame 924/10797) /home/aditya/Downloads/Track.mp4: 288x512 1 blue_cone, 2 yellow_cones, 5.6ms\n",
      "video 1/1 (frame 925/10797) /home/aditya/Downloads/Track.mp4: 288x512 5 yellow_cones, 6.5ms\n",
      "video 1/1 (frame 926/10797) /home/aditya/Downloads/Track.mp4: 288x512 4 yellow_cones, 8.2ms\n",
      "video 1/1 (frame 927/10797) /home/aditya/Downloads/Track.mp4: 288x512 2 yellow_cones, 7.0ms\n",
      "video 1/1 (frame 928/10797) /home/aditya/Downloads/Track.mp4: 288x512 3 yellow_cones, 5.2ms\n",
      "video 1/1 (frame 929/10797) /home/aditya/Downloads/Track.mp4: 288x512 5 yellow_cones, 6.6ms\n",
      "video 1/1 (frame 930/10797) /home/aditya/Downloads/Track.mp4: 288x512 1 yellow_cone, 7.1ms\n",
      "video 1/1 (frame 931/10797) /home/aditya/Downloads/Track.mp4: 288x512 1 blue_cone, 5 yellow_cones, 5.3ms\n",
      "video 1/1 (frame 932/10797) /home/aditya/Downloads/Track.mp4: 288x512 2 blue_cones, 8 yellow_cones, 6.4ms\n",
      "video 1/1 (frame 933/10797) /home/aditya/Downloads/Track.mp4: 288x512 1 blue_cone, 5 yellow_cones, 5.9ms\n",
      "video 1/1 (frame 934/10797) /home/aditya/Downloads/Track.mp4: 288x512 1 blue_cone, 1 large_orange_cone, 8 yellow_cones, 5.5ms\n",
      "video 1/1 (frame 935/10797) /home/aditya/Downloads/Track.mp4: 288x512 1 blue_cone, 6 yellow_cones, 5.4ms\n",
      "video 1/1 (frame 936/10797) /home/aditya/Downloads/Track.mp4: 288x512 4 yellow_cones, 6.4ms\n",
      "video 1/1 (frame 937/10797) /home/aditya/Downloads/Track.mp4: 288x512 7 yellow_cones, 5.4ms\n",
      "video 1/1 (frame 938/10797) /home/aditya/Downloads/Track.mp4: 288x512 1 blue_cone, 7 yellow_cones, 7.8ms\n",
      "video 1/1 (frame 939/10797) /home/aditya/Downloads/Track.mp4: 288x512 7 yellow_cones, 5.6ms\n",
      "video 1/1 (frame 940/10797) /home/aditya/Downloads/Track.mp4: 288x512 (no detections), 6.9ms\n",
      "video 1/1 (frame 941/10797) /home/aditya/Downloads/Track.mp4: 288x512 1 blue_cone, 6 yellow_cones, 6.4ms\n",
      "video 1/1 (frame 942/10797) /home/aditya/Downloads/Track.mp4: 288x512 1 blue_cone, 4 yellow_cones, 6.7ms\n",
      "video 1/1 (frame 943/10797) /home/aditya/Downloads/Track.mp4: 288x512 1 blue_cone, 1 large_orange_cone, 4 yellow_cones, 5.6ms\n",
      "video 1/1 (frame 944/10797) /home/aditya/Downloads/Track.mp4: 288x512 1 blue_cone, 1 large_orange_cone, 3 yellow_cones, 5.4ms\n",
      "video 1/1 (frame 945/10797) /home/aditya/Downloads/Track.mp4: 288x512 1 blue_cone, 5 yellow_cones, 7.2ms\n",
      "video 1/1 (frame 946/10797) /home/aditya/Downloads/Track.mp4: 288x512 3 yellow_cones, 6.8ms\n",
      "video 1/1 (frame 947/10797) /home/aditya/Downloads/Track.mp4: 288x512 3 yellow_cones, 5.3ms\n",
      "video 1/1 (frame 948/10797) /home/aditya/Downloads/Track.mp4: 288x512 4 yellow_cones, 5.8ms\n",
      "video 1/1 (frame 949/10797) /home/aditya/Downloads/Track.mp4: 288x512 6 yellow_cones, 7.2ms\n",
      "video 1/1 (frame 950/10797) /home/aditya/Downloads/Track.mp4: 288x512 5 yellow_cones, 7.1ms\n",
      "video 1/1 (frame 951/10797) /home/aditya/Downloads/Track.mp4: 288x512 6 yellow_cones, 6.6ms\n",
      "video 1/1 (frame 952/10797) /home/aditya/Downloads/Track.mp4: 288x512 6 yellow_cones, 5.5ms\n",
      "video 1/1 (frame 953/10797) /home/aditya/Downloads/Track.mp4: 288x512 7 yellow_cones, 5.3ms\n",
      "video 1/1 (frame 954/10797) /home/aditya/Downloads/Track.mp4: 288x512 9 yellow_cones, 5.6ms\n",
      "video 1/1 (frame 955/10797) /home/aditya/Downloads/Track.mp4: 288x512 8 yellow_cones, 6.0ms\n",
      "video 1/1 (frame 956/10797) /home/aditya/Downloads/Track.mp4: 288x512 6 yellow_cones, 5.1ms\n",
      "video 1/1 (frame 957/10797) /home/aditya/Downloads/Track.mp4: 288x512 8 yellow_cones, 7.0ms\n",
      "video 1/1 (frame 958/10797) /home/aditya/Downloads/Track.mp4: 288x512 9 yellow_cones, 5.7ms\n",
      "video 1/1 (frame 959/10797) /home/aditya/Downloads/Track.mp4: 288x512 9 yellow_cones, 7.1ms\n",
      "video 1/1 (frame 960/10797) /home/aditya/Downloads/Track.mp4: 288x512 12 yellow_cones, 6.1ms\n",
      "video 1/1 (frame 961/10797) /home/aditya/Downloads/Track.mp4: 288x512 10 yellow_cones, 7.6ms\n",
      "video 1/1 (frame 962/10797) /home/aditya/Downloads/Track.mp4: 288x512 1 blue_cone, 10 yellow_cones, 5.8ms\n",
      "video 1/1 (frame 963/10797) /home/aditya/Downloads/Track.mp4: 288x512 1 blue_cone, 9 yellow_cones, 6.7ms\n",
      "video 1/1 (frame 964/10797) /home/aditya/Downloads/Track.mp4: 288x512 1 blue_cone, 12 yellow_cones, 6.6ms\n",
      "video 1/1 (frame 965/10797) /home/aditya/Downloads/Track.mp4: 288x512 1 blue_cone, 10 yellow_cones, 6.6ms\n",
      "video 1/1 (frame 966/10797) /home/aditya/Downloads/Track.mp4: 288x512 9 yellow_cones, 6.5ms\n",
      "video 1/1 (frame 967/10797) /home/aditya/Downloads/Track.mp4: 288x512 8 yellow_cones, 5.8ms\n",
      "video 1/1 (frame 968/10797) /home/aditya/Downloads/Track.mp4: 288x512 9 yellow_cones, 6.5ms\n",
      "video 1/1 (frame 969/10797) /home/aditya/Downloads/Track.mp4: 288x512 9 yellow_cones, 5.2ms\n",
      "video 1/1 (frame 970/10797) /home/aditya/Downloads/Track.mp4: 288x512 9 yellow_cones, 6.6ms\n",
      "video 1/1 (frame 971/10797) /home/aditya/Downloads/Track.mp4: 288x512 8 yellow_cones, 6.2ms\n",
      "video 1/1 (frame 972/10797) /home/aditya/Downloads/Track.mp4: 288x512 10 yellow_cones, 6.3ms\n",
      "video 1/1 (frame 973/10797) /home/aditya/Downloads/Track.mp4: 288x512 7 yellow_cones, 5.4ms\n",
      "video 1/1 (frame 974/10797) /home/aditya/Downloads/Track.mp4: 288x512 4 yellow_cones, 7.5ms\n",
      "video 1/1 (frame 975/10797) /home/aditya/Downloads/Track.mp4: 288x512 1 blue_cone, 6 yellow_cones, 5.6ms\n",
      "video 1/1 (frame 976/10797) /home/aditya/Downloads/Track.mp4: 288x512 1 blue_cone, 5 yellow_cones, 5.2ms\n",
      "video 1/1 (frame 977/10797) /home/aditya/Downloads/Track.mp4: 288x512 3 yellow_cones, 7.1ms\n",
      "video 1/1 (frame 978/10797) /home/aditya/Downloads/Track.mp4: 288x512 8 yellow_cones, 5.4ms\n",
      "video 1/1 (frame 979/10797) /home/aditya/Downloads/Track.mp4: 288x512 1 blue_cone, 8 yellow_cones, 5.6ms\n",
      "video 1/1 (frame 980/10797) /home/aditya/Downloads/Track.mp4: 288x512 1 blue_cone, 6 yellow_cones, 6.7ms\n",
      "video 1/1 (frame 981/10797) /home/aditya/Downloads/Track.mp4: 288x512 1 blue_cone, 9 yellow_cones, 7.2ms\n",
      "video 1/1 (frame 982/10797) /home/aditya/Downloads/Track.mp4: 288x512 1 blue_cone, 7 yellow_cones, 5.5ms\n",
      "video 1/1 (frame 983/10797) /home/aditya/Downloads/Track.mp4: 288x512 1 blue_cone, 5 yellow_cones, 6.6ms\n",
      "video 1/1 (frame 984/10797) /home/aditya/Downloads/Track.mp4: 288x512 1 blue_cone, 7 yellow_cones, 5.5ms\n",
      "video 1/1 (frame 985/10797) /home/aditya/Downloads/Track.mp4: 288x512 5 yellow_cones, 5.2ms\n",
      "video 1/1 (frame 986/10797) /home/aditya/Downloads/Track.mp4: 288x512 1 blue_cone, 6 yellow_cones, 6.8ms\n",
      "video 1/1 (frame 987/10797) /home/aditya/Downloads/Track.mp4: 288x512 1 blue_cone, 7 yellow_cones, 5.6ms\n",
      "video 1/1 (frame 988/10797) /home/aditya/Downloads/Track.mp4: 288x512 2 blue_cones, 7 yellow_cones, 6.6ms\n",
      "video 1/1 (frame 989/10797) /home/aditya/Downloads/Track.mp4: 288x512 1 blue_cone, 5 yellow_cones, 5.6ms\n",
      "video 1/1 (frame 990/10797) /home/aditya/Downloads/Track.mp4: 288x512 2 blue_cones, 6 yellow_cones, 5.3ms\n",
      "video 1/1 (frame 991/10797) /home/aditya/Downloads/Track.mp4: 288x512 2 blue_cones, 6 yellow_cones, 7.0ms\n",
      "video 1/1 (frame 992/10797) /home/aditya/Downloads/Track.mp4: 288x512 2 blue_cones, 7 yellow_cones, 7.1ms\n",
      "video 1/1 (frame 993/10797) /home/aditya/Downloads/Track.mp4: 288x512 3 blue_cones, 6 yellow_cones, 7.5ms\n",
      "video 1/1 (frame 994/10797) /home/aditya/Downloads/Track.mp4: 288x512 3 blue_cones, 9 yellow_cones, 5.4ms\n",
      "video 1/1 (frame 995/10797) /home/aditya/Downloads/Track.mp4: 288x512 3 blue_cones, 10 yellow_cones, 6.9ms\n",
      "video 1/1 (frame 996/10797) /home/aditya/Downloads/Track.mp4: 288x512 1 blue_cone, 6 yellow_cones, 6.8ms\n",
      "video 1/1 (frame 997/10797) /home/aditya/Downloads/Track.mp4: 288x512 5 yellow_cones, 6.9ms\n",
      "video 1/1 (frame 998/10797) /home/aditya/Downloads/Track.mp4: 288x512 1 blue_cone, 6 yellow_cones, 5.6ms\n",
      "video 1/1 (frame 999/10797) /home/aditya/Downloads/Track.mp4: 288x512 2 blue_cones, 9 yellow_cones, 5.9ms\n",
      "video 1/1 (frame 1000/10797) /home/aditya/Downloads/Track.mp4: 288x512 2 blue_cones, 9 yellow_cones, 5.6ms\n",
      "video 1/1 (frame 1001/10797) /home/aditya/Downloads/Track.mp4: 288x512 3 blue_cones, 7 yellow_cones, 5.6ms\n",
      "video 1/1 (frame 1002/10797) /home/aditya/Downloads/Track.mp4: 288x512 2 blue_cones, 5 yellow_cones, 6.6ms\n",
      "video 1/1 (frame 1003/10797) /home/aditya/Downloads/Track.mp4: 288x512 3 blue_cones, 7 yellow_cones, 6.7ms\n",
      "video 1/1 (frame 1004/10797) /home/aditya/Downloads/Track.mp4: 288x512 5 blue_cones, 3 yellow_cones, 6.9ms\n",
      "video 1/1 (frame 1005/10797) /home/aditya/Downloads/Track.mp4: 288x512 2 blue_cones, 6 yellow_cones, 6.8ms\n",
      "video 1/1 (frame 1006/10797) /home/aditya/Downloads/Track.mp4: 288x512 4 blue_cones, 5 yellow_cones, 5.6ms\n",
      "video 1/1 (frame 1007/10797) /home/aditya/Downloads/Track.mp4: 288x512 1 blue_cone, 5 yellow_cones, 5.7ms\n",
      "video 1/1 (frame 1008/10797) /home/aditya/Downloads/Track.mp4: 288x512 3 yellow_cones, 5.2ms\n",
      "video 1/1 (frame 1009/10797) /home/aditya/Downloads/Track.mp4: 288x512 2 blue_cones, 5 yellow_cones, 8.3ms\n",
      "video 1/1 (frame 1010/10797) /home/aditya/Downloads/Track.mp4: 288x512 1 blue_cone, 5 yellow_cones, 5.6ms\n",
      "video 1/1 (frame 1011/10797) /home/aditya/Downloads/Track.mp4: 288x512 1 blue_cone, 4 yellow_cones, 5.3ms\n",
      "video 1/1 (frame 1012/10797) /home/aditya/Downloads/Track.mp4: 288x512 2 blue_cones, 5 yellow_cones, 6.8ms\n",
      "video 1/1 (frame 1013/10797) /home/aditya/Downloads/Track.mp4: 288x512 2 blue_cones, 4 yellow_cones, 6.6ms\n",
      "video 1/1 (frame 1014/10797) /home/aditya/Downloads/Track.mp4: 288x512 2 blue_cones, 6 yellow_cones, 6.6ms\n",
      "video 1/1 (frame 1015/10797) /home/aditya/Downloads/Track.mp4: 288x512 2 blue_cones, 8 yellow_cones, 5.7ms\n",
      "video 1/1 (frame 1016/10797) /home/aditya/Downloads/Track.mp4: 288x512 2 blue_cones, 7 yellow_cones, 6.7ms\n",
      "video 1/1 (frame 1017/10797) /home/aditya/Downloads/Track.mp4: 288x512 2 blue_cones, 7 yellow_cones, 5.4ms\n",
      "video 1/1 (frame 1018/10797) /home/aditya/Downloads/Track.mp4: 288x512 2 blue_cones, 6 yellow_cones, 6.8ms\n",
      "video 1/1 (frame 1019/10797) /home/aditya/Downloads/Track.mp4: 288x512 3 blue_cones, 5 yellow_cones, 5.3ms\n",
      "video 1/1 (frame 1020/10797) /home/aditya/Downloads/Track.mp4: 288x512 2 blue_cones, 2 yellow_cones, 5.7ms\n",
      "video 1/1 (frame 1021/10797) /home/aditya/Downloads/Track.mp4: 288x512 3 blue_cones, 4 yellow_cones, 6.8ms\n",
      "video 1/1 (frame 1022/10797) /home/aditya/Downloads/Track.mp4: 288x512 4 blue_cones, 5 yellow_cones, 7.0ms\n",
      "video 1/1 (frame 1023/10797) /home/aditya/Downloads/Track.mp4: 288x512 4 blue_cones, 7 yellow_cones, 6.8ms\n",
      "video 1/1 (frame 1024/10797) /home/aditya/Downloads/Track.mp4: 288x512 3 blue_cones, 7 yellow_cones, 6.7ms\n",
      "video 1/1 (frame 1025/10797) /home/aditya/Downloads/Track.mp4: 288x512 4 blue_cones, 7 yellow_cones, 7.1ms\n",
      "video 1/1 (frame 1026/10797) /home/aditya/Downloads/Track.mp4: 288x512 4 blue_cones, 8 yellow_cones, 5.3ms\n",
      "video 1/1 (frame 1027/10797) /home/aditya/Downloads/Track.mp4: 288x512 4 blue_cones, 7 yellow_cones, 6.6ms\n",
      "video 1/1 (frame 1028/10797) /home/aditya/Downloads/Track.mp4: 288x512 4 blue_cones, 8 yellow_cones, 5.8ms\n",
      "video 1/1 (frame 1029/10797) /home/aditya/Downloads/Track.mp4: 288x512 4 blue_cones, 8 yellow_cones, 6.7ms\n",
      "video 1/1 (frame 1030/10797) /home/aditya/Downloads/Track.mp4: 288x512 4 blue_cones, 8 yellow_cones, 6.8ms\n",
      "video 1/1 (frame 1031/10797) /home/aditya/Downloads/Track.mp4: 288x512 4 blue_cones, 8 yellow_cones, 5.4ms\n",
      "video 1/1 (frame 1032/10797) /home/aditya/Downloads/Track.mp4: 288x512 4 blue_cones, 8 yellow_cones, 5.4ms\n",
      "video 1/1 (frame 1033/10797) /home/aditya/Downloads/Track.mp4: 288x512 4 blue_cones, 8 yellow_cones, 5.4ms\n",
      "video 1/1 (frame 1034/10797) /home/aditya/Downloads/Track.mp4: 288x512 4 blue_cones, 7 yellow_cones, 5.9ms\n",
      "video 1/1 (frame 1035/10797) /home/aditya/Downloads/Track.mp4: 288x512 4 blue_cones, 8 yellow_cones, 6.5ms\n",
      "video 1/1 (frame 1036/10797) /home/aditya/Downloads/Track.mp4: 288x512 4 blue_cones, 7 yellow_cones, 5.4ms\n",
      "video 1/1 (frame 1037/10797) /home/aditya/Downloads/Track.mp4: 288x512 4 blue_cones, 7 yellow_cones, 5.6ms\n",
      "video 1/1 (frame 1038/10797) /home/aditya/Downloads/Track.mp4: 288x512 4 blue_cones, 7 yellow_cones, 5.2ms\n",
      "video 1/1 (frame 1039/10797) /home/aditya/Downloads/Track.mp4: 288x512 4 blue_cones, 10 yellow_cones, 5.6ms\n",
      "video 1/1 (frame 1040/10797) /home/aditya/Downloads/Track.mp4: 288x512 4 blue_cones, 12 yellow_cones, 6.6ms\n",
      "video 1/1 (frame 1041/10797) /home/aditya/Downloads/Track.mp4: 288x512 4 blue_cones, 8 yellow_cones, 6.6ms\n",
      "video 1/1 (frame 1042/10797) /home/aditya/Downloads/Track.mp4: 288x512 4 blue_cones, 11 yellow_cones, 6.8ms\n",
      "video 1/1 (frame 1043/10797) /home/aditya/Downloads/Track.mp4: 288x512 3 blue_cones, 11 yellow_cones, 5.5ms\n",
      "video 1/1 (frame 1044/10797) /home/aditya/Downloads/Track.mp4: 288x512 3 blue_cones, 10 yellow_cones, 7.2ms\n",
      "video 1/1 (frame 1045/10797) /home/aditya/Downloads/Track.mp4: 288x512 4 blue_cones, 11 yellow_cones, 6.8ms\n",
      "video 1/1 (frame 1046/10797) /home/aditya/Downloads/Track.mp4: 288x512 4 blue_cones, 13 yellow_cones, 6.7ms\n",
      "video 1/1 (frame 1047/10797) /home/aditya/Downloads/Track.mp4: 288x512 4 blue_cones, 10 yellow_cones, 6.3ms\n",
      "video 1/1 (frame 1048/10797) /home/aditya/Downloads/Track.mp4: 288x512 4 blue_cones, 10 yellow_cones, 6.0ms\n",
      "video 1/1 (frame 1049/10797) /home/aditya/Downloads/Track.mp4: 288x512 3 blue_cones, 10 yellow_cones, 5.0ms\n",
      "video 1/1 (frame 1050/10797) /home/aditya/Downloads/Track.mp4: 288x512 3 blue_cones, 11 yellow_cones, 5.6ms\n",
      "video 1/1 (frame 1051/10797) /home/aditya/Downloads/Track.mp4: 288x512 3 blue_cones, 8 yellow_cones, 5.9ms\n",
      "video 1/1 (frame 1052/10797) /home/aditya/Downloads/Track.mp4: 288x512 2 blue_cones, 8 yellow_cones, 6.0ms\n",
      "video 1/1 (frame 1053/10797) /home/aditya/Downloads/Track.mp4: 288x512 3 blue_cones, 11 yellow_cones, 5.7ms\n",
      "video 1/1 (frame 1054/10797) /home/aditya/Downloads/Track.mp4: 288x512 3 blue_cones, 9 yellow_cones, 6.5ms\n",
      "video 1/1 (frame 1055/10797) /home/aditya/Downloads/Track.mp4: 288x512 4 blue_cones, 8 yellow_cones, 6.6ms\n",
      "video 1/1 (frame 1056/10797) /home/aditya/Downloads/Track.mp4: 288x512 4 blue_cones, 10 yellow_cones, 5.6ms\n",
      "video 1/1 (frame 1057/10797) /home/aditya/Downloads/Track.mp4: 288x512 4 blue_cones, 14 yellow_cones, 5.2ms\n",
      "video 1/1 (frame 1058/10797) /home/aditya/Downloads/Track.mp4: 288x512 4 blue_cones, 12 yellow_cones, 6.3ms\n",
      "video 1/1 (frame 1059/10797) /home/aditya/Downloads/Track.mp4: 288x512 4 blue_cones, 8 yellow_cones, 5.2ms\n",
      "video 1/1 (frame 1060/10797) /home/aditya/Downloads/Track.mp4: 288x512 4 blue_cones, 9 yellow_cones, 5.1ms\n",
      "video 1/1 (frame 1061/10797) /home/aditya/Downloads/Track.mp4: 288x512 1 blue_cone, 14 yellow_cones, 5.4ms\n",
      "video 1/1 (frame 1062/10797) /home/aditya/Downloads/Track.mp4: 288x512 1 blue_cone, 16 yellow_cones, 5.0ms\n",
      "video 1/1 (frame 1063/10797) /home/aditya/Downloads/Track.mp4: 288x512 1 blue_cone, 16 yellow_cones, 6.8ms\n",
      "video 1/1 (frame 1064/10797) /home/aditya/Downloads/Track.mp4: 288x512 2 blue_cones, 16 yellow_cones, 5.1ms\n",
      "video 1/1 (frame 1065/10797) /home/aditya/Downloads/Track.mp4: 288x512 2 blue_cones, 19 yellow_cones, 6.5ms\n",
      "video 1/1 (frame 1066/10797) /home/aditya/Downloads/Track.mp4: 288x512 2 blue_cones, 21 yellow_cones, 5.5ms\n",
      "video 1/1 (frame 1067/10797) /home/aditya/Downloads/Track.mp4: 288x512 1 blue_cone, 20 yellow_cones, 6.5ms\n",
      "video 1/1 (frame 1068/10797) /home/aditya/Downloads/Track.mp4: 288x512 1 blue_cone, 19 yellow_cones, 6.7ms\n",
      "video 1/1 (frame 1069/10797) /home/aditya/Downloads/Track.mp4: 288x512 2 blue_cones, 12 yellow_cones, 6.3ms\n",
      "video 1/1 (frame 1070/10797) /home/aditya/Downloads/Track.mp4: 288x512 2 blue_cones, 14 yellow_cones, 6.8ms\n",
      "video 1/1 (frame 1071/10797) /home/aditya/Downloads/Track.mp4: 288x512 2 blue_cones, 15 yellow_cones, 6.8ms\n",
      "video 1/1 (frame 1072/10797) /home/aditya/Downloads/Track.mp4: 288x512 2 blue_cones, 11 yellow_cones, 5.7ms\n",
      "video 1/1 (frame 1073/10797) /home/aditya/Downloads/Track.mp4: 288x512 1 blue_cone, 11 yellow_cones, 5.1ms\n",
      "video 1/1 (frame 1074/10797) /home/aditya/Downloads/Track.mp4: 288x512 1 blue_cone, 10 yellow_cones, 5.3ms\n",
      "video 1/1 (frame 1075/10797) /home/aditya/Downloads/Track.mp4: 288x512 14 yellow_cones, 5.4ms\n",
      "video 1/1 (frame 1076/10797) /home/aditya/Downloads/Track.mp4: 288x512 1 blue_cone, 11 yellow_cones, 6.5ms\n",
      "video 1/1 (frame 1077/10797) /home/aditya/Downloads/Track.mp4: 288x512 1 blue_cone, 13 yellow_cones, 6.3ms\n",
      "video 1/1 (frame 1078/10797) /home/aditya/Downloads/Track.mp4: 288x512 1 blue_cone, 16 yellow_cones, 7.0ms\n",
      "video 1/1 (frame 1079/10797) /home/aditya/Downloads/Track.mp4: 288x512 1 blue_cone, 1 large_orange_cone, 13 yellow_cones, 5.2ms\n",
      "video 1/1 (frame 1080/10797) /home/aditya/Downloads/Track.mp4: 288x512 2 blue_cones, 1 large_orange_cone, 14 yellow_cones, 6.7ms\n",
      "video 1/1 (frame 1081/10797) /home/aditya/Downloads/Track.mp4: 288x512 2 blue_cones, 15 yellow_cones, 6.8ms\n",
      "video 1/1 (frame 1082/10797) /home/aditya/Downloads/Track.mp4: 288x512 2 blue_cones, 1 large_orange_cone, 16 yellow_cones, 5.6ms\n",
      "video 1/1 (frame 1083/10797) /home/aditya/Downloads/Track.mp4: 288x512 2 blue_cones, 17 yellow_cones, 7.0ms\n",
      "video 1/1 (frame 1084/10797) /home/aditya/Downloads/Track.mp4: 288x512 2 blue_cones, 15 yellow_cones, 5.3ms\n",
      "video 1/1 (frame 1085/10797) /home/aditya/Downloads/Track.mp4: 288x512 1 blue_cone, 18 yellow_cones, 7.0ms\n",
      "video 1/1 (frame 1086/10797) /home/aditya/Downloads/Track.mp4: 288x512 2 blue_cones, 17 yellow_cones, 5.2ms\n",
      "video 1/1 (frame 1087/10797) /home/aditya/Downloads/Track.mp4: 288x512 2 blue_cones, 19 yellow_cones, 7.3ms\n",
      "video 1/1 (frame 1088/10797) /home/aditya/Downloads/Track.mp4: 288x512 1 blue_cone, 20 yellow_cones, 5.2ms\n",
      "video 1/1 (frame 1089/10797) /home/aditya/Downloads/Track.mp4: 288x512 2 blue_cones, 18 yellow_cones, 6.5ms\n",
      "video 1/1 (frame 1090/10797) /home/aditya/Downloads/Track.mp4: 288x512 3 blue_cones, 18 yellow_cones, 6.8ms\n",
      "video 1/1 (frame 1091/10797) /home/aditya/Downloads/Track.mp4: 288x512 3 blue_cones, 17 yellow_cones, 5.2ms\n",
      "video 1/1 (frame 1092/10797) /home/aditya/Downloads/Track.mp4: 288x512 2 blue_cones, 14 yellow_cones, 5.1ms\n",
      "video 1/1 (frame 1093/10797) /home/aditya/Downloads/Track.mp4: 288x512 3 blue_cones, 13 yellow_cones, 6.4ms\n",
      "video 1/1 (frame 1094/10797) /home/aditya/Downloads/Track.mp4: 288x512 3 blue_cones, 14 yellow_cones, 6.4ms\n",
      "video 1/1 (frame 1095/10797) /home/aditya/Downloads/Track.mp4: 288x512 2 blue_cones, 18 yellow_cones, 5.2ms\n",
      "video 1/1 (frame 1096/10797) /home/aditya/Downloads/Track.mp4: 288x512 3 blue_cones, 17 yellow_cones, 5.1ms\n",
      "video 1/1 (frame 1097/10797) /home/aditya/Downloads/Track.mp4: 288x512 3 blue_cones, 15 yellow_cones, 6.2ms\n",
      "video 1/1 (frame 1098/10797) /home/aditya/Downloads/Track.mp4: 288x512 2 blue_cones, 14 yellow_cones, 5.1ms\n",
      "video 1/1 (frame 1099/10797) /home/aditya/Downloads/Track.mp4: 288x512 2 blue_cones, 16 yellow_cones, 5.7ms\n",
      "video 1/1 (frame 1100/10797) /home/aditya/Downloads/Track.mp4: 288x512 3 blue_cones, 15 yellow_cones, 5.5ms\n",
      "video 1/1 (frame 1101/10797) /home/aditya/Downloads/Track.mp4: 288x512 4 blue_cones, 11 yellow_cones, 5.3ms\n",
      "video 1/1 (frame 1102/10797) /home/aditya/Downloads/Track.mp4: 288x512 5 blue_cones, 13 yellow_cones, 8.3ms\n",
      "video 1/1 (frame 1103/10797) /home/aditya/Downloads/Track.mp4: 288x512 3 blue_cones, 16 yellow_cones, 5.3ms\n",
      "video 1/1 (frame 1104/10797) /home/aditya/Downloads/Track.mp4: 288x512 3 blue_cones, 18 yellow_cones, 6.6ms\n",
      "video 1/1 (frame 1105/10797) /home/aditya/Downloads/Track.mp4: 288x512 2 blue_cones, 13 yellow_cones, 6.6ms\n",
      "video 1/1 (frame 1106/10797) /home/aditya/Downloads/Track.mp4: 288x512 3 blue_cones, 12 yellow_cones, 5.1ms\n",
      "video 1/1 (frame 1107/10797) /home/aditya/Downloads/Track.mp4: 288x512 1 blue_cone, 13 yellow_cones, 5.6ms\n",
      "video 1/1 (frame 1108/10797) /home/aditya/Downloads/Track.mp4: 288x512 1 blue_cone, 14 yellow_cones, 5.6ms\n",
      "video 1/1 (frame 1109/10797) /home/aditya/Downloads/Track.mp4: 288x512 3 blue_cones, 12 yellow_cones, 5.4ms\n",
      "video 1/1 (frame 1110/10797) /home/aditya/Downloads/Track.mp4: 288x512 2 blue_cones, 16 yellow_cones, 7.0ms\n",
      "video 1/1 (frame 1111/10797) /home/aditya/Downloads/Track.mp4: 288x512 2 blue_cones, 18 yellow_cones, 6.9ms\n",
      "video 1/1 (frame 1112/10797) /home/aditya/Downloads/Track.mp4: 288x512 1 blue_cone, 17 yellow_cones, 5.2ms\n",
      "video 1/1 (frame 1113/10797) /home/aditya/Downloads/Track.mp4: 288x512 3 blue_cones, 15 yellow_cones, 6.6ms\n",
      "video 1/1 (frame 1114/10797) /home/aditya/Downloads/Track.mp4: 288x512 2 blue_cones, 13 yellow_cones, 5.2ms\n",
      "video 1/1 (frame 1115/10797) /home/aditya/Downloads/Track.mp4: 288x512 1 blue_cone, 13 yellow_cones, 6.4ms\n",
      "video 1/1 (frame 1116/10797) /home/aditya/Downloads/Track.mp4: 288x512 2 blue_cones, 13 yellow_cones, 6.9ms\n",
      "video 1/1 (frame 1117/10797) /home/aditya/Downloads/Track.mp4: 288x512 1 blue_cone, 13 yellow_cones, 7.0ms\n",
      "video 1/1 (frame 1118/10797) /home/aditya/Downloads/Track.mp4: 288x512 3 blue_cones, 10 yellow_cones, 6.7ms\n",
      "video 1/1 (frame 1119/10797) /home/aditya/Downloads/Track.mp4: 288x512 1 blue_cone, 16 yellow_cones, 5.9ms\n",
      "video 1/1 (frame 1120/10797) /home/aditya/Downloads/Track.mp4: 288x512 2 blue_cones, 14 yellow_cones, 6.2ms\n",
      "video 1/1 (frame 1121/10797) /home/aditya/Downloads/Track.mp4: 288x512 2 blue_cones, 15 yellow_cones, 6.8ms\n",
      "video 1/1 (frame 1122/10797) /home/aditya/Downloads/Track.mp4: 288x512 5 blue_cones, 10 yellow_cones, 5.7ms\n",
      "video 1/1 (frame 1123/10797) /home/aditya/Downloads/Track.mp4: 288x512 3 blue_cones, 16 yellow_cones, 6.6ms\n",
      "video 1/1 (frame 1124/10797) /home/aditya/Downloads/Track.mp4: 288x512 4 blue_cones, 12 yellow_cones, 5.4ms\n",
      "video 1/1 (frame 1125/10797) /home/aditya/Downloads/Track.mp4: 288x512 5 blue_cones, 1 large_orange_cone, 12 yellow_cones, 6.4ms\n",
      "video 1/1 (frame 1126/10797) /home/aditya/Downloads/Track.mp4: 288x512 6 blue_cones, 1 large_orange_cone, 14 yellow_cones, 5.3ms\n",
      "video 1/1 (frame 1127/10797) /home/aditya/Downloads/Track.mp4: 288x512 4 blue_cones, 1 large_orange_cone, 12 yellow_cones, 5.1ms\n",
      "video 1/1 (frame 1128/10797) /home/aditya/Downloads/Track.mp4: 288x512 4 blue_cones, 1 large_orange_cone, 11 yellow_cones, 6.6ms\n",
      "video 1/1 (frame 1129/10797) /home/aditya/Downloads/Track.mp4: 288x512 5 blue_cones, 12 yellow_cones, 5.2ms\n",
      "video 1/1 (frame 1130/10797) /home/aditya/Downloads/Track.mp4: 288x512 5 blue_cones, 12 yellow_cones, 6.4ms\n",
      "video 1/1 (frame 1131/10797) /home/aditya/Downloads/Track.mp4: 288x512 5 blue_cones, 10 yellow_cones, 5.4ms\n",
      "video 1/1 (frame 1132/10797) /home/aditya/Downloads/Track.mp4: 288x512 5 blue_cones, 14 yellow_cones, 5.5ms\n",
      "video 1/1 (frame 1133/10797) /home/aditya/Downloads/Track.mp4: 288x512 5 blue_cones, 12 yellow_cones, 5.2ms\n",
      "video 1/1 (frame 1134/10797) /home/aditya/Downloads/Track.mp4: 288x512 5 blue_cones, 11 yellow_cones, 6.6ms\n",
      "video 1/1 (frame 1135/10797) /home/aditya/Downloads/Track.mp4: 288x512 6 blue_cones, 9 yellow_cones, 6.7ms\n",
      "video 1/1 (frame 1136/10797) /home/aditya/Downloads/Track.mp4: 288x512 4 blue_cones, 10 yellow_cones, 7.1ms\n",
      "video 1/1 (frame 1137/10797) /home/aditya/Downloads/Track.mp4: 288x512 4 blue_cones, 10 yellow_cones, 5.6ms\n",
      "video 1/1 (frame 1138/10797) /home/aditya/Downloads/Track.mp4: 288x512 6 blue_cones, 10 yellow_cones, 6.8ms\n",
      "video 1/1 (frame 1139/10797) /home/aditya/Downloads/Track.mp4: 288x512 5 blue_cones, 10 yellow_cones, 6.1ms\n",
      "video 1/1 (frame 1140/10797) /home/aditya/Downloads/Track.mp4: 288x512 7 blue_cones, 10 yellow_cones, 6.3ms\n",
      "video 1/1 (frame 1141/10797) /home/aditya/Downloads/Track.mp4: 288x512 7 blue_cones, 10 yellow_cones, 6.8ms\n",
      "video 1/1 (frame 1142/10797) /home/aditya/Downloads/Track.mp4: 288x512 9 blue_cones, 9 yellow_cones, 5.4ms\n",
      "video 1/1 (frame 1143/10797) /home/aditya/Downloads/Track.mp4: 288x512 6 blue_cones, 10 yellow_cones, 5.2ms\n",
      "video 1/1 (frame 1144/10797) /home/aditya/Downloads/Track.mp4: 288x512 8 blue_cones, 10 yellow_cones, 6.7ms\n",
      "video 1/1 (frame 1145/10797) /home/aditya/Downloads/Track.mp4: 288x512 7 blue_cones, 11 yellow_cones, 6.1ms\n",
      "video 1/1 (frame 1146/10797) /home/aditya/Downloads/Track.mp4: 288x512 6 blue_cones, 9 yellow_cones, 6.6ms\n",
      "video 1/1 (frame 1147/10797) /home/aditya/Downloads/Track.mp4: 288x512 6 blue_cones, 10 yellow_cones, 5.2ms\n",
      "video 1/1 (frame 1148/10797) /home/aditya/Downloads/Track.mp4: 288x512 6 blue_cones, 8 yellow_cones, 6.1ms\n",
      "video 1/1 (frame 1149/10797) /home/aditya/Downloads/Track.mp4: 288x512 7 blue_cones, 9 yellow_cones, 7.0ms\n",
      "video 1/1 (frame 1150/10797) /home/aditya/Downloads/Track.mp4: 288x512 5 blue_cones, 4 yellow_cones, 6.1ms\n",
      "video 1/1 (frame 1151/10797) /home/aditya/Downloads/Track.mp4: 288x512 5 blue_cones, 4 yellow_cones, 5.2ms\n",
      "video 1/1 (frame 1152/10797) /home/aditya/Downloads/Track.mp4: 288x512 5 blue_cones, 5 yellow_cones, 6.2ms\n",
      "video 1/1 (frame 1153/10797) /home/aditya/Downloads/Track.mp4: 288x512 7 blue_cones, 6 yellow_cones, 6.5ms\n",
      "video 1/1 (frame 1154/10797) /home/aditya/Downloads/Track.mp4: 288x512 4 blue_cones, 4 yellow_cones, 5.3ms\n",
      "video 1/1 (frame 1155/10797) /home/aditya/Downloads/Track.mp4: 288x512 6 blue_cones, 4 yellow_cones, 5.5ms\n",
      "video 1/1 (frame 1156/10797) /home/aditya/Downloads/Track.mp4: 288x512 5 blue_cones, 4 yellow_cones, 7.1ms\n",
      "video 1/1 (frame 1157/10797) /home/aditya/Downloads/Track.mp4: 288x512 5 blue_cones, 11 yellow_cones, 6.2ms\n",
      "video 1/1 (frame 1158/10797) /home/aditya/Downloads/Track.mp4: 288x512 7 blue_cones, 6 yellow_cones, 5.4ms\n",
      "video 1/1 (frame 1159/10797) /home/aditya/Downloads/Track.mp4: 288x512 6 blue_cones, 5 yellow_cones, 6.3ms\n",
      "video 1/1 (frame 1160/10797) /home/aditya/Downloads/Track.mp4: 288x512 5 blue_cones, 5 yellow_cones, 7.8ms\n",
      "video 1/1 (frame 1161/10797) /home/aditya/Downloads/Track.mp4: 288x512 6 blue_cones, 6 yellow_cones, 5.9ms\n",
      "video 1/1 (frame 1162/10797) /home/aditya/Downloads/Track.mp4: 288x512 6 blue_cones, 4 yellow_cones, 6.9ms\n",
      "video 1/1 (frame 1163/10797) /home/aditya/Downloads/Track.mp4: 288x512 6 blue_cones, 5 yellow_cones, 5.0ms\n",
      "video 1/1 (frame 1164/10797) /home/aditya/Downloads/Track.mp4: 288x512 6 blue_cones, 7 yellow_cones, 7.1ms\n",
      "video 1/1 (frame 1165/10797) /home/aditya/Downloads/Track.mp4: 288x512 4 blue_cones, 8 yellow_cones, 7.5ms\n",
      "video 1/1 (frame 1166/10797) /home/aditya/Downloads/Track.mp4: 288x512 4 blue_cones, 5 yellow_cones, 6.9ms\n",
      "video 1/1 (frame 1167/10797) /home/aditya/Downloads/Track.mp4: 288x512 6 blue_cones, 8 yellow_cones, 6.8ms\n",
      "video 1/1 (frame 1168/10797) /home/aditya/Downloads/Track.mp4: 288x512 5 blue_cones, 9 yellow_cones, 5.7ms\n",
      "video 1/1 (frame 1169/10797) /home/aditya/Downloads/Track.mp4: 288x512 8 blue_cones, 10 yellow_cones, 6.5ms\n",
      "video 1/1 (frame 1170/10797) /home/aditya/Downloads/Track.mp4: 288x512 6 blue_cones, 7 yellow_cones, 6.5ms\n",
      "video 1/1 (frame 1171/10797) /home/aditya/Downloads/Track.mp4: 288x512 6 blue_cones, 7 yellow_cones, 6.7ms\n",
      "video 1/1 (frame 1172/10797) /home/aditya/Downloads/Track.mp4: 288x512 7 blue_cones, 11 yellow_cones, 5.7ms\n",
      "video 1/1 (frame 1173/10797) /home/aditya/Downloads/Track.mp4: 288x512 7 blue_cones, 12 yellow_cones, 6.0ms\n",
      "video 1/1 (frame 1174/10797) /home/aditya/Downloads/Track.mp4: 288x512 6 blue_cones, 6 yellow_cones, 5.5ms\n",
      "video 1/1 (frame 1175/10797) /home/aditya/Downloads/Track.mp4: 288x512 7 blue_cones, 13 yellow_cones, 5.6ms\n",
      "video 1/1 (frame 1176/10797) /home/aditya/Downloads/Track.mp4: 288x512 7 blue_cones, 6 yellow_cones, 5.6ms\n",
      "video 1/1 (frame 1177/10797) /home/aditya/Downloads/Track.mp4: 288x512 5 blue_cones, 10 yellow_cones, 6.2ms\n",
      "video 1/1 (frame 1178/10797) /home/aditya/Downloads/Track.mp4: 288x512 6 blue_cones, 9 yellow_cones, 6.2ms\n",
      "video 1/1 (frame 1179/10797) /home/aditya/Downloads/Track.mp4: 288x512 5 blue_cones, 9 yellow_cones, 7.1ms\n",
      "video 1/1 (frame 1180/10797) /home/aditya/Downloads/Track.mp4: 288x512 4 blue_cones, 7 yellow_cones, 5.5ms\n",
      "video 1/1 (frame 1181/10797) /home/aditya/Downloads/Track.mp4: 288x512 6 blue_cones, 5 yellow_cones, 7.0ms\n",
      "video 1/1 (frame 1182/10797) /home/aditya/Downloads/Track.mp4: 288x512 6 blue_cones, 13 yellow_cones, 6.7ms\n",
      "video 1/1 (frame 1183/10797) /home/aditya/Downloads/Track.mp4: 288x512 6 blue_cones, 8 yellow_cones, 5.5ms\n",
      "video 1/1 (frame 1184/10797) /home/aditya/Downloads/Track.mp4: 288x512 7 blue_cones, 11 yellow_cones, 5.4ms\n",
      "video 1/1 (frame 1185/10797) /home/aditya/Downloads/Track.mp4: 288x512 6 blue_cones, 7 yellow_cones, 5.2ms\n",
      "video 1/1 (frame 1186/10797) /home/aditya/Downloads/Track.mp4: 288x512 5 blue_cones, 7 yellow_cones, 5.2ms\n",
      "video 1/1 (frame 1187/10797) /home/aditya/Downloads/Track.mp4: 288x512 5 blue_cones, 10 yellow_cones, 6.1ms\n",
      "video 1/1 (frame 1188/10797) /home/aditya/Downloads/Track.mp4: 288x512 5 blue_cones, 9 yellow_cones, 6.4ms\n",
      "video 1/1 (frame 1189/10797) /home/aditya/Downloads/Track.mp4: 288x512 7 blue_cones, 11 yellow_cones, 7.0ms\n",
      "video 1/1 (frame 1190/10797) /home/aditya/Downloads/Track.mp4: 288x512 6 blue_cones, 10 yellow_cones, 7.0ms\n",
      "video 1/1 (frame 1191/10797) /home/aditya/Downloads/Track.mp4: 288x512 4 blue_cones, 10 yellow_cones, 5.3ms\n",
      "video 1/1 (frame 1192/10797) /home/aditya/Downloads/Track.mp4: 288x512 4 blue_cones, 6 yellow_cones, 6.7ms\n",
      "video 1/1 (frame 1193/10797) /home/aditya/Downloads/Track.mp4: 288x512 6 blue_cones, 6 yellow_cones, 6.0ms\n",
      "video 1/1 (frame 1194/10797) /home/aditya/Downloads/Track.mp4: 288x512 5 blue_cones, 6 yellow_cones, 6.8ms\n",
      "video 1/1 (frame 1195/10797) /home/aditya/Downloads/Track.mp4: 288x512 3 blue_cones, 8 yellow_cones, 5.7ms\n",
      "video 1/1 (frame 1196/10797) /home/aditya/Downloads/Track.mp4: 288x512 5 blue_cones, 5 yellow_cones, 7.1ms\n",
      "video 1/1 (frame 1197/10797) /home/aditya/Downloads/Track.mp4: 288x512 5 blue_cones, 7 yellow_cones, 6.8ms\n",
      "video 1/1 (frame 1198/10797) /home/aditya/Downloads/Track.mp4: 288x512 5 blue_cones, 6 yellow_cones, 5.6ms\n",
      "video 1/1 (frame 1199/10797) /home/aditya/Downloads/Track.mp4: 288x512 4 blue_cones, 6 yellow_cones, 6.8ms\n",
      "video 1/1 (frame 1200/10797) /home/aditya/Downloads/Track.mp4: 288x512 5 blue_cones, 4 yellow_cones, 5.3ms\n",
      "video 1/1 (frame 1201/10797) /home/aditya/Downloads/Track.mp4: 288x512 5 blue_cones, 3 yellow_cones, 6.8ms\n",
      "video 1/1 (frame 1202/10797) /home/aditya/Downloads/Track.mp4: 288x512 6 blue_cones, 4 yellow_cones, 6.6ms\n",
      "video 1/1 (frame 1203/10797) /home/aditya/Downloads/Track.mp4: 288x512 6 blue_cones, 2 yellow_cones, 8.7ms\n",
      "video 1/1 (frame 1204/10797) /home/aditya/Downloads/Track.mp4: 288x512 6 blue_cones, 4 yellow_cones, 5.2ms\n",
      "video 1/1 (frame 1205/10797) /home/aditya/Downloads/Track.mp4: 288x512 7 blue_cones, 4 yellow_cones, 5.2ms\n",
      "video 1/1 (frame 1206/10797) /home/aditya/Downloads/Track.mp4: 288x512 6 blue_cones, 3 yellow_cones, 5.5ms\n",
      "video 1/1 (frame 1207/10797) /home/aditya/Downloads/Track.mp4: 288x512 5 blue_cones, 2 yellow_cones, 7.1ms\n",
      "video 1/1 (frame 1208/10797) /home/aditya/Downloads/Track.mp4: 288x512 6 blue_cones, 2 yellow_cones, 7.1ms\n",
      "video 1/1 (frame 1209/10797) /home/aditya/Downloads/Track.mp4: 288x512 6 blue_cones, 5 yellow_cones, 6.0ms\n",
      "video 1/1 (frame 1210/10797) /home/aditya/Downloads/Track.mp4: 288x512 5 blue_cones, 5 yellow_cones, 7.3ms\n",
      "video 1/1 (frame 1211/10797) /home/aditya/Downloads/Track.mp4: 288x512 6 blue_cones, 6 yellow_cones, 6.8ms\n",
      "video 1/1 (frame 1212/10797) /home/aditya/Downloads/Track.mp4: 288x512 7 blue_cones, 4 yellow_cones, 6.4ms\n",
      "video 1/1 (frame 1213/10797) /home/aditya/Downloads/Track.mp4: 288x512 8 blue_cones, 8 yellow_cones, 7.0ms\n",
      "video 1/1 (frame 1214/10797) /home/aditya/Downloads/Track.mp4: 288x512 7 blue_cones, 7 yellow_cones, 6.1ms\n",
      "video 1/1 (frame 1215/10797) /home/aditya/Downloads/Track.mp4: 288x512 7 blue_cones, 5 yellow_cones, 5.6ms\n",
      "video 1/1 (frame 1216/10797) /home/aditya/Downloads/Track.mp4: 288x512 5 blue_cones, 5 yellow_cones, 6.3ms\n",
      "video 1/1 (frame 1217/10797) /home/aditya/Downloads/Track.mp4: 288x512 6 blue_cones, 5 yellow_cones, 5.9ms\n",
      "video 1/1 (frame 1218/10797) /home/aditya/Downloads/Track.mp4: 288x512 6 blue_cones, 4 yellow_cones, 5.1ms\n",
      "video 1/1 (frame 1219/10797) /home/aditya/Downloads/Track.mp4: 288x512 5 blue_cones, 6 yellow_cones, 6.4ms\n",
      "video 1/1 (frame 1220/10797) /home/aditya/Downloads/Track.mp4: 288x512 7 blue_cones, 6 yellow_cones, 6.7ms\n",
      "video 1/1 (frame 1221/10797) /home/aditya/Downloads/Track.mp4: 288x512 5 blue_cones, 6 yellow_cones, 5.7ms\n",
      "video 1/1 (frame 1222/10797) /home/aditya/Downloads/Track.mp4: 288x512 5 blue_cones, 8 yellow_cones, 5.4ms\n",
      "video 1/1 (frame 1223/10797) /home/aditya/Downloads/Track.mp4: 288x512 5 blue_cones, 6 yellow_cones, 6.7ms\n",
      "video 1/1 (frame 1224/10797) /home/aditya/Downloads/Track.mp4: 288x512 4 blue_cones, 6 yellow_cones, 5.8ms\n",
      "video 1/1 (frame 1225/10797) /home/aditya/Downloads/Track.mp4: 288x512 4 blue_cones, 10 yellow_cones, 5.6ms\n",
      "video 1/1 (frame 1226/10797) /home/aditya/Downloads/Track.mp4: 288x512 3 blue_cones, 5 yellow_cones, 6.5ms\n",
      "video 1/1 (frame 1227/10797) /home/aditya/Downloads/Track.mp4: 288x512 2 blue_cones, 6 yellow_cones, 6.6ms\n",
      "video 1/1 (frame 1228/10797) /home/aditya/Downloads/Track.mp4: 288x512 4 blue_cones, 5 yellow_cones, 7.4ms\n",
      "video 1/1 (frame 1229/10797) /home/aditya/Downloads/Track.mp4: 288x512 3 blue_cones, 5 yellow_cones, 5.2ms\n",
      "video 1/1 (frame 1230/10797) /home/aditya/Downloads/Track.mp4: 288x512 2 blue_cones, 4 yellow_cones, 5.7ms\n",
      "video 1/1 (frame 1231/10797) /home/aditya/Downloads/Track.mp4: 288x512 1 blue_cone, 4 yellow_cones, 6.6ms\n",
      "video 1/1 (frame 1232/10797) /home/aditya/Downloads/Track.mp4: 288x512 3 blue_cones, 7 yellow_cones, 5.2ms\n",
      "video 1/1 (frame 1233/10797) /home/aditya/Downloads/Track.mp4: 288x512 2 blue_cones, 5 yellow_cones, 6.1ms\n",
      "video 1/1 (frame 1234/10797) /home/aditya/Downloads/Track.mp4: 288x512 2 blue_cones, 6 yellow_cones, 5.3ms\n",
      "video 1/1 (frame 1235/10797) /home/aditya/Downloads/Track.mp4: 288x512 2 blue_cones, 4 yellow_cones, 6.4ms\n",
      "video 1/1 (frame 1236/10797) /home/aditya/Downloads/Track.mp4: 288x512 1 blue_cone, 2 yellow_cones, 5.0ms\n",
      "video 1/1 (frame 1237/10797) /home/aditya/Downloads/Track.mp4: 288x512 2 blue_cones, 5 yellow_cones, 5.8ms\n",
      "video 1/1 (frame 1238/10797) /home/aditya/Downloads/Track.mp4: 288x512 1 blue_cone, 5 yellow_cones, 7.4ms\n",
      "video 1/1 (frame 1239/10797) /home/aditya/Downloads/Track.mp4: 288x512 2 blue_cones, 8 yellow_cones, 7.5ms\n",
      "video 1/1 (frame 1240/10797) /home/aditya/Downloads/Track.mp4: 288x512 1 blue_cone, 5 yellow_cones, 5.3ms\n",
      "video 1/1 (frame 1241/10797) /home/aditya/Downloads/Track.mp4: 288x512 1 blue_cone, 4 yellow_cones, 6.4ms\n",
      "video 1/1 (frame 1242/10797) /home/aditya/Downloads/Track.mp4: 288x512 1 blue_cone, 4 yellow_cones, 6.5ms\n",
      "video 1/1 (frame 1243/10797) /home/aditya/Downloads/Track.mp4: 288x512 1 blue_cone, 2 yellow_cones, 5.2ms\n",
      "video 1/1 (frame 1244/10797) /home/aditya/Downloads/Track.mp4: 288x512 1 large_orange_cone, 2 yellow_cones, 5.5ms\n",
      "video 1/1 (frame 1245/10797) /home/aditya/Downloads/Track.mp4: 288x512 4 yellow_cones, 7.6ms\n",
      "video 1/1 (frame 1246/10797) /home/aditya/Downloads/Track.mp4: 288x512 1 blue_cone, 5 yellow_cones, 6.8ms\n",
      "video 1/1 (frame 1247/10797) /home/aditya/Downloads/Track.mp4: 288x512 1 blue_cone, 5 yellow_cones, 6.8ms\n",
      "video 1/1 (frame 1248/10797) /home/aditya/Downloads/Track.mp4: 288x512 1 blue_cone, 6 yellow_cones, 8.0ms\n",
      "video 1/1 (frame 1249/10797) /home/aditya/Downloads/Track.mp4: 288x512 1 blue_cone, 6 yellow_cones, 5.1ms\n",
      "video 1/1 (frame 1250/10797) /home/aditya/Downloads/Track.mp4: 288x512 1 blue_cone, 1 large_orange_cone, 4 yellow_cones, 5.7ms\n",
      "video 1/1 (frame 1251/10797) /home/aditya/Downloads/Track.mp4: 288x512 1 blue_cone, 1 large_orange_cone, 4 yellow_cones, 7.2ms\n",
      "video 1/1 (frame 1252/10797) /home/aditya/Downloads/Track.mp4: 288x512 1 blue_cone, 6 yellow_cones, 6.8ms\n",
      "video 1/1 (frame 1253/10797) /home/aditya/Downloads/Track.mp4: 288x512 1 blue_cone, 4 yellow_cones, 7.1ms\n",
      "video 1/1 (frame 1254/10797) /home/aditya/Downloads/Track.mp4: 288x512 1 blue_cone, 3 yellow_cones, 6.9ms\n",
      "video 1/1 (frame 1255/10797) /home/aditya/Downloads/Track.mp4: 288x512 1 blue_cone, 1 yellow_cone, 5.2ms\n",
      "video 1/1 (frame 1256/10797) /home/aditya/Downloads/Track.mp4: 288x512 1 blue_cone, 2 yellow_cones, 5.4ms\n",
      "video 1/1 (frame 1257/10797) /home/aditya/Downloads/Track.mp4: 288x512 2 blue_cones, 3 yellow_cones, 5.6ms\n",
      "video 1/1 (frame 1258/10797) /home/aditya/Downloads/Track.mp4: 288x512 1 blue_cone, 8 yellow_cones, 6.5ms\n",
      "video 1/1 (frame 1259/10797) /home/aditya/Downloads/Track.mp4: 288x512 2 blue_cones, 6 yellow_cones, 6.8ms\n",
      "video 1/1 (frame 1260/10797) /home/aditya/Downloads/Track.mp4: 288x512 1 blue_cone, 5 yellow_cones, 5.3ms\n",
      "video 1/1 (frame 1261/10797) /home/aditya/Downloads/Track.mp4: 288x512 1 blue_cone, 3 yellow_cones, 5.8ms\n",
      "video 1/1 (frame 1262/10797) /home/aditya/Downloads/Track.mp4: 288x512 2 blue_cones, 8 yellow_cones, 6.7ms\n",
      "video 1/1 (frame 1263/10797) /home/aditya/Downloads/Track.mp4: 288x512 2 blue_cones, 5 yellow_cones, 5.3ms\n",
      "video 1/1 (frame 1264/10797) /home/aditya/Downloads/Track.mp4: 288x512 2 blue_cones, 4 yellow_cones, 7.8ms\n",
      "video 1/1 (frame 1265/10797) /home/aditya/Downloads/Track.mp4: 288x512 2 blue_cones, 5 yellow_cones, 5.5ms\n",
      "video 1/1 (frame 1266/10797) /home/aditya/Downloads/Track.mp4: 288x512 3 blue_cones, 4 yellow_cones, 6.9ms\n",
      "video 1/1 (frame 1267/10797) /home/aditya/Downloads/Track.mp4: 288x512 5 blue_cones, 9 yellow_cones, 6.5ms\n",
      "video 1/1 (frame 1268/10797) /home/aditya/Downloads/Track.mp4: 288x512 5 blue_cones, 9 yellow_cones, 6.6ms\n",
      "video 1/1 (frame 1269/10797) /home/aditya/Downloads/Track.mp4: 288x512 5 blue_cones, 6 yellow_cones, 5.5ms\n",
      "video 1/1 (frame 1270/10797) /home/aditya/Downloads/Track.mp4: 288x512 5 blue_cones, 7 yellow_cones, 5.1ms\n",
      "video 1/1 (frame 1271/10797) /home/aditya/Downloads/Track.mp4: 288x512 5 blue_cones, 8 yellow_cones, 5.1ms\n",
      "video 1/1 (frame 1272/10797) /home/aditya/Downloads/Track.mp4: 288x512 6 blue_cones, 7 yellow_cones, 7.5ms\n",
      "video 1/1 (frame 1273/10797) /home/aditya/Downloads/Track.mp4: 288x512 5 blue_cones, 7 yellow_cones, 7.2ms\n",
      "video 1/1 (frame 1274/10797) /home/aditya/Downloads/Track.mp4: 288x512 5 blue_cones, 9 yellow_cones, 5.1ms\n",
      "video 1/1 (frame 1275/10797) /home/aditya/Downloads/Track.mp4: 288x512 5 blue_cones, 7 yellow_cones, 6.9ms\n",
      "video 1/1 (frame 1276/10797) /home/aditya/Downloads/Track.mp4: 288x512 5 blue_cones, 11 yellow_cones, 7.0ms\n",
      "video 1/1 (frame 1277/10797) /home/aditya/Downloads/Track.mp4: 288x512 5 blue_cones, 7 yellow_cones, 6.7ms\n",
      "video 1/1 (frame 1278/10797) /home/aditya/Downloads/Track.mp4: 288x512 4 blue_cones, 7 yellow_cones, 6.5ms\n",
      "video 1/1 (frame 1279/10797) /home/aditya/Downloads/Track.mp4: 288x512 5 blue_cones, 11 yellow_cones, 7.0ms\n",
      "video 1/1 (frame 1280/10797) /home/aditya/Downloads/Track.mp4: 288x512 5 blue_cones, 5 yellow_cones, 5.4ms\n",
      "video 1/1 (frame 1281/10797) /home/aditya/Downloads/Track.mp4: 288x512 5 blue_cones, 9 yellow_cones, 7.0ms\n",
      "video 1/1 (frame 1282/10797) /home/aditya/Downloads/Track.mp4: 288x512 4 blue_cones, 10 yellow_cones, 6.2ms\n",
      "video 1/1 (frame 1283/10797) /home/aditya/Downloads/Track.mp4: 288x512 4 blue_cones, 7 yellow_cones, 7.2ms\n",
      "video 1/1 (frame 1284/10797) /home/aditya/Downloads/Track.mp4: 288x512 5 blue_cones, 9 yellow_cones, 5.5ms\n",
      "video 1/1 (frame 1285/10797) /home/aditya/Downloads/Track.mp4: 288x512 4 blue_cones, 5 yellow_cones, 5.5ms\n",
      "video 1/1 (frame 1286/10797) /home/aditya/Downloads/Track.mp4: 288x512 4 blue_cones, 7 yellow_cones, 5.2ms\n",
      "video 1/1 (frame 1287/10797) /home/aditya/Downloads/Track.mp4: 288x512 4 blue_cones, 6 yellow_cones, 5.8ms\n",
      "video 1/1 (frame 1288/10797) /home/aditya/Downloads/Track.mp4: 288x512 4 blue_cones, 6 yellow_cones, 5.1ms\n",
      "video 1/1 (frame 1289/10797) /home/aditya/Downloads/Track.mp4: 288x512 4 blue_cones, 4 yellow_cones, 5.9ms\n",
      "video 1/1 (frame 1290/10797) /home/aditya/Downloads/Track.mp4: 288x512 4 blue_cones, 6 yellow_cones, 5.5ms\n",
      "video 1/1 (frame 1291/10797) /home/aditya/Downloads/Track.mp4: 288x512 5 blue_cones, 6 yellow_cones, 5.1ms\n",
      "video 1/1 (frame 1292/10797) /home/aditya/Downloads/Track.mp4: 288x512 5 blue_cones, 6 yellow_cones, 6.9ms\n",
      "video 1/1 (frame 1293/10797) /home/aditya/Downloads/Track.mp4: 288x512 4 blue_cones, 5 yellow_cones, 7.1ms\n",
      "video 1/1 (frame 1294/10797) /home/aditya/Downloads/Track.mp4: 288x512 5 blue_cones, 5 yellow_cones, 5.5ms\n",
      "video 1/1 (frame 1295/10797) /home/aditya/Downloads/Track.mp4: 288x512 5 blue_cones, 5 yellow_cones, 5.2ms\n",
      "video 1/1 (frame 1296/10797) /home/aditya/Downloads/Track.mp4: 288x512 6 blue_cones, 8 yellow_cones, 6.1ms\n",
      "video 1/1 (frame 1297/10797) /home/aditya/Downloads/Track.mp4: 288x512 4 blue_cones, 7 yellow_cones, 6.6ms\n",
      "video 1/1 (frame 1298/10797) /home/aditya/Downloads/Track.mp4: 288x512 5 blue_cones, 6 yellow_cones, 6.8ms\n",
      "video 1/1 (frame 1299/10797) /home/aditya/Downloads/Track.mp4: 288x512 7 blue_cones, 5 yellow_cones, 6.2ms\n",
      "video 1/1 (frame 1300/10797) /home/aditya/Downloads/Track.mp4: 288x512 7 blue_cones, 5 yellow_cones, 6.7ms\n",
      "video 1/1 (frame 1301/10797) /home/aditya/Downloads/Track.mp4: 288x512 5 blue_cones, 6 yellow_cones, 7.1ms\n",
      "video 1/1 (frame 1302/10797) /home/aditya/Downloads/Track.mp4: 288x512 5 blue_cones, 4 yellow_cones, 5.1ms\n",
      "video 1/1 (frame 1303/10797) /home/aditya/Downloads/Track.mp4: 288x512 6 blue_cones, 5 yellow_cones, 5.4ms\n",
      "video 1/1 (frame 1304/10797) /home/aditya/Downloads/Track.mp4: 288x512 6 blue_cones, 6 yellow_cones, 5.3ms\n",
      "video 1/1 (frame 1305/10797) /home/aditya/Downloads/Track.mp4: 288x512 7 blue_cones, 7 yellow_cones, 5.2ms\n",
      "video 1/1 (frame 1306/10797) /home/aditya/Downloads/Track.mp4: 288x512 6 blue_cones, 6 yellow_cones, 6.8ms\n",
      "video 1/1 (frame 1307/10797) /home/aditya/Downloads/Track.mp4: 288x512 8 blue_cones, 6 yellow_cones, 5.2ms\n",
      "video 1/1 (frame 1308/10797) /home/aditya/Downloads/Track.mp4: 288x512 4 blue_cones, 5 yellow_cones, 6.6ms\n",
      "video 1/1 (frame 1309/10797) /home/aditya/Downloads/Track.mp4: 288x512 4 blue_cones, 8 yellow_cones, 7.2ms\n",
      "video 1/1 (frame 1310/10797) /home/aditya/Downloads/Track.mp4: 288x512 5 blue_cones, 6 yellow_cones, 6.5ms\n",
      "video 1/1 (frame 1311/10797) /home/aditya/Downloads/Track.mp4: 288x512 6 blue_cones, 5 yellow_cones, 5.6ms\n",
      "video 1/1 (frame 1312/10797) /home/aditya/Downloads/Track.mp4: 288x512 5 blue_cones, 8 yellow_cones, 6.9ms\n",
      "video 1/1 (frame 1313/10797) /home/aditya/Downloads/Track.mp4: 288x512 5 blue_cones, 5 yellow_cones, 5.5ms\n",
      "video 1/1 (frame 1314/10797) /home/aditya/Downloads/Track.mp4: 288x512 4 blue_cones, 8 yellow_cones, 5.5ms\n",
      "video 1/1 (frame 1315/10797) /home/aditya/Downloads/Track.mp4: 288x512 4 blue_cones, 6 yellow_cones, 7.1ms\n",
      "video 1/1 (frame 1316/10797) /home/aditya/Downloads/Track.mp4: 288x512 4 blue_cones, 4 yellow_cones, 6.5ms\n",
      "video 1/1 (frame 1317/10797) /home/aditya/Downloads/Track.mp4: 288x512 4 blue_cones, 6 yellow_cones, 6.4ms\n",
      "video 1/1 (frame 1318/10797) /home/aditya/Downloads/Track.mp4: 288x512 4 blue_cones, 6 yellow_cones, 5.1ms\n",
      "video 1/1 (frame 1319/10797) /home/aditya/Downloads/Track.mp4: 288x512 4 blue_cones, 6 yellow_cones, 6.9ms\n",
      "video 1/1 (frame 1320/10797) /home/aditya/Downloads/Track.mp4: 288x512 4 blue_cones, 6 yellow_cones, 5.6ms\n",
      "video 1/1 (frame 1321/10797) /home/aditya/Downloads/Track.mp4: 288x512 4 blue_cones, 5 yellow_cones, 5.2ms\n",
      "video 1/1 (frame 1322/10797) /home/aditya/Downloads/Track.mp4: 288x512 4 blue_cones, 6 yellow_cones, 7.1ms\n",
      "video 1/1 (frame 1323/10797) /home/aditya/Downloads/Track.mp4: 288x512 3 blue_cones, 5 yellow_cones, 5.4ms\n",
      "video 1/1 (frame 1324/10797) /home/aditya/Downloads/Track.mp4: 288x512 3 blue_cones, 5 yellow_cones, 7.1ms\n",
      "video 1/1 (frame 1325/10797) /home/aditya/Downloads/Track.mp4: 288x512 3 blue_cones, 4 yellow_cones, 5.7ms\n",
      "video 1/1 (frame 1326/10797) /home/aditya/Downloads/Track.mp4: 288x512 3 blue_cones, 5 yellow_cones, 6.1ms\n",
      "video 1/1 (frame 1327/10797) /home/aditya/Downloads/Track.mp4: 288x512 3 blue_cones, 5 yellow_cones, 6.9ms\n",
      "video 1/1 (frame 1328/10797) /home/aditya/Downloads/Track.mp4: 288x512 3 blue_cones, 4 yellow_cones, 6.8ms\n",
      "video 1/1 (frame 1329/10797) /home/aditya/Downloads/Track.mp4: 288x512 3 blue_cones, 5 yellow_cones, 6.6ms\n",
      "video 1/1 (frame 1330/10797) /home/aditya/Downloads/Track.mp4: 288x512 2 blue_cones, 5 yellow_cones, 5.7ms\n",
      "video 1/1 (frame 1331/10797) /home/aditya/Downloads/Track.mp4: 288x512 2 blue_cones, 8 yellow_cones, 5.5ms\n",
      "video 1/1 (frame 1332/10797) /home/aditya/Downloads/Track.mp4: 288x512 2 blue_cones, 4 yellow_cones, 6.7ms\n",
      "video 1/1 (frame 1333/10797) /home/aditya/Downloads/Track.mp4: 288x512 4 blue_cones, 4 yellow_cones, 6.8ms\n",
      "video 1/1 (frame 1334/10797) /home/aditya/Downloads/Track.mp4: 288x512 3 blue_cones, 5 yellow_cones, 6.6ms\n",
      "video 1/1 (frame 1335/10797) /home/aditya/Downloads/Track.mp4: 288x512 3 blue_cones, 5 yellow_cones, 6.3ms\n",
      "video 1/1 (frame 1336/10797) /home/aditya/Downloads/Track.mp4: 288x512 3 blue_cones, 8 yellow_cones, 6.9ms\n",
      "video 1/1 (frame 1337/10797) /home/aditya/Downloads/Track.mp4: 288x512 4 blue_cones, 7 yellow_cones, 5.2ms\n",
      "video 1/1 (frame 1338/10797) /home/aditya/Downloads/Track.mp4: 288x512 4 blue_cones, 8 yellow_cones, 6.7ms\n",
      "video 1/1 (frame 1339/10797) /home/aditya/Downloads/Track.mp4: 288x512 4 blue_cones, 5 yellow_cones, 5.8ms\n",
      "video 1/1 (frame 1340/10797) /home/aditya/Downloads/Track.mp4: 288x512 3 blue_cones, 4 yellow_cones, 5.4ms\n",
      "video 1/1 (frame 1341/10797) /home/aditya/Downloads/Track.mp4: 288x512 3 blue_cones, 7 yellow_cones, 6.1ms\n",
      "video 1/1 (frame 1342/10797) /home/aditya/Downloads/Track.mp4: 288x512 2 blue_cones, 7 yellow_cones, 6.9ms\n",
      "video 1/1 (frame 1343/10797) /home/aditya/Downloads/Track.mp4: 288x512 2 blue_cones, 5 yellow_cones, 7.0ms\n",
      "video 1/1 (frame 1344/10797) /home/aditya/Downloads/Track.mp4: 288x512 3 blue_cones, 4 yellow_cones, 6.5ms\n",
      "video 1/1 (frame 1345/10797) /home/aditya/Downloads/Track.mp4: 288x512 2 blue_cones, 5 yellow_cones, 6.8ms\n",
      "video 1/1 (frame 1346/10797) /home/aditya/Downloads/Track.mp4: 288x512 3 blue_cones, 3 yellow_cones, 7.1ms\n",
      "video 1/1 (frame 1347/10797) /home/aditya/Downloads/Track.mp4: 288x512 2 blue_cones, 4 yellow_cones, 7.7ms\n",
      "video 1/1 (frame 1348/10797) /home/aditya/Downloads/Track.mp4: 288x512 1 blue_cone, 3 yellow_cones, 9.3ms\n",
      "video 1/1 (frame 1349/10797) /home/aditya/Downloads/Track.mp4: 288x512 2 blue_cones, 2 yellow_cones, 5.3ms\n",
      "video 1/1 (frame 1350/10797) /home/aditya/Downloads/Track.mp4: 288x512 1 blue_cone, 2 yellow_cones, 7.0ms\n",
      "video 1/1 (frame 1351/10797) /home/aditya/Downloads/Track.mp4: 288x512 1 blue_cone, 3 yellow_cones, 5.1ms\n",
      "video 1/1 (frame 1352/10797) /home/aditya/Downloads/Track.mp4: 288x512 1 blue_cone, 1 yellow_cone, 5.6ms\n",
      "video 1/1 (frame 1353/10797) /home/aditya/Downloads/Track.mp4: 288x512 1 blue_cone, 2 yellow_cones, 7.0ms\n",
      "video 1/1 (frame 1354/10797) /home/aditya/Downloads/Track.mp4: 288x512 1 yellow_cone, 5.7ms\n",
      "video 1/1 (frame 1355/10797) /home/aditya/Downloads/Track.mp4: 288x512 (no detections), 7.3ms\n",
      "video 1/1 (frame 1356/10797) /home/aditya/Downloads/Track.mp4: 288x512 1 yellow_cone, 6.8ms\n",
      "video 1/1 (frame 1357/10797) /home/aditya/Downloads/Track.mp4: 288x512 1 yellow_cone, 7.4ms\n",
      "video 1/1 (frame 1358/10797) /home/aditya/Downloads/Track.mp4: 288x512 1 yellow_cone, 6.2ms\n",
      "video 1/1 (frame 1359/10797) /home/aditya/Downloads/Track.mp4: 288x512 1 yellow_cone, 7.1ms\n",
      "video 1/1 (frame 1360/10797) /home/aditya/Downloads/Track.mp4: 288x512 1 yellow_cone, 5.4ms\n",
      "video 1/1 (frame 1361/10797) /home/aditya/Downloads/Track.mp4: 288x512 1 blue_cone, 1 yellow_cone, 5.3ms\n",
      "video 1/1 (frame 1362/10797) /home/aditya/Downloads/Track.mp4: 288x512 (no detections), 5.3ms\n",
      "video 1/1 (frame 1363/10797) /home/aditya/Downloads/Track.mp4: 288x512 1 yellow_cone, 6.6ms\n",
      "video 1/1 (frame 1364/10797) /home/aditya/Downloads/Track.mp4: 288x512 (no detections), 6.7ms\n",
      "video 1/1 (frame 1365/10797) /home/aditya/Downloads/Track.mp4: 288x512 (no detections), 6.7ms\n",
      "video 1/1 (frame 1366/10797) /home/aditya/Downloads/Track.mp4: 288x512 (no detections), 6.6ms\n",
      "video 1/1 (frame 1367/10797) /home/aditya/Downloads/Track.mp4: 288x512 1 yellow_cone, 6.6ms\n",
      "video 1/1 (frame 1368/10797) /home/aditya/Downloads/Track.mp4: 288x512 1 yellow_cone, 5.2ms\n",
      "video 1/1 (frame 1369/10797) /home/aditya/Downloads/Track.mp4: 288x512 1 yellow_cone, 5.3ms\n",
      "video 1/1 (frame 1370/10797) /home/aditya/Downloads/Track.mp4: 288x512 (no detections), 6.9ms\n",
      "video 1/1 (frame 1371/10797) /home/aditya/Downloads/Track.mp4: 288x512 1 blue_cone, 1 yellow_cone, 5.2ms\n",
      "video 1/1 (frame 1372/10797) /home/aditya/Downloads/Track.mp4: 288x512 1 blue_cone, 1 large_orange_cone, 5.5ms\n",
      "video 1/1 (frame 1373/10797) /home/aditya/Downloads/Track.mp4: 288x512 1 blue_cone, 6.7ms\n",
      "video 1/1 (frame 1374/10797) /home/aditya/Downloads/Track.mp4: 288x512 (no detections), 5.9ms\n",
      "video 1/1 (frame 1375/10797) /home/aditya/Downloads/Track.mp4: 288x512 1 yellow_cone, 6.7ms\n",
      "video 1/1 (frame 1376/10797) /home/aditya/Downloads/Track.mp4: 288x512 1 blue_cone, 1 yellow_cone, 6.7ms\n",
      "video 1/1 (frame 1377/10797) /home/aditya/Downloads/Track.mp4: 288x512 1 blue_cone, 1 yellow_cone, 5.2ms\n",
      "video 1/1 (frame 1378/10797) /home/aditya/Downloads/Track.mp4: 288x512 1 blue_cone, 1 yellow_cone, 6.8ms\n",
      "video 1/1 (frame 1379/10797) /home/aditya/Downloads/Track.mp4: 288x512 1 blue_cone, 1 yellow_cone, 5.8ms\n",
      "video 1/1 (frame 1380/10797) /home/aditya/Downloads/Track.mp4: 288x512 1 blue_cone, 5.1ms\n",
      "video 1/1 (frame 1381/10797) /home/aditya/Downloads/Track.mp4: 288x512 1 yellow_cone, 5.1ms\n",
      "video 1/1 (frame 1382/10797) /home/aditya/Downloads/Track.mp4: 288x512 (no detections), 5.6ms\n",
      "video 1/1 (frame 1383/10797) /home/aditya/Downloads/Track.mp4: 288x512 (no detections), 6.6ms\n",
      "video 1/1 (frame 1384/10797) /home/aditya/Downloads/Track.mp4: 288x512 1 blue_cone, 1 yellow_cone, 6.6ms\n",
      "video 1/1 (frame 1385/10797) /home/aditya/Downloads/Track.mp4: 288x512 1 yellow_cone, 5.6ms\n",
      "video 1/1 (frame 1386/10797) /home/aditya/Downloads/Track.mp4: 288x512 1 yellow_cone, 5.9ms\n",
      "video 1/1 (frame 1387/10797) /home/aditya/Downloads/Track.mp4: 288x512 1 blue_cone, 6.4ms\n",
      "video 1/1 (frame 1388/10797) /home/aditya/Downloads/Track.mp4: 288x512 2 blue_cones, 5.3ms\n",
      "video 1/1 (frame 1389/10797) /home/aditya/Downloads/Track.mp4: 288x512 2 blue_cones, 5.0ms\n",
      "video 1/1 (frame 1390/10797) /home/aditya/Downloads/Track.mp4: 288x512 2 blue_cones, 5.1ms\n",
      "video 1/1 (frame 1391/10797) /home/aditya/Downloads/Track.mp4: 288x512 2 blue_cones, 1 yellow_cone, 5.9ms\n",
      "video 1/1 (frame 1392/10797) /home/aditya/Downloads/Track.mp4: 288x512 3 blue_cones, 1 yellow_cone, 5.0ms\n",
      "video 1/1 (frame 1393/10797) /home/aditya/Downloads/Track.mp4: 288x512 2 blue_cones, 1 yellow_cone, 5.8ms\n",
      "video 1/1 (frame 1394/10797) /home/aditya/Downloads/Track.mp4: 288x512 2 blue_cones, 3 yellow_cones, 6.1ms\n",
      "video 1/1 (frame 1395/10797) /home/aditya/Downloads/Track.mp4: 288x512 2 blue_cones, 2 yellow_cones, 5.4ms\n",
      "video 1/1 (frame 1396/10797) /home/aditya/Downloads/Track.mp4: 288x512 2 blue_cones, 1 yellow_cone, 6.7ms\n",
      "video 1/1 (frame 1397/10797) /home/aditya/Downloads/Track.mp4: 288x512 2 blue_cones, 5.5ms\n",
      "video 1/1 (frame 1398/10797) /home/aditya/Downloads/Track.mp4: 288x512 2 blue_cones, 1 yellow_cone, 6.6ms\n",
      "video 1/1 (frame 1399/10797) /home/aditya/Downloads/Track.mp4: 288x512 2 blue_cones, 6.6ms\n",
      "video 1/1 (frame 1400/10797) /home/aditya/Downloads/Track.mp4: 288x512 1 blue_cone, 6.8ms\n",
      "video 1/1 (frame 1401/10797) /home/aditya/Downloads/Track.mp4: 288x512 4 blue_cones, 3 yellow_cones, 5.2ms\n",
      "video 1/1 (frame 1402/10797) /home/aditya/Downloads/Track.mp4: 288x512 4 blue_cones, 1 yellow_cone, 5.0ms\n",
      "video 1/1 (frame 1403/10797) /home/aditya/Downloads/Track.mp4: 288x512 3 blue_cones, 5.7ms\n",
      "video 1/1 (frame 1404/10797) /home/aditya/Downloads/Track.mp4: 288x512 3 blue_cones, 6.9ms\n",
      "video 1/1 (frame 1405/10797) /home/aditya/Downloads/Track.mp4: 288x512 4 blue_cones, 6.6ms\n",
      "video 1/1 (frame 1406/10797) /home/aditya/Downloads/Track.mp4: 288x512 3 blue_cones, 1 yellow_cone, 6.9ms\n",
      "video 1/1 (frame 1407/10797) /home/aditya/Downloads/Track.mp4: 288x512 3 blue_cones, 1 yellow_cone, 6.1ms\n",
      "video 1/1 (frame 1408/10797) /home/aditya/Downloads/Track.mp4: 288x512 3 blue_cones, 4 yellow_cones, 5.8ms\n",
      "video 1/1 (frame 1409/10797) /home/aditya/Downloads/Track.mp4: 288x512 1 blue_cone, 3 yellow_cones, 5.3ms\n",
      "video 1/1 (frame 1410/10797) /home/aditya/Downloads/Track.mp4: 288x512 2 blue_cones, 2 yellow_cones, 7.3ms\n",
      "video 1/1 (frame 1411/10797) /home/aditya/Downloads/Track.mp4: 288x512 3 blue_cones, 3 yellow_cones, 7.3ms\n",
      "video 1/1 (frame 1412/10797) /home/aditya/Downloads/Track.mp4: 288x512 3 blue_cones, 2 yellow_cones, 7.4ms\n",
      "video 1/1 (frame 1413/10797) /home/aditya/Downloads/Track.mp4: 288x512 2 blue_cones, 2 yellow_cones, 7.3ms\n",
      "video 1/1 (frame 1414/10797) /home/aditya/Downloads/Track.mp4: 288x512 3 yellow_cones, 6.7ms\n",
      "video 1/1 (frame 1415/10797) /home/aditya/Downloads/Track.mp4: 288x512 1 yellow_cone, 6.6ms\n",
      "video 1/1 (frame 1416/10797) /home/aditya/Downloads/Track.mp4: 288x512 1 blue_cone, 4 yellow_cones, 5.9ms\n",
      "video 1/1 (frame 1417/10797) /home/aditya/Downloads/Track.mp4: 288x512 1 blue_cone, 4 yellow_cones, 5.5ms\n",
      "video 1/1 (frame 1418/10797) /home/aditya/Downloads/Track.mp4: 288x512 1 blue_cone, 1 yellow_cone, 5.7ms\n",
      "video 1/1 (frame 1419/10797) /home/aditya/Downloads/Track.mp4: 288x512 1 blue_cone, 3 yellow_cones, 6.2ms\n",
      "video 1/1 (frame 1420/10797) /home/aditya/Downloads/Track.mp4: 288x512 2 blue_cones, 3 yellow_cones, 5.4ms\n",
      "video 1/1 (frame 1421/10797) /home/aditya/Downloads/Track.mp4: 288x512 1 blue_cone, 3 yellow_cones, 6.7ms\n",
      "video 1/1 (frame 1422/10797) /home/aditya/Downloads/Track.mp4: 288x512 1 blue_cone, 3 yellow_cones, 6.6ms\n",
      "video 1/1 (frame 1423/10797) /home/aditya/Downloads/Track.mp4: 288x512 1 blue_cone, 3 yellow_cones, 6.8ms\n",
      "video 1/1 (frame 1424/10797) /home/aditya/Downloads/Track.mp4: 288x512 2 blue_cones, 3 yellow_cones, 7.0ms\n",
      "video 1/1 (frame 1425/10797) /home/aditya/Downloads/Track.mp4: 288x512 2 blue_cones, 1 large_orange_cone, 2 yellow_cones, 5.9ms\n",
      "video 1/1 (frame 1426/10797) /home/aditya/Downloads/Track.mp4: 288x512 1 blue_cone, 3 yellow_cones, 7.7ms\n",
      "video 1/1 (frame 1427/10797) /home/aditya/Downloads/Track.mp4: 288x512 1 blue_cone, 4 yellow_cones, 5.4ms\n",
      "video 1/1 (frame 1428/10797) /home/aditya/Downloads/Track.mp4: 288x512 1 blue_cone, 4 yellow_cones, 5.1ms\n",
      "video 1/1 (frame 1429/10797) /home/aditya/Downloads/Track.mp4: 288x512 1 blue_cone, 4 yellow_cones, 6.7ms\n",
      "video 1/1 (frame 1430/10797) /home/aditya/Downloads/Track.mp4: 288x512 2 blue_cones, 2 yellow_cones, 5.1ms\n",
      "video 1/1 (frame 1431/10797) /home/aditya/Downloads/Track.mp4: 288x512 2 blue_cones, 3 yellow_cones, 7.1ms\n",
      "video 1/1 (frame 1432/10797) /home/aditya/Downloads/Track.mp4: 288x512 2 blue_cones, 3 yellow_cones, 5.4ms\n",
      "video 1/1 (frame 1433/10797) /home/aditya/Downloads/Track.mp4: 288x512 2 blue_cones, 4 yellow_cones, 5.3ms\n",
      "video 1/1 (frame 1434/10797) /home/aditya/Downloads/Track.mp4: 288x512 2 blue_cones, 5 yellow_cones, 6.9ms\n",
      "video 1/1 (frame 1435/10797) /home/aditya/Downloads/Track.mp4: 288x512 2 blue_cones, 1 large_orange_cone, 3 yellow_cones, 6.7ms\n",
      "video 1/1 (frame 1436/10797) /home/aditya/Downloads/Track.mp4: 288x512 1 blue_cone, 4 yellow_cones, 6.9ms\n",
      "video 1/1 (frame 1437/10797) /home/aditya/Downloads/Track.mp4: 288x512 1 blue_cone, 4 yellow_cones, 7.0ms\n",
      "video 1/1 (frame 1438/10797) /home/aditya/Downloads/Track.mp4: 288x512 2 blue_cones, 5 yellow_cones, 5.9ms\n",
      "video 1/1 (frame 1439/10797) /home/aditya/Downloads/Track.mp4: 288x512 4 blue_cones, 7 yellow_cones, 5.8ms\n",
      "video 1/1 (frame 1440/10797) /home/aditya/Downloads/Track.mp4: 288x512 4 blue_cones, 6 yellow_cones, 5.8ms\n",
      "video 1/1 (frame 1441/10797) /home/aditya/Downloads/Track.mp4: 288x512 3 blue_cones, 6 yellow_cones, 6.0ms\n",
      "video 1/1 (frame 1442/10797) /home/aditya/Downloads/Track.mp4: 288x512 3 blue_cones, 3 yellow_cones, 6.4ms\n",
      "video 1/1 (frame 1443/10797) /home/aditya/Downloads/Track.mp4: 288x512 3 blue_cones, 6 yellow_cones, 5.9ms\n",
      "video 1/1 (frame 1444/10797) /home/aditya/Downloads/Track.mp4: 288x512 3 blue_cones, 4 yellow_cones, 5.8ms\n",
      "video 1/1 (frame 1445/10797) /home/aditya/Downloads/Track.mp4: 288x512 3 blue_cones, 4 yellow_cones, 6.3ms\n",
      "video 1/1 (frame 1446/10797) /home/aditya/Downloads/Track.mp4: 288x512 2 blue_cones, 5 yellow_cones, 5.3ms\n",
      "video 1/1 (frame 1447/10797) /home/aditya/Downloads/Track.mp4: 288x512 2 blue_cones, 4 yellow_cones, 5.4ms\n",
      "video 1/1 (frame 1448/10797) /home/aditya/Downloads/Track.mp4: 288x512 2 blue_cones, 4 yellow_cones, 6.6ms\n",
      "video 1/1 (frame 1449/10797) /home/aditya/Downloads/Track.mp4: 288x512 2 blue_cones, 4 yellow_cones, 5.1ms\n",
      "video 1/1 (frame 1450/10797) /home/aditya/Downloads/Track.mp4: 288x512 3 blue_cones, 9 yellow_cones, 6.7ms\n",
      "video 1/1 (frame 1451/10797) /home/aditya/Downloads/Track.mp4: 288x512 3 blue_cones, 4 yellow_cones, 6.9ms\n",
      "video 1/1 (frame 1452/10797) /home/aditya/Downloads/Track.mp4: 288x512 3 blue_cones, 6 yellow_cones, 7.2ms\n",
      "video 1/1 (frame 1453/10797) /home/aditya/Downloads/Track.mp4: 288x512 2 blue_cones, 4 yellow_cones, 5.2ms\n",
      "video 1/1 (frame 1454/10797) /home/aditya/Downloads/Track.mp4: 288x512 2 blue_cones, 6 yellow_cones, 6.7ms\n",
      "video 1/1 (frame 1455/10797) /home/aditya/Downloads/Track.mp4: 288x512 3 blue_cones, 6 yellow_cones, 6.6ms\n",
      "video 1/1 (frame 1456/10797) /home/aditya/Downloads/Track.mp4: 288x512 4 blue_cones, 1 large_orange_cone, 8 yellow_cones, 7.4ms\n",
      "video 1/1 (frame 1457/10797) /home/aditya/Downloads/Track.mp4: 288x512 4 blue_cones, 3 yellow_cones, 5.5ms\n",
      "video 1/1 (frame 1458/10797) /home/aditya/Downloads/Track.mp4: 288x512 4 blue_cones, 8 yellow_cones, 5.3ms\n",
      "video 1/1 (frame 1459/10797) /home/aditya/Downloads/Track.mp4: 288x512 4 blue_cones, 4 yellow_cones, 6.2ms\n",
      "video 1/1 (frame 1460/10797) /home/aditya/Downloads/Track.mp4: 288x512 4 blue_cones, 3 yellow_cones, 6.4ms\n",
      "video 1/1 (frame 1461/10797) /home/aditya/Downloads/Track.mp4: 288x512 4 blue_cones, 3 yellow_cones, 5.7ms\n",
      "video 1/1 (frame 1462/10797) /home/aditya/Downloads/Track.mp4: 288x512 3 blue_cones, 3 yellow_cones, 7.1ms\n",
      "video 1/1 (frame 1463/10797) /home/aditya/Downloads/Track.mp4: 288x512 3 blue_cones, 3 yellow_cones, 7.2ms\n",
      "video 1/1 (frame 1464/10797) /home/aditya/Downloads/Track.mp4: 288x512 3 blue_cones, 3 yellow_cones, 7.1ms\n",
      "video 1/1 (frame 1465/10797) /home/aditya/Downloads/Track.mp4: 288x512 3 blue_cones, 5 yellow_cones, 5.6ms\n",
      "video 1/1 (frame 1466/10797) /home/aditya/Downloads/Track.mp4: 288x512 2 blue_cones, 7 yellow_cones, 5.4ms\n",
      "video 1/1 (frame 1467/10797) /home/aditya/Downloads/Track.mp4: 288x512 3 blue_cones, 4 yellow_cones, 5.3ms\n",
      "video 1/1 (frame 1468/10797) /home/aditya/Downloads/Track.mp4: 288x512 3 blue_cones, 3 yellow_cones, 5.4ms\n",
      "video 1/1 (frame 1469/10797) /home/aditya/Downloads/Track.mp4: 288x512 3 blue_cones, 5 yellow_cones, 6.6ms\n",
      "video 1/1 (frame 1470/10797) /home/aditya/Downloads/Track.mp4: 288x512 3 blue_cones, 4 yellow_cones, 7.3ms\n",
      "video 1/1 (frame 1471/10797) /home/aditya/Downloads/Track.mp4: 288x512 3 blue_cones, 5 yellow_cones, 5.4ms\n",
      "video 1/1 (frame 1472/10797) /home/aditya/Downloads/Track.mp4: 288x512 3 blue_cones, 4 yellow_cones, 6.5ms\n",
      "video 1/1 (frame 1473/10797) /home/aditya/Downloads/Track.mp4: 288x512 4 blue_cones, 5 yellow_cones, 6.9ms\n",
      "video 1/1 (frame 1474/10797) /home/aditya/Downloads/Track.mp4: 288x512 4 blue_cones, 5 yellow_cones, 6.9ms\n",
      "video 1/1 (frame 1475/10797) /home/aditya/Downloads/Track.mp4: 288x512 4 blue_cones, 3 yellow_cones, 5.9ms\n",
      "video 1/1 (frame 1476/10797) /home/aditya/Downloads/Track.mp4: 288x512 4 blue_cones, 3 yellow_cones, 6.8ms\n",
      "video 1/1 (frame 1477/10797) /home/aditya/Downloads/Track.mp4: 288x512 4 blue_cones, 4 yellow_cones, 6.3ms\n",
      "video 1/1 (frame 1478/10797) /home/aditya/Downloads/Track.mp4: 288x512 3 blue_cones, 1 large_orange_cone, 2 yellow_cones, 5.0ms\n",
      "video 1/1 (frame 1479/10797) /home/aditya/Downloads/Track.mp4: 288x512 3 blue_cones, 2 yellow_cones, 6.6ms\n",
      "video 1/1 (frame 1480/10797) /home/aditya/Downloads/Track.mp4: 288x512 3 blue_cones, 5 yellow_cones, 6.8ms\n",
      "video 1/1 (frame 1481/10797) /home/aditya/Downloads/Track.mp4: 288x512 3 blue_cones, 2 yellow_cones, 6.8ms\n",
      "video 1/1 (frame 1482/10797) /home/aditya/Downloads/Track.mp4: 288x512 3 blue_cones, 5 yellow_cones, 6.8ms\n",
      "video 1/1 (frame 1483/10797) /home/aditya/Downloads/Track.mp4: 288x512 3 blue_cones, 5 yellow_cones, 5.8ms\n",
      "video 1/1 (frame 1484/10797) /home/aditya/Downloads/Track.mp4: 288x512 3 blue_cones, 6 yellow_cones, 6.7ms\n",
      "video 1/1 (frame 1485/10797) /home/aditya/Downloads/Track.mp4: 288x512 3 blue_cones, 7 yellow_cones, 5.9ms\n",
      "video 1/1 (frame 1486/10797) /home/aditya/Downloads/Track.mp4: 288x512 2 blue_cones, 4 yellow_cones, 6.4ms\n",
      "video 1/1 (frame 1487/10797) /home/aditya/Downloads/Track.mp4: 288x512 4 blue_cones, 4 yellow_cones, 6.8ms\n",
      "video 1/1 (frame 1488/10797) /home/aditya/Downloads/Track.mp4: 288x512 3 blue_cones, 5 yellow_cones, 5.1ms\n",
      "video 1/1 (frame 1489/10797) /home/aditya/Downloads/Track.mp4: 288x512 3 blue_cones, 5 yellow_cones, 6.7ms\n",
      "video 1/1 (frame 1490/10797) /home/aditya/Downloads/Track.mp4: 288x512 3 blue_cones, 5 yellow_cones, 7.0ms\n",
      "video 1/1 (frame 1491/10797) /home/aditya/Downloads/Track.mp4: 288x512 3 blue_cones, 5 yellow_cones, 6.4ms\n",
      "video 1/1 (frame 1492/10797) /home/aditya/Downloads/Track.mp4: 288x512 3 blue_cones, 5 yellow_cones, 5.3ms\n",
      "video 1/1 (frame 1493/10797) /home/aditya/Downloads/Track.mp4: 288x512 3 blue_cones, 6 yellow_cones, 6.7ms\n",
      "video 1/1 (frame 1494/10797) /home/aditya/Downloads/Track.mp4: 288x512 3 blue_cones, 7 yellow_cones, 6.5ms\n",
      "video 1/1 (frame 1495/10797) /home/aditya/Downloads/Track.mp4: 288x512 3 blue_cones, 5 yellow_cones, 5.2ms\n",
      "video 1/1 (frame 1496/10797) /home/aditya/Downloads/Track.mp4: 288x512 3 blue_cones, 4 yellow_cones, 6.2ms\n",
      "video 1/1 (frame 1497/10797) /home/aditya/Downloads/Track.mp4: 288x512 3 blue_cones, 5 yellow_cones, 6.0ms\n",
      "video 1/1 (frame 1498/10797) /home/aditya/Downloads/Track.mp4: 288x512 2 blue_cones, 7 yellow_cones, 7.0ms\n",
      "video 1/1 (frame 1499/10797) /home/aditya/Downloads/Track.mp4: 288x512 2 blue_cones, 9 yellow_cones, 7.3ms\n",
      "video 1/1 (frame 1500/10797) /home/aditya/Downloads/Track.mp4: 288x512 2 blue_cones, 8 yellow_cones, 6.7ms\n",
      "video 1/1 (frame 1501/10797) /home/aditya/Downloads/Track.mp4: 288x512 2 blue_cones, 4 yellow_cones, 7.2ms\n",
      "video 1/1 (frame 1502/10797) /home/aditya/Downloads/Track.mp4: 288x512 2 blue_cones, 3 yellow_cones, 7.0ms\n",
      "video 1/1 (frame 1503/10797) /home/aditya/Downloads/Track.mp4: 288x512 2 blue_cones, 3 yellow_cones, 7.2ms\n",
      "video 1/1 (frame 1504/10797) /home/aditya/Downloads/Track.mp4: 288x512 3 blue_cones, 1 yellow_cone, 6.5ms\n",
      "video 1/1 (frame 1505/10797) /home/aditya/Downloads/Track.mp4: 288x512 3 blue_cones, 2 yellow_cones, 5.2ms\n",
      "video 1/1 (frame 1506/10797) /home/aditya/Downloads/Track.mp4: 288x512 3 blue_cones, 2 yellow_cones, 5.9ms\n",
      "video 1/1 (frame 1507/10797) /home/aditya/Downloads/Track.mp4: 288x512 3 blue_cones, 2 yellow_cones, 6.9ms\n",
      "video 1/1 (frame 1508/10797) /home/aditya/Downloads/Track.mp4: 288x512 2 blue_cones, 4 yellow_cones, 5.5ms\n",
      "video 1/1 (frame 1509/10797) /home/aditya/Downloads/Track.mp4: 288x512 2 blue_cones, 5 yellow_cones, 6.8ms\n",
      "video 1/1 (frame 1510/10797) /home/aditya/Downloads/Track.mp4: 288x512 2 blue_cones, 5 yellow_cones, 5.3ms\n",
      "video 1/1 (frame 1511/10797) /home/aditya/Downloads/Track.mp4: 288x512 2 blue_cones, 5 yellow_cones, 6.7ms\n",
      "video 1/1 (frame 1512/10797) /home/aditya/Downloads/Track.mp4: 288x512 4 blue_cones, 5 yellow_cones, 5.7ms\n",
      "video 1/1 (frame 1513/10797) /home/aditya/Downloads/Track.mp4: 288x512 3 blue_cones, 4 yellow_cones, 6.3ms\n",
      "video 1/1 (frame 1514/10797) /home/aditya/Downloads/Track.mp4: 288x512 3 blue_cones, 2 yellow_cones, 6.6ms\n",
      "video 1/1 (frame 1515/10797) /home/aditya/Downloads/Track.mp4: 288x512 3 blue_cones, 3 yellow_cones, 5.4ms\n",
      "video 1/1 (frame 1516/10797) /home/aditya/Downloads/Track.mp4: 288x512 3 blue_cones, 3 yellow_cones, 6.8ms\n",
      "video 1/1 (frame 1517/10797) /home/aditya/Downloads/Track.mp4: 288x512 2 blue_cones, 1 yellow_cone, 5.2ms\n",
      "video 1/1 (frame 1518/10797) /home/aditya/Downloads/Track.mp4: 288x512 2 blue_cones, 4 yellow_cones, 6.8ms\n",
      "video 1/1 (frame 1519/10797) /home/aditya/Downloads/Track.mp4: 288x512 2 blue_cones, 3 yellow_cones, 5.2ms\n",
      "video 1/1 (frame 1520/10797) /home/aditya/Downloads/Track.mp4: 288x512 3 blue_cones, 3 yellow_cones, 6.0ms\n",
      "video 1/1 (frame 1521/10797) /home/aditya/Downloads/Track.mp4: 288x512 3 blue_cones, 5 yellow_cones, 7.2ms\n",
      "video 1/1 (frame 1522/10797) /home/aditya/Downloads/Track.mp4: 288x512 3 blue_cones, 3 yellow_cones, 5.3ms\n",
      "video 1/1 (frame 1523/10797) /home/aditya/Downloads/Track.mp4: 288x512 4 blue_cones, 5 yellow_cones, 5.1ms\n",
      "video 1/1 (frame 1524/10797) /home/aditya/Downloads/Track.mp4: 288x512 4 blue_cones, 3 yellow_cones, 6.5ms\n",
      "video 1/1 (frame 1525/10797) /home/aditya/Downloads/Track.mp4: 288x512 4 blue_cones, 3 yellow_cones, 6.8ms\n",
      "video 1/1 (frame 1526/10797) /home/aditya/Downloads/Track.mp4: 288x512 4 blue_cones, 4 yellow_cones, 6.5ms\n",
      "video 1/1 (frame 1527/10797) /home/aditya/Downloads/Track.mp4: 288x512 3 blue_cones, 4 yellow_cones, 6.7ms\n",
      "video 1/1 (frame 1528/10797) /home/aditya/Downloads/Track.mp4: 288x512 4 blue_cones, 4 yellow_cones, 6.9ms\n",
      "video 1/1 (frame 1529/10797) /home/aditya/Downloads/Track.mp4: 288x512 4 blue_cones, 3 yellow_cones, 6.7ms\n",
      "video 1/1 (frame 1530/10797) /home/aditya/Downloads/Track.mp4: 288x512 4 blue_cones, 4 yellow_cones, 6.4ms\n",
      "video 1/1 (frame 1531/10797) /home/aditya/Downloads/Track.mp4: 288x512 4 blue_cones, 4 yellow_cones, 5.5ms\n",
      "video 1/1 (frame 1532/10797) /home/aditya/Downloads/Track.mp4: 288x512 6 blue_cones, 4 yellow_cones, 5.6ms\n",
      "video 1/1 (frame 1533/10797) /home/aditya/Downloads/Track.mp4: 288x512 6 blue_cones, 3 yellow_cones, 7.8ms\n",
      "video 1/1 (frame 1534/10797) /home/aditya/Downloads/Track.mp4: 288x512 6 blue_cones, 5 yellow_cones, 5.8ms\n",
      "video 1/1 (frame 1535/10797) /home/aditya/Downloads/Track.mp4: 288x512 6 blue_cones, 4 yellow_cones, 5.4ms\n",
      "video 1/1 (frame 1536/10797) /home/aditya/Downloads/Track.mp4: 288x512 7 blue_cones, 4 yellow_cones, 7.1ms\n",
      "video 1/1 (frame 1537/10797) /home/aditya/Downloads/Track.mp4: 288x512 5 blue_cones, 6 yellow_cones, 6.9ms\n",
      "video 1/1 (frame 1538/10797) /home/aditya/Downloads/Track.mp4: 288x512 4 blue_cones, 5 yellow_cones, 7.3ms\n",
      "video 1/1 (frame 1539/10797) /home/aditya/Downloads/Track.mp4: 288x512 4 blue_cones, 9 yellow_cones, 7.3ms\n",
      "video 1/1 (frame 1540/10797) /home/aditya/Downloads/Track.mp4: 288x512 5 blue_cones, 6 yellow_cones, 7.6ms\n",
      "video 1/1 (frame 1541/10797) /home/aditya/Downloads/Track.mp4: 288x512 5 blue_cones, 7 yellow_cones, 7.1ms\n",
      "video 1/1 (frame 1542/10797) /home/aditya/Downloads/Track.mp4: 288x512 6 blue_cones, 11 yellow_cones, 5.1ms\n",
      "video 1/1 (frame 1543/10797) /home/aditya/Downloads/Track.mp4: 288x512 7 blue_cones, 5 yellow_cones, 7.5ms\n",
      "video 1/1 (frame 1544/10797) /home/aditya/Downloads/Track.mp4: 288x512 6 blue_cones, 6 yellow_cones, 6.5ms\n",
      "video 1/1 (frame 1545/10797) /home/aditya/Downloads/Track.mp4: 288x512 6 blue_cones, 9 yellow_cones, 5.5ms\n",
      "video 1/1 (frame 1546/10797) /home/aditya/Downloads/Track.mp4: 288x512 7 blue_cones, 5 yellow_cones, 6.7ms\n",
      "video 1/1 (frame 1547/10797) /home/aditya/Downloads/Track.mp4: 288x512 5 blue_cones, 8 yellow_cones, 5.3ms\n",
      "video 1/1 (frame 1548/10797) /home/aditya/Downloads/Track.mp4: 288x512 4 blue_cones, 1 large_orange_cone, 7 yellow_cones, 5.4ms\n",
      "video 1/1 (frame 1549/10797) /home/aditya/Downloads/Track.mp4: 288x512 3 blue_cones, 5 yellow_cones, 6.6ms\n",
      "video 1/1 (frame 1550/10797) /home/aditya/Downloads/Track.mp4: 288x512 3 blue_cones, 9 yellow_cones, 7.0ms\n",
      "video 1/1 (frame 1551/10797) /home/aditya/Downloads/Track.mp4: 288x512 5 blue_cones, 9 yellow_cones, 6.8ms\n",
      "video 1/1 (frame 1552/10797) /home/aditya/Downloads/Track.mp4: 288x512 5 blue_cones, 10 yellow_cones, 6.6ms\n",
      "video 1/1 (frame 1553/10797) /home/aditya/Downloads/Track.mp4: 288x512 4 blue_cones, 10 yellow_cones, 5.2ms\n",
      "video 1/1 (frame 1554/10797) /home/aditya/Downloads/Track.mp4: 288x512 3 blue_cones, 7 yellow_cones, 6.0ms\n",
      "video 1/1 (frame 1555/10797) /home/aditya/Downloads/Track.mp4: 288x512 5 blue_cones, 9 yellow_cones, 6.7ms\n",
      "video 1/1 (frame 1556/10797) /home/aditya/Downloads/Track.mp4: 288x512 5 blue_cones, 9 yellow_cones, 6.8ms\n",
      "video 1/1 (frame 1557/10797) /home/aditya/Downloads/Track.mp4: 288x512 4 blue_cones, 10 yellow_cones, 5.6ms\n",
      "video 1/1 (frame 1558/10797) /home/aditya/Downloads/Track.mp4: 288x512 4 blue_cones, 9 yellow_cones, 5.7ms\n",
      "video 1/1 (frame 1559/10797) /home/aditya/Downloads/Track.mp4: 288x512 10 yellow_cones, 6.9ms\n",
      "video 1/1 (frame 1560/10797) /home/aditya/Downloads/Track.mp4: 288x512 9 yellow_cones, 6.8ms\n",
      "video 1/1 (frame 1561/10797) /home/aditya/Downloads/Track.mp4: 288x512 5 yellow_cones, 5.6ms\n",
      "video 1/1 (frame 1562/10797) /home/aditya/Downloads/Track.mp4: 288x512 5 yellow_cones, 6.5ms\n",
      "video 1/1 (frame 1563/10797) /home/aditya/Downloads/Track.mp4: 288x512 5 yellow_cones, 6.8ms\n",
      "video 1/1 (frame 1564/10797) /home/aditya/Downloads/Track.mp4: 288x512 10 yellow_cones, 5.5ms\n",
      "video 1/1 (frame 1565/10797) /home/aditya/Downloads/Track.mp4: 288x512 5 yellow_cones, 6.8ms\n",
      "video 1/1 (frame 1566/10797) /home/aditya/Downloads/Track.mp4: 288x512 4 yellow_cones, 6.9ms\n",
      "video 1/1 (frame 1567/10797) /home/aditya/Downloads/Track.mp4: 288x512 5 yellow_cones, 6.5ms\n",
      "video 1/1 (frame 1568/10797) /home/aditya/Downloads/Track.mp4: 288x512 3 yellow_cones, 5.3ms\n",
      "video 1/1 (frame 1569/10797) /home/aditya/Downloads/Track.mp4: 288x512 1 blue_cone, 4 yellow_cones, 5.2ms\n",
      "video 1/1 (frame 1570/10797) /home/aditya/Downloads/Track.mp4: 288x512 1 blue_cone, 4 yellow_cones, 5.7ms\n",
      "video 1/1 (frame 1571/10797) /home/aditya/Downloads/Track.mp4: 288x512 1 blue_cone, 4 yellow_cones, 7.1ms\n",
      "video 1/1 (frame 1572/10797) /home/aditya/Downloads/Track.mp4: 288x512 2 blue_cones, 5 yellow_cones, 7.7ms\n",
      "video 1/1 (frame 1573/10797) /home/aditya/Downloads/Track.mp4: 288x512 2 blue_cones, 6 yellow_cones, 6.7ms\n",
      "video 1/1 (frame 1574/10797) /home/aditya/Downloads/Track.mp4: 288x512 1 blue_cone, 4 yellow_cones, 6.5ms\n",
      "video 1/1 (frame 1575/10797) /home/aditya/Downloads/Track.mp4: 288x512 3 yellow_cones, 6.6ms\n",
      "video 1/1 (frame 1576/10797) /home/aditya/Downloads/Track.mp4: 288x512 1 yellow_cone, 7.4ms\n",
      "video 1/1 (frame 1577/10797) /home/aditya/Downloads/Track.mp4: 288x512 3 yellow_cones, 6.9ms\n",
      "video 1/1 (frame 1578/10797) /home/aditya/Downloads/Track.mp4: 288x512 3 yellow_cones, 7.0ms\n",
      "video 1/1 (frame 1579/10797) /home/aditya/Downloads/Track.mp4: 288x512 7 yellow_cones, 5.8ms\n",
      "video 1/1 (frame 1580/10797) /home/aditya/Downloads/Track.mp4: 288x512 7 yellow_cones, 5.1ms\n",
      "video 1/1 (frame 1581/10797) /home/aditya/Downloads/Track.mp4: 288x512 3 yellow_cones, 5.9ms\n",
      "video 1/1 (frame 1582/10797) /home/aditya/Downloads/Track.mp4: 288x512 3 yellow_cones, 6.9ms\n",
      "video 1/1 (frame 1583/10797) /home/aditya/Downloads/Track.mp4: 288x512 3 yellow_cones, 6.8ms\n",
      "video 1/1 (frame 1584/10797) /home/aditya/Downloads/Track.mp4: 288x512 1 large_orange_cone, 2 yellow_cones, 6.7ms\n",
      "video 1/1 (frame 1585/10797) /home/aditya/Downloads/Track.mp4: 288x512 6 yellow_cones, 6.6ms\n",
      "video 1/1 (frame 1586/10797) /home/aditya/Downloads/Track.mp4: 288x512 4 yellow_cones, 6.6ms\n",
      "video 1/1 (frame 1587/10797) /home/aditya/Downloads/Track.mp4: 288x512 1 blue_cone, 3 yellow_cones, 7.1ms\n",
      "video 1/1 (frame 1588/10797) /home/aditya/Downloads/Track.mp4: 288x512 1 blue_cone, 2 yellow_cones, 6.0ms\n",
      "video 1/1 (frame 1589/10797) /home/aditya/Downloads/Track.mp4: 288x512 1 blue_cone, 3 yellow_cones, 5.2ms\n",
      "video 1/1 (frame 1590/10797) /home/aditya/Downloads/Track.mp4: 288x512 1 blue_cone, 2 yellow_cones, 7.2ms\n",
      "video 1/1 (frame 1591/10797) /home/aditya/Downloads/Track.mp4: 288x512 2 yellow_cones, 6.8ms\n",
      "video 1/1 (frame 1592/10797) /home/aditya/Downloads/Track.mp4: 288x512 1 blue_cone, 2 yellow_cones, 6.8ms\n",
      "video 1/1 (frame 1593/10797) /home/aditya/Downloads/Track.mp4: 288x512 1 blue_cone, 4 yellow_cones, 6.9ms\n",
      "video 1/1 (frame 1594/10797) /home/aditya/Downloads/Track.mp4: 288x512 1 blue_cone, 2 large_orange_cones, 3 yellow_cones, 6.9ms\n",
      "video 1/1 (frame 1595/10797) /home/aditya/Downloads/Track.mp4: 288x512 1 yellow_cone, 6.8ms\n",
      "video 1/1 (frame 1596/10797) /home/aditya/Downloads/Track.mp4: 288x512 3 yellow_cones, 6.7ms\n",
      "video 1/1 (frame 1597/10797) /home/aditya/Downloads/Track.mp4: 288x512 1 blue_cone, 2 large_orange_cones, 4 yellow_cones, 6.9ms\n",
      "video 1/1 (frame 1598/10797) /home/aditya/Downloads/Track.mp4: 288x512 1 blue_cone, 1 large_orange_cone, 3 yellow_cones, 7.2ms\n",
      "video 1/1 (frame 1599/10797) /home/aditya/Downloads/Track.mp4: 288x512 1 blue_cone, 2 large_orange_cones, 3 yellow_cones, 7.2ms\n",
      "video 1/1 (frame 1600/10797) /home/aditya/Downloads/Track.mp4: 288x512 1 blue_cone, 2 large_orange_cones, 3 yellow_cones, 7.2ms\n",
      "video 1/1 (frame 1601/10797) /home/aditya/Downloads/Track.mp4: 288x512 1 blue_cone, 1 large_orange_cone, 4 yellow_cones, 5.4ms\n",
      "video 1/1 (frame 1602/10797) /home/aditya/Downloads/Track.mp4: 288x512 2 large_orange_cones, 1 yellow_cone, 6.5ms\n",
      "video 1/1 (frame 1603/10797) /home/aditya/Downloads/Track.mp4: 288x512 3 large_orange_cones, 1 yellow_cone, 7.2ms\n",
      "video 1/1 (frame 1604/10797) /home/aditya/Downloads/Track.mp4: 288x512 1 yellow_cone, 6.8ms\n",
      "video 1/1 (frame 1605/10797) /home/aditya/Downloads/Track.mp4: 288x512 4 large_orange_cones, 2 yellow_cones, 6.5ms\n",
      "video 1/1 (frame 1606/10797) /home/aditya/Downloads/Track.mp4: 288x512 1 blue_cone, 3 large_orange_cones, 3 yellow_cones, 5.5ms\n",
      "video 1/1 (frame 1607/10797) /home/aditya/Downloads/Track.mp4: 288x512 1 blue_cone, 5 large_orange_cones, 1 yellow_cone, 6.4ms\n",
      "video 1/1 (frame 1608/10797) /home/aditya/Downloads/Track.mp4: 288x512 1 blue_cone, 2 large_orange_cones, 6.4ms\n",
      "video 1/1 (frame 1609/10797) /home/aditya/Downloads/Track.mp4: 288x512 1 blue_cone, 3 large_orange_cones, 1 yellow_cone, 7.9ms\n",
      "video 1/1 (frame 1610/10797) /home/aditya/Downloads/Track.mp4: 288x512 1 blue_cone, 2 large_orange_cones, 4 yellow_cones, 5.4ms\n",
      "video 1/1 (frame 1611/10797) /home/aditya/Downloads/Track.mp4: 288x512 1 blue_cone, 1 large_orange_cone, 2 yellow_cones, 7.7ms\n",
      "video 1/1 (frame 1612/10797) /home/aditya/Downloads/Track.mp4: 288x512 2 yellow_cones, 5.5ms\n",
      "video 1/1 (frame 1613/10797) /home/aditya/Downloads/Track.mp4: 288x512 (no detections), 5.5ms\n",
      "video 1/1 (frame 1614/10797) /home/aditya/Downloads/Track.mp4: 288x512 1 large_orange_cone, 5 yellow_cones, 6.8ms\n",
      "video 1/1 (frame 1615/10797) /home/aditya/Downloads/Track.mp4: 288x512 3 yellow_cones, 5.8ms\n",
      "video 1/1 (frame 1616/10797) /home/aditya/Downloads/Track.mp4: 288x512 3 yellow_cones, 7.2ms\n",
      "video 1/1 (frame 1617/10797) /home/aditya/Downloads/Track.mp4: 288x512 2 yellow_cones, 5.2ms\n",
      "video 1/1 (frame 1618/10797) /home/aditya/Downloads/Track.mp4: 288x512 2 yellow_cones, 7.2ms\n",
      "video 1/1 (frame 1619/10797) /home/aditya/Downloads/Track.mp4: 288x512 4 yellow_cones, 5.1ms\n",
      "video 1/1 (frame 1620/10797) /home/aditya/Downloads/Track.mp4: 288x512 4 yellow_cones, 5.1ms\n",
      "video 1/1 (frame 1621/10797) /home/aditya/Downloads/Track.mp4: 288x512 6 yellow_cones, 5.3ms\n",
      "video 1/1 (frame 1622/10797) /home/aditya/Downloads/Track.mp4: 288x512 1 blue_cone, 8 yellow_cones, 5.6ms\n",
      "video 1/1 (frame 1623/10797) /home/aditya/Downloads/Track.mp4: 288x512 1 blue_cone, 6 yellow_cones, 6.6ms\n",
      "video 1/1 (frame 1624/10797) /home/aditya/Downloads/Track.mp4: 288x512 1 blue_cone, 4 yellow_cones, 6.8ms\n",
      "video 1/1 (frame 1625/10797) /home/aditya/Downloads/Track.mp4: 288x512 1 blue_cone, 3 yellow_cones, 6.7ms\n",
      "video 1/1 (frame 1626/10797) /home/aditya/Downloads/Track.mp4: 288x512 1 blue_cone, 2 yellow_cones, 5.2ms\n",
      "video 1/1 (frame 1627/10797) /home/aditya/Downloads/Track.mp4: 288x512 1 blue_cone, 4 yellow_cones, 7.0ms\n",
      "video 1/1 (frame 1628/10797) /home/aditya/Downloads/Track.mp4: 288x512 1 blue_cone, 3 yellow_cones, 6.5ms\n",
      "video 1/1 (frame 1629/10797) /home/aditya/Downloads/Track.mp4: 288x512 2 yellow_cones, 6.8ms\n",
      "video 1/1 (frame 1630/10797) /home/aditya/Downloads/Track.mp4: 288x512 1 blue_cone, 3 yellow_cones, 6.8ms\n",
      "video 1/1 (frame 1631/10797) /home/aditya/Downloads/Track.mp4: 288x512 2 blue_cones, 4 yellow_cones, 6.6ms\n",
      "video 1/1 (frame 1632/10797) /home/aditya/Downloads/Track.mp4: 288x512 1 blue_cone, 3 yellow_cones, 6.6ms\n",
      "video 1/1 (frame 1633/10797) /home/aditya/Downloads/Track.mp4: 288x512 1 blue_cone, 3 yellow_cones, 6.7ms\n",
      "video 1/1 (frame 1634/10797) /home/aditya/Downloads/Track.mp4: 288x512 2 blue_cones, 3 yellow_cones, 6.8ms\n",
      "video 1/1 (frame 1635/10797) /home/aditya/Downloads/Track.mp4: 288x512 1 blue_cone, 2 yellow_cones, 6.7ms\n",
      "video 1/1 (frame 1636/10797) /home/aditya/Downloads/Track.mp4: 288x512 4 yellow_cones, 5.3ms\n",
      "video 1/1 (frame 1637/10797) /home/aditya/Downloads/Track.mp4: 288x512 7 yellow_cones, 5.1ms\n",
      "video 1/1 (frame 1638/10797) /home/aditya/Downloads/Track.mp4: 288x512 4 yellow_cones, 5.4ms\n",
      "video 1/1 (frame 1639/10797) /home/aditya/Downloads/Track.mp4: 288x512 1 blue_cone, 7 yellow_cones, 5.8ms\n",
      "video 1/1 (frame 1640/10797) /home/aditya/Downloads/Track.mp4: 288x512 1 blue_cone, 4 yellow_cones, 5.1ms\n",
      "video 1/1 (frame 1641/10797) /home/aditya/Downloads/Track.mp4: 288x512 1 blue_cone, 4 yellow_cones, 5.5ms\n",
      "video 1/1 (frame 1642/10797) /home/aditya/Downloads/Track.mp4: 288x512 1 blue_cone, 3 yellow_cones, 6.9ms\n",
      "video 1/1 (frame 1643/10797) /home/aditya/Downloads/Track.mp4: 288x512 1 blue_cone, 3 yellow_cones, 6.7ms\n",
      "video 1/1 (frame 1644/10797) /home/aditya/Downloads/Track.mp4: 288x512 1 blue_cone, 5 yellow_cones, 7.4ms\n",
      "video 1/1 (frame 1645/10797) /home/aditya/Downloads/Track.mp4: 288x512 1 blue_cone, 7 yellow_cones, 6.8ms\n",
      "video 1/1 (frame 1646/10797) /home/aditya/Downloads/Track.mp4: 288x512 1 blue_cone, 6 yellow_cones, 6.0ms\n",
      "video 1/1 (frame 1647/10797) /home/aditya/Downloads/Track.mp4: 288x512 1 blue_cone, 12 yellow_cones, 7.0ms\n",
      "video 1/1 (frame 1648/10797) /home/aditya/Downloads/Track.mp4: 288x512 1 blue_cone, 9 yellow_cones, 6.8ms\n",
      "video 1/1 (frame 1649/10797) /home/aditya/Downloads/Track.mp4: 288x512 1 blue_cone, 8 yellow_cones, 6.8ms\n",
      "video 1/1 (frame 1650/10797) /home/aditya/Downloads/Track.mp4: 288x512 1 blue_cone, 7 yellow_cones, 6.9ms\n",
      "video 1/1 (frame 1651/10797) /home/aditya/Downloads/Track.mp4: 288x512 1 blue_cone, 5 yellow_cones, 6.7ms\n",
      "video 1/1 (frame 1652/10797) /home/aditya/Downloads/Track.mp4: 288x512 1 blue_cone, 5 yellow_cones, 5.6ms\n",
      "video 1/1 (frame 1653/10797) /home/aditya/Downloads/Track.mp4: 288x512 1 blue_cone, 4 yellow_cones, 5.9ms\n",
      "video 1/1 (frame 1654/10797) /home/aditya/Downloads/Track.mp4: 288x512 1 blue_cone, 8 yellow_cones, 6.8ms\n",
      "video 1/1 (frame 1655/10797) /home/aditya/Downloads/Track.mp4: 288x512 1 blue_cone, 5 yellow_cones, 7.0ms\n",
      "video 1/1 (frame 1656/10797) /home/aditya/Downloads/Track.mp4: 288x512 1 blue_cone, 4 yellow_cones, 5.3ms\n",
      "video 1/1 (frame 1657/10797) /home/aditya/Downloads/Track.mp4: 288x512 1 blue_cone, 7 yellow_cones, 5.8ms\n",
      "video 1/1 (frame 1658/10797) /home/aditya/Downloads/Track.mp4: 288x512 1 blue_cone, 5 yellow_cones, 6.8ms\n",
      "video 1/1 (frame 1659/10797) /home/aditya/Downloads/Track.mp4: 288x512 1 blue_cone, 4 yellow_cones, 7.0ms\n",
      "video 1/1 (frame 1660/10797) /home/aditya/Downloads/Track.mp4: 288x512 1 blue_cone, 5 yellow_cones, 7.2ms\n",
      "video 1/1 (frame 1661/10797) /home/aditya/Downloads/Track.mp4: 288x512 1 blue_cone, 8 yellow_cones, 6.0ms\n",
      "video 1/1 (frame 1662/10797) /home/aditya/Downloads/Track.mp4: 288x512 1 blue_cone, 6 yellow_cones, 6.6ms\n",
      "video 1/1 (frame 1663/10797) /home/aditya/Downloads/Track.mp4: 288x512 1 blue_cone, 5 yellow_cones, 7.0ms\n",
      "video 1/1 (frame 1664/10797) /home/aditya/Downloads/Track.mp4: 288x512 1 blue_cone, 5 yellow_cones, 5.4ms\n",
      "video 1/1 (frame 1665/10797) /home/aditya/Downloads/Track.mp4: 288x512 1 blue_cone, 3 yellow_cones, 6.9ms\n",
      "video 1/1 (frame 1666/10797) /home/aditya/Downloads/Track.mp4: 288x512 1 blue_cone, 2 yellow_cones, 8.1ms\n",
      "video 1/1 (frame 1667/10797) /home/aditya/Downloads/Track.mp4: 288x512 2 blue_cones, 2 yellow_cones, 7.3ms\n",
      "video 1/1 (frame 1668/10797) /home/aditya/Downloads/Track.mp4: 288x512 6 yellow_cones, 6.7ms\n",
      "video 1/1 (frame 1669/10797) /home/aditya/Downloads/Track.mp4: 288x512 1 blue_cone, 6 yellow_cones, 6.7ms\n",
      "video 1/1 (frame 1670/10797) /home/aditya/Downloads/Track.mp4: 288x512 7 yellow_cones, 6.7ms\n",
      "video 1/1 (frame 1671/10797) /home/aditya/Downloads/Track.mp4: 288x512 1 blue_cone, 8 yellow_cones, 7.0ms\n",
      "video 1/1 (frame 1672/10797) /home/aditya/Downloads/Track.mp4: 288x512 1 blue_cone, 12 yellow_cones, 6.7ms\n",
      "video 1/1 (frame 1673/10797) /home/aditya/Downloads/Track.mp4: 288x512 1 blue_cone, 8 yellow_cones, 7.0ms\n",
      "video 1/1 (frame 1674/10797) /home/aditya/Downloads/Track.mp4: 288x512 1 blue_cone, 10 yellow_cones, 5.3ms\n",
      "video 1/1 (frame 1675/10797) /home/aditya/Downloads/Track.mp4: 288x512 10 yellow_cones, 6.7ms\n",
      "video 1/1 (frame 1676/10797) /home/aditya/Downloads/Track.mp4: 288x512 10 yellow_cones, 5.7ms\n",
      "video 1/1 (frame 1677/10797) /home/aditya/Downloads/Track.mp4: 288x512 1 blue_cone, 8 yellow_cones, 7.3ms\n",
      "video 1/1 (frame 1678/10797) /home/aditya/Downloads/Track.mp4: 288x512 1 blue_cone, 10 yellow_cones, 7.0ms\n",
      "video 1/1 (frame 1679/10797) /home/aditya/Downloads/Track.mp4: 288x512 1 blue_cone, 8 yellow_cones, 5.4ms\n",
      "video 1/1 (frame 1680/10797) /home/aditya/Downloads/Track.mp4: 288x512 1 blue_cone, 6 yellow_cones, 6.6ms\n",
      "video 1/1 (frame 1681/10797) /home/aditya/Downloads/Track.mp4: 288x512 1 blue_cone, 7 yellow_cones, 6.8ms\n",
      "video 1/1 (frame 1682/10797) /home/aditya/Downloads/Track.mp4: 288x512 1 blue_cone, 8 yellow_cones, 6.5ms\n",
      "video 1/1 (frame 1683/10797) /home/aditya/Downloads/Track.mp4: 288x512 2 blue_cones, 9 yellow_cones, 5.5ms\n",
      "video 1/1 (frame 1684/10797) /home/aditya/Downloads/Track.mp4: 288x512 1 blue_cone, 6 yellow_cones, 6.5ms\n",
      "video 1/1 (frame 1685/10797) /home/aditya/Downloads/Track.mp4: 288x512 2 blue_cones, 9 yellow_cones, 5.1ms\n",
      "video 1/1 (frame 1686/10797) /home/aditya/Downloads/Track.mp4: 288x512 2 blue_cones, 8 yellow_cones, 5.3ms\n",
      "video 1/1 (frame 1687/10797) /home/aditya/Downloads/Track.mp4: 288x512 1 blue_cone, 8 yellow_cones, 5.1ms\n",
      "video 1/1 (frame 1688/10797) /home/aditya/Downloads/Track.mp4: 288x512 1 blue_cone, 7 yellow_cones, 5.1ms\n",
      "video 1/1 (frame 1689/10797) /home/aditya/Downloads/Track.mp4: 288x512 2 blue_cones, 9 yellow_cones, 5.5ms\n",
      "video 1/1 (frame 1690/10797) /home/aditya/Downloads/Track.mp4: 288x512 3 blue_cones, 7 yellow_cones, 6.6ms\n",
      "video 1/1 (frame 1691/10797) /home/aditya/Downloads/Track.mp4: 288x512 3 blue_cones, 8 yellow_cones, 5.2ms\n",
      "video 1/1 (frame 1692/10797) /home/aditya/Downloads/Track.mp4: 288x512 4 blue_cones, 6 yellow_cones, 7.5ms\n",
      "video 1/1 (frame 1693/10797) /home/aditya/Downloads/Track.mp4: 288x512 4 blue_cones, 6 yellow_cones, 7.2ms\n",
      "video 1/1 (frame 1694/10797) /home/aditya/Downloads/Track.mp4: 288x512 4 blue_cones, 9 yellow_cones, 6.1ms\n",
      "video 1/1 (frame 1695/10797) /home/aditya/Downloads/Track.mp4: 288x512 4 blue_cones, 10 yellow_cones, 6.6ms\n",
      "video 1/1 (frame 1696/10797) /home/aditya/Downloads/Track.mp4: 288x512 4 blue_cones, 8 yellow_cones, 7.1ms\n",
      "video 1/1 (frame 1697/10797) /home/aditya/Downloads/Track.mp4: 288x512 4 blue_cones, 7 yellow_cones, 7.1ms\n",
      "video 1/1 (frame 1698/10797) /home/aditya/Downloads/Track.mp4: 288x512 4 blue_cones, 8 yellow_cones, 6.6ms\n",
      "video 1/1 (frame 1699/10797) /home/aditya/Downloads/Track.mp4: 288x512 5 blue_cones, 8 yellow_cones, 6.7ms\n",
      "video 1/1 (frame 1700/10797) /home/aditya/Downloads/Track.mp4: 288x512 5 blue_cones, 9 yellow_cones, 5.2ms\n",
      "video 1/1 (frame 1701/10797) /home/aditya/Downloads/Track.mp4: 288x512 5 blue_cones, 8 yellow_cones, 6.9ms\n",
      "video 1/1 (frame 1702/10797) /home/aditya/Downloads/Track.mp4: 288x512 5 blue_cones, 9 yellow_cones, 6.9ms\n",
      "video 1/1 (frame 1703/10797) /home/aditya/Downloads/Track.mp4: 288x512 5 blue_cones, 5 yellow_cones, 6.6ms\n",
      "video 1/1 (frame 1704/10797) /home/aditya/Downloads/Track.mp4: 288x512 5 blue_cones, 8 yellow_cones, 7.1ms\n",
      "video 1/1 (frame 1705/10797) /home/aditya/Downloads/Track.mp4: 288x512 6 blue_cones, 9 yellow_cones, 6.7ms\n",
      "video 1/1 (frame 1706/10797) /home/aditya/Downloads/Track.mp4: 288x512 4 blue_cones, 8 yellow_cones, 5.6ms\n",
      "video 1/1 (frame 1707/10797) /home/aditya/Downloads/Track.mp4: 288x512 5 blue_cones, 5 yellow_cones, 5.6ms\n",
      "video 1/1 (frame 1708/10797) /home/aditya/Downloads/Track.mp4: 288x512 5 blue_cones, 9 yellow_cones, 6.4ms\n",
      "video 1/1 (frame 1709/10797) /home/aditya/Downloads/Track.mp4: 288x512 5 blue_cones, 7 yellow_cones, 5.4ms\n",
      "video 1/1 (frame 1710/10797) /home/aditya/Downloads/Track.mp4: 288x512 5 blue_cones, 7 yellow_cones, 7.3ms\n",
      "video 1/1 (frame 1711/10797) /home/aditya/Downloads/Track.mp4: 288x512 5 blue_cones, 7 yellow_cones, 7.3ms\n",
      "video 1/1 (frame 1712/10797) /home/aditya/Downloads/Track.mp4: 288x512 5 blue_cones, 9 yellow_cones, 6.7ms\n",
      "video 1/1 (frame 1713/10797) /home/aditya/Downloads/Track.mp4: 288x512 5 blue_cones, 10 yellow_cones, 7.0ms\n",
      "video 1/1 (frame 1714/10797) /home/aditya/Downloads/Track.mp4: 288x512 5 blue_cones, 6 yellow_cones, 6.7ms\n",
      "video 1/1 (frame 1715/10797) /home/aditya/Downloads/Track.mp4: 288x512 5 blue_cones, 9 yellow_cones, 6.8ms\n",
      "video 1/1 (frame 1716/10797) /home/aditya/Downloads/Track.mp4: 288x512 5 blue_cones, 7 yellow_cones, 5.4ms\n",
      "video 1/1 (frame 1717/10797) /home/aditya/Downloads/Track.mp4: 288x512 4 blue_cones, 7 yellow_cones, 6.4ms\n",
      "video 1/1 (frame 1718/10797) /home/aditya/Downloads/Track.mp4: 288x512 3 blue_cones, 8 yellow_cones, 5.5ms\n",
      "video 1/1 (frame 1719/10797) /home/aditya/Downloads/Track.mp4: 288x512 3 blue_cones, 9 yellow_cones, 6.7ms\n",
      "video 1/1 (frame 1720/10797) /home/aditya/Downloads/Track.mp4: 288x512 6 blue_cones, 8 yellow_cones, 6.9ms\n",
      "video 1/1 (frame 1721/10797) /home/aditya/Downloads/Track.mp4: 288x512 5 blue_cones, 4 yellow_cones, 6.6ms\n",
      "video 1/1 (frame 1722/10797) /home/aditya/Downloads/Track.mp4: 288x512 4 blue_cones, 6 yellow_cones, 6.8ms\n",
      "video 1/1 (frame 1723/10797) /home/aditya/Downloads/Track.mp4: 288x512 5 blue_cones, 3 yellow_cones, 6.7ms\n",
      "video 1/1 (frame 1724/10797) /home/aditya/Downloads/Track.mp4: 288x512 4 blue_cones, 5 yellow_cones, 5.5ms\n",
      "video 1/1 (frame 1725/10797) /home/aditya/Downloads/Track.mp4: 288x512 3 blue_cones, 2 yellow_cones, 7.4ms\n",
      "video 1/1 (frame 1726/10797) /home/aditya/Downloads/Track.mp4: 288x512 1 blue_cone, 2 yellow_cones, 7.1ms\n",
      "video 1/1 (frame 1727/10797) /home/aditya/Downloads/Track.mp4: 288x512 2 blue_cones, 1 yellow_cone, 5.5ms\n",
      "video 1/1 (frame 1728/10797) /home/aditya/Downloads/Track.mp4: 288x512 2 blue_cones, 3 yellow_cones, 7.1ms\n",
      "video 1/1 (frame 1729/10797) /home/aditya/Downloads/Track.mp4: 288x512 1 blue_cone, 2 yellow_cones, 7.2ms\n",
      "video 1/1 (frame 1730/10797) /home/aditya/Downloads/Track.mp4: 288x512 1 blue_cone, 2 yellow_cones, 5.3ms\n",
      "video 1/1 (frame 1731/10797) /home/aditya/Downloads/Track.mp4: 288x512 (no detections), 7.8ms\n",
      "video 1/1 (frame 1732/10797) /home/aditya/Downloads/Track.mp4: 288x512 (no detections), 6.4ms\n",
      "video 1/1 (frame 1733/10797) /home/aditya/Downloads/Track.mp4: 288x512 1 yellow_cone, 5.0ms\n",
      "video 1/1 (frame 1734/10797) /home/aditya/Downloads/Track.mp4: 288x512 3 yellow_cones, 5.4ms\n",
      "video 1/1 (frame 1735/10797) /home/aditya/Downloads/Track.mp4: 288x512 4 yellow_cones, 4.9ms\n",
      "video 1/1 (frame 1736/10797) /home/aditya/Downloads/Track.mp4: 288x512 4 yellow_cones, 6.0ms\n",
      "video 1/1 (frame 1737/10797) /home/aditya/Downloads/Track.mp4: 288x512 1 blue_cone, 5 yellow_cones, 5.3ms\n",
      "video 1/1 (frame 1738/10797) /home/aditya/Downloads/Track.mp4: 288x512 1 blue_cone, 7 yellow_cones, 5.1ms\n",
      "video 1/1 (frame 1739/10797) /home/aditya/Downloads/Track.mp4: 288x512 6 yellow_cones, 5.2ms\n",
      "video 1/1 (frame 1740/10797) /home/aditya/Downloads/Track.mp4: 288x512 1 blue_cone, 2 yellow_cones, 5.4ms\n",
      "video 1/1 (frame 1741/10797) /home/aditya/Downloads/Track.mp4: 288x512 1 yellow_cone, 5.9ms\n",
      "video 1/1 (frame 1742/10797) /home/aditya/Downloads/Track.mp4: 288x512 1 yellow_cone, 5.6ms\n",
      "video 1/1 (frame 1743/10797) /home/aditya/Downloads/Track.mp4: 288x512 2 yellow_cones, 6.6ms\n",
      "video 1/1 (frame 1744/10797) /home/aditya/Downloads/Track.mp4: 288x512 1 large_orange_cone, 5 yellow_cones, 6.6ms\n",
      "video 1/1 (frame 1745/10797) /home/aditya/Downloads/Track.mp4: 288x512 1 large_orange_cone, 2 yellow_cones, 5.1ms\n",
      "video 1/1 (frame 1746/10797) /home/aditya/Downloads/Track.mp4: 288x512 3 yellow_cones, 5.2ms\n",
      "video 1/1 (frame 1747/10797) /home/aditya/Downloads/Track.mp4: 288x512 5 yellow_cones, 7.1ms\n",
      "video 1/1 (frame 1748/10797) /home/aditya/Downloads/Track.mp4: 288x512 2 large_orange_cones, 3 yellow_cones, 6.6ms\n",
      "video 1/1 (frame 1749/10797) /home/aditya/Downloads/Track.mp4: 288x512 1 yellow_cone, 7.1ms\n",
      "video 1/1 (frame 1750/10797) /home/aditya/Downloads/Track.mp4: 288x512 2 yellow_cones, 5.1ms\n",
      "video 1/1 (frame 1751/10797) /home/aditya/Downloads/Track.mp4: 288x512 2 yellow_cones, 5.1ms\n",
      "video 1/1 (frame 1752/10797) /home/aditya/Downloads/Track.mp4: 288x512 1 large_orange_cone, 2 yellow_cones, 5.2ms\n",
      "video 1/1 (frame 1753/10797) /home/aditya/Downloads/Track.mp4: 288x512 1 large_orange_cone, 1 yellow_cone, 6.7ms\n",
      "video 1/1 (frame 1754/10797) /home/aditya/Downloads/Track.mp4: 288x512 2 yellow_cones, 5.1ms\n",
      "video 1/1 (frame 1755/10797) /home/aditya/Downloads/Track.mp4: 288x512 2 yellow_cones, 5.2ms\n",
      "video 1/1 (frame 1756/10797) /home/aditya/Downloads/Track.mp4: 288x512 3 yellow_cones, 5.5ms\n",
      "video 1/1 (frame 1757/10797) /home/aditya/Downloads/Track.mp4: 288x512 1 yellow_cone, 8.5ms\n",
      "video 1/1 (frame 1758/10797) /home/aditya/Downloads/Track.mp4: 288x512 3 yellow_cones, 5.3ms\n",
      "video 1/1 (frame 1759/10797) /home/aditya/Downloads/Track.mp4: 288x512 4 yellow_cones, 6.3ms\n",
      "video 1/1 (frame 1760/10797) /home/aditya/Downloads/Track.mp4: 288x512 2 yellow_cones, 5.8ms\n",
      "video 1/1 (frame 1761/10797) /home/aditya/Downloads/Track.mp4: 288x512 3 yellow_cones, 6.8ms\n",
      "video 1/1 (frame 1762/10797) /home/aditya/Downloads/Track.mp4: 288x512 4 yellow_cones, 7.4ms\n",
      "video 1/1 (frame 1763/10797) /home/aditya/Downloads/Track.mp4: 288x512 3 yellow_cones, 7.1ms\n",
      "video 1/1 (frame 1764/10797) /home/aditya/Downloads/Track.mp4: 288x512 1 yellow_cone, 6.8ms\n",
      "video 1/1 (frame 1765/10797) /home/aditya/Downloads/Track.mp4: 288x512 2 yellow_cones, 7.2ms\n",
      "video 1/1 (frame 1766/10797) /home/aditya/Downloads/Track.mp4: 288x512 5 yellow_cones, 7.3ms\n",
      "video 1/1 (frame 1767/10797) /home/aditya/Downloads/Track.mp4: 288x512 3 yellow_cones, 8.4ms\n",
      "video 1/1 (frame 1768/10797) /home/aditya/Downloads/Track.mp4: 288x512 3 yellow_cones, 7.2ms\n",
      "video 1/1 (frame 1769/10797) /home/aditya/Downloads/Track.mp4: 288x512 6 yellow_cones, 6.8ms\n",
      "video 1/1 (frame 1770/10797) /home/aditya/Downloads/Track.mp4: 288x512 6 yellow_cones, 6.8ms\n",
      "video 1/1 (frame 1771/10797) /home/aditya/Downloads/Track.mp4: 288x512 3 yellow_cones, 6.8ms\n",
      "video 1/1 (frame 1772/10797) /home/aditya/Downloads/Track.mp4: 288x512 1 large_orange_cone, 4 yellow_cones, 6.9ms\n",
      "video 1/1 (frame 1773/10797) /home/aditya/Downloads/Track.mp4: 288x512 1 large_orange_cone, 2 yellow_cones, 6.8ms\n",
      "video 1/1 (frame 1774/10797) /home/aditya/Downloads/Track.mp4: 288x512 1 large_orange_cone, 7 yellow_cones, 6.8ms\n",
      "video 1/1 (frame 1775/10797) /home/aditya/Downloads/Track.mp4: 288x512 1 large_orange_cone, 9 yellow_cones, 7.3ms\n",
      "video 1/1 (frame 1776/10797) /home/aditya/Downloads/Track.mp4: 288x512 1 large_orange_cone, 8 yellow_cones, 6.7ms\n",
      "video 1/1 (frame 1777/10797) /home/aditya/Downloads/Track.mp4: 288x512 1 blue_cone, 7 yellow_cones, 7.1ms\n",
      "video 1/1 (frame 1778/10797) /home/aditya/Downloads/Track.mp4: 288x512 1 blue_cone, 1 large_orange_cone, 5 yellow_cones, 7.6ms\n",
      "video 1/1 (frame 1779/10797) /home/aditya/Downloads/Track.mp4: 288x512 7 yellow_cones, 7.2ms\n",
      "video 1/1 (frame 1780/10797) /home/aditya/Downloads/Track.mp4: 288x512 2 blue_cones, 1 large_orange_cone, 5 yellow_cones, 7.1ms\n",
      "video 1/1 (frame 1781/10797) /home/aditya/Downloads/Track.mp4: 288x512 2 blue_cones, 5 yellow_cones, 6.8ms\n",
      "video 1/1 (frame 1782/10797) /home/aditya/Downloads/Track.mp4: 288x512 2 blue_cones, 8 yellow_cones, 6.8ms\n",
      "video 1/1 (frame 1783/10797) /home/aditya/Downloads/Track.mp4: 288x512 1 blue_cone, 7 yellow_cones, 6.7ms\n",
      "video 1/1 (frame 1784/10797) /home/aditya/Downloads/Track.mp4: 288x512 1 large_orange_cone, 8 yellow_cones, 6.5ms\n",
      "video 1/1 (frame 1785/10797) /home/aditya/Downloads/Track.mp4: 288x512 2 blue_cones, 6 yellow_cones, 5.3ms\n",
      "video 1/1 (frame 1786/10797) /home/aditya/Downloads/Track.mp4: 288x512 2 blue_cones, 6 yellow_cones, 5.1ms\n",
      "video 1/1 (frame 1787/10797) /home/aditya/Downloads/Track.mp4: 288x512 2 blue_cones, 9 yellow_cones, 5.6ms\n",
      "video 1/1 (frame 1788/10797) /home/aditya/Downloads/Track.mp4: 288x512 3 blue_cones, 7 yellow_cones, 6.6ms\n",
      "video 1/1 (frame 1789/10797) /home/aditya/Downloads/Track.mp4: 288x512 1 blue_cone, 7 yellow_cones, 5.9ms\n",
      "video 1/1 (frame 1790/10797) /home/aditya/Downloads/Track.mp4: 288x512 4 blue_cones, 5 yellow_cones, 6.9ms\n",
      "video 1/1 (frame 1791/10797) /home/aditya/Downloads/Track.mp4: 288x512 3 blue_cones, 9 yellow_cones, 7.1ms\n",
      "video 1/1 (frame 1792/10797) /home/aditya/Downloads/Track.mp4: 288x512 2 blue_cones, 7 yellow_cones, 6.0ms\n",
      "video 1/1 (frame 1793/10797) /home/aditya/Downloads/Track.mp4: 288x512 5 blue_cones, 9 yellow_cones, 5.7ms\n",
      "video 1/1 (frame 1794/10797) /home/aditya/Downloads/Track.mp4: 288x512 2 blue_cones, 7 yellow_cones, 7.1ms\n",
      "video 1/1 (frame 1795/10797) /home/aditya/Downloads/Track.mp4: 288x512 5 blue_cones, 13 yellow_cones, 6.3ms\n",
      "video 1/1 (frame 1796/10797) /home/aditya/Downloads/Track.mp4: 288x512 3 blue_cones, 13 yellow_cones, 5.4ms\n",
      "video 1/1 (frame 1797/10797) /home/aditya/Downloads/Track.mp4: 288x512 8 blue_cones, 8 yellow_cones, 6.7ms\n",
      "video 1/1 (frame 1798/10797) /home/aditya/Downloads/Track.mp4: 288x512 5 blue_cones, 12 yellow_cones, 7.0ms\n",
      "video 1/1 (frame 1799/10797) /home/aditya/Downloads/Track.mp4: 288x512 8 blue_cones, 9 yellow_cones, 6.9ms\n",
      "video 1/1 (frame 1800/10797) /home/aditya/Downloads/Track.mp4: 288x512 8 blue_cones, 13 yellow_cones, 5.4ms\n",
      "video 1/1 (frame 1801/10797) /home/aditya/Downloads/Track.mp4: 288x512 7 blue_cones, 1 large_orange_cone, 11 yellow_cones, 6.6ms\n",
      "video 1/1 (frame 1802/10797) /home/aditya/Downloads/Track.mp4: 288x512 8 blue_cones, 2 large_orange_cones, 10 yellow_cones, 6.8ms\n",
      "video 1/1 (frame 1803/10797) /home/aditya/Downloads/Track.mp4: 288x512 7 blue_cones, 10 yellow_cones, 7.0ms\n",
      "video 1/1 (frame 1804/10797) /home/aditya/Downloads/Track.mp4: 288x512 7 blue_cones, 12 yellow_cones, 6.9ms\n",
      "video 1/1 (frame 1805/10797) /home/aditya/Downloads/Track.mp4: 288x512 7 blue_cones, 12 yellow_cones, 6.8ms\n",
      "video 1/1 (frame 1806/10797) /home/aditya/Downloads/Track.mp4: 288x512 5 blue_cones, 12 yellow_cones, 5.9ms\n",
      "video 1/1 (frame 1807/10797) /home/aditya/Downloads/Track.mp4: 288x512 4 blue_cones, 1 large_orange_cone, 14 yellow_cones, 6.1ms\n",
      "video 1/1 (frame 1808/10797) /home/aditya/Downloads/Track.mp4: 288x512 4 blue_cones, 1 large_orange_cone, 13 yellow_cones, 7.1ms\n",
      "video 1/1 (frame 1809/10797) /home/aditya/Downloads/Track.mp4: 288x512 5 blue_cones, 15 yellow_cones, 7.1ms\n",
      "video 1/1 (frame 1810/10797) /home/aditya/Downloads/Track.mp4: 288x512 3 blue_cones, 14 yellow_cones, 5.4ms\n",
      "video 1/1 (frame 1811/10797) /home/aditya/Downloads/Track.mp4: 288x512 3 blue_cones, 10 yellow_cones, 6.9ms\n",
      "video 1/1 (frame 1812/10797) /home/aditya/Downloads/Track.mp4: 288x512 4 blue_cones, 14 yellow_cones, 6.7ms\n",
      "video 1/1 (frame 1813/10797) /home/aditya/Downloads/Track.mp4: 288x512 4 blue_cones, 9 yellow_cones, 5.7ms\n",
      "video 1/1 (frame 1814/10797) /home/aditya/Downloads/Track.mp4: 288x512 5 blue_cones, 13 yellow_cones, 6.8ms\n",
      "video 1/1 (frame 1815/10797) /home/aditya/Downloads/Track.mp4: 288x512 5 blue_cones, 11 yellow_cones, 6.8ms\n",
      "video 1/1 (frame 1816/10797) /home/aditya/Downloads/Track.mp4: 288x512 5 blue_cones, 11 yellow_cones, 5.2ms\n",
      "video 1/1 (frame 1817/10797) /home/aditya/Downloads/Track.mp4: 288x512 4 blue_cones, 10 yellow_cones, 6.9ms\n",
      "video 1/1 (frame 1818/10797) /home/aditya/Downloads/Track.mp4: 288x512 5 blue_cones, 10 yellow_cones, 5.6ms\n",
      "video 1/1 (frame 1819/10797) /home/aditya/Downloads/Track.mp4: 288x512 4 blue_cones, 8 yellow_cones, 6.7ms\n",
      "video 1/1 (frame 1820/10797) /home/aditya/Downloads/Track.mp4: 288x512 4 blue_cones, 9 yellow_cones, 6.8ms\n",
      "video 1/1 (frame 1821/10797) /home/aditya/Downloads/Track.mp4: 288x512 5 blue_cones, 15 yellow_cones, 7.0ms\n",
      "video 1/1 (frame 1822/10797) /home/aditya/Downloads/Track.mp4: 288x512 5 blue_cones, 14 yellow_cones, 5.9ms\n",
      "video 1/1 (frame 1823/10797) /home/aditya/Downloads/Track.mp4: 288x512 5 blue_cones, 14 yellow_cones, 7.2ms\n",
      "video 1/1 (frame 1824/10797) /home/aditya/Downloads/Track.mp4: 288x512 5 blue_cones, 8 yellow_cones, 7.7ms\n",
      "video 1/1 (frame 1825/10797) /home/aditya/Downloads/Track.mp4: 288x512 5 blue_cones, 12 yellow_cones, 7.1ms\n",
      "video 1/1 (frame 1826/10797) /home/aditya/Downloads/Track.mp4: 288x512 4 blue_cones, 13 yellow_cones, 6.8ms\n",
      "video 1/1 (frame 1827/10797) /home/aditya/Downloads/Track.mp4: 288x512 5 blue_cones, 11 yellow_cones, 5.1ms\n",
      "video 1/1 (frame 1828/10797) /home/aditya/Downloads/Track.mp4: 288x512 5 blue_cones, 11 yellow_cones, 7.0ms\n",
      "video 1/1 (frame 1829/10797) /home/aditya/Downloads/Track.mp4: 288x512 5 blue_cones, 6 yellow_cones, 7.3ms\n",
      "video 1/1 (frame 1830/10797) /home/aditya/Downloads/Track.mp4: 288x512 5 blue_cones, 6 yellow_cones, 6.9ms\n",
      "video 1/1 (frame 1831/10797) /home/aditya/Downloads/Track.mp4: 288x512 6 blue_cones, 4 yellow_cones, 7.5ms\n",
      "video 1/1 (frame 1832/10797) /home/aditya/Downloads/Track.mp4: 288x512 6 blue_cones, 5 yellow_cones, 6.8ms\n",
      "video 1/1 (frame 1833/10797) /home/aditya/Downloads/Track.mp4: 288x512 6 blue_cones, 6 yellow_cones, 5.5ms\n",
      "video 1/1 (frame 1834/10797) /home/aditya/Downloads/Track.mp4: 288x512 6 blue_cones, 7 yellow_cones, 6.4ms\n",
      "video 1/1 (frame 1835/10797) /home/aditya/Downloads/Track.mp4: 288x512 7 blue_cones, 9 yellow_cones, 6.8ms\n",
      "video 1/1 (frame 1836/10797) /home/aditya/Downloads/Track.mp4: 288x512 6 blue_cones, 9 yellow_cones, 5.6ms\n",
      "video 1/1 (frame 1837/10797) /home/aditya/Downloads/Track.mp4: 288x512 7 blue_cones, 10 yellow_cones, 5.9ms\n",
      "video 1/1 (frame 1838/10797) /home/aditya/Downloads/Track.mp4: 288x512 6 blue_cones, 10 yellow_cones, 7.1ms\n",
      "video 1/1 (frame 1839/10797) /home/aditya/Downloads/Track.mp4: 288x512 6 blue_cones, 8 yellow_cones, 7.4ms\n",
      "video 1/1 (frame 1840/10797) /home/aditya/Downloads/Track.mp4: 288x512 6 blue_cones, 9 yellow_cones, 6.6ms\n",
      "video 1/1 (frame 1841/10797) /home/aditya/Downloads/Track.mp4: 288x512 4 blue_cones, 7 yellow_cones, 5.1ms\n",
      "video 1/1 (frame 1842/10797) /home/aditya/Downloads/Track.mp4: 288x512 5 blue_cones, 10 yellow_cones, 6.7ms\n",
      "video 1/1 (frame 1843/10797) /home/aditya/Downloads/Track.mp4: 288x512 6 blue_cones, 10 yellow_cones, 5.4ms\n",
      "video 1/1 (frame 1844/10797) /home/aditya/Downloads/Track.mp4: 288x512 5 blue_cones, 9 yellow_cones, 7.4ms\n",
      "video 1/1 (frame 1845/10797) /home/aditya/Downloads/Track.mp4: 288x512 5 blue_cones, 8 yellow_cones, 5.7ms\n",
      "video 1/1 (frame 1846/10797) /home/aditya/Downloads/Track.mp4: 288x512 8 blue_cones, 15 yellow_cones, 7.1ms\n",
      "video 1/1 (frame 1847/10797) /home/aditya/Downloads/Track.mp4: 288x512 5 blue_cones, 11 yellow_cones, 6.7ms\n",
      "video 1/1 (frame 1848/10797) /home/aditya/Downloads/Track.mp4: 288x512 4 blue_cones, 10 yellow_cones, 5.5ms\n",
      "video 1/1 (frame 1849/10797) /home/aditya/Downloads/Track.mp4: 288x512 4 blue_cones, 7 yellow_cones, 5.7ms\n",
      "video 1/1 (frame 1850/10797) /home/aditya/Downloads/Track.mp4: 288x512 4 blue_cones, 9 yellow_cones, 6.7ms\n",
      "video 1/1 (frame 1851/10797) /home/aditya/Downloads/Track.mp4: 288x512 4 blue_cones, 15 yellow_cones, 5.5ms\n",
      "video 1/1 (frame 1852/10797) /home/aditya/Downloads/Track.mp4: 288x512 3 blue_cones, 9 yellow_cones, 6.8ms\n",
      "video 1/1 (frame 1853/10797) /home/aditya/Downloads/Track.mp4: 288x512 4 blue_cones, 9 yellow_cones, 5.2ms\n",
      "video 1/1 (frame 1854/10797) /home/aditya/Downloads/Track.mp4: 288x512 5 blue_cones, 8 yellow_cones, 5.3ms\n",
      "video 1/1 (frame 1855/10797) /home/aditya/Downloads/Track.mp4: 288x512 4 blue_cones, 1 large_orange_cone, 13 yellow_cones, 5.5ms\n",
      "video 1/1 (frame 1856/10797) /home/aditya/Downloads/Track.mp4: 288x512 3 blue_cones, 1 large_orange_cone, 14 yellow_cones, 6.6ms\n",
      "video 1/1 (frame 1857/10797) /home/aditya/Downloads/Track.mp4: 288x512 4 blue_cones, 1 large_orange_cone, 12 yellow_cones, 6.7ms\n",
      "video 1/1 (frame 1858/10797) /home/aditya/Downloads/Track.mp4: 288x512 4 blue_cones, 1 large_orange_cone, 14 yellow_cones, 6.6ms\n",
      "video 1/1 (frame 1859/10797) /home/aditya/Downloads/Track.mp4: 288x512 5 blue_cones, 1 large_orange_cone, 14 yellow_cones, 5.5ms\n",
      "video 1/1 (frame 1860/10797) /home/aditya/Downloads/Track.mp4: 288x512 5 blue_cones, 2 large_orange_cones, 8 yellow_cones, 5.3ms\n",
      "video 1/1 (frame 1861/10797) /home/aditya/Downloads/Track.mp4: 288x512 3 blue_cones, 9 yellow_cones, 6.8ms\n",
      "video 1/1 (frame 1862/10797) /home/aditya/Downloads/Track.mp4: 288x512 4 blue_cones, 1 large_orange_cone, 11 yellow_cones, 6.7ms\n",
      "video 1/1 (frame 1863/10797) /home/aditya/Downloads/Track.mp4: 288x512 4 blue_cones, 2 large_orange_cones, 10 yellow_cones, 5.4ms\n",
      "video 1/1 (frame 1864/10797) /home/aditya/Downloads/Track.mp4: 288x512 3 blue_cones, 2 large_orange_cones, 11 yellow_cones, 7.1ms\n",
      "video 1/1 (frame 1865/10797) /home/aditya/Downloads/Track.mp4: 288x512 3 blue_cones, 9 yellow_cones, 7.0ms\n",
      "video 1/1 (frame 1866/10797) /home/aditya/Downloads/Track.mp4: 288x512 5 blue_cones, 1 large_orange_cone, 14 yellow_cones, 6.2ms\n",
      "video 1/1 (frame 1867/10797) /home/aditya/Downloads/Track.mp4: 288x512 5 blue_cones, 2 large_orange_cones, 8 yellow_cones, 5.0ms\n",
      "video 1/1 (frame 1868/10797) /home/aditya/Downloads/Track.mp4: 288x512 4 blue_cones, 2 large_orange_cones, 14 yellow_cones, 6.9ms\n",
      "video 1/1 (frame 1869/10797) /home/aditya/Downloads/Track.mp4: 288x512 4 blue_cones, 2 large_orange_cones, 11 yellow_cones, 6.5ms\n",
      "video 1/1 (frame 1870/10797) /home/aditya/Downloads/Track.mp4: 288x512 3 blue_cones, 2 large_orange_cones, 8 yellow_cones, 5.3ms\n",
      "video 1/1 (frame 1871/10797) /home/aditya/Downloads/Track.mp4: 288x512 3 blue_cones, 1 large_orange_cone, 9 yellow_cones, 6.9ms\n",
      "video 1/1 (frame 1872/10797) /home/aditya/Downloads/Track.mp4: 288x512 4 blue_cones, 2 large_orange_cones, 8 yellow_cones, 6.5ms\n",
      "video 1/1 (frame 1873/10797) /home/aditya/Downloads/Track.mp4: 288x512 2 blue_cones, 2 large_orange_cones, 13 yellow_cones, 6.9ms\n",
      "video 1/1 (frame 1874/10797) /home/aditya/Downloads/Track.mp4: 288x512 4 blue_cones, 2 large_orange_cones, 11 yellow_cones, 6.7ms\n",
      "video 1/1 (frame 1875/10797) /home/aditya/Downloads/Track.mp4: 288x512 5 blue_cones, 2 large_orange_cones, 11 yellow_cones, 5.2ms\n",
      "video 1/1 (frame 1876/10797) /home/aditya/Downloads/Track.mp4: 288x512 4 blue_cones, 2 large_orange_cones, 10 yellow_cones, 7.1ms\n",
      "video 1/1 (frame 1877/10797) /home/aditya/Downloads/Track.mp4: 288x512 4 blue_cones, 3 large_orange_cones, 11 yellow_cones, 6.6ms\n",
      "video 1/1 (frame 1878/10797) /home/aditya/Downloads/Track.mp4: 288x512 3 blue_cones, 2 large_orange_cones, 7 yellow_cones, 8.9ms\n",
      "video 1/1 (frame 1879/10797) /home/aditya/Downloads/Track.mp4: 288x512 4 blue_cones, 2 large_orange_cones, 11 yellow_cones, 8.0ms\n",
      "video 1/1 (frame 1880/10797) /home/aditya/Downloads/Track.mp4: 288x512 3 blue_cones, 2 large_orange_cones, 10 yellow_cones, 6.7ms\n",
      "video 1/1 (frame 1881/10797) /home/aditya/Downloads/Track.mp4: 288x512 3 blue_cones, 1 large_orange_cone, 10 yellow_cones, 7.3ms\n",
      "video 1/1 (frame 1882/10797) /home/aditya/Downloads/Track.mp4: 288x512 3 blue_cones, 9 yellow_cones, 6.7ms\n",
      "video 1/1 (frame 1883/10797) /home/aditya/Downloads/Track.mp4: 288x512 4 blue_cones, 1 large_orange_cone, 8 yellow_cones, 5.5ms\n",
      "video 1/1 (frame 1884/10797) /home/aditya/Downloads/Track.mp4: 288x512 4 blue_cones, 2 large_orange_cones, 8 yellow_cones, 6.7ms\n",
      "video 1/1 (frame 1885/10797) /home/aditya/Downloads/Track.mp4: 288x512 1 blue_cone, 1 large_orange_cone, 10 yellow_cones, 6.5ms\n",
      "video 1/1 (frame 1886/10797) /home/aditya/Downloads/Track.mp4: 288x512 3 blue_cones, 1 large_orange_cone, 9 yellow_cones, 6.5ms\n",
      "video 1/1 (frame 1887/10797) /home/aditya/Downloads/Track.mp4: 288x512 1 blue_cone, 1 large_orange_cone, 9 yellow_cones, 6.8ms\n",
      "video 1/1 (frame 1888/10797) /home/aditya/Downloads/Track.mp4: 288x512 3 blue_cones, 1 large_orange_cone, 7 yellow_cones, 7.1ms\n",
      "video 1/1 (frame 1889/10797) /home/aditya/Downloads/Track.mp4: 288x512 4 blue_cones, 1 large_orange_cone, 9 yellow_cones, 5.8ms\n",
      "video 1/1 (frame 1890/10797) /home/aditya/Downloads/Track.mp4: 288x512 3 blue_cones, 1 large_orange_cone, 9 yellow_cones, 6.6ms\n",
      "video 1/1 (frame 1891/10797) /home/aditya/Downloads/Track.mp4: 288x512 4 blue_cones, 8 yellow_cones, 6.9ms\n",
      "video 1/1 (frame 1892/10797) /home/aditya/Downloads/Track.mp4: 288x512 4 blue_cones, 7 yellow_cones, 5.4ms\n",
      "video 1/1 (frame 1893/10797) /home/aditya/Downloads/Track.mp4: 288x512 2 blue_cones, 10 yellow_cones, 6.8ms\n",
      "video 1/1 (frame 1894/10797) /home/aditya/Downloads/Track.mp4: 288x512 2 blue_cones, 8 yellow_cones, 6.8ms\n",
      "video 1/1 (frame 1895/10797) /home/aditya/Downloads/Track.mp4: 288x512 2 blue_cones, 11 yellow_cones, 5.2ms\n",
      "video 1/1 (frame 1896/10797) /home/aditya/Downloads/Track.mp4: 288x512 2 blue_cones, 9 yellow_cones, 7.4ms\n",
      "video 1/1 (frame 1897/10797) /home/aditya/Downloads/Track.mp4: 288x512 1 blue_cone, 8 yellow_cones, 7.5ms\n",
      "video 1/1 (frame 1898/10797) /home/aditya/Downloads/Track.mp4: 288x512 2 blue_cones, 5 yellow_cones, 7.2ms\n",
      "video 1/1 (frame 1899/10797) /home/aditya/Downloads/Track.mp4: 288x512 3 blue_cones, 7 yellow_cones, 7.4ms\n",
      "video 1/1 (frame 1900/10797) /home/aditya/Downloads/Track.mp4: 288x512 2 blue_cones, 5 yellow_cones, 5.9ms\n",
      "video 1/1 (frame 1901/10797) /home/aditya/Downloads/Track.mp4: 288x512 3 blue_cones, 5 yellow_cones, 6.5ms\n",
      "video 1/1 (frame 1902/10797) /home/aditya/Downloads/Track.mp4: 288x512 3 blue_cones, 4 yellow_cones, 5.1ms\n",
      "video 1/1 (frame 1903/10797) /home/aditya/Downloads/Track.mp4: 288x512 3 blue_cones, 4 yellow_cones, 5.4ms\n",
      "video 1/1 (frame 1904/10797) /home/aditya/Downloads/Track.mp4: 288x512 4 blue_cones, 5 yellow_cones, 5.8ms\n",
      "video 1/1 (frame 1905/10797) /home/aditya/Downloads/Track.mp4: 288x512 5 blue_cones, 4 yellow_cones, 6.6ms\n",
      "video 1/1 (frame 1906/10797) /home/aditya/Downloads/Track.mp4: 288x512 3 blue_cones, 4 yellow_cones, 5.8ms\n",
      "video 1/1 (frame 1907/10797) /home/aditya/Downloads/Track.mp4: 288x512 3 blue_cones, 6 yellow_cones, 6.9ms\n",
      "video 1/1 (frame 1908/10797) /home/aditya/Downloads/Track.mp4: 288x512 3 blue_cones, 7 yellow_cones, 7.3ms\n",
      "video 1/1 (frame 1909/10797) /home/aditya/Downloads/Track.mp4: 288x512 2 blue_cones, 8 yellow_cones, 6.6ms\n",
      "video 1/1 (frame 1910/10797) /home/aditya/Downloads/Track.mp4: 288x512 4 blue_cones, 8 yellow_cones, 7.2ms\n",
      "video 1/1 (frame 1911/10797) /home/aditya/Downloads/Track.mp4: 288x512 3 blue_cones, 8 yellow_cones, 6.7ms\n",
      "video 1/1 (frame 1912/10797) /home/aditya/Downloads/Track.mp4: 288x512 4 blue_cones, 6 yellow_cones, 7.0ms\n",
      "video 1/1 (frame 1913/10797) /home/aditya/Downloads/Track.mp4: 288x512 2 blue_cones, 10 yellow_cones, 6.9ms\n",
      "video 1/1 (frame 1914/10797) /home/aditya/Downloads/Track.mp4: 288x512 3 blue_cones, 10 yellow_cones, 6.5ms\n",
      "video 1/1 (frame 1915/10797) /home/aditya/Downloads/Track.mp4: 288x512 2 blue_cones, 12 yellow_cones, 7.0ms\n",
      "video 1/1 (frame 1916/10797) /home/aditya/Downloads/Track.mp4: 288x512 3 blue_cones, 10 yellow_cones, 6.1ms\n",
      "video 1/1 (frame 1917/10797) /home/aditya/Downloads/Track.mp4: 288x512 4 blue_cones, 8 yellow_cones, 6.5ms\n",
      "video 1/1 (frame 1918/10797) /home/aditya/Downloads/Track.mp4: 288x512 5 blue_cones, 11 yellow_cones, 7.0ms\n",
      "video 1/1 (frame 1919/10797) /home/aditya/Downloads/Track.mp4: 288x512 4 blue_cones, 11 yellow_cones, 6.4ms\n",
      "video 1/1 (frame 1920/10797) /home/aditya/Downloads/Track.mp4: 288x512 5 blue_cones, 6 yellow_cones, 5.4ms\n",
      "video 1/1 (frame 1921/10797) /home/aditya/Downloads/Track.mp4: 288x512 4 blue_cones, 7 yellow_cones, 6.7ms\n",
      "video 1/1 (frame 1922/10797) /home/aditya/Downloads/Track.mp4: 288x512 4 blue_cones, 8 yellow_cones, 6.5ms\n",
      "video 1/1 (frame 1923/10797) /home/aditya/Downloads/Track.mp4: 288x512 2 blue_cones, 7 yellow_cones, 6.5ms\n",
      "video 1/1 (frame 1924/10797) /home/aditya/Downloads/Track.mp4: 288x512 4 blue_cones, 8 yellow_cones, 5.2ms\n",
      "video 1/1 (frame 1925/10797) /home/aditya/Downloads/Track.mp4: 288x512 1 blue_cone, 10 yellow_cones, 5.6ms\n",
      "video 1/1 (frame 1926/10797) /home/aditya/Downloads/Track.mp4: 288x512 2 blue_cones, 9 yellow_cones, 6.9ms\n",
      "video 1/1 (frame 1927/10797) /home/aditya/Downloads/Track.mp4: 288x512 2 blue_cones, 9 yellow_cones, 6.5ms\n",
      "video 1/1 (frame 1928/10797) /home/aditya/Downloads/Track.mp4: 288x512 2 blue_cones, 7 yellow_cones, 6.7ms\n",
      "video 1/1 (frame 1929/10797) /home/aditya/Downloads/Track.mp4: 288x512 2 blue_cones, 7 yellow_cones, 6.5ms\n",
      "video 1/1 (frame 1930/10797) /home/aditya/Downloads/Track.mp4: 288x512 1 blue_cone, 8 yellow_cones, 6.9ms\n",
      "video 1/1 (frame 1931/10797) /home/aditya/Downloads/Track.mp4: 288x512 4 blue_cones, 9 yellow_cones, 6.7ms\n",
      "video 1/1 (frame 1932/10797) /home/aditya/Downloads/Track.mp4: 288x512 1 blue_cone, 4 yellow_cones, 6.4ms\n",
      "video 1/1 (frame 1933/10797) /home/aditya/Downloads/Track.mp4: 288x512 1 blue_cone, 6 yellow_cones, 5.7ms\n",
      "video 1/1 (frame 1934/10797) /home/aditya/Downloads/Track.mp4: 288x512 2 blue_cones, 14 yellow_cones, 5.8ms\n",
      "video 1/1 (frame 1935/10797) /home/aditya/Downloads/Track.mp4: 288x512 2 blue_cones, 12 yellow_cones, 6.6ms\n",
      "video 1/1 (frame 1936/10797) /home/aditya/Downloads/Track.mp4: 288x512 1 blue_cone, 16 yellow_cones, 7.0ms\n",
      "video 1/1 (frame 1937/10797) /home/aditya/Downloads/Track.mp4: 288x512 2 blue_cones, 13 yellow_cones, 7.6ms\n",
      "video 1/1 (frame 1938/10797) /home/aditya/Downloads/Track.mp4: 288x512 2 blue_cones, 14 yellow_cones, 5.7ms\n",
      "video 1/1 (frame 1939/10797) /home/aditya/Downloads/Track.mp4: 288x512 2 blue_cones, 1 large_orange_cone, 16 yellow_cones, 6.8ms\n",
      "video 1/1 (frame 1940/10797) /home/aditya/Downloads/Track.mp4: 288x512 2 blue_cones, 1 large_orange_cone, 15 yellow_cones, 6.3ms\n",
      "video 1/1 (frame 1941/10797) /home/aditya/Downloads/Track.mp4: 288x512 3 blue_cones, 1 large_orange_cone, 16 yellow_cones, 7.1ms\n",
      "video 1/1 (frame 1942/10797) /home/aditya/Downloads/Track.mp4: 288x512 3 blue_cones, 1 large_orange_cone, 15 yellow_cones, 6.7ms\n",
      "video 1/1 (frame 1943/10797) /home/aditya/Downloads/Track.mp4: 288x512 3 blue_cones, 13 yellow_cones, 7.6ms\n",
      "video 1/1 (frame 1944/10797) /home/aditya/Downloads/Track.mp4: 288x512 2 blue_cones, 12 yellow_cones, 7.3ms\n",
      "video 1/1 (frame 1945/10797) /home/aditya/Downloads/Track.mp4: 288x512 2 blue_cones, 13 yellow_cones, 8.0ms\n",
      "video 1/1 (frame 1946/10797) /home/aditya/Downloads/Track.mp4: 288x512 3 blue_cones, 8 yellow_cones, 6.1ms\n",
      "video 1/1 (frame 1947/10797) /home/aditya/Downloads/Track.mp4: 288x512 3 blue_cones, 8 yellow_cones, 5.9ms\n",
      "video 1/1 (frame 1948/10797) /home/aditya/Downloads/Track.mp4: 288x512 3 blue_cones, 13 yellow_cones, 6.0ms\n",
      "video 1/1 (frame 1949/10797) /home/aditya/Downloads/Track.mp4: 288x512 3 blue_cones, 9 yellow_cones, 7.5ms\n",
      "video 1/1 (frame 1950/10797) /home/aditya/Downloads/Track.mp4: 288x512 3 blue_cones, 9 yellow_cones, 7.9ms\n",
      "video 1/1 (frame 1951/10797) /home/aditya/Downloads/Track.mp4: 288x512 3 blue_cones, 14 yellow_cones, 7.2ms\n",
      "video 1/1 (frame 1952/10797) /home/aditya/Downloads/Track.mp4: 288x512 5 blue_cones, 13 yellow_cones, 5.9ms\n",
      "video 1/1 (frame 1953/10797) /home/aditya/Downloads/Track.mp4: 288x512 4 blue_cones, 9 yellow_cones, 5.8ms\n",
      "video 1/1 (frame 1954/10797) /home/aditya/Downloads/Track.mp4: 288x512 3 blue_cones, 13 yellow_cones, 7.2ms\n",
      "video 1/1 (frame 1955/10797) /home/aditya/Downloads/Track.mp4: 288x512 3 blue_cones, 8 yellow_cones, 5.5ms\n",
      "video 1/1 (frame 1956/10797) /home/aditya/Downloads/Track.mp4: 288x512 3 blue_cones, 10 yellow_cones, 5.3ms\n",
      "video 1/1 (frame 1957/10797) /home/aditya/Downloads/Track.mp4: 288x512 6 blue_cones, 11 yellow_cones, 5.7ms\n",
      "video 1/1 (frame 1958/10797) /home/aditya/Downloads/Track.mp4: 288x512 6 blue_cones, 12 yellow_cones, 7.9ms\n",
      "video 1/1 (frame 1959/10797) /home/aditya/Downloads/Track.mp4: 288x512 6 blue_cones, 1 large_orange_cone, 15 yellow_cones, 5.5ms\n",
      "video 1/1 (frame 1960/10797) /home/aditya/Downloads/Track.mp4: 288x512 7 blue_cones, 8 yellow_cones, 5.7ms\n",
      "video 1/1 (frame 1961/10797) /home/aditya/Downloads/Track.mp4: 288x512 6 blue_cones, 9 yellow_cones, 7.3ms\n",
      "video 1/1 (frame 1962/10797) /home/aditya/Downloads/Track.mp4: 288x512 7 blue_cones, 7 yellow_cones, 5.9ms\n",
      "video 1/1 (frame 1963/10797) /home/aditya/Downloads/Track.mp4: 288x512 8 blue_cones, 7 yellow_cones, 5.8ms\n",
      "video 1/1 (frame 1964/10797) /home/aditya/Downloads/Track.mp4: 288x512 6 blue_cones, 8 yellow_cones, 5.5ms\n",
      "video 1/1 (frame 1965/10797) /home/aditya/Downloads/Track.mp4: 288x512 9 blue_cones, 8 yellow_cones, 5.1ms\n",
      "video 1/1 (frame 1966/10797) /home/aditya/Downloads/Track.mp4: 288x512 8 blue_cones, 8 yellow_cones, 5.7ms\n",
      "video 1/1 (frame 1967/10797) /home/aditya/Downloads/Track.mp4: 288x512 7 blue_cones, 9 yellow_cones, 6.0ms\n",
      "video 1/1 (frame 1968/10797) /home/aditya/Downloads/Track.mp4: 288x512 9 blue_cones, 7 yellow_cones, 6.5ms\n",
      "video 1/1 (frame 1969/10797) /home/aditya/Downloads/Track.mp4: 288x512 7 blue_cones, 10 yellow_cones, 7.1ms\n",
      "video 1/1 (frame 1970/10797) /home/aditya/Downloads/Track.mp4: 288x512 7 blue_cones, 8 yellow_cones, 6.9ms\n",
      "video 1/1 (frame 1971/10797) /home/aditya/Downloads/Track.mp4: 288x512 8 blue_cones, 8 yellow_cones, 7.0ms\n",
      "video 1/1 (frame 1972/10797) /home/aditya/Downloads/Track.mp4: 288x512 7 blue_cones, 13 yellow_cones, 5.4ms\n",
      "video 1/1 (frame 1973/10797) /home/aditya/Downloads/Track.mp4: 288x512 10 blue_cones, 8 yellow_cones, 5.3ms\n",
      "video 1/1 (frame 1974/10797) /home/aditya/Downloads/Track.mp4: 288x512 9 blue_cones, 9 yellow_cones, 5.9ms\n",
      "video 1/1 (frame 1975/10797) /home/aditya/Downloads/Track.mp4: 288x512 8 blue_cones, 12 yellow_cones, 6.0ms\n",
      "video 1/1 (frame 1976/10797) /home/aditya/Downloads/Track.mp4: 288x512 6 blue_cones, 7 yellow_cones, 6.1ms\n",
      "video 1/1 (frame 1977/10797) /home/aditya/Downloads/Track.mp4: 288x512 9 blue_cones, 11 yellow_cones, 6.9ms\n",
      "video 1/1 (frame 1978/10797) /home/aditya/Downloads/Track.mp4: 288x512 7 blue_cones, 11 yellow_cones, 6.6ms\n",
      "video 1/1 (frame 1979/10797) /home/aditya/Downloads/Track.mp4: 288x512 6 blue_cones, 9 yellow_cones, 6.7ms\n",
      "video 1/1 (frame 1980/10797) /home/aditya/Downloads/Track.mp4: 288x512 7 blue_cones, 2 large_orange_cones, 5 yellow_cones, 6.6ms\n",
      "video 1/1 (frame 1981/10797) /home/aditya/Downloads/Track.mp4: 288x512 7 blue_cones, 7 yellow_cones, 6.7ms\n",
      "video 1/1 (frame 1982/10797) /home/aditya/Downloads/Track.mp4: 288x512 8 blue_cones, 1 large_orange_cone, 9 yellow_cones, 7.1ms\n",
      "video 1/1 (frame 1983/10797) /home/aditya/Downloads/Track.mp4: 288x512 8 blue_cones, 10 yellow_cones, 6.3ms\n",
      "video 1/1 (frame 1984/10797) /home/aditya/Downloads/Track.mp4: 288x512 7 blue_cones, 5 yellow_cones, 6.8ms\n",
      "video 1/1 (frame 1985/10797) /home/aditya/Downloads/Track.mp4: 288x512 6 blue_cones, 7 yellow_cones, 6.9ms\n",
      "video 1/1 (frame 1986/10797) /home/aditya/Downloads/Track.mp4: 288x512 7 blue_cones, 12 yellow_cones, 6.8ms\n",
      "video 1/1 (frame 1987/10797) /home/aditya/Downloads/Track.mp4: 288x512 9 blue_cones, 12 yellow_cones, 7.3ms\n",
      "video 1/1 (frame 1988/10797) /home/aditya/Downloads/Track.mp4: 288x512 6 blue_cones, 6 yellow_cones, 6.7ms\n",
      "video 1/1 (frame 1989/10797) /home/aditya/Downloads/Track.mp4: 288x512 5 blue_cones, 13 yellow_cones, 6.9ms\n",
      "video 1/1 (frame 1990/10797) /home/aditya/Downloads/Track.mp4: 288x512 10 blue_cones, 11 yellow_cones, 6.5ms\n",
      "video 1/1 (frame 1991/10797) /home/aditya/Downloads/Track.mp4: 288x512 9 blue_cones, 9 yellow_cones, 7.1ms\n",
      "video 1/1 (frame 1992/10797) /home/aditya/Downloads/Track.mp4: 288x512 7 blue_cones, 13 yellow_cones, 6.9ms\n",
      "video 1/1 (frame 1993/10797) /home/aditya/Downloads/Track.mp4: 288x512 10 blue_cones, 11 yellow_cones, 5.7ms\n",
      "video 1/1 (frame 1994/10797) /home/aditya/Downloads/Track.mp4: 288x512 9 blue_cones, 12 yellow_cones, 5.2ms\n",
      "video 1/1 (frame 1995/10797) /home/aditya/Downloads/Track.mp4: 288x512 5 blue_cones, 14 yellow_cones, 5.2ms\n",
      "video 1/1 (frame 1996/10797) /home/aditya/Downloads/Track.mp4: 288x512 9 blue_cones, 14 yellow_cones, 5.5ms\n",
      "video 1/1 (frame 1997/10797) /home/aditya/Downloads/Track.mp4: 288x512 7 blue_cones, 12 yellow_cones, 6.6ms\n",
      "video 1/1 (frame 1998/10797) /home/aditya/Downloads/Track.mp4: 288x512 6 blue_cones, 13 yellow_cones, 5.7ms\n",
      "video 1/1 (frame 1999/10797) /home/aditya/Downloads/Track.mp4: 288x512 7 blue_cones, 16 yellow_cones, 5.3ms\n",
      "video 1/1 (frame 2000/10797) /home/aditya/Downloads/Track.mp4: 288x512 9 blue_cones, 13 yellow_cones, 6.7ms\n",
      "video 1/1 (frame 2001/10797) /home/aditya/Downloads/Track.mp4: 288x512 8 blue_cones, 8 yellow_cones, 6.7ms\n",
      "video 1/1 (frame 2002/10797) /home/aditya/Downloads/Track.mp4: 288x512 7 blue_cones, 13 yellow_cones, 7.0ms\n",
      "video 1/1 (frame 2003/10797) /home/aditya/Downloads/Track.mp4: 288x512 7 blue_cones, 15 yellow_cones, 6.2ms\n",
      "video 1/1 (frame 2004/10797) /home/aditya/Downloads/Track.mp4: 288x512 7 blue_cones, 11 yellow_cones, 6.7ms\n",
      "video 1/1 (frame 2005/10797) /home/aditya/Downloads/Track.mp4: 288x512 8 blue_cones, 13 yellow_cones, 6.4ms\n",
      "video 1/1 (frame 2006/10797) /home/aditya/Downloads/Track.mp4: 288x512 7 blue_cones, 10 yellow_cones, 5.8ms\n",
      "video 1/1 (frame 2007/10797) /home/aditya/Downloads/Track.mp4: 288x512 4 blue_cones, 11 yellow_cones, 7.2ms\n",
      "video 1/1 (frame 2008/10797) /home/aditya/Downloads/Track.mp4: 288x512 6 blue_cones, 12 yellow_cones, 7.0ms\n",
      "video 1/1 (frame 2009/10797) /home/aditya/Downloads/Track.mp4: 288x512 6 blue_cones, 9 yellow_cones, 7.0ms\n",
      "video 1/1 (frame 2010/10797) /home/aditya/Downloads/Track.mp4: 288x512 5 blue_cones, 13 yellow_cones, 7.0ms\n",
      "video 1/1 (frame 2011/10797) /home/aditya/Downloads/Track.mp4: 288x512 6 blue_cones, 14 yellow_cones, 7.3ms\n",
      "video 1/1 (frame 2012/10797) /home/aditya/Downloads/Track.mp4: 288x512 4 blue_cones, 15 yellow_cones, 7.0ms\n",
      "video 1/1 (frame 2013/10797) /home/aditya/Downloads/Track.mp4: 288x512 6 blue_cones, 14 yellow_cones, 6.0ms\n",
      "video 1/1 (frame 2014/10797) /home/aditya/Downloads/Track.mp4: 288x512 7 blue_cones, 13 yellow_cones, 7.4ms\n",
      "video 1/1 (frame 2015/10797) /home/aditya/Downloads/Track.mp4: 288x512 6 blue_cones, 12 yellow_cones, 7.4ms\n",
      "video 1/1 (frame 2016/10797) /home/aditya/Downloads/Track.mp4: 288x512 5 blue_cones, 11 yellow_cones, 7.0ms\n",
      "video 1/1 (frame 2017/10797) /home/aditya/Downloads/Track.mp4: 288x512 5 blue_cones, 12 yellow_cones, 7.2ms\n",
      "video 1/1 (frame 2018/10797) /home/aditya/Downloads/Track.mp4: 288x512 6 blue_cones, 12 yellow_cones, 7.1ms\n",
      "video 1/1 (frame 2019/10797) /home/aditya/Downloads/Track.mp4: 288x512 6 blue_cones, 13 yellow_cones, 6.9ms\n",
      "video 1/1 (frame 2020/10797) /home/aditya/Downloads/Track.mp4: 288x512 6 blue_cones, 10 yellow_cones, 7.0ms\n",
      "video 1/1 (frame 2021/10797) /home/aditya/Downloads/Track.mp4: 288x512 7 blue_cones, 15 yellow_cones, 7.2ms\n",
      "video 1/1 (frame 2022/10797) /home/aditya/Downloads/Track.mp4: 288x512 6 blue_cones, 15 yellow_cones, 7.4ms\n",
      "video 1/1 (frame 2023/10797) /home/aditya/Downloads/Track.mp4: 288x512 6 blue_cones, 15 yellow_cones, 5.5ms\n",
      "video 1/1 (frame 2024/10797) /home/aditya/Downloads/Track.mp4: 288x512 7 blue_cones, 12 yellow_cones, 5.9ms\n",
      "video 1/1 (frame 2025/10797) /home/aditya/Downloads/Track.mp4: 288x512 6 blue_cones, 12 yellow_cones, 6.8ms\n",
      "video 1/1 (frame 2026/10797) /home/aditya/Downloads/Track.mp4: 288x512 6 blue_cones, 16 yellow_cones, 6.1ms\n",
      "video 1/1 (frame 2027/10797) /home/aditya/Downloads/Track.mp4: 288x512 6 blue_cones, 16 yellow_cones, 6.9ms\n",
      "video 1/1 (frame 2028/10797) /home/aditya/Downloads/Track.mp4: 288x512 5 blue_cones, 11 yellow_cones, 5.8ms\n",
      "video 1/1 (frame 2029/10797) /home/aditya/Downloads/Track.mp4: 288x512 6 blue_cones, 1 large_orange_cone, 13 yellow_cones, 7.1ms\n",
      "video 1/1 (frame 2030/10797) /home/aditya/Downloads/Track.mp4: 288x512 6 blue_cones, 1 large_orange_cone, 11 yellow_cones, 5.7ms\n",
      "video 1/1 (frame 2031/10797) /home/aditya/Downloads/Track.mp4: 288x512 7 blue_cones, 11 yellow_cones, 12.0ms\n",
      "video 1/1 (frame 2032/10797) /home/aditya/Downloads/Track.mp4: 288x512 5 blue_cones, 16 yellow_cones, 5.7ms\n",
      "video 1/1 (frame 2033/10797) /home/aditya/Downloads/Track.mp4: 288x512 4 blue_cones, 11 yellow_cones, 5.5ms\n",
      "video 1/1 (frame 2034/10797) /home/aditya/Downloads/Track.mp4: 288x512 4 blue_cones, 13 yellow_cones, 5.7ms\n",
      "video 1/1 (frame 2035/10797) /home/aditya/Downloads/Track.mp4: 288x512 5 blue_cones, 15 yellow_cones, 5.3ms\n",
      "video 1/1 (frame 2036/10797) /home/aditya/Downloads/Track.mp4: 288x512 5 blue_cones, 14 yellow_cones, 5.0ms\n",
      "video 1/1 (frame 2037/10797) /home/aditya/Downloads/Track.mp4: 288x512 6 blue_cones, 12 yellow_cones, 5.6ms\n",
      "video 1/1 (frame 2038/10797) /home/aditya/Downloads/Track.mp4: 288x512 5 blue_cones, 10 yellow_cones, 5.8ms\n",
      "video 1/1 (frame 2039/10797) /home/aditya/Downloads/Track.mp4: 288x512 7 blue_cones, 7 yellow_cones, 5.1ms\n",
      "video 1/1 (frame 2040/10797) /home/aditya/Downloads/Track.mp4: 288x512 7 blue_cones, 9 yellow_cones, 5.0ms\n",
      "video 1/1 (frame 2041/10797) /home/aditya/Downloads/Track.mp4: 288x512 5 blue_cones, 9 yellow_cones, 5.3ms\n",
      "video 1/1 (frame 2042/10797) /home/aditya/Downloads/Track.mp4: 288x512 7 blue_cones, 13 yellow_cones, 5.1ms\n",
      "video 1/1 (frame 2043/10797) /home/aditya/Downloads/Track.mp4: 288x512 4 blue_cones, 10 yellow_cones, 5.4ms\n",
      "video 1/1 (frame 2044/10797) /home/aditya/Downloads/Track.mp4: 288x512 5 blue_cones, 12 yellow_cones, 5.2ms\n",
      "video 1/1 (frame 2045/10797) /home/aditya/Downloads/Track.mp4: 288x512 5 blue_cones, 14 yellow_cones, 5.5ms\n",
      "video 1/1 (frame 2046/10797) /home/aditya/Downloads/Track.mp4: 288x512 5 blue_cones, 12 yellow_cones, 5.7ms\n",
      "video 1/1 (frame 2047/10797) /home/aditya/Downloads/Track.mp4: 288x512 6 blue_cones, 16 yellow_cones, 5.3ms\n",
      "video 1/1 (frame 2048/10797) /home/aditya/Downloads/Track.mp4: 288x512 6 blue_cones, 13 yellow_cones, 5.1ms\n",
      "video 1/1 (frame 2049/10797) /home/aditya/Downloads/Track.mp4: 288x512 5 blue_cones, 13 yellow_cones, 5.1ms\n",
      "video 1/1 (frame 2050/10797) /home/aditya/Downloads/Track.mp4: 288x512 5 blue_cones, 12 yellow_cones, 5.3ms\n",
      "video 1/1 (frame 2051/10797) /home/aditya/Downloads/Track.mp4: 288x512 6 blue_cones, 14 yellow_cones, 19.4ms\n",
      "video 1/1 (frame 2052/10797) /home/aditya/Downloads/Track.mp4: 288x512 7 blue_cones, 14 yellow_cones, 110.4ms\n",
      "video 1/1 (frame 2053/10797) /home/aditya/Downloads/Track.mp4: 288x512 6 blue_cones, 11 yellow_cones, 96.8ms\n",
      "video 1/1 (frame 2054/10797) /home/aditya/Downloads/Track.mp4: 288x512 7 blue_cones, 16 yellow_cones, 105.0ms\n",
      "video 1/1 (frame 2055/10797) /home/aditya/Downloads/Track.mp4: 288x512 6 blue_cones, 16 yellow_cones, 112.4ms\n",
      "video 1/1 (frame 2056/10797) /home/aditya/Downloads/Track.mp4: 288x512 4 blue_cones, 16 yellow_cones, 85.7ms\n",
      "video 1/1 (frame 2057/10797) /home/aditya/Downloads/Track.mp4: 288x512 4 blue_cones, 20 yellow_cones, 82.7ms\n",
      "video 1/1 (frame 2058/10797) /home/aditya/Downloads/Track.mp4: 288x512 5 blue_cones, 13 yellow_cones, 106.0ms\n",
      "video 1/1 (frame 2059/10797) /home/aditya/Downloads/Track.mp4: 288x512 5 blue_cones, 14 yellow_cones, 211.1ms\n",
      "video 1/1 (frame 2060/10797) /home/aditya/Downloads/Track.mp4: 288x512 4 blue_cones, 11 yellow_cones, 98.3ms\n",
      "video 1/1 (frame 2061/10797) /home/aditya/Downloads/Track.mp4: 288x512 5 blue_cones, 13 yellow_cones, 80.7ms\n",
      "video 1/1 (frame 2062/10797) /home/aditya/Downloads/Track.mp4: 288x512 3 blue_cones, 10 yellow_cones, 182.2ms\n",
      "video 1/1 (frame 2063/10797) /home/aditya/Downloads/Track.mp4: 288x512 4 blue_cones, 15 yellow_cones, 82.1ms\n",
      "video 1/1 (frame 2064/10797) /home/aditya/Downloads/Track.mp4: 288x512 5 blue_cones, 13 yellow_cones, 90.3ms\n",
      "video 1/1 (frame 2065/10797) /home/aditya/Downloads/Track.mp4: 288x512 5 blue_cones, 11 yellow_cones, 83.4ms\n",
      "video 1/1 (frame 2066/10797) /home/aditya/Downloads/Track.mp4: 288x512 4 blue_cones, 8 yellow_cones, 100.7ms\n",
      "video 1/1 (frame 2067/10797) /home/aditya/Downloads/Track.mp4: 288x512 5 blue_cones, 11 yellow_cones, 88.1ms\n",
      "video 1/1 (frame 2068/10797) /home/aditya/Downloads/Track.mp4: 288x512 2 blue_cones, 11 yellow_cones, 89.4ms\n",
      "video 1/1 (frame 2069/10797) /home/aditya/Downloads/Track.mp4: 288x512 4 blue_cones, 9 yellow_cones, 90.1ms\n",
      "video 1/1 (frame 2070/10797) /home/aditya/Downloads/Track.mp4: 288x512 2 blue_cones, 12 yellow_cones, 89.9ms\n",
      "video 1/1 (frame 2071/10797) /home/aditya/Downloads/Track.mp4: 288x512 3 blue_cones, 12 yellow_cones, 75.4ms\n",
      "video 1/1 (frame 2072/10797) /home/aditya/Downloads/Track.mp4: 288x512 2 blue_cones, 13 yellow_cones, 88.6ms\n",
      "video 1/1 (frame 2073/10797) /home/aditya/Downloads/Track.mp4: 288x512 4 blue_cones, 15 yellow_cones, 96.5ms\n",
      "video 1/1 (frame 2074/10797) /home/aditya/Downloads/Track.mp4: 288x512 4 blue_cones, 13 yellow_cones, 82.4ms\n",
      "video 1/1 (frame 2075/10797) /home/aditya/Downloads/Track.mp4: 288x512 2 blue_cones, 8 yellow_cones, 82.4ms\n",
      "video 1/1 (frame 2076/10797) /home/aditya/Downloads/Track.mp4: 288x512 4 blue_cones, 17 yellow_cones, 89.1ms\n",
      "video 1/1 (frame 2077/10797) /home/aditya/Downloads/Track.mp4: 288x512 5 blue_cones, 13 yellow_cones, 98.5ms\n",
      "video 1/1 (frame 2078/10797) /home/aditya/Downloads/Track.mp4: 288x512 4 blue_cones, 14 yellow_cones, 91.4ms\n",
      "video 1/1 (frame 2079/10797) /home/aditya/Downloads/Track.mp4: 288x512 2 blue_cones, 13 yellow_cones, 92.4ms\n",
      "video 1/1 (frame 2080/10797) /home/aditya/Downloads/Track.mp4: 288x512 2 blue_cones, 12 yellow_cones, 89.9ms\n",
      "video 1/1 (frame 2081/10797) /home/aditya/Downloads/Track.mp4: 288x512 4 blue_cones, 14 yellow_cones, 89.7ms\n",
      "video 1/1 (frame 2082/10797) /home/aditya/Downloads/Track.mp4: 288x512 3 blue_cones, 13 yellow_cones, 92.1ms\n",
      "video 1/1 (frame 2083/10797) /home/aditya/Downloads/Track.mp4: 288x512 1 blue_cone, 10 yellow_cones, 86.8ms\n",
      "video 1/1 (frame 2084/10797) /home/aditya/Downloads/Track.mp4: 288x512 2 blue_cones, 7 yellow_cones, 93.2ms\n",
      "video 1/1 (frame 2085/10797) /home/aditya/Downloads/Track.mp4: 288x512 4 blue_cones, 8 yellow_cones, 102.6ms\n",
      "video 1/1 (frame 2086/10797) /home/aditya/Downloads/Track.mp4: 288x512 1 blue_cone, 11 yellow_cones, 97.4ms\n",
      "video 1/1 (frame 2087/10797) /home/aditya/Downloads/Track.mp4: 288x512 2 blue_cones, 8 yellow_cones, 113.1ms\n",
      "video 1/1 (frame 2088/10797) /home/aditya/Downloads/Track.mp4: 288x512 4 blue_cones, 10 yellow_cones, 103.5ms\n",
      "video 1/1 (frame 2089/10797) /home/aditya/Downloads/Track.mp4: 288x512 3 blue_cones, 12 yellow_cones, 110.7ms\n",
      "video 1/1 (frame 2090/10797) /home/aditya/Downloads/Track.mp4: 288x512 6 blue_cones, 9 yellow_cones, 100.8ms\n",
      "video 1/1 (frame 2091/10797) /home/aditya/Downloads/Track.mp4: 288x512 5 blue_cones, 11 yellow_cones, 116.3ms\n",
      "video 1/1 (frame 2092/10797) /home/aditya/Downloads/Track.mp4: 288x512 4 blue_cones, 9 yellow_cones, 7668.4ms\n",
      "video 1/1 (frame 2093/10797) /home/aditya/Downloads/Track.mp4: 288x512 3 blue_cones, 9 yellow_cones, 144.1ms\n"
     ]
    }
   ],
   "source": [
    "from ultralytics import YOLO\n",
    "\n",
    "model = YOLO('/home/aditya/Formula-Student-AI/runs/detect/train2/weights/best.pt')\n",
    "\n",
    "# Path to the video file\n",
    "video_path = '/home/aditya/Downloads/Track.mp4'\n",
    "\n",
    "# Run inference on the video\n",
    "model.predict(source=video_path, save=True, show=True)"
   ]
  },
  {
   "cell_type": "code",
   "execution_count": null,
   "id": "6b4b4461-2397-4daa-93a2-d0d8b9758d6a",
   "metadata": {},
   "outputs": [],
   "source": []
  }
 ],
 "metadata": {
  "kernelspec": {
   "display_name": "Python 3 (ipykernel)",
   "language": "python",
   "name": "python3"
  },
  "language_info": {
   "codemirror_mode": {
    "name": "ipython",
    "version": 3
   },
   "file_extension": ".py",
   "mimetype": "text/x-python",
   "name": "python",
   "nbconvert_exporter": "python",
   "pygments_lexer": "ipython3",
   "version": "3.12.10"
  }
 },
 "nbformat": 4,
 "nbformat_minor": 5
}
